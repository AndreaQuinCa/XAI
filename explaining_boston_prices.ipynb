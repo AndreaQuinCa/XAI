{
 "cells": [
  {
   "cell_type": "code",
   "execution_count": 1,
   "metadata": {
    "collapsed": true
   },
   "outputs": [
    {
     "name": "stderr",
     "output_type": "stream",
     "text": [
      "Using TensorFlow backend.\n"
     ]
    }
   ],
   "source": [
    "from __future__ import absolute_import\n",
    "from __future__ import division\n",
    "from __future__ import print_function\n",
    "\n",
    "import tempfile, sys, os\n",
    "sys.path.insert(0, os.path.abspath('..'))\n",
    "\n",
    "import numpy as np\n",
    "from keras.models import Model\n",
    "from keras import backend as K\n",
    "\n",
    "\n",
    "%matplotlib inline\n",
    "import matplotlib.pyplot as plt\n",
    "\n",
    "# Import DeepExplain\n",
    "from deepexplain.tensorflow import DeepExplain\n",
    "\n",
    "# network with keras tutorial\n",
    "from numpy import loadtxt\n",
    "from keras.models import Sequential\n",
    "from keras.layers import Dense\n",
    "from numpy.random import seed\n",
    "\n",
    "\n",
    "from sklearn.neighbors import kneighbors_graph\n",
    "import pandas as pd\n",
    "import matplotlib.patheffects as PathEffects\n",
    "from sklearn.decomposition import PCA\n",
    "from keras.models import load_model\n",
    "from sklearn.cluster import KMeans\n",
    "import seaborn as sns\n",
    "\n",
    "import tensorflow as tf\n",
    "from sklearn.datasets import load_boston\n",
    "from sklearn.preprocessing import scale\n",
    "from sklearn.model_selection import train_test_split\n",
    "\n",
    "from scipy import sparse\n",
    "from scipy import linalg\n",
    "from sklearn.manifold import TSNE\n",
    "import time\n",
    "\n",
    "sns.set_style('darkgrid', {'axes.facecolor': '.9'})\n",
    "sns.set_palette(palette='deep')\n",
    "sns_c = sns.color_palette(palette='deep')\n",
    "\n",
    "RANDOM_SEED = 123\n",
    "seed(RANDOM_SEED)"
   ]
  },
  {
   "cell_type": "markdown",
   "source": [
    "Load data"
   ],
   "metadata": {
    "collapsed": false,
    "pycharm": {
     "name": "#%% md\n"
    }
   }
  },
  {
   "cell_type": "code",
   "source": [
    "boston = load_boston()\n",
    "\n",
    "X_train,X_test,y_train,y_test = train_test_split(boston.data,boston.target,test_size=0.1,random_state=0)\n",
    "X_train = scale(X_train)\n",
    "X_test = scale(X_test)\n",
    "y_train = scale(y_train.reshape((-1,1)))\n",
    "y_test = scale(y_test.reshape((-1,1)))"
   ],
   "metadata": {
    "collapsed": false,
    "pycharm": {
     "name": "#%%\n"
    }
   },
   "execution_count": 2,
   "outputs": []
  },
  {
   "cell_type": "markdown",
   "source": [
    "Construct model"
   ],
   "metadata": {
    "collapsed": false,
    "pycharm": {
     "name": "#%% md\n"
    }
   }
  },
  {
   "cell_type": "code",
   "execution_count": 3,
   "outputs": [],
   "source": [],
   "metadata": {
    "collapsed": false,
    "pycharm": {
     "name": "#%%\n"
    }
   }
  },
  {
   "cell_type": "code",
   "execution_count": null,
   "outputs": [],
   "source": [
    "# model = Sequential()\n",
    "# model.add(Dense(12, input_dim=8, activation='relu'))\n",
    "# model.add(Dense(8, activation='relu'))\n",
    "# model.add(Dense(1, activation='sigmoid'))\n",
    "# model.compile(loss='binary_crossentropy', optimizer='adam', metrics=['accuracy'])\n",
    "\n",
    "def add_layer(inputs,input_size,output_size,activation_function=None):\n",
    "    with tf.variable_scope(\"Weights\"):\n",
    "        Weights = tf.Variable(tf.random_normal(shape=[input_size,output_size]),name=\"weights\")\n",
    "    with tf.variable_scope(\"biases\"):\n",
    "        biases = tf.Variable(tf.zeros(shape=[1,output_size]) + 0.1,name=\"biases\")\n",
    "    with tf.name_scope(\"Wx_plus_b\"):\n",
    "        Wx_plus_b = tf.matmul(inputs,Weights) + biases\n",
    "    with tf.name_scope(\"dropout\"):\n",
    "        Wx_plus_b = tf.nn.dropout(Wx_plus_b,keep_prob=keep_prob_s)\n",
    "    if activation_function is None:\n",
    "        return Wx_plus_b\n",
    "    else:\n",
    "        with tf.name_scope(\"activation_function\"):\n",
    "            return activation_function(Wx_plus_b)\n",
    "\n",
    "xs = tf.placeholder(shape=[None,X_train.shape[1]],dtype=tf.float32,name=\"inputs\")\n",
    "ys = tf.placeholder(shape=[None,1],dtype=tf.float32,name=\"y_true\")\n",
    "keep_prob_s = tf.placeholder(dtype=tf.float32)\n",
    "\n",
    "with tf.name_scope(\"layer_1\"):\n",
    "    l1 = add_layer(xs,13,10,activation_function=tf.nn.relu)\n",
    "# with tf.name_scope(\"layer_2\"):\n",
    "#     l2 = add_layer(l1,6,10,activation_function=tf.nn.relu)\n",
    "with tf.name_scope(\"y_pred\"):\n",
    "    pred = add_layer(l1,10,1)\n",
    "\n",
    "# The more operations here are to save pred operations and restore them. I only know this stupid method.\n",
    "pred = tf.add(pred,0,name='pred')\n",
    "\n",
    "with tf.name_scope(\"loss\"):\n",
    "    loss = tf.reduce_mean(tf.reduce_sum(tf.square(ys - pred),reduction_indices=[1]))  # mse\n",
    "    tf.summary.scalar(\"loss\",tensor=loss)\n",
    "with tf.name_scope(\"train\"):\n",
    "    # train_op =tf.train.GradientDescentOptimizer(learning_rate=0.01).minimize(loss)\n",
    "    train_op = tf.train.AdamOptimizer(learning_rate=0.01).minimize(loss)"
   ],
   "metadata": {
    "collapsed": false,
    "pycharm": {
     "name": "#%%\n"
    }
   }
  },
  {
   "cell_type": "markdown",
   "source": [
    "Data visualization, definition of training parameters"
   ],
   "metadata": {
    "collapsed": false,
    "pycharm": {
     "name": "#%% md\n"
    }
   }
  },
  {
   "cell_type": "code",
   "execution_count": 4,
   "outputs": [
    {
     "data": {
      "image/png": "[encoded data removed]",
      "text/plain": "<Figure size 432x288 with 1 Axes>"
     },
     "metadata": {
      "needs_background": "light"
     },
     "output_type": "display_data"
    }
   ],
   "source": [
    "fig = plt.figure()\n",
    "ax = fig.add_subplot(1,1,1)\n",
    "ax.plot(range(50),y_train[0:50],'b')  #Show the first 50 data\n",
    "ax.set_ylim([-2,5])\n",
    "plt.ion()\n",
    "plt.show()\n",
    "\n",
    "# parameters\n",
    "keep_prob=1  # To prevent overfitting, the value is generally 0.5 to 0.8. Here is 1, I haven’t done fitting\n",
    "ITER =5000  # Training times"
   ],
   "metadata": {
    "collapsed": false,
    "pycharm": {
     "name": "#%%\n"
    }
   }
  },
  {
   "cell_type": "markdown",
   "source": [
    "Training process"
   ],
   "metadata": {
    "collapsed": false,
    "pycharm": {
     "name": "#%% md\n"
    }
   }
  },
  {
   "cell_type": "code",
   "execution_count": 5,
   "outputs": [],
   "source": [
    "def fit(X, y, ax, n, keep_prob):\n",
    "    init = tf.global_variables_initializer()\n",
    "    feed_dict_train = {ys: y, xs: X, keep_prob_s: keep_prob}\n",
    "    with tf.Session() as sess:\n",
    "        saver = tf.train.Saver(tf.global_variables(), max_to_keep=15)\n",
    "        merged = tf.summary.merge_all()\n",
    "        writer = tf.summary.FileWriter(logdir=\"nn_boston_log\", graph=sess.graph)  #Write tensorbord\n",
    "        sess.run(init)\n",
    "        for i in range(n):\n",
    "            _loss, _ = sess.run([loss, train_op], feed_dict=feed_dict_train)\n",
    "\n",
    "            if i % 100 == 0:\n",
    "                print(\"epoch:%d\\tloss:%.5f\" % (i, _loss))\n",
    "                y_pred = sess.run(pred, feed_dict=feed_dict_train)\n",
    "                rs = sess.run(merged, feed_dict=feed_dict_train)\n",
    "                writer.add_summary(summary=rs, global_step=i)  #Write tensorbord\n",
    "                saver.save(sess=sess, save_path=\"nn_boston_model/nn_boston.model\", global_step=i) # Save model\n",
    "                try:\n",
    "                    ax.lines.remove(lines[0])\n",
    "                except:\n",
    "                    pass\n",
    "                lines = ax.plot(range(50), y_pred[0:50], 'r--')\n",
    "                plt.pause(1)\n",
    "\n",
    "        saver.save(sess=sess, save_path=\"nn_boston_model/nn_boston.model\", global_step=n)  # Save model"
   ],
   "metadata": {
    "collapsed": false,
    "pycharm": {
     "name": "#%%\n"
    }
   }
  },
  {
   "cell_type": "code",
   "execution_count": 6,
   "outputs": [
    {
     "name": "stdout",
     "output_type": "stream",
     "text": [
      "epoch:0\tloss:235.36322\n",
      "epoch:100\tloss:3.57136\n",
      "epoch:200\tloss:1.53461\n",
      "epoch:300\tloss:0.87813\n",
      "epoch:400\tloss:0.62818\n",
      "epoch:500\tloss:0.50132\n",
      "epoch:600\tloss:0.40892\n",
      "epoch:700\tloss:0.34450\n",
      "epoch:800\tloss:0.30205\n",
      "epoch:900\tloss:0.27511\n",
      "epoch:1000\tloss:0.25445\n",
      "epoch:1100\tloss:0.23910\n",
      "epoch:1200\tloss:0.22620\n",
      "epoch:1300\tloss:0.21467\n",
      "epoch:1400\tloss:0.20469\n",
      "epoch:1500\tloss:0.19548\n",
      "epoch:1600\tloss:0.18719\n",
      "epoch:1700\tloss:0.17859\n",
      "epoch:1800\tloss:0.17135\n",
      "epoch:1900\tloss:0.16460\n",
      "epoch:2000\tloss:0.15851\n",
      "epoch:2100\tloss:0.15177\n",
      "epoch:2200\tloss:0.14586\n",
      "epoch:2300\tloss:0.12003\n",
      "epoch:2400\tloss:0.10961\n",
      "epoch:2500\tloss:0.10290\n",
      "epoch:2600\tloss:0.09707\n",
      "epoch:2700\tloss:0.09284\n",
      "epoch:2800\tloss:0.09053\n",
      "epoch:2900\tloss:0.08876\n",
      "epoch:3000\tloss:0.08743\n",
      "epoch:3100\tloss:0.08620\n",
      "epoch:3200\tloss:0.08522\n",
      "epoch:3300\tloss:0.08409\n",
      "epoch:3400\tloss:0.08259\n",
      "epoch:3500\tloss:0.08148\n",
      "epoch:3600\tloss:0.08051\n",
      "epoch:3700\tloss:0.07964\n",
      "epoch:3800\tloss:0.07890\n",
      "epoch:3900\tloss:0.07804\n",
      "epoch:4000\tloss:0.07746\n",
      "epoch:4100\tloss:0.07694\n",
      "epoch:4200\tloss:0.07642\n",
      "epoch:4300\tloss:0.07583\n",
      "epoch:4400\tloss:0.07522\n",
      "epoch:4500\tloss:0.07472\n",
      "epoch:4600\tloss:0.07419\n",
      "epoch:4700\tloss:0.07363\n",
      "epoch:4800\tloss:0.07261\n",
      "epoch:4900\tloss:0.07209\n"
     ]
    }
   ],
   "source": [
    "fit(X=X_train,y=y_train,n=ITER,keep_prob=keep_prob,ax=ax)"
   ],
   "metadata": {
    "collapsed": false,
    "pycharm": {
     "name": "#%%\n"
    }
   }
  },
  {
   "cell_type": "code",
   "execution_count": 1,
   "outputs": [],
   "source": [],
   "metadata": {
    "collapsed": false,
    "pycharm": {
     "name": "#%%\n"
    }
   }
  }
 ],
 "metadata": {
  "kernelspec": {
   "name": "xai",
   "language": "python",
   "display_name": "xai"
  },
  "language_info": {
   "codemirror_mode": {
    "name": "ipython",
    "version": 2
   },
   "file_extension": ".py",
   "mimetype": "text/x-python",
   "name": "python",
   "nbconvert_exporter": "python",
   "pygments_lexer": "ipython2",
   "version": "2.7.6"
  }
 },
 "nbformat": 4,
 "nbformat_minor": 0
}