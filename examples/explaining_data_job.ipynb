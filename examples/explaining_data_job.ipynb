{
 "cells": [
  {
   "cell_type": "markdown",
   "source": [
    "Explanations with LRP and IG followed by SpRAy in a NN with multiple inputs on a DNN trained in\n",
    "a dataset designed by a company which wants to hire data scientists among people\n",
    "who successfully pass some courses which conduct by the company. Many people signup for their training.\n",
    "Company wants to know which of these candidates are really wants to work for the company after training or looking for a new\n",
    "employment. Information related to demographics, education, experience are in hands from\n",
    "candidates signup and enrollment. The DNN predicts the probability of a candidate will work for the company.\n",
    "\n",
    "**Features:**\n",
    "\n",
    "enrollee_id : Unique ID for candidate\n",
    "\n",
    "city: City code\n",
    "\n",
    "city_ development _index : Developement index of the city (scaled)\n",
    "\n",
    "gender: Gender of candidate\n",
    "\n",
    "relevent_experience: Relevant experience of candidate\n",
    "\n",
    "enrolled_university: Type of University course enrolled if any\n",
    "\n",
    "education_level: Education level of candidate\n",
    "\n",
    "major_discipline :Education major discipline of candidate\n",
    "\n",
    "experience: Candidate total experience in years\n",
    "\n",
    "company_size: No of employees in current employer's company\n",
    "\n",
    "company_type : Type of current employer\n",
    "\n",
    "lastnewjob: Difference in years between previous job and current job\n",
    "\n",
    "training_hours: training hours completed\n",
    "\n",
    "target: 0 – Not looking for job change, 1 – Looking for a job change\n",
    "\n",
    "Note:\n",
    "\n",
    "The dataset is imbalanced.\n",
    "\n",
    "Most features are categorical (Nominal, Ordinal, Binary), some with high cardinality.\n"
   ],
   "metadata": {
    "collapsed": false
   }
  },
  {
   "cell_type": "code",
   "execution_count": 2,
   "outputs": [
    {
     "ename": "ImportError",
     "evalue": "cannot import name LayerNormalization",
     "output_type": "error",
     "traceback": [
      "\u001B[0;31m\u001B[0m",
      "\u001B[0;31mImportError\u001B[0mTraceback (most recent call last)",
      "\u001B[0;32m<ipython-input-2-27d056095305>\u001B[0m in \u001B[0;36m<module>\u001B[0;34m()\u001B[0m\n\u001B[1;32m     17\u001B[0m \u001B[0;32mfrom\u001B[0m \u001B[0mkeras\u001B[0m\u001B[0;34m.\u001B[0m\u001B[0mmodels\u001B[0m \u001B[0;32mimport\u001B[0m \u001B[0mSequential\u001B[0m\u001B[0;34m\u001B[0m\u001B[0m\n\u001B[1;32m     18\u001B[0m \u001B[0;32mfrom\u001B[0m \u001B[0mkeras\u001B[0m\u001B[0;34m.\u001B[0m\u001B[0mlayers\u001B[0m \u001B[0;32mimport\u001B[0m \u001B[0mDense\u001B[0m\u001B[0;34m,\u001B[0m \u001B[0mDropout\u001B[0m\u001B[0;34m,\u001B[0m \u001B[0mThresholdedReLU\u001B[0m\u001B[0;34m\u001B[0m\u001B[0m\n\u001B[0;32m---> 19\u001B[0;31m \u001B[0;32mfrom\u001B[0m \u001B[0mkeras\u001B[0m\u001B[0;34m.\u001B[0m\u001B[0mlayers\u001B[0m\u001B[0;34m.\u001B[0m\u001B[0mnormalization\u001B[0m \u001B[0;32mimport\u001B[0m \u001B[0mLayerNormalization\u001B[0m\u001B[0;34m\u001B[0m\u001B[0m\n\u001B[0m\u001B[1;32m     20\u001B[0m \u001B[0;34m\u001B[0m\u001B[0m\n\u001B[1;32m     21\u001B[0m \u001B[0;32mfrom\u001B[0m \u001B[0mdeepexplain\u001B[0m\u001B[0;34m.\u001B[0m\u001B[0mtensorflow\u001B[0m \u001B[0;32mimport\u001B[0m \u001B[0mDeepExplain\u001B[0m\u001B[0;34m\u001B[0m\u001B[0m\n",
      "\u001B[0;31mImportError\u001B[0m: cannot import name LayerNormalization"
     ]
    }
   ],
   "source": [
    "from __future__ import absolute_import\n",
    "from __future__ import division\n",
    "from __future__ import print_function\n",
    "\n",
    "import tempfile, sys, os\n",
    "sys.path.insert(0, os.path.abspath('..'))\n",
    "\n",
    "import numpy as np\n",
    "\n",
    "import pandas as pd\n",
    "\n",
    "import tensorflow as tf\n",
    "\n",
    "from keras.models import Model\n",
    "from keras import backend as K\n",
    "from keras.models import Sequential\n",
    "from keras.layers import Dense, Dropout, ThresholdedReLU\n",
    "\n",
    "from deepexplain.tensorflow import DeepExplain\n",
    "\n",
    "from numpy import loadtxt\n",
    "from numpy.random import seed\n",
    "\n",
    "from sklearn.neighbors import kneighbors_graph\n",
    "from sklearn.decomposition import PCA\n",
    "from keras.models import load_model\n",
    "from sklearn.cluster import KMeans\n",
    "from sklearn.manifold import TSNE\n",
    "from sklearn.model_selection import train_test_split\n",
    "\n",
    "\n",
    "%matplotlib inline\n",
    "import matplotlib.pyplot as plt\n",
    "import seaborn as sns\n",
    "import matplotlib.patheffects as PathEffects\n",
    "sns.set_style('darkgrid', {'axes.facecolor': '.9'})\n",
    "sns.set_palette(palette='deep')\n",
    "sns_c = sns.color_palette(palette='deep')\n",
    "\n",
    "from scipy import sparse\n",
    "from scipy import linalg\n",
    "\n",
    "import time\n",
    "\n",
    "\n",
    "RANDOM_SEED = 123\n",
    "seed(RANDOM_SEED)"
   ],
   "metadata": {
    "collapsed": false,
    "pycharm": {
     "name": "#%%\n"
    }
   }
  },
  {
   "cell_type": "markdown",
   "source": [
    "Load data"
   ],
   "metadata": {
    "collapsed": false,
    "pycharm": {
     "name": "#%% md\n"
    }
   }
  },
  {
   "cell_type": "code",
   "execution_count": 9,
   "outputs": [
    {
     "name": "stdout",
     "output_type": "stream",
     "text": [
      "./data/input/sample_submission.csv\n",
      "./data/input/aug_train.csv\n",
      "./data/input/aug_test.csv\n"
     ]
    }
   ],
   "source": [
    "# # load the dataset\n",
    "# dataset = loadtxt('pima-indians-diabetes.csv', delimiter=',')\n",
    "# # split into input (X) and output (y) variables\n",
    "# X = dataset[:,0:8]\n",
    "# y = dataset[:,8]\n",
    "\n",
    "import os\n",
    "import glob\n",
    "for dirname in glob.glob('./data/input/*'):\n",
    "    print(dirname)\n"
   ],
   "metadata": {
    "collapsed": false,
    "pycharm": {
     "name": "#%%\n"
    }
   }
  },
  {
   "cell_type": "code",
   "execution_count": null,
   "outputs": [],
   "source": [
    "train = pd.read_csv('./data/input/aug_train.csv')\n",
    "\n",
    "test = pd.read_csv('./data/input/aug_test.csv')"
   ],
   "metadata": {
    "collapsed": false,
    "pycharm": {
     "name": "#%%\n"
    }
   }
  },
  {
   "cell_type": "code",
   "execution_count": 15,
   "outputs": [
    {
     "data": {
      "text/plain": "['enrollee_id',\n 'city',\n 'city_development_index',\n 'gender',\n 'relevent_experience',\n 'enrolled_university',\n 'education_level',\n 'major_discipline',\n 'experience',\n 'company_size',\n 'company_type',\n 'last_new_job',\n 'training_hours',\n 'target']"
     },
     "execution_count": 15,
     "metadata": {},
     "output_type": "execute_result"
    }
   ],
   "source": [
    "labels = train.columns.get_values().tolist()\n",
    "labels"
   ],
   "metadata": {
    "collapsed": false,
    "pycharm": {
     "name": "#%%\n"
    }
   }
  },
  {
   "cell_type": "markdown",
   "source": [
    "Clean data"
   ],
   "metadata": {
    "collapsed": false,
    "pycharm": {
     "name": "#%% md\n"
    }
   }
  },
  {
   "cell_type": "code",
   "execution_count": 16,
   "outputs": [],
   "source": [
    "train = train.dropna()\n",
    "test = test.dropna()"
   ],
   "metadata": {
    "collapsed": false,
    "pycharm": {
     "name": "#%%\n"
    }
   }
  },
  {
   "cell_type": "markdown",
   "source": [
    "### Exploratory Data Analysis"
   ],
   "metadata": {
    "collapsed": false
   }
  },
  {
   "cell_type": "code",
   "execution_count": 21,
   "outputs": [
    {
     "name": "stderr",
     "output_type": "stream",
     "text": [
      "/home/andrea/anaconda3/envs/xai/lib/python2.7/site-packages/pandas_profiling/plot.py:15: UserWarning: \n",
      "This call to matplotlib.use() has no effect because the backend has already\n",
      "been chosen; matplotlib.use() must be called *before* pylab, matplotlib.pyplot,\n",
      "or matplotlib.backends is imported for the first time.\n",
      "\n",
      "The backend was *originally* set to 'module://ipykernel.pylab.backend_inline' by the following code:\n",
      "  File \"/home/andrea/anaconda3/envs/xai/lib/python2.7/runpy.py\", line 174, in _run_module_as_main\n",
      "    \"__main__\", fname, loader, pkg_name)\n",
      "  File \"/home/andrea/anaconda3/envs/xai/lib/python2.7/runpy.py\", line 72, in _run_code\n",
      "    exec code in run_globals\n",
      "  File \"/home/andrea/anaconda3/envs/xai/lib/python2.7/site-packages/ipykernel_launcher.py\", line 16, in <module>\n",
      "    app.launch_new_instance()\n",
      "  File \"/home/andrea/anaconda3/envs/xai/lib/python2.7/site-packages/traitlets/config/application.py\", line 664, in launch_instance\n",
      "    app.start()\n",
      "  File \"/home/andrea/anaconda3/envs/xai/lib/python2.7/site-packages/ipykernel/kernelapp.py\", line 497, in start\n",
      "    self.io_loop.start()\n",
      "  File \"/home/andrea/anaconda3/envs/xai/lib/python2.7/site-packages/tornado/ioloop.py\", line 1073, in start\n",
      "    handler_func(fd_obj, events)\n",
      "  File \"/home/andrea/anaconda3/envs/xai/lib/python2.7/site-packages/tornado/stack_context.py\", line 300, in null_wrapper\n",
      "    return fn(*args, **kwargs)\n",
      "  File \"/home/andrea/anaconda3/envs/xai/lib/python2.7/site-packages/zmq/eventloop/zmqstream.py\", line 456, in _handle_events\n",
      "    self._handle_recv()\n",
      "  File \"/home/andrea/anaconda3/envs/xai/lib/python2.7/site-packages/zmq/eventloop/zmqstream.py\", line 486, in _handle_recv\n",
      "    self._run_callback(callback, msg)\n",
      "  File \"/home/andrea/anaconda3/envs/xai/lib/python2.7/site-packages/zmq/eventloop/zmqstream.py\", line 438, in _run_callback\n",
      "    callback(*args, **kwargs)\n",
      "  File \"/home/andrea/anaconda3/envs/xai/lib/python2.7/site-packages/tornado/stack_context.py\", line 300, in null_wrapper\n",
      "    return fn(*args, **kwargs)\n",
      "  File \"/home/andrea/anaconda3/envs/xai/lib/python2.7/site-packages/ipykernel/kernelbase.py\", line 283, in dispatcher\n",
      "    return self.dispatch_shell(stream, msg)\n",
      "  File \"/home/andrea/anaconda3/envs/xai/lib/python2.7/site-packages/ipykernel/kernelbase.py\", line 233, in dispatch_shell\n",
      "    handler(stream, idents, msg)\n",
      "  File \"/home/andrea/anaconda3/envs/xai/lib/python2.7/site-packages/ipykernel/kernelbase.py\", line 399, in execute_request\n",
      "    user_expressions, allow_stdin)\n",
      "  File \"/home/andrea/anaconda3/envs/xai/lib/python2.7/site-packages/ipykernel/ipkernel.py\", line 208, in do_execute\n",
      "    res = shell.run_cell(code, store_history=store_history, silent=silent)\n",
      "  File \"/home/andrea/anaconda3/envs/xai/lib/python2.7/site-packages/ipykernel/zmqshell.py\", line 537, in run_cell\n",
      "    return super(ZMQInteractiveShell, self).run_cell(*args, **kwargs)\n",
      "  File \"/home/andrea/anaconda3/envs/xai/lib/python2.7/site-packages/IPython/core/interactiveshell.py\", line 2724, in run_cell\n",
      "    self.events.trigger('post_run_cell')\n",
      "  File \"/home/andrea/anaconda3/envs/xai/lib/python2.7/site-packages/IPython/core/events.py\", line 74, in trigger\n",
      "    func(*args, **kwargs)\n",
      "  File \"/home/andrea/anaconda3/envs/xai/lib/python2.7/site-packages/ipykernel/pylab/backend_inline.py\", line 164, in configure_once\n",
      "    activate_matplotlib(backend)\n",
      "  File \"/home/andrea/anaconda3/envs/xai/lib/python2.7/site-packages/IPython/core/pylabtools.py\", line 315, in activate_matplotlib\n",
      "    matplotlib.pyplot.switch_backend(backend)\n",
      "  File \"/home/andrea/anaconda3/envs/xai/lib/python2.7/site-packages/matplotlib/pyplot.py\", line 231, in switch_backend\n",
      "    matplotlib.use(newbackend, warn=False, force=True)\n",
      "  File \"/home/andrea/anaconda3/envs/xai/lib/python2.7/site-packages/matplotlib/__init__.py\", line 1422, in use\n",
      "    reload(sys.modules['matplotlib.backends'])\n",
      "  File \"/home/andrea/anaconda3/envs/xai/lib/python2.7/site-packages/matplotlib/backends/__init__.py\", line 16, in <module>\n",
      "    line for line in traceback.format_stack()\n",
      "\n",
      "\n",
      "  matplotlib.use(BACKEND)\n"
     ]
    },
    {
     "data": {
      "text/plain": "<pandas_profiling.ProfileReport at 0x7ff5c535a610>",
      "text/html": "<meta charset=\"UTF-8\">\n\n<style>\n\n        .variablerow {\n            border: 1px solid #e1e1e8;\n            border-top: hidden;\n            padding-top: 2em;\n            padding-bottom: 2em;\n            padding-left: 1em;\n            padding-right: 1em;\n        }\n\n        .headerrow {\n            border: 1px solid #e1e1e8;\n            background-color: #f5f5f5;\n            padding: 2em;\n        }\n        .namecol {\n            margin-top: -1em;\n            overflow-x: auto;\n        }\n\n        .dl-horizontal dt {\n            text-align: left;\n            padding-right: 1em;\n            white-space: normal;\n        }\n\n        .dl-horizontal dd {\n            margin-left: 0;\n        }\n\n        .ignore {\n            opacity: 0.4;\n        }\n\n        .container.pandas-profiling {\n            max-width:975px;\n        }\n\n        .col-md-12 {\n            padding-left: 2em;\n        }\n\n        .indent {\n            margin-left: 1em;\n        }\n\n        .center-img {\n            margin-left: auto !important;\n            margin-right: auto !important;\n            display: block;\n        }\n\n        /* Table example_values */\n            table.example_values {\n                border: 0;\n            }\n\n            .example_values th {\n                border: 0;\n                padding: 0 ;\n                color: #555;\n                font-weight: 600;\n            }\n\n            .example_values tr, .example_values td{\n                border: 0;\n                padding: 0;\n                color: #555;\n            }\n\n        /* STATS */\n            table.stats {\n                border: 0;\n            }\n\n            .stats th {\n                border: 0;\n                padding: 0 2em 0 0;\n                color: #555;\n                font-weight: 600;\n            }\n\n            .stats tr {\n                border: 0;\n            }\n\n            .stats td{\n                color: #555;\n                padding: 1px;\n                border: 0;\n            }\n\n\n        /* Sample table */\n            table.sample {\n                border: 0;\n                margin-bottom: 2em;\n                margin-left:1em;\n            }\n            .sample tr {\n                border:0;\n            }\n            .sample td, .sample th{\n                padding: 0.5em;\n                white-space: nowrap;\n                border: none;\n\n            }\n\n            .sample thead {\n                border-top: 0;\n                border-bottom: 2px solid #ddd;\n            }\n\n            .sample td {\n                width:100%;\n            }\n\n\n        /* There is no good solution available to make the divs equal height and then center ... */\n            .histogram {\n                margin-top: 3em;\n            }\n        /* Freq table */\n\n            table.freq {\n                margin-bottom: 2em;\n                border: 0;\n            }\n            table.freq th, table.freq tr, table.freq td {\n                border: 0;\n                padding: 0;\n            }\n\n            .freq thead {\n                font-weight: 600;\n                white-space: nowrap;\n                overflow: hidden;\n                text-overflow: ellipsis;\n\n            }\n\n            td.fillremaining{\n                width:auto;\n                max-width: none;\n            }\n\n            td.number, th.number {\n                text-align:right ;\n            }\n\n        /* Freq mini */\n            .freq.mini td{\n                width: 50%;\n                padding: 1px;\n                font-size: 12px;\n\n            }\n            table.freq.mini {\n                 width:100%;\n            }\n            .freq.mini th {\n                overflow: hidden;\n                text-overflow: ellipsis;\n                white-space: nowrap;\n                max-width: 5em;\n                font-weight: 400;\n                text-align:right;\n                padding-right: 0.5em;\n            }\n\n            .missing {\n                color: #a94442;\n            }\n            .alert, .alert > th, .alert > td {\n                color: #a94442;\n            }\n\n\n        /* Bars in tables */\n            .freq .bar{\n                float: left;\n                width: 0;\n                height: 100%;\n                line-height: 20px;\n                color: #fff;\n                text-align: center;\n                background-color: #337ab7;\n                border-radius: 3px;\n                margin-right: 4px;\n            }\n            .other .bar {\n                background-color: #999;\n            }\n            .missing .bar{\n                background-color: #a94442;\n            }\n            .tooltip-inner {\n                width: 100%;\n                white-space: nowrap;\n                text-align:left;\n            }\n\n            .extrapadding{\n                padding: 2em;\n            }\n\n            .pp-anchor{\n\n            }\n\n</style>\n\n<div class=\"container pandas-profiling\">\n    <div class=\"row headerrow highlight\">\n        <h1>Overview</h1>\n    </div>\n    <div class=\"row variablerow\">\n    <div class=\"col-md-6 namecol\">\n        <p class=\"h4\">Dataset info</p>\n        <table class=\"stats\" style=\"margin-left: 1em;\">\n            <tbody>\n            <tr>\n                <th>Number of variables</th>\n                <td>15 </td>\n            </tr>\n            <tr>\n                <th>Number of observations</th>\n                <td>8955 </td>\n            </tr>\n            <tr>\n                <th>Total Missing (%)</th>\n                <td>0.0% </td>\n            </tr>\n            <tr>\n                <th>Total size in memory</th>\n                <td>1.0 MiB </td>\n            </tr>\n            <tr>\n                <th>Average record size in memory</th>\n                <td>120.0 B </td>\n            </tr>\n            </tbody>\n        </table>\n    </div>\n    <div class=\"col-md-6 namecol\">\n        <p class=\"h4\">Variables types</p>\n        <table class=\"stats\" style=\"margin-left: 1em;\">\n            <tbody>\n            <tr>\n                <th>Numeric</th>\n                <td>4 </td>\n            </tr>\n            <tr>\n                <th>Categorical</th>\n                <td>10 </td>\n            </tr>\n            <tr>\n                <th>Boolean</th>\n                <td>1 </td>\n            </tr>\n            <tr>\n                <th>Date</th>\n                <td>0 </td>\n            </tr>\n            <tr>\n                <th>Text (Unique)</th>\n                <td>0 </td>\n            </tr>\n            <tr>\n                <th>Rejected</th>\n                <td>0 </td>\n            </tr>\n            <tr>\n                <th>Unsupported</th>\n                <td>0 </td>\n            </tr>\n            </tbody>\n        </table>\n    </div>\n    <div class=\"col-md-12\" style=\"padding-left: 1em;\">\n        \n        <p class=\"h4\">Warnings</p>\n        <ul class=\"list-unstyled\"><li><a href=\"#pp_var_city\"><code>city</code></a> has a high cardinality: 116 distinct values  <span class=\"label label-warning\">Warning</span></li> </ul>\n    </div>\n</div>\n    <div class=\"row headerrow highlight\">\n        <h1>Variables</h1>\n    </div>\n    <div class=\"row variablerow\">\n    <div class=\"col-md-3 namecol\">\n        <p class=\"h4 pp-anchor\" id=\"pp_var_city\">city<br/>\n            <small>Categorical</small>\n        </p>\n    </div><div class=\"col-md-3\">\n    <table class=\"stats \">\n        <tr class=\"alert\">\n            <th>Distinct count</th>\n            <td>116</td>\n        </tr>\n        <tr>\n            <th>Unique (%)</th>\n            <td>0.0%</td>\n        </tr>\n        <tr class=\"ignore\">\n            <th>Missing (%)</th>\n            <td>0.0%</td>\n        </tr>\n        <tr class=\"ignore\">\n            <th>Missing (n)</th>\n            <td>0</td>\n        </tr>\n    </table>\n</div>\n<div class=\"col-md-6 collapse in\" id=\"minifreqtable5473374298095946529\">\n    <table class=\"mini freq\">\n        <tr class=\"\">\n    <th>city_103</th>\n    <td>\n        <div class=\"bar\" style=\"width:1%\" data-toggle=\"tooltip\" data-placement=\"right\" data-html=\"true\"\n             data-delay=500 title=\"Percentage: 0.0%\">\n            &nbsp;\n        </div>\n        2426\n    </td>\n</tr><tr class=\"\">\n    <th>city_21</th>\n    <td>\n        <div class=\"bar\" style=\"width:1%\" data-toggle=\"tooltip\" data-placement=\"right\" data-html=\"true\"\n             data-delay=500 title=\"Percentage: 0.0%\">\n            &nbsp;\n        </div>\n        1111\n    </td>\n</tr><tr class=\"\">\n    <th>city_16</th>\n    <td>\n        <div class=\"bar\" style=\"width:1%\" data-toggle=\"tooltip\" data-placement=\"right\" data-html=\"true\"\n             data-delay=500 title=\"Percentage: 0.0%\">\n            &nbsp;\n        </div>\n        836\n    </td>\n</tr><tr class=\"other\">\n    <th>Other values (113)</th>\n    <td>\n        <div class=\"bar\" style=\"width:100%\" data-toggle=\"tooltip\" data-placement=\"right\" data-html=\"true\"\n             data-delay=500 title=\"Percentage: 0.0%\">\n            4582\n        </div>\n        \n    </td>\n</tr>\n    </table>\n</div>\n<div class=\"col-md-12 text-right\">\n    <a role=\"button\" data-toggle=\"collapse\" data-target=\"#freqtable5473374298095946529, #minifreqtable5473374298095946529\"\n       aria-expanded=\"true\" aria-controls=\"collapseExample\">\n        Toggle details\n    </a>\n</div>\n<div class=\"col-md-12 extrapadding collapse\" id=\"freqtable5473374298095946529\">\n    \n<table class=\"freq table table-hover\">\n    <thead>\n    <tr>\n        <td class=\"fillremaining\">Value</td>\n        <td class=\"number\">Count</td>\n        <td class=\"number\">Frequency (%)</td>\n        <td style=\"min-width:200px\">&nbsp;</td>\n    </tr>\n    </thead>\n    <tr class=\"\">\n        <td class=\"fillremaining\">city_103</td>\n        <td class=\"number\">2426</td>\n        <td class=\"number\">0.0%</td>\n        <td>\n            <div class=\"bar\" style=\"width:1%\">&nbsp;</div>\n        </td>\n</tr><tr class=\"\">\n        <td class=\"fillremaining\">city_21</td>\n        <td class=\"number\">1111</td>\n        <td class=\"number\">0.0%</td>\n        <td>\n            <div class=\"bar\" style=\"width:1%\">&nbsp;</div>\n        </td>\n</tr><tr class=\"\">\n        <td class=\"fillremaining\">city_16</td>\n        <td class=\"number\">836</td>\n        <td class=\"number\">0.0%</td>\n        <td>\n            <div class=\"bar\" style=\"width:1%\">&nbsp;</div>\n        </td>\n</tr><tr class=\"\">\n        <td class=\"fillremaining\">city_114</td>\n        <td class=\"number\">648</td>\n        <td class=\"number\">0.0%</td>\n        <td>\n            <div class=\"bar\" style=\"width:1%\">&nbsp;</div>\n        </td>\n</tr><tr class=\"\">\n        <td class=\"fillremaining\">city_160</td>\n        <td class=\"number\">401</td>\n        <td class=\"number\">0.0%</td>\n        <td>\n            <div class=\"bar\" style=\"width:1%\">&nbsp;</div>\n        </td>\n</tr><tr class=\"\">\n        <td class=\"fillremaining\">city_136</td>\n        <td class=\"number\">288</td>\n        <td class=\"number\">0.0%</td>\n        <td>\n            <div class=\"bar\" style=\"width:1%\">&nbsp;</div>\n        </td>\n</tr><tr class=\"\">\n        <td class=\"fillremaining\">city_67</td>\n        <td class=\"number\">179</td>\n        <td class=\"number\">0.0%</td>\n        <td>\n            <div class=\"bar\" style=\"width:1%\">&nbsp;</div>\n        </td>\n</tr><tr class=\"\">\n        <td class=\"fillremaining\">city_75</td>\n        <td class=\"number\">156</td>\n        <td class=\"number\">0.0%</td>\n        <td>\n            <div class=\"bar\" style=\"width:1%\">&nbsp;</div>\n        </td>\n</tr><tr class=\"\">\n        <td class=\"fillremaining\">city_104</td>\n        <td class=\"number\">146</td>\n        <td class=\"number\">0.0%</td>\n        <td>\n            <div class=\"bar\" style=\"width:1%\">&nbsp;</div>\n        </td>\n</tr><tr class=\"\">\n        <td class=\"fillremaining\">city_71</td>\n        <td class=\"number\">131</td>\n        <td class=\"number\">0.0%</td>\n        <td>\n            <div class=\"bar\" style=\"width:1%\">&nbsp;</div>\n        </td>\n</tr><tr class=\"other\">\n        <td class=\"fillremaining\">Other values (106)</td>\n        <td class=\"number\">2633</td>\n        <td class=\"number\">0.0%</td>\n        <td>\n            <div class=\"bar\" style=\"width:100%\">&nbsp;</div>\n        </td>\n</tr>\n</table>\n</div>\n</div><div class=\"row variablerow\">\n    <div class=\"col-md-3 namecol\">\n        <p class=\"h4 pp-anchor\" id=\"pp_var_city_development_index\">city_development_index<br/>\n            <small>Numeric</small>\n        </p>\n    </div><div class=\"col-md-6\">\n    <div class=\"row\">\n        <div class=\"col-sm-6\">\n            <table class=\"stats \">\n                <tr>\n                    <th>Distinct count</th>\n                    <td>91</td>\n                </tr>\n                <tr>\n                    <th>Unique (%)</th>\n                    <td>0.0%</td>\n                </tr>\n                <tr class=\"ignore\">\n                    <th>Missing (%)</th>\n                    <td>0.0%</td>\n                </tr>\n                <tr class=\"ignore\">\n                    <th>Missing (n)</th>\n                    <td>0</td>\n                </tr>\n                <tr class=\"ignore\">\n                    <th>Infinite (%)</th>\n                    <td>0.0%</td>\n                </tr>\n                <tr class=\"ignore\">\n                    <th>Infinite (n)</th>\n                    <td>0</td>\n                </tr>\n            </table>\n\n        </div>\n        <div class=\"col-sm-6\">\n            <table class=\"stats \">\n\n                <tr>\n                    <th>Mean</th>\n                    <td>0.84457</td>\n                </tr>\n                <tr>\n                    <th>Minimum</th>\n                    <td>0.448</td>\n                </tr>\n                <tr>\n                    <th>Maximum</th>\n                    <td>0.949</td>\n                </tr>\n                <tr class=\"ignore\">\n                    <th>Zeros (%)</th>\n                    <td>0.0%</td>\n                </tr>\n            </table>\n        </div>\n    </div>\n</div>\n<div class=\"col-md-3 collapse in\" id=\"minihistogram4235418339276145676\">\n    <img src=\"data:image/png;base64,iVBORw0KGgoAAAANSUhEUgAAAMgAAABLCAYAAAA1fMjoAAAABHNCSVQICAgIfAhkiAAAAAlwSFlzAAAPYQAAD2EBqD%2BnaQAAADl0RVh0U29mdHdhcmUAbWF0cGxvdGxpYiB2ZXJzaW9uIDIuMi4zLCBodHRwOi8vbWF0cGxvdGxpYi5vcmcvIxREBQAAAStJREFUeJzt3cFtwzAQAME4SEkpIj3l7Z5SRHqiGzAWkAxZBDXzF3APrgjwc7cxxvgAnvo8ewCY2dfZA7Cu79%2B/zd/8338OmGQ/NwgEgUAQCASBQBAIBIFAEAgEgUAQCASBQBAIBIFAEAgEgUAQCASBQBAIBIFAEAgEgUAQCASBQBAIBIFAEAgEgUAQCASBQBAIBIFAEAgEgUAQCASBQBAIBIFAsMRzg61LKWdbSPmKPQs5V%2BAGgSAQCAKBIBAIAoHgFWsBV31hegeBHGjPwV3paXgFlw1k1r/urHNd1RKBOFQc5TbGGGcPAbPyigVBIBAEAkEgEAQCQSAQBAJBIBAEAkEgEAQCQSAQBAJBIBAEAkEgEAQCQSAQBAJBIBAEAkEgEAQCQSAQBALhAeEYGJzeJTiTAAAAAElFTkSuQmCC\">\n\n</div>\n<div class=\"col-md-12 text-right\">\n    <a role=\"button\" data-toggle=\"collapse\" data-target=\"#descriptives4235418339276145676,#minihistogram4235418339276145676\"\n       aria-expanded=\"false\" aria-controls=\"collapseExample\">\n        Toggle details\n    </a>\n</div>\n<div class=\"row collapse col-md-12\" id=\"descriptives4235418339276145676\">\n    <ul class=\"nav nav-tabs\" role=\"tablist\">\n        <li role=\"presentation\" class=\"active\"><a href=\"#quantiles4235418339276145676\"\n                                                  aria-controls=\"quantiles4235418339276145676\" role=\"tab\"\n                                                  data-toggle=\"tab\">Statistics</a></li>\n        <li role=\"presentation\"><a href=\"#histogram4235418339276145676\" aria-controls=\"histogram4235418339276145676\"\n                                   role=\"tab\" data-toggle=\"tab\">Histogram</a></li>\n        <li role=\"presentation\"><a href=\"#common4235418339276145676\" aria-controls=\"common4235418339276145676\"\n                                   role=\"tab\" data-toggle=\"tab\">Common Values</a></li>\n        <li role=\"presentation\"><a href=\"#extreme4235418339276145676\" aria-controls=\"extreme4235418339276145676\"\n                                   role=\"tab\" data-toggle=\"tab\">Extreme Values</a></li>\n\n    </ul>\n\n    <div class=\"tab-content\">\n        <div role=\"tabpanel\" class=\"tab-pane active row\" id=\"quantiles4235418339276145676\">\n            <div class=\"col-md-4 col-md-offset-1\">\n                <p class=\"h4\">Quantile statistics</p>\n                <table class=\"stats indent\">\n                    <tr>\n                        <th>Minimum</th>\n                        <td>0.448</td>\n                    </tr>\n                    <tr>\n                        <th>5-th percentile</th>\n                        <td>0.624</td>\n                    </tr>\n                    <tr>\n                        <th>Q1</th>\n                        <td>0.794</td>\n                    </tr>\n                    <tr>\n                        <th>Median</th>\n                        <td>0.91</td>\n                    </tr>\n                    <tr>\n                        <th>Q3</th>\n                        <td>0.92</td>\n                    </tr>\n                    <tr>\n                        <th>95-th percentile</th>\n                        <td>0.926</td>\n                    </tr>\n                    <tr>\n                        <th>Maximum</th>\n                        <td>0.949</td>\n                    </tr>\n                    <tr>\n                        <th>Range</th>\n                        <td>0.501</td>\n                    </tr>\n                    <tr>\n                        <th>Interquartile range</th>\n                        <td>0.126</td>\n                    </tr>\n                </table>\n            </div>\n            <div class=\"col-md-4 col-md-offset-2\">\n                <p class=\"h4\">Descriptive statistics</p>\n                <table class=\"stats indent\">\n                    <tr>\n                        <th>Standard deviation</th>\n                        <td>0.11618</td>\n                    </tr>\n                    <tr>\n                        <th>Coef of variation</th>\n                        <td>0.13756</td>\n                    </tr>\n                    <tr>\n                        <th>Kurtosis</th>\n                        <td>0.070392</td>\n                    </tr>\n                    <tr>\n                        <th>Mean</th>\n                        <td>0.84457</td>\n                    </tr>\n                    <tr>\n                        <th>MAD</th>\n                        <td>0.096602</td>\n                    </tr>\n                    <tr class=\"\">\n                        <th>Skewness</th>\n                        <td>-1.2692</td>\n                    </tr>\n                    <tr>\n                        <th>Sum</th>\n                        <td>7563.1</td>\n                    </tr>\n                    <tr>\n                        <th>Variance</th>\n                        <td>0.013497</td>\n                    </tr>\n                    <tr>\n                        <th>Memory size</th>\n                        <td>70.0 KiB</td>\n                    </tr>\n                </table>\n            </div>\n        </div>\n        <div role=\"tabpanel\" class=\"tab-pane col-md-8 col-md-offset-2\" id=\"histogram4235418339276145676\">\n            <img src=\"data:image/png;base64,iVBORw0KGgoAAAANSUhEUgAAAlgAAAGQCAYAAAByNR6YAAAABHNCSVQICAgIfAhkiAAAAAlwSFlzAAAPYQAAD2EBqD%2BnaQAAADl0RVh0U29mdHdhcmUAbWF0cGxvdGxpYiB2ZXJzaW9uIDIuMi4zLCBodHRwOi8vbWF0cGxvdGxpYi5vcmcvIxREBQAAIABJREFUeJzt3X90VPWd//HXJCMwIMlMAsEGIoJUA/mhrC6/REiCWLCCFgNBbFkrKqWRgD%2BaGpBIRUxbCI1CrWTrMa67RzANILgFi8AKK0FX2TaQIFWKirgNMZkxJBBiJvP9wy9zHJGS6GfuMMPzcQ4nZz6fO3fe950hvLifmzs2n8/nEwAAAIyJCnUBAAAAkYaABQAAYBgBCwAAwDACFgAAgGEELAAAAMMIWAAAAIYRsAAAAAwjYAEAABhGwAIAADCMgAUAAGAYAQsAAMAwAhYAAIBhBCwAAADDCFgAAACGEbAAAAAMI2ABAAAYRsACAAAwjIAFAABgGAELAADAMAIWAACAYQQsAAAAwwhYAAAAhhGwAAAADCNgAQAAGEbAAgAAMIyABQAAYBgBCwAAwDACFgAAgGEELAAAAMMIWAAAAIYRsAAAAAwjYAEAABhGwAIAADCMgAUAAGAYAQsAAMAwAhYAAIBhBCwAAADDCFgAAACGEbAAAAAMs4e6gAtFXd3xUJdwXoiKsikurocaGprV3u4LdTkRhd4GD70NHnobXPRX6t27Z0helzNYsFRUlE02m01RUbZQlxJx6G3w0NvgobfBRX9Dh4AFAABgGAELAADAMAIWAACAYQQsAAAAwwhYAAAAhhGwAAAADCNgAQAAGEbAAgAAMIyABQAAYBgBCwAAwDACFgAAgGEELAAAAMMIWAAAAIbZQ10AAAAIjvHLd4W6hA7bPP%2B6UJdgFGewAAAADCNgAQAAGEbAAgAAMIyABQAAYBgBCwAAwDACFgAAgGFhG7AyMzOVmpqqtLQ0/58lS5ZIkiorKzV58mSlpaVp/Pjx2rhxY8Bzn3/%2BeWVmZio9PV1Tp05VdXW1f%2B7UqVMqLCzUsGHDNHToUOXl5amhocHSYwMAAOEtbANWY2Oj/u3f/k379u3z/1m0aJFqa2s1Z84cZWdn66233tLChQu1aNEiVVVVSZK2bt2qkpISFRUV6c0339TYsWM1e/ZsnThxQpK0bNky7d27VxUVFdq%2BfbtaW1u1YMGCUB4qAAAIM2EZsLxer5qbmxUbG3vG3KZNm9S/f3/NnDlTDodDGRkZGjdunMrLyyVJ5eXlys7O1ogRI%2BRwOJSbmyubzaZt27apra1N69ev1/z585WUlCSXy6X8/Hzt2LFDtbW1Vh8mAAAIU2EZsBobG%2BXz%2BbRy5UqNHj1ao0eP1iOPPKKmpibV1NQoJSUlYPvBgwf7lwG/Om%2Bz2ZScnKzq6mp99NFHampqCpgfOHCgHA5HwDIiAADAPxKWH5XT2tqqlJQUpaWl6fHHH9exY8c0b948LV68WG63W8nJyQHbO51O/3VUbrdbTqczYD42NlYNDQ1yu93%2Bx18WExPTqeuwjh07prq6uoAxu727EhISOryPSBUdHRXwFebQ2%2BCht8FDb3Ga3R5Z74GwDFh9%2BvTRunXr/I8vvvhiPfTQQ/rJT36ia6%2B99mufY7PZAr6ebf5szjX/ZWvXrtWqVasCxnJzc5WXl9fhfUS6mBhHqEuIWPQ2eOht8NBbuFw9Ql2CUWEZsL5Ov3791N7erqioKHk8noA5t9utuLg4SZLL5fra%2BSuuuELx8fGSJI/Ho%2B7du0uSfD6fPB6Pf64jcnJylJWVFTBmt3eX293c6eOKNNHRUYqJcaix8aS83vZQlxNR6G3w0Nvgobc4LVj/RoYquIVlwHr33Xe1YcMGPfzww/6xv/3tb%2BrSpYvGjh2rDRs2BGxfVVWl9PR0SVJaWpr279%2BvW2%2B9VdIXF8zX1NQoOztbSUlJcjqdqq6uVmJioiTp4MGDam1tVWpqaofrS0hIOGM5sK7uuNra%2BOFxmtfbTj%2BChN4GD70NHnqLSPv%2Bh%2BWCp8vl0tq1a1VaWqrW1lZ98MEHevLJJ3X77bfrlltu0dGjR1VWVqaWlhZt2bJFO3fuVE5OjiRp%2BvTpqqio0J49e9Tc3KwVK1aoW7duysrKUnR0tKZNm6aSkhIdOXJE9fX1Kioq0oQJE9SrV68QHzUAAAgXYXkGq0%2BfPiotLdXy5cv1u9/9Ti6XSzfddJPy8vLUpUsXrV69WkuWLFFxcbESExNVXFzsv/B9zJgxys/PV0FBgerr65WamqrS0lJ17dpVkjR37lw1NzdrypQp8nq9yszM1OLFi0N4tAAAINzYfD6fL9RFXAjq6o6HuoTzgt0eJZerh9zu5og7HRxq9DZ46G3w0NvgmljyRqhL6LDN868Lyn579%2B4ZlP2eS1guEQIAAJzPCFgAAACGEbAAAAAMI2ABAAAYRsACAAAwjIAFAABgGAELAADAMAIWAACAYQQsAAAAwwhYAAAAhhGwAAAADCNgAQAAGEbAAgAAMIyABQAAYBgBCwAAwDACFgAAgGEELAAAAMMIWAAAAIYRsAAAAAwjYAEAABhGwAIAADCMgAUAAGAYAQsAAMAwAhYAAIBhBCwAAADDCFgAAACGEbAAAAAMI2ABAAAYRsACAAAwjIAFAABgGAELAADAMAIWAACAYQQsAAAAwwhYAAAAhhGwAAAADCNgAQAAGEbAAgAAMIyABQAAYBgBCwAAwDACFgAAgGEELAAAAMMIWAAAAIYRsAAAAAwjYAEAABhGwAIAADCMgAUAAGAYAQsAAMAwAhYAAIBhERGwnnjiCV155ZX%2Bx5WVlZo8ebLS0tI0fvx4bdy4MWD7559/XpmZmUpPT9fUqVNVXV3tnzt16pQKCws1bNgwDR06VHl5eWpoaLDsWAAAQPgL%2B4B14MABbdiwwf%2B4trZWc%2BbMUXZ2tt566y0tXLhQixYtUlVVlSRp69atKikpUVFRkd58802NHTtWs2fP1okTJyRJy5Yt0969e1VRUaHt27ertbVVCxYsCMmxAQCA8BTWAau9vV2PPvqofvzjH/vHNm3apP79%2B2vmzJlyOBzKyMjQuHHjVF5eLkkqLy9Xdna2RowYIYfDodzcXNlsNm3btk1tbW1av3695s%2Bfr6SkJLlcLuXn52vHjh2qra0N1WECAIAwYw91Ad/GmjVr1K1bN02aNEklJSWSpJqaGqWkpARsN3jwYG3evNk/f9NNN/nnbDabkpOTVV1drZSUFDU1NQU8f%2BDAgXI4HKqurlafPn06VNexY8dUV1cXMGa3d1dCQsI3Os5IEh0dFfAV5tDb4KG3wUNvcZrdHlnvgbANWJ9%2B%2Bql%2B%2B9vf6oUXXggYd7vdSk5ODhhzOp3%2B66jcbrecTmfAfGxsrBoaGuR2u/2PvywmJqZT12GtXbtWq1atChjLzc1VXl5eh/cR6WJiHKEuIWLR2%2BCht8FDb%2BFy9Qh1CUaFbcAqKirStGnTNHDgQH388cfn3N5mswV8Pdv8uZ7fETk5OcrKygoYs9u7y%2B1u7vA%2BIlV0dJRiYhxqbDwpr7c91OVEFHobPPQ2eOgtTgvWv5GhCm5hGbAqKyu1f/9%2BPfHEE2fMxcXFyePxBIy53W7FxcVJklwu19fOX3HFFYqPj5ckeTwede/eXZLk8/nk8Xj8cx2RkJBwxnJgXd1xtbXxw%2BM0r7edfgQJvQ0eehs89BaR9v0PywXPjRs36u9//7vGjBmj4cOHa8qUKZKk4cOH68orrwy47YIkVVVVKT09XZKUlpam/fv3%2B%2Be8Xq9qamqUnp6upKQkOZ3OgOcfPHhQra2tSk1NteDIAABAJAjLgPXwww/r1Vdf1csvv6yXX35ZpaWlkqSXX35ZN998s44ePaqysjK1tLRoy5Yt2rlzp3JyciRJ06dPV0VFhfbs2aPm5matWLFC3bp1U1ZWlqKjozVt2jSVlJToyJEjqq%2BvV1FRkSZMmKBevXqF8pABAEAYCcslwtjY2IAL0dva2iRJl1xyiSRp9erVWrJkiYqLi5WYmKji4mL/he9jxoxRfn6%2BCgoKVF9fr9TUVJWWlqpr166SpLlz56q5uVlTpkyR1%2BtVZmamFi9ebO0BAgCAsGbz%2BXy%2BUBdxIairOx7qEs4LdnuUXK4ecrubI269PdTobfDQ2%2BCht8E1seSNUJfQYZvnXxeU/fbu3TMo%2Bz2XsFwiBAAAOJ8RsAAAAAwjYAEAABhGwAIAADCMgAUAAGAYAQsAAMAwAhYAAIBhBCwAAADDCFgAAACGEbAAAAAMI2ABAAAYRsACAAAwjIAFAABgGAELAADAMAIWAACAYQQsAAAAwwhYAAAAhhGwAAAADCNgAQAAGEbAAgAAMIyABQAAYBgBCwAAwDACFgAAgGEELAAAAMMIWAAAAIYRsAAAAAwjYAEAABhGwAIAADCMgAUAAGAYAQsAAMAwAhYAAIBhBCwAAADDCFgAAACGEbAAAAAMszxgHT9%2B3OqXBAAAsJTlAWv06NH6%2Bc9/rrffftvqlwYAALCE5QHrF7/4herr63XnnXdq4sSJeu6559TQ0GB1GQAAAEFjecC69dZb9fvf/147d%2B7UjBkz9OqrryojI0P333%2B/KisrrS4HAADAuJBd5B4XF6cf/ehHWrNmjX71q19p9%2B7duuuuuzRx4kT96U9/ClVZAAAA35o9VC/c0NCgdevWad26dfrwww81atQo5eTk6NNPP1VhYaE%2B%2Bugj3X333aEqDwAA4BuzPGDt2rVL5eXl2r59u5xOp2677TZNnTpV/fr1828zZMgQ3XPPPQQsAAAQliwPWPfee6%2BGDx%2Bu5cuX64YbbpDdfmYJ6enpSkhIsLo0AAAAIywPWFu2bFH//v3V2trqD1dNTU26%2BOKLA7bbtGmT1aUBAAAYYflF7tHR0br55pu1fft2/9hLL72kiRMn6siRI1aXAwAAYJzlAWvp0qX67ne/q2uuucY/NnnyZF111VVaunSp1eUAAAAYZ/kS4TvvvKPXX39dDofDP9arVy8VFhYqIyPD6nIAAACMs/wMls/nU2tr6xnjzc3Nam9vt7ocAAAA4ywPWNddd53y8/NVU1OjxsZGeTwevfPOO3rggQc0evRoq8sBAAAwzvKAtWjRIrW2tmrKlCkaPny4Ro4cqR/%2B8IeKjo7WI4880uH9HDhwQHfeeaeuvfZajRgxQvPmzdOxY8ckSZWVlZo8ebLS0tI0fvx4bdy4MeC5zz//vDIzM5Wenq6pU6equrraP3fq1CkVFhZq2LBhGjp0qPLy8visRAAA0CmWB6z4%2BHg999xzeuWVV7Ry5UqtXLlSr7zyisrKytSrV68O7ePUqVOaNWuW/vmf/1m7d%2B/WK6%2B8ok8//VSLFy9WbW2t5syZo%2BzsbL311ltauHChFi1apKqqKknS1q1bVVJSoqKiIr355psaO3asZs%2BerRMnTkiSli1bpr1796qiokLbt29Xa2urFixYELR%2BAACAyBOyzyIcNGiQbrjhBt1www26/PLLO/XclpYW3X///Zo9e7a6dOmiXr16acKECXr//fe1adMm9e/fXzNnzpTD4VBGRobGjRun8vJySVJ5ebmys7M1YsQIORwO5ebmymazadu2bWpra9P69es1f/58JSUlyeVyKT8/Xzt27FBtbW0w2gAAACKQ5b9FuG/fPi1ZskTvvfeeWlpazpg/cODAOfcRGxurqVOnSvriovnDhw9r/fr1mjhxompqapSSkhKw/eDBg7V582ZJUk1NjW666Sb/nM1mU3Jysqqrq5WSkqKmpqaA5w8cOFAOh0PV1dXq06dPh47x2LFjqqurCxiz27tzd3pJ0dFRAV9hDr0NHnobPPQWp9ntkfUesDxgFRYWqkuXLpo3b566dev2rfZ19OhR3XjjjfJ6vcrJydG8efM0a9YsJScnB2zndDr911G53W45nc6A%2BdjYWDU0NMjtdvsff1lMTEynrsNau3atVq1aFTCWm5urvLy8Du8j0sXEOM69Eb4Rehs89DZ46C1crh6hLsEoywPW4cOHtXv3bnXv3v1b76tv377av3%2B/PvzwQy1atEg/%2B9nPzrqtzWYL%2BHq2%2BXM9vyNycnKUlZUVMGa3d5fb3dzhfUSq6OgoxcQ41Nh4Ul4vt%2BUwid4GD70NHnqL04L1b2SogpvlAeuSSy4xer8rm82myy67TPn5%2BcrOztbYsWPl8XgCtnG73YqLi5MkuVyur52/4oorFB8fL0nyeDz%2BAOjz%2BeTxePxzHZGQkHDGcmBd3XG1tfHD4zSvt51%2BBAm9DR56Gzz0FpH2/bd8wfOhhx5SUVGRmpqavvE%2BKisrdcMNN6itrc0/djq0jRo1KuC2C5JUVVWl9PR0SVJaWpr279/vn/N6vaqpqVF6erqSkpLkdDoDnn/w4EG1trYqNTX1G9cLAAAuLJYHrKefflpbt27VsGHDNGrUKI0ePTrgT0ekpqbq5MmTKi4u1smTJ9XQ0KCVK1fq2muv1aRJk3T06FGVlZWppaVFW7Zs0c6dO5WTkyNJmj59uioqKrRnzx41NzdrxYoV6tatm7KyshQdHa1p06appKRER44cUX19vYqKijRhwoQO30ICAADA8iXC66%2B/XhdddNG32kfPnj31%2B9//Xr/61a90/fXXy263a/jw4Vq6dKni4%2BO1evVqLVmyRMXFxUpMTFRxcbH/wvcxY8YoPz9fBQUFqq%2BvV2pqqkpLS9W1a1dJ0ty5c9Xc3KwpU6bI6/UqMzNTixcv/raHDQAALiA2n8/nC3URF4K6uuOhLuG8YLdHyeXqIbe7OeLW20ON3gYPvQ0eehtcE0veCHUJHbZ5/nVB2W/v3j2Dst9zCclNJ/7yl7%2BooKBA//Iv/yLpi%2BunTt%2BnCgAAINxZHrC2bdumGTNmyO12a%2B/evZKkv//97yosLPTfbR0AACCcWR6wnnnmGS1btkzPPPOM/95SiYmJeuqpp1RWVmZ1OQAAAMZZHrAOHz6sG2%2B8UVLgzTuHDx%2Buo0ePWl0OAACAcZYHrIsuuuiMG31K0gcffPCtPzoHAADgfGB5wMrIyNAjjzyiQ4cOSfriLuq7du3S/PnzlZmZaXU5AAAAxlkesAoKCuTz%2BfT9739fp06d0qhRo3TPPfcoMTFRDz/8sNXlAAAAGGf5jUZjYmK0evVqHTp0SIcPH1ZUVJQGDBigAQMGWF0KAABAUFgesE67/PLLdfnllweMtbe3KyoqJLfmAgAAMMbygJWcnBzw24NfdeDAAQurAQAAMM/ygPXoo48GBKz29nYdPXpUr732mu6%2B%2B26rywEAADDO8oB1%2B%2B23f%2B14dna2fvOb32jq1KkWVwQAAGDWeXPB04ABA/Tee%2B%2BFugwAAIBv7bwJWP/7v/%2Br48ePh7oMAACAb83yJcLRo0efMfb555%2BrsbFRM2bMsLocAAAA4ywPWDk5OWf8FmHXrl313e9%2BVxkZGVaXAwAAYJzlAWvu3LlWvyQAAIClLA9YJSUlsts79rL33XdfkKsBAAAwz/KAtXXrVn3yySdqaWmR0%2BlUe3u7PvvsMzkcDrlcLv92NpuNgAUAAMKS5QHr3nvv1Z49e5Sfn%2B8PVLW1tfr1r3%2BtzMxM3XzzzVaXBAAAYJTlt2lYuXKlFixYEHC2qk%2BfPlq4cKF%2B85vfWF0OAACAcZYHrPr6%2Bq/9LMKLLrpIDQ0NVpcDAABgnOUBKyUlRfn5%2BaqurlZjY6OOHz%2BumpoaLViwQMnJyVaXAwAAYJzl12A99thj%2BulPf6rbbrvNfybL5/OpX79%2Bevrpp60uBwAAwDjLA9bAgQO1ZcsW7d%2B/X//3f/8nn8%2BnSy65RGlpaV%2B7dAgAABBuLA9Yp7lcLjU3N2v48OGhKgEAACAoLL8Gy%2BPxaNasWRo3bpxmzZolSaqrq9OkSZNUW1trdTkAAADGWR6wli9frvb2dpWXlysq6ouX79mzpwYPHqylS5daXQ4AAIBxli8R7t69Wy%2B%2B%2BKL69Onjv%2BaqW7duKigo0MSJE60uBwAAwLiQ3Aerd%2B/eZ4w7HA61tLRYXQ4AAIBxlgesAQMG6L/%2B67/OGF%2BzZo0GDBhgdTkAAADGWb5E%2BNOf/lTz589XVlaWvF6vHnvsMVVXV2vfvn0qKSmxuhwAAADjLD%2BDdeONN%2Brf//3fFRUVpUGDBunPf/6z%2BvXrpzVr1ujGG2%2B0uhwAAADjLD2D1d7erv379ys9PV0rVqyw8qUBAAAsY%2BkZrKioKM2cOVNer9fKlwUAALCU5UuEkyZNUllZmXw%2Bn9UvDQAAYAnLL3Kvq6vT9u3bVVpaqr59%2B6pLly4B82vWrLG6JAAAAKMsD1gul0tjxoyx%2BmUBAAAsY1nAysvL01NPPaWioiL/2FNPPaW8vDyrSgAAALCEZddgvf7662eMPfvss1a9PAAAgGUsv8j9y7jQHQAARKKQBqzTH/YMAAAQSUIasAAAACIRAQsAAMAwy36L8PPPP9eDDz54zrHi4mKrSgIAAAgKywLWNddco2PHjp1zDAAAINxZFrBeeOEFq14KAAAgpML2GqyPP/5Yc%2BbM0bBhwzRy5Ejl5%2Bfrs88%2BkyRVVlZq8uTJSktL0/jx47Vx48aA5z7//PPKzMxUenq6pk6dqurqav/cqVOnVFhYqGHDhmno0KHKy8tTQ0ODpccGAADCW9gGrDlz5sjpdGrHjh3auHGjDh8%2BrF//%2Bteqra3VnDlzlJ2drbfeeksLFy7UokWLVFVVJUnaunWrSkpKVFRUpDfffFNjx47V7NmzdeLECUnSsmXLtHfvXlVUVGj79u1qbW3VggULQnmoAAAgzIRlwDp%2B/LhSU1P10EMPqUePHurdu7duvfVWvf3229q0aZP69%2B%2BvmTNnyuFwKCMjQ%2BPGjVN5ebkkqby8XNnZ2RoxYoQcDodyc3Nls9m0bds2tbW1af369Zo/f76SkpLkcrmUn5%2BvHTt2qLa2NsRHDQAAwkVYBqyePXuqqKhI8fHx/rGjR4/qO9/5jmpqapSSkhKw/eDBg/3LgF%2Bdt9lsSk5OVnV1tT766CM1NTUFzA8cOFAOhyNgGREAAOAfsewi92Dat2%2Bf/uM//kNPPfWUysrKlJycHDDvdDr911G53W45nc6A%2BdjYWDU0NMjtdvsff1lMTEynrsM6duyY6urqAsbs9u5KSEjo8D4iVXR0VMBXmENvg4feBg%2B9xWl2e2S9B8I%2BYL3zzjuaM2eO8vPzNXbsWJWVlX3tdqc/ludsH89zro/t6czH%2Bqxdu1arVq0KGMvNzVVeXl6H9xHpYmIcoS4hYtHb4KG3wUNv4XL1CHUJRoV1wNqxY4d%2B9rOf6Re/%2BIW%2B//3vS5Li4uLk8XgCtnO73YqLi5MkuVyur52/4oor/EuOHo9H3bt3l/TFB1J7PJ6A5chzycnJUVZWVsCY3d5dbndz5w4wAkVHRykmxqHGxpPyettDXU5EobfBQ2%2BDh97itGD9Gxmq4Ba2AWvv3r36%2Bc9/rqeeekqjRo3yj6elpWndunUB21ZVVSk9Pd0/v3//ft16662SJK/Xq5qaGmVnZyspKUlOp1PV1dVKTEyUJB08eFCtra1KTU3tcG0JCQlnLAfW1R1XWxs/PE7zetvpR5DQ2%2BCht8FDbxFp3/%2BwXPBsa2vTI488onnz5gWEK0maNGmSjh49qrKyMrW0tGjLli3auXOncnJyJEnTp09XRUWF9uzZo%2BbmZq1YsULdunVTVlaWoqOjNW3aNJWUlOjIkSOqr69XUVGRJkyYoF69eoXiUAEAQBgKyzNYf/7zn3Xo0CH98pe/1C9/%2BcuAuS1btmj16tVasmSJiouLlZiYqOLiYv%2BF72PGjFF%2Bfr4KCgpUX1%2Bv1NRUlZaWqmvXrpKkuXPnqrm5WVOmTJHX61VmZqYWL15s9SECAIAwZvP5fL5QF3EhqKs7HuoSzgt2e5Rcrh5yu5sj7nRwqNHb4KG3wUNvg2tiyRuhLqHDNs%2B/Lij77d27Z1D2ey5huUQIAABwPiNgAQAAGEbAAgAAMIyABQAAYBgBCwAAwDACFgAAgGEELAAAAMMIWAAAAIYRsAAAAAwjYAEAABhGwAIAADCMgAUAAGAYAQsAAMAwAhYAAIBhBCwAAADDCFgAAACGEbAAAAAMI2ABAAAYRsACAAAwjIAFAABgGAELAADAMAIWAACAYQQsAAAAwwhYAAAAhhGwAAAADCNgAQAAGEbAAgAAMIyABQAAYBgBCwAAwDACFgAAgGEELAAAAMMIWAAAAIYRsAAAAAwjYAEAABhGwAIAADCMgAUAAGAYAQsAAMAwAhYAAIBhBCwAAADDCFgAAACGEbAAAAAMI2ABAAAYRsACAAAwjIAFAABgGAELAADAMHuoCwBgxvjlu0JdQodtnn9dqEsAgKDiDBYAAIBhBCwAAADDwjZg7dq1S6NGjdL9999/xlxlZaUmT56stLQ0jR8/Xhs3bgyYf/7555WZman09HRNnTpV1dXV/rlTp06psLBQw4YN09ChQ5WXl6eGhoagHw8AAIgcYXkN1r/%2B67/qD3/4g/r373/GXG1trebMmaMHHnhAU6dO1Ztvvql58%2BbpsssuU3p6urZu3aqSkhL97ne/01VXXaVnn31Ws2fP1p/%2B9Cd1795dy5Yt0969e1VRUaGLL75YBQUFWrBggZ555pkQHCkA4HwyseSNUJeAMBGWZ7C6du161oC1adMm9e/fXzNnzpTD4VBGRobGjRun8vJySVJ5ebmys7M1YsQIORwO5ebmymazadu2bWpra9P69es1f/58JSUlyeVyKT8/Xzt27FBtba3VhwkAAMJUWJ7Bmjlz5lnnampqlJKSEjA2ePBgbd682T9/0003%2BedsNpuSk5NVXV2tlJQUNTU1BTx/4MCBcjgcqq6uVp8%2BfTpU37Fjx1RXVxcwZrd3V0JCQoeeH8mio6MCvuLCZLeH1/ef923w0FucFm4/F84lLAPWP%2BJ2u5WcnBww5nQ6/ddRud1uOZ3OgPnY2Fg1NDTI7Xb7H39ZTExMp67DWrt2rVatWhUwlpubq7y8vA7vI9LFxDhCXQJCyOXqEeoSvhHet8FDbxGuPxfOJuIC1tnYbLaAr2ebP9fzOyInJ0dZWVkBY3Z7d7ndzR3eR6SKjo5STIxDjY0n5fW2h7ochEi4/V3gfRsgQiieAAALW0lEQVQ89BanBevnQqiCW8QFrLi4OHk8noAxt9utuLg4SZLL5fra%2BSuuuELx8fGSJI/Ho%2B7du0uSfD6fPB6Pf64jEhISzlgOrKs7rrY2fnic5vW2048LWLh%2B73nfBg%2B9RaR9/yNrwVNSWlpawG0XJKmqqkrp6en%2B%2Bf379/vnvF6vampqlJ6erqSkJDmdzoDnHzx4UK2trUpNTbXmAAAAQNiLuIA1adIkHT16VGVlZWppadGWLVu0c%2BdO5eTkSJKmT5%2BuiooK7dmzR83NzVqxYoW6deumrKwsRUdHa9q0aSopKdGRI0dUX1%2BvoqIiTZgwQb169QrxkQEAgHARlkuEaWlpkqS2tjZJ0muvvSZJ2rdvn%2BLj47V69WotWbJExcXFSkxMVHFxsf/C9zFjxig/P18FBQWqr69XamqqSktL1bVrV0nS3Llz1dzcrClTpsjr9SozM1OLFy%2B2/iABAEDYsvl8Pl%2Boi7gQ1NUdD3UJ5wW7PUouVw%2B53c0Rt94eauF0A8Rw%2B7Bn3rfBE269Dae/Z%2BEmWD8XevfuGZT9nkvELRECAACEGgELAADAMAIWAACAYQQsAAAAwwhYAAAAhhGwAAAADCNgAQAAGEbAAgAAMIyABQAAYBgBCwAAwDACFgAAgGEELAAAAMMIWAAAAIYRsAAAAAwjYAEAABhGwAIAADCMgAUAAGAYAQsAAMAwAhYAAIBhBCwAAADDCFgAAACGEbAAAAAMI2ABAAAYRsACAAAwjIAFAABgGAELAADAMAIWAACAYfZQFwAAuHCNX74r1CUAQcEZLAAAAMMIWAAAAIaxRAgAEWZiyRuhLgG44BGwAFgu3ALA1oeuD3UJAMIMS4QAAACGEbAAAAAMI2ABAAAYRsACAAAwjIAFAABgGAELAADAMAIWAACAYQQsAAAAwwhYAAAAhnEnd%2BAswu1u4wCA8wcBCwDOYfzyXaEuAUCYYYkQAADAMAIWAACAYQQsAAAAwwhYAAAAhhGwAAAADCNgfY2PP/5Ys2bN0tVXX62RI0dq2bJlam9vD3VZAAAgTHCbhq/w%2BXy67777NGjQIL3%2B%2Buuqr6/X3Xffrfj4eN11112hLg8AAIQBAtZX7Nu3TwcPHlRZWZliY2MVGxure%2B%2B9V8899xwB61vixp0AgAsFAesrampq1LdvXzmdTv/YkCFD9MEHH6ipqUkXX3zxOfdx7Ngx1dXVBYzZ7d2VkJBgvF5ugAgAiAR2e2RdtUTA%2Bgq3263Y2NiAsdOP3W53hwLW2rVrtWrVqoCx%2B%2B67T3PnzjVX6P/39tIJxvcZTMeOHdPatWuVk5MTlMB5IaO3wUNvg4feBhf9DZ3IiovniZycHK1bty7gT05OTqjLOi/U1dVp1apVZ5zhw7dHb4OH3gYPvQ0u%2Bhs6nMH6ivj4eHk8noAxt9stSYqLi%2BvQPhISEvifAgAAFzDOYH1FWlqaPvnkE3%2BokqSqqioNGjRIPXr0CGFlAAAgXBCwvmLw4MFKT0/X448/rsbGRh08eFClpaW64447Ql0aAAAIE9GLFy9eHOoizjfXX3%2B9Xn31VS1ZskR//OMfdfvtt2vWrFmhLiti9OjRQ8OGDeOMYBDQ2%2BCht8FDb4OL/oaGzefz%2BUJdBAAAQCRhiRAAAMAwAhYAAIBhBCwAAADDCFgAAACGEbAAAAAMI2ABAAAYRsACAAAwjIAFAABgGAELAADAMAIWjPv44481a9YsXX311Ro5cqSWLVum9vb2M7arqKhQcnKy0tLSAv58%2BumnIag6PHS0t5J06NAh3XHHHbrqqquUkZGhsrIya4sNMx3t7V133XXGe3bIkCEqKCgIQdXhoaO9bW9v15NPPqnMzEwNHTpUkyZN0h//%2BMcQVBw%2BOtrb1tZWFRcXKzMzU1dffbVmzpypI0eOhKDiC4gPMKi9vd13yy23%2BB588EGfx%2BPxHTp0yJeZmel79tlnz9j2ueee8/34xz8OQZXhqTO9PXnypC8rK8v30ksv%2BVpaWnx79uzxTZgwwff%2B%2B%2B%2BHoPLzX2d6%2B1UnTpzwZWZm%2Bnbt2mVBpeGnM7194YUXfKNHj/b97W9/83m9Xt%2BOHTt8Q4YM8R04cCAElZ//OtPblStX%2BjIzM33vv/%2B%2B7%2BTJk74lS5b4br75Zp/X6w1B5RcGAhaM%2Bstf/uJLTk72ud1u/9iLL77ou/HGG8/YtqSkxDd//nwrywtrnentunXrfPfcc4%2BV5YW1zvT2q5YtW%2BbLy8sLZnlhrTO9XbBgwRm9HDFihG/Dhg1BrzMcdaa3U6ZM8T399NP%2Bxy0tLb6UlBTf3r17Lan1QsQSIYyqqalR37595XQ6/WNDhgzRBx98oKampoBtGxsb9eGHH2rKlCm65ppr9IMf/ECvv/661SWHjc709u2339Zll12mvLw8XXPNNbrppptYavkHOtPbL/v444/14osvKj8/34oyw1JnepuRkaH/%2BZ//0bvvvqu2tja99tprOnXqlIYNG2Z12WGhM731fXFCxf/4oosuUteuXXXgwAHL6r3QELBglNvtVmxsbMDY6cdutztg3Ol0Ki4uTk888YR27dqlW265Rbm5uTp06JBl9YaTzvS2trZWGzZsUHZ2tt544w3NmjVLDz74oN59913L6g0nnentlz3zzDO65ZZb1Ldv36DWF84609vx48fr9ttv1y233KKUlBQ9%2BOCDeuKJJ/Sd73zHsnrDSWd6O3bsWJWXl%2Buvf/2rmpqa9Nvf/laff/65PvvsM8vqvdDYQ10ALlxz584NeHznnXfqlVde0caNG3X//feHqKrI0NbWpoyMDI0ZM0aSdNttt%2Bmll17Sf/7nfyo5OTnE1UWGhoYGbdy4UevXrw91KRFjw4YNWr9%2BvdavX69BgwapsrJSDzzwgBITE5Wenh7q8sLa7Nmz5fF4dOedd8put%2BtHP/qRLr30UtntxIBg4QwWjIqPj5fH4wkYO/0/qbi4uHM%2Bv1%2B/fqqrqwtKbeGuM72NjY1Vz549A8b69u3Lb2iexTd5327btk0DBw7U5ZdfHvT6wllnevvCCy9o2rRpGjJkiLp06aKxY8dq%2BPDh2rBhg2X1hpPO9LZbt2569NFHtXv3bu3cuVN333236urq1KdPH8vqvdAQsGBUWlqaPvnkk4DT01VVVRo0aJB69OgRsO3q1au1e/fugLHDhw8rKSnJklrDTWd6m5KSourq6oCxo0ePspR1Fp3p7Wn//d//rZEjR1pVYtjqTG99Pt8Ztxhoa2tTVBT/VH2dzvS2urpalZWV/sf79u2Tx%2BPRP/3TP1lW74WGdy2MGjx4sNLT0/X444%2BrsbFRBw8eVGlpqe644w5J0oQJE/T2229L%2BuJ/Wo899pg%2B%2BOADtba26rnnntNHH32kKVOmhPIQzlud6e2tt96qgwcPas2aNWptbdXGjRtVXV2tyZMnh/IQzlud6e1pBw4c0KBBg0JRbljpTG8zMzP1hz/8Qe%2B99568Xq8qKytVWVmpjIyMEB7B%2BaszvT148KAeeughffTRR/rss8%2B0fPlyfe9731O/fv1CeQgRjcVXGPfkk0%2BqsLBQ119/vXr06KEZM2ZoxowZkr44Q3XixAlJ0gMPPKD29nb98Ic/1MmTJ3XllVeqrKyMU9b/QEd7m5CQoNLSUi1dulRFRUW69NJL9fTTT%2BvSSy8NZfnntY729rS6urqA397C2XW0tz/5yU/U1tam2bNnq6GhQYmJiVq8eLFGjx4dyvLPax3t7Q9%2B8AP99a9/1dSpU9XW1qZx48apsLAwlKVHPJvvy7%2B3CQAAgG%2BNJUIAAADDCFgAAACGEbAAAAAMI2ABAAAYRsACAAAwjIAFAABgGAELAADAMAIWAACAYQQsAAAAwwhYAAAAhhGwAAAADCNgAQAAGEbAAgAAMOz/AcUg0JVBq0S2AAAAAElFTkSuQmCC\"/>\n        </div>\n        <div role=\"tabpanel\" class=\"tab-pane col-md-12\" id=\"common4235418339276145676\">\n            \n<table class=\"freq table table-hover\">\n    <thead>\n    <tr>\n        <td class=\"fillremaining\">Value</td>\n        <td class=\"number\">Count</td>\n        <td class=\"number\">Frequency (%)</td>\n        <td style=\"min-width:200px\">&nbsp;</td>\n    </tr>\n    </thead>\n    <tr class=\"\">\n        <td class=\"fillremaining\">0.92</td>\n        <td class=\"number\">2827</td>\n        <td class=\"number\">0.0%</td>\n        <td>\n            <div class=\"bar\" style=\"width:100%\">&nbsp;</div>\n        </td>\n</tr><tr class=\"\">\n        <td class=\"fillremaining\">0.624</td>\n        <td class=\"number\">1111</td>\n        <td class=\"number\">0.0%</td>\n        <td>\n            <div class=\"bar\" style=\"width:1%\">&nbsp;</div>\n        </td>\n</tr><tr class=\"\">\n        <td class=\"fillremaining\">0.91</td>\n        <td class=\"number\">836</td>\n        <td class=\"number\">0.0%</td>\n        <td>\n            <div class=\"bar\" style=\"width:1%\">&nbsp;</div>\n        </td>\n</tr><tr class=\"\">\n        <td class=\"fillremaining\">0.926</td>\n        <td class=\"number\">648</td>\n        <td class=\"number\">0.0%</td>\n        <td>\n            <div class=\"bar\" style=\"width:1%\">&nbsp;</div>\n        </td>\n</tr><tr class=\"\">\n        <td class=\"fillremaining\">0.897</td>\n        <td class=\"number\">288</td>\n        <td class=\"number\">0.0%</td>\n        <td>\n            <div class=\"bar\" style=\"width:1%\">&nbsp;</div>\n        </td>\n</tr><tr class=\"\">\n        <td class=\"fillremaining\">0.939</td>\n        <td class=\"number\">251</td>\n        <td class=\"number\">0.0%</td>\n        <td>\n            <div class=\"bar\" style=\"width:1%\">&nbsp;</div>\n        </td>\n</tr><tr class=\"\">\n        <td class=\"fillremaining\">0.698</td>\n        <td class=\"number\">209</td>\n        <td class=\"number\">0.0%</td>\n        <td>\n            <div class=\"bar\" style=\"width:1%\">&nbsp;</div>\n        </td>\n</tr><tr class=\"\">\n        <td class=\"fillremaining\">0.855</td>\n        <td class=\"number\">179</td>\n        <td class=\"number\">0.0%</td>\n        <td>\n            <div class=\"bar\" style=\"width:1%\">&nbsp;</div>\n        </td>\n</tr><tr class=\"\">\n        <td class=\"fillremaining\">0.924</td>\n        <td class=\"number\">146</td>\n        <td class=\"number\">0.0%</td>\n        <td>\n            <div class=\"bar\" style=\"width:1%\">&nbsp;</div>\n        </td>\n</tr><tr class=\"\">\n        <td class=\"fillremaining\">0.884</td>\n        <td class=\"number\">131</td>\n        <td class=\"number\">0.0%</td>\n        <td>\n            <div class=\"bar\" style=\"width:1%\">&nbsp;</div>\n        </td>\n</tr><tr class=\"other\">\n        <td class=\"fillremaining\">Other values (81)</td>\n        <td class=\"number\">2329</td>\n        <td class=\"number\">0.0%</td>\n        <td>\n            <div class=\"bar\" style=\"width:1%\">&nbsp;</div>\n        </td>\n</tr>\n</table>\n        </div>\n        <div role=\"tabpanel\" class=\"tab-pane col-md-12\"  id=\"extreme4235418339276145676\">\n            <p class=\"h4\">Minimum 5 values</p>\n            \n<table class=\"freq table table-hover\">\n    <thead>\n    <tr>\n        <td class=\"fillremaining\">Value</td>\n        <td class=\"number\">Count</td>\n        <td class=\"number\">Frequency (%)</td>\n        <td style=\"min-width:200px\">&nbsp;</td>\n    </tr>\n    </thead>\n    <tr class=\"\">\n        <td class=\"fillremaining\">0.448</td>\n        <td class=\"number\">4</td>\n        <td class=\"number\">0.0%</td>\n        <td>\n            <div class=\"bar\" style=\"width:100%\">&nbsp;</div>\n        </td>\n</tr><tr class=\"\">\n        <td class=\"fillremaining\">0.479</td>\n        <td class=\"number\">3</td>\n        <td class=\"number\">0.0%</td>\n        <td>\n            <div class=\"bar\" style=\"width:1%\">&nbsp;</div>\n        </td>\n</tr><tr class=\"\">\n        <td class=\"fillremaining\">0.487</td>\n        <td class=\"number\">1</td>\n        <td class=\"number\">0.0%</td>\n        <td>\n            <div class=\"bar\" style=\"width:1%\">&nbsp;</div>\n        </td>\n</tr><tr class=\"\">\n        <td class=\"fillremaining\">0.493</td>\n        <td class=\"number\">2</td>\n        <td class=\"number\">0.0%</td>\n        <td>\n            <div class=\"bar\" style=\"width:1%\">&nbsp;</div>\n        </td>\n</tr><tr class=\"\">\n        <td class=\"fillremaining\">0.512</td>\n        <td class=\"number\">3</td>\n        <td class=\"number\">0.0%</td>\n        <td>\n            <div class=\"bar\" style=\"width:1%\">&nbsp;</div>\n        </td>\n</tr>\n</table>\n            <p class=\"h4\">Maximum 5 values</p>\n            \n<table class=\"freq table table-hover\">\n    <thead>\n    <tr>\n        <td class=\"fillremaining\">Value</td>\n        <td class=\"number\">Count</td>\n        <td class=\"number\">Frequency (%)</td>\n        <td style=\"min-width:200px\">&nbsp;</td>\n    </tr>\n    </thead>\n    <tr class=\"\">\n        <td class=\"fillremaining\">0.924</td>\n        <td class=\"number\">146</td>\n        <td class=\"number\">0.0%</td>\n        <td>\n            <div class=\"bar\" style=\"width:1%\">&nbsp;</div>\n        </td>\n</tr><tr class=\"\">\n        <td class=\"fillremaining\">0.925</td>\n        <td class=\"number\">82</td>\n        <td class=\"number\">0.0%</td>\n        <td>\n            <div class=\"bar\" style=\"width:1%\">&nbsp;</div>\n        </td>\n</tr><tr class=\"\">\n        <td class=\"fillremaining\">0.926</td>\n        <td class=\"number\">648</td>\n        <td class=\"number\">0.0%</td>\n        <td>\n            <div class=\"bar\" style=\"width:100%\">&nbsp;</div>\n        </td>\n</tr><tr class=\"\">\n        <td class=\"fillremaining\">0.939</td>\n        <td class=\"number\">251</td>\n        <td class=\"number\">0.0%</td>\n        <td>\n            <div class=\"bar\" style=\"width:1%\">&nbsp;</div>\n        </td>\n</tr><tr class=\"\">\n        <td class=\"fillremaining\">0.949</td>\n        <td class=\"number\">41</td>\n        <td class=\"number\">0.0%</td>\n        <td>\n            <div class=\"bar\" style=\"width:1%\">&nbsp;</div>\n        </td>\n</tr>\n</table>\n        </div>\n    </div>\n</div>\n</div><div class=\"row variablerow\">\n    <div class=\"col-md-3 namecol\">\n        <p class=\"h4 pp-anchor\" id=\"pp_var_company_size\">company_size<br/>\n            <small>Categorical</small>\n        </p>\n    </div><div class=\"col-md-3\">\n    <table class=\"stats \">\n        <tr class=\"\">\n            <th>Distinct count</th>\n            <td>8</td>\n        </tr>\n        <tr>\n            <th>Unique (%)</th>\n            <td>0.0%</td>\n        </tr>\n        <tr class=\"ignore\">\n            <th>Missing (%)</th>\n            <td>0.0%</td>\n        </tr>\n        <tr class=\"ignore\">\n            <th>Missing (n)</th>\n            <td>0</td>\n        </tr>\n    </table>\n</div>\n<div class=\"col-md-6 collapse in\" id=\"minifreqtable3026354432862945503\">\n    <table class=\"mini freq\">\n        <tr class=\"\">\n    <th>50-99</th>\n    <td>\n        <div class=\"bar\" style=\"width:1%\" data-toggle=\"tooltip\" data-placement=\"right\" data-html=\"true\"\n             data-delay=500 title=\"Percentage: 0.0%\">\n            &nbsp;\n        </div>\n        1986\n    </td>\n</tr><tr class=\"\">\n    <th>100-500</th>\n    <td>\n        <div class=\"bar\" style=\"width:1%\" data-toggle=\"tooltip\" data-placement=\"right\" data-html=\"true\"\n             data-delay=500 title=\"Percentage: 0.0%\">\n            &nbsp;\n        </div>\n        1814\n    </td>\n</tr><tr class=\"\">\n    <th>10000+</th>\n    <td>\n        <div class=\"bar\" style=\"width:1%\" data-toggle=\"tooltip\" data-placement=\"right\" data-html=\"true\"\n             data-delay=500 title=\"Percentage: 0.0%\">\n            &nbsp;\n        </div>\n        1449\n    </td>\n</tr><tr class=\"other\">\n    <th>Other values (5)</th>\n    <td>\n        <div class=\"bar\" style=\"width:100%\" data-toggle=\"tooltip\" data-placement=\"right\" data-html=\"true\"\n             data-delay=500 title=\"Percentage: 0.0%\">\n            3706\n        </div>\n        \n    </td>\n</tr>\n    </table>\n</div>\n<div class=\"col-md-12 text-right\">\n    <a role=\"button\" data-toggle=\"collapse\" data-target=\"#freqtable3026354432862945503, #minifreqtable3026354432862945503\"\n       aria-expanded=\"true\" aria-controls=\"collapseExample\">\n        Toggle details\n    </a>\n</div>\n<div class=\"col-md-12 extrapadding collapse\" id=\"freqtable3026354432862945503\">\n    \n<table class=\"freq table table-hover\">\n    <thead>\n    <tr>\n        <td class=\"fillremaining\">Value</td>\n        <td class=\"number\">Count</td>\n        <td class=\"number\">Frequency (%)</td>\n        <td style=\"min-width:200px\">&nbsp;</td>\n    </tr>\n    </thead>\n    <tr class=\"\">\n        <td class=\"fillremaining\">50-99</td>\n        <td class=\"number\">1986</td>\n        <td class=\"number\">0.0%</td>\n        <td>\n            <div class=\"bar\" style=\"width:100%\">&nbsp;</div>\n        </td>\n</tr><tr class=\"\">\n        <td class=\"fillremaining\">100-500</td>\n        <td class=\"number\">1814</td>\n        <td class=\"number\">0.0%</td>\n        <td>\n            <div class=\"bar\" style=\"width:1%\">&nbsp;</div>\n        </td>\n</tr><tr class=\"\">\n        <td class=\"fillremaining\">10000+</td>\n        <td class=\"number\">1449</td>\n        <td class=\"number\">0.0%</td>\n        <td>\n            <div class=\"bar\" style=\"width:1%\">&nbsp;</div>\n        </td>\n</tr><tr class=\"\">\n        <td class=\"fillremaining\">10/49</td>\n        <td class=\"number\">951</td>\n        <td class=\"number\">0.0%</td>\n        <td>\n            <div class=\"bar\" style=\"width:1%\">&nbsp;</div>\n        </td>\n</tr><tr class=\"\">\n        <td class=\"fillremaining\">1000-4999</td>\n        <td class=\"number\">930</td>\n        <td class=\"number\">0.0%</td>\n        <td>\n            <div class=\"bar\" style=\"width:1%\">&nbsp;</div>\n        </td>\n</tr><tr class=\"\">\n        <td class=\"fillremaining\"><10</td>\n        <td class=\"number\">840</td>\n        <td class=\"number\">0.0%</td>\n        <td>\n            <div class=\"bar\" style=\"width:1%\">&nbsp;</div>\n        </td>\n</tr><tr class=\"\">\n        <td class=\"fillremaining\">500-999</td>\n        <td class=\"number\">592</td>\n        <td class=\"number\">0.0%</td>\n        <td>\n            <div class=\"bar\" style=\"width:1%\">&nbsp;</div>\n        </td>\n</tr><tr class=\"\">\n        <td class=\"fillremaining\">5000-9999</td>\n        <td class=\"number\">393</td>\n        <td class=\"number\">0.0%</td>\n        <td>\n            <div class=\"bar\" style=\"width:1%\">&nbsp;</div>\n        </td>\n</tr>\n</table>\n</div>\n</div><div class=\"row variablerow\">\n    <div class=\"col-md-3 namecol\">\n        <p class=\"h4 pp-anchor\" id=\"pp_var_company_type\">company_type<br/>\n            <small>Categorical</small>\n        </p>\n    </div><div class=\"col-md-3\">\n    <table class=\"stats \">\n        <tr class=\"\">\n            <th>Distinct count</th>\n            <td>6</td>\n        </tr>\n        <tr>\n            <th>Unique (%)</th>\n            <td>0.0%</td>\n        </tr>\n        <tr class=\"ignore\">\n            <th>Missing (%)</th>\n            <td>0.0%</td>\n        </tr>\n        <tr class=\"ignore\">\n            <th>Missing (n)</th>\n            <td>0</td>\n        </tr>\n    </table>\n</div>\n<div class=\"col-md-6 collapse in\" id=\"minifreqtable4026221432107944332\">\n    <table class=\"mini freq\">\n        <tr class=\"\">\n    <th>Pvt Ltd</th>\n    <td>\n        <div class=\"bar\" style=\"width:100%\" data-toggle=\"tooltip\" data-placement=\"right\" data-html=\"true\"\n             data-delay=500 title=\"Percentage: 0.0%\">\n            6794\n        </div>\n        \n    </td>\n</tr><tr class=\"\">\n    <th>Funded Startup</th>\n    <td>\n        <div class=\"bar\" style=\"width:1%\" data-toggle=\"tooltip\" data-placement=\"right\" data-html=\"true\"\n             data-delay=500 title=\"Percentage: 0.0%\">\n            &nbsp;\n        </div>\n        784\n    </td>\n</tr><tr class=\"\">\n    <th>Public Sector</th>\n    <td>\n        <div class=\"bar\" style=\"width:1%\" data-toggle=\"tooltip\" data-placement=\"right\" data-html=\"true\"\n             data-delay=500 title=\"Percentage: 0.0%\">\n            &nbsp;\n        </div>\n        564\n    </td>\n</tr><tr class=\"other\">\n    <th>Other values (3)</th>\n    <td>\n        <div class=\"bar\" style=\"width:1%\" data-toggle=\"tooltip\" data-placement=\"right\" data-html=\"true\"\n             data-delay=500 title=\"Percentage: 0.0%\">\n            &nbsp;\n        </div>\n        813\n    </td>\n</tr>\n    </table>\n</div>\n<div class=\"col-md-12 text-right\">\n    <a role=\"button\" data-toggle=\"collapse\" data-target=\"#freqtable4026221432107944332, #minifreqtable4026221432107944332\"\n       aria-expanded=\"true\" aria-controls=\"collapseExample\">\n        Toggle details\n    </a>\n</div>\n<div class=\"col-md-12 extrapadding collapse\" id=\"freqtable4026221432107944332\">\n    \n<table class=\"freq table table-hover\">\n    <thead>\n    <tr>\n        <td class=\"fillremaining\">Value</td>\n        <td class=\"number\">Count</td>\n        <td class=\"number\">Frequency (%)</td>\n        <td style=\"min-width:200px\">&nbsp;</td>\n    </tr>\n    </thead>\n    <tr class=\"\">\n        <td class=\"fillremaining\">Pvt Ltd</td>\n        <td class=\"number\">6794</td>\n        <td class=\"number\">0.0%</td>\n        <td>\n            <div class=\"bar\" style=\"width:100%\">&nbsp;</div>\n        </td>\n</tr><tr class=\"\">\n        <td class=\"fillremaining\">Funded Startup</td>\n        <td class=\"number\">784</td>\n        <td class=\"number\">0.0%</td>\n        <td>\n            <div class=\"bar\" style=\"width:1%\">&nbsp;</div>\n        </td>\n</tr><tr class=\"\">\n        <td class=\"fillremaining\">Public Sector</td>\n        <td class=\"number\">564</td>\n        <td class=\"number\">0.0%</td>\n        <td>\n            <div class=\"bar\" style=\"width:1%\">&nbsp;</div>\n        </td>\n</tr><tr class=\"\">\n        <td class=\"fillremaining\">Early Stage Startup</td>\n        <td class=\"number\">385</td>\n        <td class=\"number\">0.0%</td>\n        <td>\n            <div class=\"bar\" style=\"width:1%\">&nbsp;</div>\n        </td>\n</tr><tr class=\"\">\n        <td class=\"fillremaining\">NGO</td>\n        <td class=\"number\">356</td>\n        <td class=\"number\">0.0%</td>\n        <td>\n            <div class=\"bar\" style=\"width:1%\">&nbsp;</div>\n        </td>\n</tr><tr class=\"\">\n        <td class=\"fillremaining\">Other</td>\n        <td class=\"number\">72</td>\n        <td class=\"number\">0.0%</td>\n        <td>\n            <div class=\"bar\" style=\"width:1%\">&nbsp;</div>\n        </td>\n</tr>\n</table>\n</div>\n</div><div class=\"row variablerow\">\n    <div class=\"col-md-3 namecol\">\n        <p class=\"h4 pp-anchor\" id=\"pp_var_education_level\">education_level<br/>\n            <small>Categorical</small>\n        </p>\n    </div><div class=\"col-md-3\">\n    <table class=\"stats \">\n        <tr class=\"\">\n            <th>Distinct count</th>\n            <td>3</td>\n        </tr>\n        <tr>\n            <th>Unique (%)</th>\n            <td>0.0%</td>\n        </tr>\n        <tr class=\"ignore\">\n            <th>Missing (%)</th>\n            <td>0.0%</td>\n        </tr>\n        <tr class=\"ignore\">\n            <th>Missing (n)</th>\n            <td>0</td>\n        </tr>\n    </table>\n</div>\n<div class=\"col-md-6 collapse in\" id=\"minifreqtable-9035819058051854570\">\n    <table class=\"mini freq\">\n        <tr class=\"\">\n    <th>Graduate</th>\n    <td>\n        <div class=\"bar\" style=\"width:100%\" data-toggle=\"tooltip\" data-placement=\"right\" data-html=\"true\"\n             data-delay=500 title=\"Percentage: 0.0%\">\n            6252\n        </div>\n        \n    </td>\n</tr><tr class=\"\">\n    <th>Masters</th>\n    <td>\n        <div class=\"bar\" style=\"width:1%\" data-toggle=\"tooltip\" data-placement=\"right\" data-html=\"true\"\n             data-delay=500 title=\"Percentage: 0.0%\">\n            &nbsp;\n        </div>\n        2449\n    </td>\n</tr><tr class=\"\">\n    <th>Phd</th>\n    <td>\n        <div class=\"bar\" style=\"width:1%\" data-toggle=\"tooltip\" data-placement=\"right\" data-html=\"true\"\n             data-delay=500 title=\"Percentage: 0.0%\">\n            &nbsp;\n        </div>\n        254\n    </td>\n</tr>\n    </table>\n</div>\n<div class=\"col-md-12 text-right\">\n    <a role=\"button\" data-toggle=\"collapse\" data-target=\"#freqtable-9035819058051854570, #minifreqtable-9035819058051854570\"\n       aria-expanded=\"true\" aria-controls=\"collapseExample\">\n        Toggle details\n    </a>\n</div>\n<div class=\"col-md-12 extrapadding collapse\" id=\"freqtable-9035819058051854570\">\n    \n<table class=\"freq table table-hover\">\n    <thead>\n    <tr>\n        <td class=\"fillremaining\">Value</td>\n        <td class=\"number\">Count</td>\n        <td class=\"number\">Frequency (%)</td>\n        <td style=\"min-width:200px\">&nbsp;</td>\n    </tr>\n    </thead>\n    <tr class=\"\">\n        <td class=\"fillremaining\">Graduate</td>\n        <td class=\"number\">6252</td>\n        <td class=\"number\">0.0%</td>\n        <td>\n            <div class=\"bar\" style=\"width:100%\">&nbsp;</div>\n        </td>\n</tr><tr class=\"\">\n        <td class=\"fillremaining\">Masters</td>\n        <td class=\"number\">2449</td>\n        <td class=\"number\">0.0%</td>\n        <td>\n            <div class=\"bar\" style=\"width:1%\">&nbsp;</div>\n        </td>\n</tr><tr class=\"\">\n        <td class=\"fillremaining\">Phd</td>\n        <td class=\"number\">254</td>\n        <td class=\"number\">0.0%</td>\n        <td>\n            <div class=\"bar\" style=\"width:1%\">&nbsp;</div>\n        </td>\n</tr>\n</table>\n</div>\n</div><div class=\"row variablerow\">\n    <div class=\"col-md-3 namecol\">\n        <p class=\"h4 pp-anchor\" id=\"pp_var_enrolled_university\">enrolled_university<br/>\n            <small>Categorical</small>\n        </p>\n    </div><div class=\"col-md-3\">\n    <table class=\"stats \">\n        <tr class=\"\">\n            <th>Distinct count</th>\n            <td>3</td>\n        </tr>\n        <tr>\n            <th>Unique (%)</th>\n            <td>0.0%</td>\n        </tr>\n        <tr class=\"ignore\">\n            <th>Missing (%)</th>\n            <td>0.0%</td>\n        </tr>\n        <tr class=\"ignore\">\n            <th>Missing (n)</th>\n            <td>0</td>\n        </tr>\n    </table>\n</div>\n<div class=\"col-md-6 collapse in\" id=\"minifreqtable2981483420239111281\">\n    <table class=\"mini freq\">\n        <tr class=\"\">\n    <th>no_enrollment</th>\n    <td>\n        <div class=\"bar\" style=\"width:100%\" data-toggle=\"tooltip\" data-placement=\"right\" data-html=\"true\"\n             data-delay=500 title=\"Percentage: 0.0%\">\n            7594\n        </div>\n        \n    </td>\n</tr><tr class=\"\">\n    <th>Full time course</th>\n    <td>\n        <div class=\"bar\" style=\"width:1%\" data-toggle=\"tooltip\" data-placement=\"right\" data-html=\"true\"\n             data-delay=500 title=\"Percentage: 0.0%\">\n            &nbsp;\n        </div>\n        832\n    </td>\n</tr><tr class=\"\">\n    <th>Part time course</th>\n    <td>\n        <div class=\"bar\" style=\"width:1%\" data-toggle=\"tooltip\" data-placement=\"right\" data-html=\"true\"\n             data-delay=500 title=\"Percentage: 0.0%\">\n            &nbsp;\n        </div>\n        529\n    </td>\n</tr>\n    </table>\n</div>\n<div class=\"col-md-12 text-right\">\n    <a role=\"button\" data-toggle=\"collapse\" data-target=\"#freqtable2981483420239111281, #minifreqtable2981483420239111281\"\n       aria-expanded=\"true\" aria-controls=\"collapseExample\">\n        Toggle details\n    </a>\n</div>\n<div class=\"col-md-12 extrapadding collapse\" id=\"freqtable2981483420239111281\">\n    \n<table class=\"freq table table-hover\">\n    <thead>\n    <tr>\n        <td class=\"fillremaining\">Value</td>\n        <td class=\"number\">Count</td>\n        <td class=\"number\">Frequency (%)</td>\n        <td style=\"min-width:200px\">&nbsp;</td>\n    </tr>\n    </thead>\n    <tr class=\"\">\n        <td class=\"fillremaining\">no_enrollment</td>\n        <td class=\"number\">7594</td>\n        <td class=\"number\">0.0%</td>\n        <td>\n            <div class=\"bar\" style=\"width:100%\">&nbsp;</div>\n        </td>\n</tr><tr class=\"\">\n        <td class=\"fillremaining\">Full time course</td>\n        <td class=\"number\">832</td>\n        <td class=\"number\">0.0%</td>\n        <td>\n            <div class=\"bar\" style=\"width:1%\">&nbsp;</div>\n        </td>\n</tr><tr class=\"\">\n        <td class=\"fillremaining\">Part time course</td>\n        <td class=\"number\">529</td>\n        <td class=\"number\">0.0%</td>\n        <td>\n            <div class=\"bar\" style=\"width:1%\">&nbsp;</div>\n        </td>\n</tr>\n</table>\n</div>\n</div><div class=\"row variablerow\">\n    <div class=\"col-md-3 namecol\">\n        <p class=\"h4 pp-anchor\" id=\"pp_var_enrollee_id\">enrollee_id<br/>\n            <small>Numeric</small>\n        </p>\n    </div><div class=\"col-md-6\">\n    <div class=\"row\">\n        <div class=\"col-sm-6\">\n            <table class=\"stats \">\n                <tr>\n                    <th>Distinct count</th>\n                    <td>8955</td>\n                </tr>\n                <tr>\n                    <th>Unique (%)</th>\n                    <td>100.0%</td>\n                </tr>\n                <tr class=\"ignore\">\n                    <th>Missing (%)</th>\n                    <td>0.0%</td>\n                </tr>\n                <tr class=\"ignore\">\n                    <th>Missing (n)</th>\n                    <td>0</td>\n                </tr>\n                <tr class=\"ignore\">\n                    <th>Infinite (%)</th>\n                    <td>0.0%</td>\n                </tr>\n                <tr class=\"ignore\">\n                    <th>Infinite (n)</th>\n                    <td>0</td>\n                </tr>\n            </table>\n\n        </div>\n        <div class=\"col-sm-6\">\n            <table class=\"stats \">\n\n                <tr>\n                    <th>Mean</th>\n                    <td>16870</td>\n                </tr>\n                <tr>\n                    <th>Minimum</th>\n                    <td>2</td>\n                </tr>\n                <tr>\n                    <th>Maximum</th>\n                    <td>33380</td>\n                </tr>\n                <tr class=\"ignore\">\n                    <th>Zeros (%)</th>\n                    <td>0.0%</td>\n                </tr>\n            </table>\n        </div>\n    </div>\n</div>\n<div class=\"col-md-3 collapse in\" id=\"minihistogram6203541330514351037\">\n    <img src=\"data:image/png;base64,iVBORw0KGgoAAAANSUhEUgAAAMgAAABLCAYAAAA1fMjoAAAABHNCSVQICAgIfAhkiAAAAAlwSFlzAAAPYQAAD2EBqD%2BnaQAAADl0RVh0U29mdHdhcmUAbWF0cGxvdGxpYiB2ZXJzaW9uIDIuMi4zLCBodHRwOi8vbWF0cGxvdGxpYi5vcmcvIxREBQAAAS5JREFUeJzt2MFtwkAARUFAKYki6IlzekoR9LRpIHoSlhwv65m7pUXm%2BWOuY4xxAf50O/oAMLOvow/Auu7Pn7eveX0/djjJdhYEgkAgTPcTa4VZXtGW%2B7ICCwJhugXZwuqwFwsCYYkF%2BS/vLpWV%2BnwCOaGzvnBvIZDJeJ%2Bai0B25En9%2BU4byEpf3pU%2By2z8iwVBIBAEAkEgEAQCQSAQBAJBIBAEAkEgEAQCQSAQBAJBIBAEAkEgEAQCQSAQBAJBIBAEAkEgEAQCQSAQBAJBIBAEAkEgEAQCQSAQBAJBIBAEAkEgEAQC4TrGGEcfAmZlQSAIBIJAIAgEgkAgCASCQCAIBIJAIAgEgkAgCASCQCAIBIJAIAgEgkAgCASCQCAIBIJAIAgEgkAgCASCQCD8AvElHqDWFINPAAAAAElFTkSuQmCC\">\n\n</div>\n<div class=\"col-md-12 text-right\">\n    <a role=\"button\" data-toggle=\"collapse\" data-target=\"#descriptives6203541330514351037,#minihistogram6203541330514351037\"\n       aria-expanded=\"false\" aria-controls=\"collapseExample\">\n        Toggle details\n    </a>\n</div>\n<div class=\"row collapse col-md-12\" id=\"descriptives6203541330514351037\">\n    <ul class=\"nav nav-tabs\" role=\"tablist\">\n        <li role=\"presentation\" class=\"active\"><a href=\"#quantiles6203541330514351037\"\n                                                  aria-controls=\"quantiles6203541330514351037\" role=\"tab\"\n                                                  data-toggle=\"tab\">Statistics</a></li>\n        <li role=\"presentation\"><a href=\"#histogram6203541330514351037\" aria-controls=\"histogram6203541330514351037\"\n                                   role=\"tab\" data-toggle=\"tab\">Histogram</a></li>\n        <li role=\"presentation\"><a href=\"#common6203541330514351037\" aria-controls=\"common6203541330514351037\"\n                                   role=\"tab\" data-toggle=\"tab\">Common Values</a></li>\n        <li role=\"presentation\"><a href=\"#extreme6203541330514351037\" aria-controls=\"extreme6203541330514351037\"\n                                   role=\"tab\" data-toggle=\"tab\">Extreme Values</a></li>\n\n    </ul>\n\n    <div class=\"tab-content\">\n        <div role=\"tabpanel\" class=\"tab-pane active row\" id=\"quantiles6203541330514351037\">\n            <div class=\"col-md-4 col-md-offset-1\">\n                <p class=\"h4\">Quantile statistics</p>\n                <table class=\"stats indent\">\n                    <tr>\n                        <th>Minimum</th>\n                        <td>2</td>\n                    </tr>\n                    <tr>\n                        <th>5-th percentile</th>\n                        <td>1534.4</td>\n                    </tr>\n                    <tr>\n                        <th>Q1</th>\n                        <td>8150</td>\n                    </tr>\n                    <tr>\n                        <th>Median</th>\n                        <td>16924</td>\n                    </tr>\n                    <tr>\n                        <th>Q3</th>\n                        <td>25902</td>\n                    </tr>\n                    <tr>\n                        <th>95-th percentile</th>\n                        <td>31940</td>\n                    </tr>\n                    <tr>\n                        <th>Maximum</th>\n                        <td>33380</td>\n                    </tr>\n                    <tr>\n                        <th>Range</th>\n                        <td>33378</td>\n                    </tr>\n                    <tr>\n                        <th>Interquartile range</th>\n                        <td>17752</td>\n                    </tr>\n                </table>\n            </div>\n            <div class=\"col-md-4 col-md-offset-2\">\n                <p class=\"h4\">Descriptive statistics</p>\n                <table class=\"stats indent\">\n                    <tr>\n                        <th>Standard deviation</th>\n                        <td>9963.8</td>\n                    </tr>\n                    <tr>\n                        <th>Coef of variation</th>\n                        <td>0.59064</td>\n                    </tr>\n                    <tr>\n                        <th>Kurtosis</th>\n                        <td>-1.2685</td>\n                    </tr>\n                    <tr>\n                        <th>Mean</th>\n                        <td>16870</td>\n                    </tr>\n                    <tr>\n                        <th>MAD</th>\n                        <td>8703.1</td>\n                    </tr>\n                    <tr class=\"\">\n                        <th>Skewness</th>\n                        <td>-0.019789</td>\n                    </tr>\n                    <tr>\n                        <th>Sum</th>\n                        <td>151067615</td>\n                    </tr>\n                    <tr>\n                        <th>Variance</th>\n                        <td>99277000</td>\n                    </tr>\n                    <tr>\n                        <th>Memory size</th>\n                        <td>70.0 KiB</td>\n                    </tr>\n                </table>\n            </div>\n        </div>\n        <div role=\"tabpanel\" class=\"tab-pane col-md-8 col-md-offset-2\" id=\"histogram6203541330514351037\">\n            <img src=\"data:image/png;base64,iVBORw0KGgoAAAANSUhEUgAAAlgAAAGQCAYAAAByNR6YAAAABHNCSVQICAgIfAhkiAAAAAlwSFlzAAAPYQAAD2EBqD%2BnaQAAADl0RVh0U29mdHdhcmUAbWF0cGxvdGxpYiB2ZXJzaW9uIDIuMi4zLCBodHRwOi8vbWF0cGxvdGxpYi5vcmcvIxREBQAAIABJREFUeJzt3X90VPWd//HXhAEJIPlBGxRwWRAwSGYEdYEAlQQaTgFBjw0EdZdaEVhEw4%2BmUeSXFG1c%2BSEHaLdiexq6shBT7Ap1E0VEoeWX4K6BDHVbwSpRIJAJIcEAST7fP/gy7RgiUT65w0yej3M8Ofl8Zu5937cfz7y89%2BaOyxhjBAAAAGuiQl0AAABApCFgAQAAWEbAAgAAsIyABQAAYBkBCwAAwDICFgAAgGUELAAAAMsIWAAAAJYRsAAAACwjYAEAAFhGwAIAALCMgAUAAGAZAQsAAMAyAhYAAIBlBCwAAADLCFgAAACWEbAAAAAsI2ABAABYRsACAACwjIAFAABgGQELAADAMgIWAACAZQQsAAAAywhYAAAAlhGwAAAALCNgAQAAWEbAAgAAsIyABQAAYBkBCwAAwDICFgAAgGUELAAAAMsIWAAAAJYRsAAAACwjYAEAAFhGwAIAALCMgAUAAGAZAQsAAMAyAhYAAIBlBCwAAADL3KEuoLkoLT1jfZtRUS7Fx7dVWVmV6uqM9e2HA3pwEX2gBxI9uIQ%2B0APpbz1wuVyh2X9I9goroqJccrlciooKzeK5FtCDi%2BgDPZDowSX0gR5If%2BtByPYfsj0DAABEKAIWAACAZQQsAAAAywhYAAAAlhGwAAAALCNgAQAAWEbAAgAAsIyABQAAYBkBCwAAwDICFgAAgGUELAAAAMsIWAAAAJYRsAAAACxzh7oAAADQNNKW7gh1CY1WMHNwqEuwijNYAAAAlhGwAAAALCNgAQAAWEbAAgAAsIyABQAAYFnYBqwdO3Zo0KBBmjVrVr25Xbt2aezYsfJ4PEpLS9OmTZuC5teuXavU1FR5vV6NGzdOxcXFgblz585pwYIF6t%2B/v/r166fMzEyVlZU1%2BfEAAIDIEZYB66WXXtIzzzyjrl271ps7fvy4pk2bpvT0dO3du1dz587V/PnzVVRUJEnasmWLVqxYoZycHO3Zs0dDhw7V1KlTdfbsWUnSkiVL9P7772vjxo16%2B%2B23df78eT311FOOHh8AAAhvYRmwrrvuOv32t7%2B9bMDavHmzunbtqokTJyo6OlopKSkaPny48vPzJUn5%2BflKT0/XwIEDFR0drenTp8vlcmnr1q2qqanR7373O82cOVM33XST4uLilJ2drW3btun48eNOHyYAAAhTYfmg0YkTJzY45/P51KdPn6Cx3r17q6CgIDA/atSowJzL5VJiYqKKi4vVp08fVVZWBr2/e/fuio6OVnFxsTp27Nio%2Bk6cOKHS0tKgMbe7jRISEhr1/sZq0SIq6GdzRA8uog/0QKIHl9CH8Dx2t9tuzaHuQVgGrK/i9/uVmJgYNBYbGxu4j8rv9ys2NjZoPiYmRmVlZfL7/YHf/1779u2/1n1YeXl5Wr16ddDY9OnTlZmZ2ehtfB3t20c3yXbDCT24iD7QA4keXEIfwktcXNtQl2BVxAWshrhcrqCfDc1f6f2NkZGRoWHDhgWNud1t5PdXNXobjdGiRZTat49WRcUXqq2ts7rtcEEPLqIP9ECiB5fQh7/1IJw01WdkqERcwIqPj1d5eXnQmN/vV3x8vCQpLi7usvO9evVShw4dJEnl5eVq06aNJMkYo/Ly8sBcYyQkJNS7HFhaekY1NU3zH3ptbV2TbTtc0IOL6AM9kOjBJfQhvETav6vwu0h7BR6PJ%2BixC5JUVFQkr9cbmD948GBgrra2Vj6fT16vVzfddJNiY2OD3v/hhx/q/PnzSkpKcuYAAABA2Iu4gDVmzBiVlJQoNzdX1dXVKiws1Pbt25WRkSFJmjBhgjZu3Kjdu3erqqpKy5cvV%2BvWrTVs2DC1aNFC48eP14oVK/Tpp5/q1KlTysnJ0fe%2B9z1961vfCvGRAQCAcBGWlwg9Ho8kqaamRpL01ltvSZIOHDigDh066MUXX9TixYu1bNkyderUScuWLQvc%2BH7XXXcpOztbc%2BbM0alTp5SUlKQ1a9bouuuukyQ9/vjjqqqq0n333afa2lqlpqbq6aefdv4gG%2BnOuYWhLqHRCmYODnUJAAA4wmWMMaEuojkoLT1jfZtud5TSlu6wvt2m0hQBy%2B2OUlxcW/n9VRF3/f7roA/0QKIHl9CHv/WgOf9P%2BKUehErEXSIEAAAItbC8RAgAQCiMXPHHUJeAMMEZLAAAAMsIWAAAAJYRsAAAACwjYAEAAFhGwAIAALCMgAUAAGAZAQsAAMAyAhYAAIBlBCwAAADLCFgAAACWEbAAAAAsI2ABAABYRsACAACwjIAFAABgGQELAADAMneoC0DzMXLFH0NdwtdSMHNwqEsAAIQpzmABAABYRsACAACwjIAFAABgGQELAADAMgIWAACAZQQsAAAAywhYAAAAlvEcLCBC3Dm3MNQlNBrPGAMQ6TiDBQAAYBkBCwAAwDICFgAAgGUELAAAAMsIWAAAAJbxV4QAgJAZueKPoS4BaBKcwQIAALCMgAUAAGAZAQsAAMAyAhYAAIBlBCwAAADL%2BCtCALiCcPtLty1Z3wl1CUCzxxksAAAAywhYAAAAlhGwAAAALCNgAQAAWEbAAgAAsIyABQAAYBkBCwAAwDICFgAAgGUELAAAAMt4kjsAx4Xbk9EB4OuK2DNYxcXFmjhxou644w4lJycrKytLZWVlkqRdu3Zp7Nix8ng8SktL06ZNm4Leu3btWqWmpsrr9WrcuHEqLi4OxSEAAIAwFZEBq7a2VlOmTFG/fv20a9cuFRQUqKysTE8//bSOHz%2BuadOmKT09XXv37tXcuXM1f/58FRUVSZK2bNmiFStWKCcnR3v27NHQoUM1depUnT17NsRHBQAAwkVEXiIsLS3VyZMnNWbMGLVq1UqtWrXS8OHDlZubq82bN6tr166aOHGiJCklJUXDhw9Xfn6%2BvF6v8vPzlZ6eroEDB0qSpk%2Bfrry8PG3dulVjxowJ5WHBYVzGAgB8UxEZsDp27Khbb71Vr7zyimbNmqUvvvhCW7ZsUUpKinw%2Bn/r06RP0%2Bt69e6ugoECS5PP5NGrUqMCcy%2BVSYmKiiouLGx2wTpw4odLS0qAxt7uNEhISrvLIgrVoEZEnIAFcpbSlO0JdAvC1ud12P9NC/RkZkQHL5XJp5cqVevjhh7V27VpJUv/%2B/TV79mw9%2BuijSkxMDHp9bGxs4P4sv9%2Bv2NjYoPmYmJjAfGPk5eVp9erVQWPTp09XZmbmNzkcAAAiXlxc21CXYFVEBqzz589r6tSp%2Bt73vqd//dd/1RdffKEFCxYoKyurwfe4XK6gnw3NN0ZGRoaGDRsWNOZ2t5HfX9XobTRGqNM5AAC2NMVnZPv20Va3%2BXVEZMDauXOnjh49qpkzZ6pFixZq27atHn/8cd17770aOnSoysvLg17v9/sVHx8vSYqLi7vsfK9evRq9/4SEhHqXA0tLz6impu4bHhEAAJEt0j4jI/IUiDFGdXXB/6IuXLggSRo4cGC9xy4UFRXJ6/VKkjwejw4ePBiYq62tlc/nC8wDAABcSUQGrL59%2B6pt27ZatWqVqqurdfr0ab300kvq16%2Bf7rnnHpWUlCg3N1fV1dUqLCzU9u3blZGRIUmaMGGCNm7cqN27d6uqqkrLly9X69at613yAwAAaIjLGGNCXURTKCoq0pIlS3To0CG1bNlS/fv315w5c3TDDTdo3759Wrx4sQ4fPqxOnTopKytLaWlpgfeuX79ea9as0alTp5SUlKRFixapZ8%2BeV1VPaemZqz2ketzuKP5aCAAQEQpmDra6Pbc7KqQ3zkdswLrWELAAAGhYpAWsiLxECAAAEEoELAAAAMsIWAAAAJYRsAAAACwjYAEAAFhGwAIAALCMgAUAAGAZAQsAAMAyAhYAAIBlBCwAAADLCFgAAACWEbAAAAAsI2ABAABYRsACAACwjIAFAABgGQELAADAMgIWAACAZQQsAAAAywhYAAAAlhGwAAAALCNgAQAAWEbAAgAAsIyABQAAYBkBCwAAwDICFgAAgGUELAAAAMsIWAAAAJYRsAAAACwjYAEAAFhGwAIAALCMgAUAAGAZAQsAAMAyAhYAAIBlBCwAAADLCFgAAACWOR6wzpw54/QuAQAAHOV4wBoyZIieeOIJ7du3z%2BldAwAAOMLxgLVo0SKdOnVKDz30kEaOHKlf//rXKisrc7oMAACAJuMyxphQ7LisrEyvv/66Xn/9dfl8Pg0fPlzjx49XcnJyKMppcqWl9i%2BNut1RSlu6w/p2AQBwWsHMwVa353ZHKS6urdVtfh0hu8k9Pj5e//Iv/6INGzbo3/7t37Rz5049/PDDGjlypN58881QlQUAAHDV3KHacVlZmV599VW9%2Buqr%2Butf/6pBgwYpIyNDJ0%2Be1IIFC/TJJ5/okUceCVV5AAAA35jjAWvHjh3Kz8/X22%2B/rdjYWH3/%2B9/XuHHj1KVLl8Brbr31Vk2ePJmABQAAwpLjAWvKlCkaMGCAli5dqu9%2B97tyu%2BuX4PV6lZCQ4HRpAAAAVjgesAoLC9W1a1edP38%2BEK4qKyvVrl27oNdt3rzZ6dIAAACscPwm9xYtWujuu%2B/W22%2B/HRh75ZVXNHLkSH366adOlwMAAGCd4wHr2WefVc%2BePXXHHXcExsaOHavbbrtNzz77rNPlAAAAWOf4JcL9%2B/fr3XffVXR0dGDsW9/6lhYsWKCUlBSnywEAALDO8TNYxhidP3%2B%2B3nhVVZXq6uqcLgcAAMA6xwPW4MGDlZ2dLZ/Pp4qKCpWXl2v//v2aPXu2hgwZYnVfP//5zzVkyBD169dPDz30UOAer127dmns2LHyeDxKS0vTpk2bgt63du1apaamyuv1aty4cSouLrZaFwAAiGyOB6z58%2Bfr/Pnzuu%2B%2B%2BzRgwAAlJyfrn//5n9WiRQvNmzfP2n7WrVund955R6%2B88oreeecd3XjjjcrNzdXx48c1bdo0paena%2B/evZo7d67mz5%2BvoqIiSdKWLVu0YsUK5eTkaM%2BePRo6dKimTp2qs2fPWqsNAABEtpB9F%2BFf/vIXffzxx5Kkbt266eabb7a6/eHDh%2BuFF16Q1%2BsNGv/lL3%2BpzZs367XXXguMzZ49W23bttXixYs1ZcoUde3aVXPnzpV08ZLmXXfdpezsbI0ZM%2BYb18N3EQIA0LBI%2By7CkH1VTo8ePdSjR48m2faxY8d07Ngx/fWvf1VWVpZOnz6t5ORkLVy4UD6fT3369Al6fe/evVVQUCBJ8vl8GjVqVGDO5XIpMTFRxcXFjQ5YJ06cUGlpadCY293G%2BsNTW7QI2VdJAgBgldtt9zMt1J%2BRjgesAwcOaPHixfrzn/%2Bs6urqevOHDh266n0cP35cLpdLb731lvLy8lRdXa3MzEwtWLBAlZWVSkxMDHp9bGysysrKJEl%2Bv1%2BxsbFB8zExMYH5xsjLy9Pq1auDxqZPn67MzMxveEQAAES2UJ5tagqOB6wFCxaoVatWmjFjhlq3bt0k%2B7hw4YIuXLigrKwsxcXFSZIyMzM1efJkJScnX/Y9Lpcr6GdD842RkZGhYcOGBY253W3k91c1ehuNEep0DgCALU3xGdm%2BffSVX9hEHA9YR44c0c6dO9WmTZsm28elM1B///U7nTt3ljFGNTU1Ki8vD3q93%2B9XfHy8JCkuLu6y87169Wr0/hMSEupdDiwtPaOaGh5DAQDA5UTaZ6Tjp0BuuOGGJn/eVdeuXdWuXbugxyuUlJTI7XYrJSWl3mMXioqKAjfDezweHTx4MDBXW1srn89X72Z5AACAhjgesLKyspSTk6PKysom20fLli01btw4LV26VMeOHVNpaal%2B9rOf6Z577tG9996rkpIS5ebmqrq6WoWFhdq%2BfbsyMjIkSRMmTNDGjRu1e/duVVVVafny5WrdunW9S34AAAANcfwxDffdd5%2BOHj2qyspKxcbGKioqOOP94Q9/sLKf8%2BfP67nnntPvf/97RUVFKTU1VXPnzlW7du20b98%2BLV68WIcPH1anTp2UlZWltLS0wHvXr1%2BvNWvW6NSpU0pKStKiRYvUs2fPq6qHxzQAANCwSHtMg%2BMB64UXXlDLli0bnH/sscccrMY5BCwAABoWaQHL8ZvcZ82a5fQuAQAAHBWSv/P/4IMPNGfOHP3gBz%2BQJNXV1QUe9AkAABDuHA9YW7du1QMPPCC/36/3339f0sUnry9YsED5%2BflOlwMAAGCd4wHrF7/4hZYsWaJf/OIXgYd3durUSStXrlRubq7T5QAAAFjneMA6cuSIRowYISn46egDBgxQSUmJ0%2BUAAABY53jAatmyZb0npUvSxx9/3GRfnQMAAOAkxwNWSkqK5s2bp48%2B%2BkjSxa%2Bh2bFjh2bOnKnU1FSnywEAALDO8YA1Z84cGWM0evRonTt3ToMGDdLkyZPVqVMnPfnkk06XAwAAYJ3jz8Fq3769XnzxRX300Uc6cuSIoqKi1K1bN3Xr1s3pUgAAAJqE4wHrkptvvlk333xz0FhdXV29r84BAAAIN44HrMTExKC/HvyyQ4cOOVgNAACAfY4HrIULFwYFrLq6OpWUlOitt97SI4884nQ5AAAA1jkesO6///7Ljqenp%2BuFF17QuHHjHK4IAADArmvmhqdu3brpz3/%2Bc6jLAAAAuGrXTMD6n//5H505cybUZQAAAFw1xy8RDhkypN7YhQsXVFFRoQceeMDpcgAAAKxzPGBlZGTU%2ByvC6667Tj179lRKSorT5QAAAFjneMB6/PHHnd4lAACAoxwPWCtWrJDb3bjdPvbYY01cDQAAgH2OB6wtW7bos88%2BU3V1tWJjY1VXV6fTp08rOjpacXFxgde5XC4CFgAACEuOB6wpU6Zo9%2B7dys7ODgSq48eP6/nnn1dqaqruvvtup0sCAACwyvHHNKxatUpPPfVU0Nmqjh07au7cuXrhhRecLgcAAMA6xwPWqVOnLvtdhC1btlRZWZnT5QAAAFjneMDq06ePsrOzVVxcrIqKCp05c0Y%2Bn09PPfWUEhMTnS4HAADAOsfvwfrJT36iRx99VN///vcDZ7KMMerSpYt%2B/vOfO10OAACAdY4HrO7du6uwsFAHDx7U559/LmOMbrjhBnk8nsteOgQAAAg3jgesS%2BLi4lRVVaUBAwaEqgQAAIAm4fg9WOXl5Zo0aZKGDx%2BuSZMmSZJKS0s1ZswYHT9%2B3OlyAAAArHM8YC1dulR1dXXKz89XVNTF3V9//fXq3bu3nn32WafLAQAAsM7xS4Q7d%2B7U%2BvXr1bFjx8A9V61bt9acOXM0cuRIp8sBAACwLiTPwfr2t79dbzw6OlrV1dVOlwMAAGCd4wGrW7dueuedd%2BqNb9iwQd26dXO6HAAAAOscv0T46KOPaubMmRo2bJhqa2v1k5/8RMXFxTpw4IBWrFjhdDkAAADWOX4Ga8SIEXr55ZcVFRWlHj166H//93/VpUsXbdiwQSNGjHC6HAAAAOscPYNVV1engwcPyuv1avny5U7uGgAAwDGOnsGKiorSxIkTVVtb6%2BRuAQAAHOX4JcIxY8YoNzdXxhindw0AAOAIx29yLy0t1dtvv601a9aoc%2BfOatWqVdD8hg0bnC4JAADAKscDVlxcnO666y6ndwsAAOAYxwJWZmamVq5cqZycnMDYypUrlZmZ6VQJAAAAjnDsHqx333233tivfvUrp3YPAADgGMdvcv973OgOAAAiUUgD1qUvewYAAIgkIQ1YAAAAkYiABQAAYJljf0V44cIF/ehHP7ri2LJly5wqCQAAoEk4FrDuuOMOnThx4opjAAAA4c6xgPUf//EfTu0KAAAgpJrFPVg//elPdcsttwR%2B37Vrl8aOHSuPx6O0tDRt2rQp6PVr165VamqqvF6vxo0bp%2BLiYqdLBgAAYSziA9ahQ4f0X//1X4Hfjx8/rmnTpik9PV179%2B7V3LlzNX/%2BfBUVFUmStmzZohUrVignJ0d79uzR0KFDNXXqVJ09ezZUhwAAAMJMRAesuro6LVy4UD/84Q8DY5s3b1bXrl01ceJERUdHKyUlRcOHD1d%2Bfr4kKT8/X%2Bnp6Ro4cKCio6M1ffp0uVwubd26NVSHAQAAwozjX/bspA0bNqh169YaM2aMVqxYIUny%2BXzq06dP0Ot69%2B6tgoKCwPyoUaMCcy6XS4mJiSouLtaYMWMatd8TJ06otLQ0aMztbqOEhISrOZx6WrSI6HwMAGhG3G67n2mh/oyM2IB18uRJ/exnP6t3c73f71diYmLQWGxsrMrKygLzsbGxQfMxMTGB%2BcbIy8vT6tWrg8amT5/OF1sDANCAuLi2oS7BqogNWDk5ORo/fry6d%2B%2Buo0ePXvH1l762p6Gv7/k6X%2BuTkZGhYcOGBY253W3k91c1ehuNEep0DgCALU3xGdm%2BfbTVbX4dERmwdu3apYMHD%2BqnP/1pvbn4%2BHiVl5cHjfn9fsXHx0uS4uLiLjvfq1evRu8/ISGh3uXA0tIzqqmpa/Q2AABoTiLtMzIiT4Fs2rRJx44d01133aUBAwbovvvukyQNGDBAt9xyS73HLhQVFcnr9UqSPB6PDh48GJirra2Vz%2BcLzAMAAFxJRAasJ598Um%2B88YZee%2B01vfbaa1qzZo0k6bXXXtPdd9%2BtkpIS5ebmqrq6WoWFhdq%2BfbsyMjIkSRMmTNDGjRu1e/duVVVVafny5WrdunW9S34AAAANichLhDExMYqJiQn8XlNTI0m64YYbJEkvvviiFi9erGXLlqlTp05atmxZ4Mb3u%2B66S9nZ2ZozZ45OnTqlpKQkrVmzRtddd53zBwIAAMKSyxhjQl1Ec1Baesb6Nt3uKKUt3WF9uwAAOK1g5mCr23O7o0L6l4kReYkQAAAglAhYAAAAlhGwAAAALCNgAQAAWEbAAgAAsIyABQAAYBkBCwAAwDICFgAAgGUELAAAAMsIWAAAAJYRsAAAACwjYAEAAFhGwAIAALCMgAUAAGAZAQsAAMAyAhYAAIBlBCwAAADLCFgAAACWEbAAAAAsI2ABAABYRsACAACwjIAFAABgGQELAADAMgIWAACAZQQsAAAAywhYAAAAlhGwAAAALCNgAQAAWEbAAgAAsIyABQAAYBkBCwAAwDICFgAAgGUELAAAAMsIWAAAAJYRsAAAACwjYAEAAFhGwAIAALCMgAUAAGAZAQsAAMAyAhYAAIBlBCwAAADLCFgAAACWEbAAAAAsI2ABAABYRsACAACwjIAFAABgGQELAADAMgIWAACAZREbsI4ePapp06apf//%2BSk5OVnZ2tk6fPi1J2rVrl8aOHSuPx6O0tDRt2rQp6L1r165VamqqvF6vxo0bp%2BLi4lAcAgAACFMRG7CmTZum2NhYbdu2TZs2bdKRI0f0/PPP6/jx45o2bZrS09O1d%2B9ezZ07V/Pnz1dRUZEkacuWLVqxYoVycnK0Z88eDR06VFOnTtXZs2dDfEQAACBcRGTAOnPmjJKSkpSVlaW2bdvq29/%2Btu69917t27dPmzdvVteuXTVx4kRFR0crJSVFw4cPV35%2BviQpPz9f6enpGjhwoKKjozV9%2BnS5XC5t3bo1xEcFAADChTvUBTSF66%2B/Xjk5OUFjJSUluvHGG%2BXz%2BdSnT5%2Bgud69e6ugoECS5PP5NGrUqMCcy%2BVSYmKiiouLNWbMmEbt/8SJEyotLQ0ac7vbKCEh4ZscToNatIjIfAwAaIbcbrufaaH%2BjIzIgPVlBw4c0Lp167Ry5Url5uYqMTExaD42NlZlZWWSJL/fr9jY2KD5mJiYwHxj5OXlafXq1UFj06dPV2Zm5jc8AgAAIltcXNtQl2BVxAes/fv3a9q0acrOztbQoUOVm5t72de5XK6gnw3NN0ZGRoaGDRsWNOZ2t5HfX9XobTRGqNM5AAC2NMVnZPv20Va3%2BXVEdMDatm2bfvzjH2vRokUaPXq0JCk%2BPl7l5eVBr/P7/YqPj5ckxcXFXXa%2BV69ejd5vQkJCvcuBpaVnVFNT900OAwCAiBdpn5ERewrk/fff1xNPPKGVK1cGwpUkeTyeeo9dKCoqktfrDcwfPHgwMFdbWyufzxeYBwAAuJKIDFg1NTWaN2%2BeZsyYoUGDBgXNjRkzRiUlJcrNzVV1dbUKCwu1fft2ZWRkSJImTJigjRs3avfu3aqqqtLy5cvVunXrepf8AAAAGuIyxphQF2Hbvn379OCDD6pVq1b15goLC/X5559r8eLFOnz4sDp16qSsrCylpaUFXrN%2B/XqtWbNGp06dUlJSkhYtWqSePXteVU2lpWeu6v2X43ZHKW3pDuvbBQDAaQUzB1vdntsdFdIb5yMyYF2LCFgAADQs0gJWRF4iBAAACCUCFgAAgGUELAAAAMsIWAAAAJYRsAAAACwjYAEAAFhGwAIAALCMgAUAAGAZAQsAAMAyAhYAAIBlBCwAAADLCFgAAACWEbAAAAAsI2ABAABYRsACAACwjIAFAABgGQELAADAMgIWAACAZQQsAAAAywhYAAAAlhGwAAAALCNgAQAAWEbAAgAAsIyABQAAYBkBCwAAwDICFgAAgGUELAAAAMsIWAAAAJYRsAAAACwjYAEAAFhGwAIAALCMgAUAAGAZAQsAAMAyAhYAAIBlBCwAAADLCFgAAACWEbAAAAAsI2ABAABYRsACAACwjIAFAABgGQELAADAMgIWAACAZQQsAAAAywhYAAAAlhGwAAAALCNgAQAAWEbAAgAAsIyABQAAYBkB6zKOHj2qSZMmqW/fvkpOTtaSJUtUV1cX6rIAAECYcIe6gGuNMUaPPfaYevTooXfffVenTp3SI488og4dOujhhx8OdXkAACAMcAbrSw4cOKAPP/xQ8%2BbNU0xMjLp3764pU6YoLy8v1KUBAIAwwRmsL/H5fOrcubNiY2MDY7feeqs%2B/vhjVVZWql27dlfcxokTJ1RaWho05na3UUJCgtVaW7QgHwMAIoPbbfczLdSfkQSsL/H7/YqJiQkau/S73%2B9vVMDKy8vT6tWrg8Yee%2BwxPf744/YK1cUg94Mb/qyMjAzr4S1cnDhxQnlH9orjAAAJb0lEQVR5ec26BxJ9kOiBRA8uoQ/0QLrYg7VrfxmyHnAKpAlkZGTo1VdfDfonIyPD%2Bn5KS0u1evXqemfLmhN6cBF9oAcSPbiEPtADKfQ94AzWl3To0EHl5eVBY36/X5IUHx/fqG0kJCQ02/9jAAAAnMGqx%2BPx6LPPPguEKkkqKipSjx491LZt2xBWBgAAwgUB60t69%2B4tr9erZ555RhUVFfrwww%2B1Zs0aPfjgg6EuDQAAhIkWTz/99NOhLuJa853vfEdvvPGGFi9erP/%2B7//W/fffr0mTJoW6rMtq27at%2Bvfv36zPrtGDi%2BgDPZDowSX0gR5Ioe2ByxhjHN8rAABABOMSIQAAgGUELAAAAMsIWAAAAJYRsAAAACwjYAEAAFhGwAIAALCMgAUAAGAZAQsAAMAyAhYAAIBlBKwwdPToUU2aNEl9%2B/ZVcnKylixZorq6ulCXddVSU1OVlJQkj8cT%2BGfx4sWSpF27dmns2LHyeDxKS0vTpk2bgt67du1apaamyuv1aty4cSouLg7MnTt3TgsWLFD//v3Vr18/ZWZmqqyszNFj%2Byo7duzQoEGDNGvWrHpzTXnc19o6aqgPn376qW655ZagdeHxeFRQUBB4TaT04ejRo5o2bZr69%2B%2Bv5ORkZWdn6/Tp05Kaz1poqAfNaR0cOnRIDz30kO68804NHDhQM2bM0IkTJyQ1n3UgNdyHsFkLBmGlrq7O3HPPPeZHP/qRKS8vNx999JFJTU01v/rVr0Jd2lW7/fbbzf79%2B%2BuNHzt2zNx2221m7dq15uzZs2bbtm3G6/WaDz74wBhjzJtvvmn69u1rdu3aZc6ePWtWrVplBg8ebKqqqowxxixevNiMHj3afPLJJ6asrMxMnTrVTJ061dFja8iaNWvMiBEjzIQJE8zMmTOD5pryuK%2B1dfRVfSguLjZ9%2BvRp8L2R1Ie7777bPPnkk6aystKcOHHCpKenm6eeeqpZrYWGetBc1kF1dbVJTk42q1evNufOnTOlpaXmgQceMNOmTWtW6%2BCr%2BhAua4GAFWY%2B%2BOADk5iYaPx%2Bf2Bs/fr1ZsSIESGs6urV1NSYW265xfzlL3%2BpN/fSSy%2BZsWPHBo3NmjXLzJs3zxhjzOTJk80zzzwTmKurqzNDhgwxmzZtMhcuXDC333672bJlS2D%2Bo48%2BMr169TLHjh1roqNpvLVr15qKigrzxBNP1AsWTXnc19o6%2Bqo%2B7Ny50wwaNKjB90ZKHyoqKsyTTz5pTp48GRh7%2BeWXzYgRI5rNWviqHjSXdVBeXm5eeeUVc%2BHChcDYb37zG5OWltZs1oExX92HcFkLXCIMMz6fT507d1ZsbGxg7NZbb9XHH3%2BsysrKEFZ2dSoqKmSM0apVqzRkyBANGTJE8%2BbNU2VlpXw%2Bn/r06RP0%2Bt69ewdO%2BX553uVyKTExUcXFxfrkk09UWVkZNN%2B9e3dFR0cHnTIOlYkTJ%2Br666%2B/7FxTHve1to6%2Bqg8VFRWqq6vTlClT9E//9E8aMWKEfvnLX8r8/%2B%2Bpj5Q%2BXH/99crJyVGHDh0CYyUlJbrxxhubzVr4qh40l3UQExOjcePGye12yxijw4cP63e/%2B51GjhzZbNaB9NV9CJe1QMAKM36/XzExMUFjl373%2B/2hKMmK8%2BfPq0%2BfPvJ4PCosLNRvfvMbffDBB3r66acve8yxsbGBa%2BZ%2Bvz/oPwbpYk/KysoCPfny%2B9u3b39N3Yd1OU153OG0jlq2bKl/%2BId/0IQJE7Rjxw4tXLhQ//7v/67f/va3kiK3DwcOHNC6dev0wx/%2BsNmuhb/vQXNbByUlJUpKStKoUaPk8Xg0Y8aMZrkOLteHcFkLBCxcEzp27KhXX31VkyZNUrt27dS9e3dlZWXp9ddfV01NzWXf43K5gn42NN%2BQK81fq5rbcQ8bNkx5eXkaNmyYWrdurcGDBysjI0MbN26UFJl92L9/vyZNmqTs7GwNHTq0wddF8lr4cg%2Ba2zro3LmzDh48qMLCQh0%2BfFg//vGPG3xtJK%2BDy/UhXNYCASvMdOjQQeXl5UFjl1J1fHx8KEpqMl26dFFdXZ2ioqIue8yXjjcuLq7B%2BUuXGv5%2B3hij8vLyoMsQ16L4%2BPgmO%2B5wX0ddunTRyZMnJUVeH7Zt26apU6dq4cKFevDBBwO1NKe1cLkeXE4krwPp4gf%2BP/7jPyo7O1u///3v1bJly2a1Di75ch8ud/XhWlwLBKww4/F49NlnnwWdqiwqKlKPHj3Utm3bEFZ2df70pz/pueeeCxo7fPiwWrVqpaFDh9a7X6qoqEher1fSxZ4cPHgwMFdbWyufzyev16ubbrpJsbGxQe//8MMPdf78eSUlJTXhEV09j8fTZMcdTuvojTfe0Lp164LGDh8%2BrJtuuklSZPXh/fff1xNPPKGVK1dq9OjRgfHmtBYa6kFzWQe7du3Sd7/73aAz95ceETBo0KBmsw6%2Bqg/vvfdeeKyFr31bPEJu/PjxZvbs2eb06dPmT3/6kxk8eLBZt25dqMu6KseOHTN9%2B/Y1L774ojl37pw5cuSIGT16tHn22WfNyZMnze23325%2B/etfmy%2B%2B%2BMIUFBQYj8djDh06ZIwx5t133w38SW5lZaV5/vnnTUpKiqmurjbGGLN06VIzatQo88knn5iTJ0%2BaiRMnmhkzZoTycOu53F/PNfVxX4vr6HJ92Lp1q/F6veYPf/iDuXDhgvnjH/9o%2BvbtG/groEjpw4ULF8zIkSPNyy%2B/XG%2BuuayFr%2BpBc1kHFRUVZtCgQea5554zZ8%2BeNadOnTKTJk0yDzzwQLNZB1fqQ7isBQJWGPr888/N5MmTjdfrNcnJyWbVqlWhLsmKvXv3mvHjx5u%2Bffua1NRUs2TJEnPu3DljjDHvvfeeGTt2rElKSjIjRowwb775ZtB7//M//9OkpKQYj8dj7r//fvN///d/gblz586ZRYsWmTvvvNP069fPzJ4921RUVDh6bA1JSkoySUlJJjEx0SQmJgZ%2Bv6Qpj/taWkdX6sOGDRvMiBEjzG233WZGjx5tNm7cGPT%2BSOjDe%2B%2B9Z3r16hU49r//5%2BjRo81iLVypB81hHRhjjM/nMz/4wQ/MHXfcYQYMGGAyMzMDj5VpDuvgkq/qQzisBZcx///vGgEAAGAF92ABAABYRsACAACwjIAFAABgGQELAADAMgIWAACAZQQsAAAAywhYAAAAlhGwAAAALCNgAQAAWEbAAgAAsIyABQAAYBkBCwAAwDICFgAAgGX/D8jMpEiEvsvrAAAAAElFTkSuQmCC\"/>\n        </div>\n        <div role=\"tabpanel\" class=\"tab-pane col-md-12\" id=\"common6203541330514351037\">\n            \n<table class=\"freq table table-hover\">\n    <thead>\n    <tr>\n        <td class=\"fillremaining\">Value</td>\n        <td class=\"number\">Count</td>\n        <td class=\"number\">Frequency (%)</td>\n        <td style=\"min-width:200px\">&nbsp;</td>\n    </tr>\n    </thead>\n    <tr class=\"\">\n        <td class=\"fillremaining\">4094</td>\n        <td class=\"number\">1</td>\n        <td class=\"number\">0.0%</td>\n        <td>\n            <div class=\"bar\" style=\"width:1%\">&nbsp;</div>\n        </td>\n</tr><tr class=\"\">\n        <td class=\"fillremaining\">21760</td>\n        <td class=\"number\">1</td>\n        <td class=\"number\">0.0%</td>\n        <td>\n            <div class=\"bar\" style=\"width:1%\">&nbsp;</div>\n        </td>\n</tr><tr class=\"\">\n        <td class=\"fillremaining\">7433</td>\n        <td class=\"number\">1</td>\n        <td class=\"number\">0.0%</td>\n        <td>\n            <div class=\"bar\" style=\"width:1%\">&nbsp;</div>\n        </td>\n</tr><tr class=\"\">\n        <td class=\"fillremaining\">21768</td>\n        <td class=\"number\">1</td>\n        <td class=\"number\">0.0%</td>\n        <td>\n            <div class=\"bar\" style=\"width:1%\">&nbsp;</div>\n        </td>\n</tr><tr class=\"\">\n        <td class=\"fillremaining\">27911</td>\n        <td class=\"number\">1</td>\n        <td class=\"number\">0.0%</td>\n        <td>\n            <div class=\"bar\" style=\"width:1%\">&nbsp;</div>\n        </td>\n</tr><tr class=\"\">\n        <td class=\"fillremaining\">32005</td>\n        <td class=\"number\">1</td>\n        <td class=\"number\">0.0%</td>\n        <td>\n            <div class=\"bar\" style=\"width:1%\">&nbsp;</div>\n        </td>\n</tr><tr class=\"\">\n        <td class=\"fillremaining\">27116</td>\n        <td class=\"number\">1</td>\n        <td class=\"number\">0.0%</td>\n        <td>\n            <div class=\"bar\" style=\"width:1%\">&nbsp;</div>\n        </td>\n</tr><tr class=\"\">\n        <td class=\"fillremaining\">1282</td>\n        <td class=\"number\">1</td>\n        <td class=\"number\">0.0%</td>\n        <td>\n            <div class=\"bar\" style=\"width:1%\">&nbsp;</div>\n        </td>\n</tr><tr class=\"\">\n        <td class=\"fillremaining\">9470</td>\n        <td class=\"number\">1</td>\n        <td class=\"number\">0.0%</td>\n        <td>\n            <div class=\"bar\" style=\"width:1%\">&nbsp;</div>\n        </td>\n</tr><tr class=\"\">\n        <td class=\"fillremaining\">5360</td>\n        <td class=\"number\">1</td>\n        <td class=\"number\">0.0%</td>\n        <td>\n            <div class=\"bar\" style=\"width:1%\">&nbsp;</div>\n        </td>\n</tr><tr class=\"other\">\n        <td class=\"fillremaining\">Other values (8945)</td>\n        <td class=\"number\">8945</td>\n        <td class=\"number\">0.0%</td>\n        <td>\n            <div class=\"bar\" style=\"width:100%\">&nbsp;</div>\n        </td>\n</tr>\n</table>\n        </div>\n        <div role=\"tabpanel\" class=\"tab-pane col-md-12\"  id=\"extreme6203541330514351037\">\n            <p class=\"h4\">Minimum 5 values</p>\n            \n<table class=\"freq table table-hover\">\n    <thead>\n    <tr>\n        <td class=\"fillremaining\">Value</td>\n        <td class=\"number\">Count</td>\n        <td class=\"number\">Frequency (%)</td>\n        <td style=\"min-width:200px\">&nbsp;</td>\n    </tr>\n    </thead>\n    <tr class=\"\">\n        <td class=\"fillremaining\">2</td>\n        <td class=\"number\">1</td>\n        <td class=\"number\">0.0%</td>\n        <td>\n            <div class=\"bar\" style=\"width:100%\">&nbsp;</div>\n        </td>\n</tr><tr class=\"\">\n        <td class=\"fillremaining\">4</td>\n        <td class=\"number\">1</td>\n        <td class=\"number\">0.0%</td>\n        <td>\n            <div class=\"bar\" style=\"width:100%\">&nbsp;</div>\n        </td>\n</tr><tr class=\"\">\n        <td class=\"fillremaining\">5</td>\n        <td class=\"number\">1</td>\n        <td class=\"number\">0.0%</td>\n        <td>\n            <div class=\"bar\" style=\"width:100%\">&nbsp;</div>\n        </td>\n</tr><tr class=\"\">\n        <td class=\"fillremaining\">8</td>\n        <td class=\"number\">1</td>\n        <td class=\"number\">0.0%</td>\n        <td>\n            <div class=\"bar\" style=\"width:100%\">&nbsp;</div>\n        </td>\n</tr><tr class=\"\">\n        <td class=\"fillremaining\">10</td>\n        <td class=\"number\">1</td>\n        <td class=\"number\">0.0%</td>\n        <td>\n            <div class=\"bar\" style=\"width:100%\">&nbsp;</div>\n        </td>\n</tr>\n</table>\n            <p class=\"h4\">Maximum 5 values</p>\n            \n<table class=\"freq table table-hover\">\n    <thead>\n    <tr>\n        <td class=\"fillremaining\">Value</td>\n        <td class=\"number\">Count</td>\n        <td class=\"number\">Frequency (%)</td>\n        <td style=\"min-width:200px\">&nbsp;</td>\n    </tr>\n    </thead>\n    <tr class=\"\">\n        <td class=\"fillremaining\">33375</td>\n        <td class=\"number\">1</td>\n        <td class=\"number\">0.0%</td>\n        <td>\n            <div class=\"bar\" style=\"width:100%\">&nbsp;</div>\n        </td>\n</tr><tr class=\"\">\n        <td class=\"fillremaining\">33376</td>\n        <td class=\"number\">1</td>\n        <td class=\"number\">0.0%</td>\n        <td>\n            <div class=\"bar\" style=\"width:100%\">&nbsp;</div>\n        </td>\n</tr><tr class=\"\">\n        <td class=\"fillremaining\">33377</td>\n        <td class=\"number\">1</td>\n        <td class=\"number\">0.0%</td>\n        <td>\n            <div class=\"bar\" style=\"width:100%\">&nbsp;</div>\n        </td>\n</tr><tr class=\"\">\n        <td class=\"fillremaining\">33379</td>\n        <td class=\"number\">1</td>\n        <td class=\"number\">0.0%</td>\n        <td>\n            <div class=\"bar\" style=\"width:100%\">&nbsp;</div>\n        </td>\n</tr><tr class=\"\">\n        <td class=\"fillremaining\">33380</td>\n        <td class=\"number\">1</td>\n        <td class=\"number\">0.0%</td>\n        <td>\n            <div class=\"bar\" style=\"width:100%\">&nbsp;</div>\n        </td>\n</tr>\n</table>\n        </div>\n    </div>\n</div>\n</div><div class=\"row variablerow\">\n    <div class=\"col-md-3 namecol\">\n        <p class=\"h4 pp-anchor\" id=\"pp_var_experience\">experience<br/>\n            <small>Categorical</small>\n        </p>\n    </div><div class=\"col-md-3\">\n    <table class=\"stats \">\n        <tr class=\"\">\n            <th>Distinct count</th>\n            <td>22</td>\n        </tr>\n        <tr>\n            <th>Unique (%)</th>\n            <td>0.0%</td>\n        </tr>\n        <tr class=\"ignore\">\n            <th>Missing (%)</th>\n            <td>0.0%</td>\n        </tr>\n        <tr class=\"ignore\">\n            <th>Missing (n)</th>\n            <td>0</td>\n        </tr>\n    </table>\n</div>\n<div class=\"col-md-6 collapse in\" id=\"minifreqtable-5459193445601373970\">\n    <table class=\"mini freq\">\n        <tr class=\"\">\n    <th>>20</th>\n    <td>\n        <div class=\"bar\" style=\"width:1%\" data-toggle=\"tooltip\" data-placement=\"right\" data-html=\"true\"\n             data-delay=500 title=\"Percentage: 0.0%\">\n            &nbsp;\n        </div>\n        1881\n    </td>\n</tr><tr class=\"\">\n    <th>5</th>\n    <td>\n        <div class=\"bar\" style=\"width:1%\" data-toggle=\"tooltip\" data-placement=\"right\" data-html=\"true\"\n             data-delay=500 title=\"Percentage: 0.0%\">\n            &nbsp;\n        </div>\n        575\n    </td>\n</tr><tr class=\"\">\n    <th>10</th>\n    <td>\n        <div class=\"bar\" style=\"width:1%\" data-toggle=\"tooltip\" data-placement=\"right\" data-html=\"true\"\n             data-delay=500 title=\"Percentage: 0.0%\">\n            &nbsp;\n        </div>\n        551\n    </td>\n</tr><tr class=\"other\">\n    <th>Other values (19)</th>\n    <td>\n        <div class=\"bar\" style=\"width:100%\" data-toggle=\"tooltip\" data-placement=\"right\" data-html=\"true\"\n             data-delay=500 title=\"Percentage: 0.0%\">\n            5948\n        </div>\n        \n    </td>\n</tr>\n    </table>\n</div>\n<div class=\"col-md-12 text-right\">\n    <a role=\"button\" data-toggle=\"collapse\" data-target=\"#freqtable-5459193445601373970, #minifreqtable-5459193445601373970\"\n       aria-expanded=\"true\" aria-controls=\"collapseExample\">\n        Toggle details\n    </a>\n</div>\n<div class=\"col-md-12 extrapadding collapse\" id=\"freqtable-5459193445601373970\">\n    \n<table class=\"freq table table-hover\">\n    <thead>\n    <tr>\n        <td class=\"fillremaining\">Value</td>\n        <td class=\"number\">Count</td>\n        <td class=\"number\">Frequency (%)</td>\n        <td style=\"min-width:200px\">&nbsp;</td>\n    </tr>\n    </thead>\n    <tr class=\"\">\n        <td class=\"fillremaining\">>20</td>\n        <td class=\"number\">1881</td>\n        <td class=\"number\">0.0%</td>\n        <td>\n            <div class=\"bar\" style=\"width:1%\">&nbsp;</div>\n        </td>\n</tr><tr class=\"\">\n        <td class=\"fillremaining\">5</td>\n        <td class=\"number\">575</td>\n        <td class=\"number\">0.0%</td>\n        <td>\n            <div class=\"bar\" style=\"width:1%\">&nbsp;</div>\n        </td>\n</tr><tr class=\"\">\n        <td class=\"fillremaining\">10</td>\n        <td class=\"number\">551</td>\n        <td class=\"number\">0.0%</td>\n        <td>\n            <div class=\"bar\" style=\"width:1%\">&nbsp;</div>\n        </td>\n</tr><tr class=\"\">\n        <td class=\"fillremaining\">6</td>\n        <td class=\"number\">535</td>\n        <td class=\"number\">0.0%</td>\n        <td>\n            <div class=\"bar\" style=\"width:1%\">&nbsp;</div>\n        </td>\n</tr><tr class=\"\">\n        <td class=\"fillremaining\">9</td>\n        <td class=\"number\">533</td>\n        <td class=\"number\">0.0%</td>\n        <td>\n            <div class=\"bar\" style=\"width:1%\">&nbsp;</div>\n        </td>\n</tr><tr class=\"\">\n        <td class=\"fillremaining\">7</td>\n        <td class=\"number\">485</td>\n        <td class=\"number\">0.0%</td>\n        <td>\n            <div class=\"bar\" style=\"width:1%\">&nbsp;</div>\n        </td>\n</tr><tr class=\"\">\n        <td class=\"fillremaining\">4</td>\n        <td class=\"number\">480</td>\n        <td class=\"number\">0.0%</td>\n        <td>\n            <div class=\"bar\" style=\"width:1%\">&nbsp;</div>\n        </td>\n</tr><tr class=\"\">\n        <td class=\"fillremaining\">3</td>\n        <td class=\"number\">428</td>\n        <td class=\"number\">0.0%</td>\n        <td>\n            <div class=\"bar\" style=\"width:1%\">&nbsp;</div>\n        </td>\n</tr><tr class=\"\">\n        <td class=\"fillremaining\">8</td>\n        <td class=\"number\">398</td>\n        <td class=\"number\">0.0%</td>\n        <td>\n            <div class=\"bar\" style=\"width:1%\">&nbsp;</div>\n        </td>\n</tr><tr class=\"\">\n        <td class=\"fillremaining\">15</td>\n        <td class=\"number\">398</td>\n        <td class=\"number\">0.0%</td>\n        <td>\n            <div class=\"bar\" style=\"width:1%\">&nbsp;</div>\n        </td>\n</tr><tr class=\"other\">\n        <td class=\"fillremaining\">Other values (12)</td>\n        <td class=\"number\">2691</td>\n        <td class=\"number\">0.0%</td>\n        <td>\n            <div class=\"bar\" style=\"width:100%\">&nbsp;</div>\n        </td>\n</tr>\n</table>\n</div>\n</div><div class=\"row variablerow\">\n    <div class=\"col-md-3 namecol\">\n        <p class=\"h4 pp-anchor\" id=\"pp_var_gender\">gender<br/>\n            <small>Categorical</small>\n        </p>\n    </div><div class=\"col-md-3\">\n    <table class=\"stats \">\n        <tr class=\"\">\n            <th>Distinct count</th>\n            <td>3</td>\n        </tr>\n        <tr>\n            <th>Unique (%)</th>\n            <td>0.0%</td>\n        </tr>\n        <tr class=\"ignore\">\n            <th>Missing (%)</th>\n            <td>0.0%</td>\n        </tr>\n        <tr class=\"ignore\">\n            <th>Missing (n)</th>\n            <td>0</td>\n        </tr>\n    </table>\n</div>\n<div class=\"col-md-6 collapse in\" id=\"minifreqtable-6943195220585760663\">\n    <table class=\"mini freq\">\n        <tr class=\"\">\n    <th>Male</th>\n    <td>\n        <div class=\"bar\" style=\"width:100%\" data-toggle=\"tooltip\" data-placement=\"right\" data-html=\"true\"\n             data-delay=500 title=\"Percentage: 0.0%\">\n            8073\n        </div>\n        \n    </td>\n</tr><tr class=\"\">\n    <th>Female</th>\n    <td>\n        <div class=\"bar\" style=\"width:1%\" data-toggle=\"tooltip\" data-placement=\"right\" data-html=\"true\"\n             data-delay=500 title=\"Percentage: 0.0%\">\n            &nbsp;\n        </div>\n        804\n    </td>\n</tr><tr class=\"\">\n    <th>Other</th>\n    <td>\n        <div class=\"bar\" style=\"width:1%\" data-toggle=\"tooltip\" data-placement=\"right\" data-html=\"true\"\n             data-delay=500 title=\"Percentage: 0.0%\">\n            &nbsp;\n        </div>\n        78\n    </td>\n</tr>\n    </table>\n</div>\n<div class=\"col-md-12 text-right\">\n    <a role=\"button\" data-toggle=\"collapse\" data-target=\"#freqtable-6943195220585760663, #minifreqtable-6943195220585760663\"\n       aria-expanded=\"true\" aria-controls=\"collapseExample\">\n        Toggle details\n    </a>\n</div>\n<div class=\"col-md-12 extrapadding collapse\" id=\"freqtable-6943195220585760663\">\n    \n<table class=\"freq table table-hover\">\n    <thead>\n    <tr>\n        <td class=\"fillremaining\">Value</td>\n        <td class=\"number\">Count</td>\n        <td class=\"number\">Frequency (%)</td>\n        <td style=\"min-width:200px\">&nbsp;</td>\n    </tr>\n    </thead>\n    <tr class=\"\">\n        <td class=\"fillremaining\">Male</td>\n        <td class=\"number\">8073</td>\n        <td class=\"number\">0.0%</td>\n        <td>\n            <div class=\"bar\" style=\"width:100%\">&nbsp;</div>\n        </td>\n</tr><tr class=\"\">\n        <td class=\"fillremaining\">Female</td>\n        <td class=\"number\">804</td>\n        <td class=\"number\">0.0%</td>\n        <td>\n            <div class=\"bar\" style=\"width:1%\">&nbsp;</div>\n        </td>\n</tr><tr class=\"\">\n        <td class=\"fillremaining\">Other</td>\n        <td class=\"number\">78</td>\n        <td class=\"number\">0.0%</td>\n        <td>\n            <div class=\"bar\" style=\"width:1%\">&nbsp;</div>\n        </td>\n</tr>\n</table>\n</div>\n</div><div class=\"row variablerow\">\n    <div class=\"col-md-3 namecol\">\n        <p class=\"h4 pp-anchor\" id=\"pp_var_index\">index<br/>\n            <small>Numeric</small>\n        </p>\n    </div><div class=\"col-md-6\">\n    <div class=\"row\">\n        <div class=\"col-sm-6\">\n            <table class=\"stats \">\n                <tr>\n                    <th>Distinct count</th>\n                    <td>8955</td>\n                </tr>\n                <tr>\n                    <th>Unique (%)</th>\n                    <td>100.0%</td>\n                </tr>\n                <tr class=\"ignore\">\n                    <th>Missing (%)</th>\n                    <td>0.0%</td>\n                </tr>\n                <tr class=\"ignore\">\n                    <th>Missing (n)</th>\n                    <td>0</td>\n                </tr>\n                <tr class=\"ignore\">\n                    <th>Infinite (%)</th>\n                    <td>0.0%</td>\n                </tr>\n                <tr class=\"ignore\">\n                    <th>Infinite (n)</th>\n                    <td>0</td>\n                </tr>\n            </table>\n\n        </div>\n        <div class=\"col-sm-6\">\n            <table class=\"stats \">\n\n                <tr>\n                    <th>Mean</th>\n                    <td>9527.1</td>\n                </tr>\n                <tr>\n                    <th>Minimum</th>\n                    <td>1</td>\n                </tr>\n                <tr>\n                    <th>Maximum</th>\n                    <td>19155</td>\n                </tr>\n                <tr class=\"ignore\">\n                    <th>Zeros (%)</th>\n                    <td>0.0%</td>\n                </tr>\n            </table>\n        </div>\n    </div>\n</div>\n<div class=\"col-md-3 collapse in\" id=\"minihistogram-8139544016919160671\">\n    <img src=\"data:image/png;base64,iVBORw0KGgoAAAANSUhEUgAAAMgAAABLCAYAAAA1fMjoAAAABHNCSVQICAgIfAhkiAAAAAlwSFlzAAAPYQAAD2EBqD%2BnaQAAADl0RVh0U29mdHdhcmUAbWF0cGxvdGxpYiB2ZXJzaW9uIDIuMi4zLCBodHRwOi8vbWF0cGxvdGxpYi5vcmcvIxREBQAAARVJREFUeJzt18GNAjEQAEEWXUgEQU68yemCuJxMAqglJLQ72qtKYObhtuVtrbUuwFvXoxeAyX6OXuAbbo/fXeb8Pe%2B7zGGOcYHsddj5zH%2B9hMYFMtnUeKcdqjMRyAlMDfcMfNIhCASCQCAIBIJAIAgEgkAgCASCQCAIBIJAIAgEgkAgCASCQCAIBIJAIAgEgkAgCASCQCAIBIJAIAgEgkAgCASCQCAIBIJAIAgEgkAgCASCQCAIBIJAIAgEgkAgCASCQCAIBIJAIAgEgkAgbGutdfQSMJUXBIJAIAgEgkAgCASCQCAIBIJAIAgEgkAgCASCQCAIBIJAIAgEgkAgCASCQCAIBIJAIAgEgkAgCASCQCAIBMILBX8UY%2B0slNIAAAAASUVORK5CYII%3D\">\n\n</div>\n<div class=\"col-md-12 text-right\">\n    <a role=\"button\" data-toggle=\"collapse\" data-target=\"#descriptives-8139544016919160671,#minihistogram-8139544016919160671\"\n       aria-expanded=\"false\" aria-controls=\"collapseExample\">\n        Toggle details\n    </a>\n</div>\n<div class=\"row collapse col-md-12\" id=\"descriptives-8139544016919160671\">\n    <ul class=\"nav nav-tabs\" role=\"tablist\">\n        <li role=\"presentation\" class=\"active\"><a href=\"#quantiles-8139544016919160671\"\n                                                  aria-controls=\"quantiles-8139544016919160671\" role=\"tab\"\n                                                  data-toggle=\"tab\">Statistics</a></li>\n        <li role=\"presentation\"><a href=\"#histogram-8139544016919160671\" aria-controls=\"histogram-8139544016919160671\"\n                                   role=\"tab\" data-toggle=\"tab\">Histogram</a></li>\n        <li role=\"presentation\"><a href=\"#common-8139544016919160671\" aria-controls=\"common-8139544016919160671\"\n                                   role=\"tab\" data-toggle=\"tab\">Common Values</a></li>\n        <li role=\"presentation\"><a href=\"#extreme-8139544016919160671\" aria-controls=\"extreme-8139544016919160671\"\n                                   role=\"tab\" data-toggle=\"tab\">Extreme Values</a></li>\n\n    </ul>\n\n    <div class=\"tab-content\">\n        <div role=\"tabpanel\" class=\"tab-pane active row\" id=\"quantiles-8139544016919160671\">\n            <div class=\"col-md-4 col-md-offset-1\">\n                <p class=\"h4\">Quantile statistics</p>\n                <table class=\"stats indent\">\n                    <tr>\n                        <th>Minimum</th>\n                        <td>1</td>\n                    </tr>\n                    <tr>\n                        <th>5-th percentile</th>\n                        <td>926.7</td>\n                    </tr>\n                    <tr>\n                        <th>Q1</th>\n                        <td>4681</td>\n                    </tr>\n                    <tr>\n                        <th>Median</th>\n                        <td>9488</td>\n                    </tr>\n                    <tr>\n                        <th>Q3</th>\n                        <td>14419</td>\n                    </tr>\n                    <tr>\n                        <th>95-th percentile</th>\n                        <td>18172</td>\n                    </tr>\n                    <tr>\n                        <th>Maximum</th>\n                        <td>19155</td>\n                    </tr>\n                    <tr>\n                        <th>Range</th>\n                        <td>19154</td>\n                    </tr>\n                    <tr>\n                        <th>Interquartile range</th>\n                        <td>9738</td>\n                    </tr>\n                </table>\n            </div>\n            <div class=\"col-md-4 col-md-offset-2\">\n                <p class=\"h4\">Descriptive statistics</p>\n                <table class=\"stats indent\">\n                    <tr>\n                        <th>Standard deviation</th>\n                        <td>5554.6</td>\n                    </tr>\n                    <tr>\n                        <th>Coef of variation</th>\n                        <td>0.58303</td>\n                    </tr>\n                    <tr>\n                        <th>Kurtosis</th>\n                        <td>-1.2134</td>\n                    </tr>\n                    <tr>\n                        <th>Mean</th>\n                        <td>9527.1</td>\n                    </tr>\n                    <tr>\n                        <th>MAD</th>\n                        <td>4814.1</td>\n                    </tr>\n                    <tr class=\"\">\n                        <th>Skewness</th>\n                        <td>0.014325</td>\n                    </tr>\n                    <tr>\n                        <th>Sum</th>\n                        <td>85315494</td>\n                    </tr>\n                    <tr>\n                        <th>Variance</th>\n                        <td>30854000</td>\n                    </tr>\n                    <tr>\n                        <th>Memory size</th>\n                        <td>70.0 KiB</td>\n                    </tr>\n                </table>\n            </div>\n        </div>\n        <div role=\"tabpanel\" class=\"tab-pane col-md-8 col-md-offset-2\" id=\"histogram-8139544016919160671\">\n            <img src=\"data:image/png;base64,iVBORw0KGgoAAAANSUhEUgAAAlgAAAGQCAYAAAByNR6YAAAABHNCSVQICAgIfAhkiAAAAAlwSFlzAAAPYQAAD2EBqD%2BnaQAAADl0RVh0U29mdHdhcmUAbWF0cGxvdGxpYiB2ZXJzaW9uIDIuMi4zLCBodHRwOi8vbWF0cGxvdGxpYi5vcmcvIxREBQAAIABJREFUeJzt3Xt4VPWdx/HPJAEJt1woQRCXRbkEIQMoBQIUEliyWOSymhjQZ6mKQGMkomajyE1ETOsF04C2Rl3CFlZiFqrQLVGKCmwJULE1kFC2IigEgUAmBIIBkjn7h8s8DiEmwA/OzPB%2BPQ8Pz/x%2BZ858v54Zz4ffOZk4LMuyBAAAAGOC7C4AAAAg0BCwAAAADCNgAQAAGEbAAgAAMIyABQAAYBgBCwAAwDACFgAAgGEELAAAAMMIWAAAAIYRsAAAAAwjYAEAABhGwAIAADCMgAUAAGAYAQsAAMAwAhYAAIBhBCwAAADDCFgAAACGEbAAAAAMI2ABAAAYRsACAAAwjIAFAABgGAELAADAMAIWAACAYQQsAAAAwwhYAAAAhhGwAAAADCNgAQAAGEbAAgAAMIyABQAAYBgBCwAAwDACFgAAgGEELAAAAMMIWAAAAIYRsAAAAAwjYAEAABhGwAIAADCMgAUAAGAYAQsAAMAwAhYAAIBhIXYXcL0oKztpfJ9BQQ5FRrZQeXmV3G7L%2BP59AT0GBnoMDPTo/wK9P6luj23btrKnDlteFUYEBTnkcDgUFOSwu5Srhh4DAz0GBnr0f4Hen%2BQ7PRKwAAAADCNgAQAAGEbAAgAAMIyABQAAYBgBCwAAwDACFgAAgGEELAAAAMMIWAAAAIYRsAAAAAwjYAEAABhGwAIAADCMgAUAAGAYAQsAAMCwELsLwPXjzqw/2V1CQFs3Y7DdJQAA/h8rWAAAAIYRsAAAAAwjYAEAABjGPVgAADSSv91Lyr2Z9iFg%2Bbl%2BswrsLgEAAFyAS4QAAACGsYIFAECA8qdLmoF2OZMVLAAAAMNYwQKABvjTKoAUeCsBgD8iYAEBwp9CAAEAQKDjEiEAAIBhrGABuOb8abUNAC4HK1gAAACGEbAAAAAMI2ABAAAYRsACAAAwjJvcAQC24QceEKgIWAAQYAgtgP24RAgAAGAYAQsAAMAwAhYAAIBhBCwAAADDCFgAAACGEbAAAAAMI2ABAAAYRsACAAAwjIAFAABgGAELAADAMAIWAACAYQQsAAAAwwhYAAAAhhGwAAAADCNgAQAAGEbAAgAAMCxgA1ZxcbEmTZqkO%2B64Q7GxsUpPT1d5ebkkqbCwUGPHjlVMTIxGjhypNWvWeD132bJlio%2BPl9PpVFJSkoqLi%2B1oAQAA%2BKmADFi1tbWaOnWq%2Bvbtq8LCQq1bt07l5eV69tlndeTIEaWkpCgxMVHbt2/XrFmzNGfOHBUVFUmS1q9fr6ysLGVmZmrbtm0aNmyYpk2bptOnT9vcFQAA8BcBGbDKysp07NgxjRkzRk2bNlV4eLhGjBih3bt3a%2B3aterUqZMmTZqk0NBQxcXFacSIEcrPz5ck5efnKzExUQMHDlRoaKhSU1PlcDi0YcMGm7sCAAD%2BIiADVrt27XTbbbfp3Xff1bfffqvy8nKtX79ecXFxKikpUc%2BePb2279Gjh%2Bcy4IXzDodD0dHRXCYEAACNFmJ3AVeDw%2BFQdna2HnroIS1btkyS1L9/fz3xxBN65JFHFB0d7bV9eHi45/4sl8ul8PBwr/mwsDDPfGMcPXpUZWVlXmMhIc0VFRV1Oe3UKzg4IPMxAOA6FBJi5px2/txo9zkyIAPW2bNnNW3aNI0aNUo///nP9e2332ru3LlKT0%2Bv9zkOh8Pr7/rmGyMvL09LlizxGktNTVVaWlqj9wEAwPUkIqKF0f21bh1qdH%2BXKiAD1pYtW3Tw4EHNmDFDwcHBatGihaZPn67x48dr2LBhqqio8Nre5XIpMjJSkhQREXHR%2BW7dujX69ZOTkzV8%2BHCvsZCQ5nK5qi6zo4uzO50DAGCKqXNkcHCQWrcOVWXlt6qtdRsPbo0VkAHLsiy53W6vsXPnzkmSBg4cqPfee89rrqioSE6nU5IUExOjXbt2afz48ZK%2B%2B4nEkpISJSYmNvr1o6Ki6lwOLCs7qZoadz3PAADg%2Bmb6HFlb67b1vBuQSyB9%2BvRRixYttHjxYlVXV%2BvEiRN688031bdvX40bN06lpaXKzc1VdXW1CgoKtGnTJiUnJ0uSJkyYoFWrVmnr1q2qqqrSokWL1KxZszorUgAAAPUJyIAVERGhN998Uzt27NCQIUM0atQoBQUFKSsrS23atNEbb7yh3/3ud/rxj3%2BsV199Va%2B88ornxvehQ4cqIyNDM2fOVGxsrP7yl78oJydHN9xwg81dAQAAf%2BGwLMuyu4jrQVnZSeP7DAkJ0siXNxvfLwAA19q6GYON7CckJEgRES3kclWppsattm1bGdnvpQrIFSwAAAA7EbAAAAAMI2ABAAAYRsACAAAwjIAFAABgGAELAADAMAIWAACAYQQsAAAAwwhYAAAAhhGwAAAADCNgAQAAGEbAAgAAMIyABQAAYBgBCwAAwDACFgAAgGEELAAAAMMIWAAAAIYRsAAAAAwjYAEAABhGwAIAADCMgAUAAGAYAQsAAMAwAhYAAIBhBCwAAADDCFgAAACGEbAAAAAMI2ABAAAYRsACAAAwjIAFAABgGAELAADAMAIWAACAYQQsAAAAwwhYAAAAhhGwAAAADCNgAQAAGEbAAgAAMIyABQAAYBgBCwAAwDACFgAAgGEELAAAAMMIWAAAAIYRsAAAAAwjYAEAABhGwAIAADCMgAUAAGAYAQsAAMAwAhYAAIBhBCwAAADDCFgAAACGEbAAAAAMI2ABAAAYRsACAAAwjIAFAABgGAELAADAMAIWAACAYQQsAAAAwwI6YL3%2B%2BusaMmSI%2BvbtqwceeEAHDhyQJBUWFmrs2LGKiYnRyJEjtWbNGq/nLVu2TPHx8XI6nUpKSlJxcbEd5QMAAD8VsAFrxYoV%2BuSTT/Tuu%2B/qk08%2BUfv27ZWbm6sjR44oJSVFiYmJ2r59u2bNmqU5c%2BaoqKhIkrR%2B/XplZWUpMzNT27Zt07BhwzRt2jSdPn3a5o4AAIC/CNiA9e///u%2BaPXu2OnTooLCwMGVmZmrOnDlau3atOnXqpEmTJik0NFRxcXEaMWKE8vPzJUn5%2BflKTEzUwIEDFRoaqtTUVDkcDm3YsMHmjgAAgL8IsbuAq%2BHw4cM6fPiwvvrqK6Wnp%2BvEiROKjY3VvHnzVFJSop49e3pt36NHD61bt06SVFJSop/%2B9KeeOYfDoejoaBUXF2vMmDGNev2jR4%2BqrKzMaywkpLmioqKusDNvwcEBm48BANeZkBAz57Tz50a7z5EBGbCOHDkih8OhP/7xj8rLy1N1dbXS0tI0d%2B5cnTp1StHR0V7bh4eHq7y8XJLkcrkUHh7uNR8WFuaZb4y8vDwtWbLEayw1NVVpaWmX2REAAIEtIqKF0f21bh1qdH%2BXKiAD1rlz53Tu3Dmlp6crIiJCkpSWlqYpU6YoNjb2os9xOBxef9c33xjJyckaPny411hISHO5XFWN3kdj2J3OAQAwxdQ5Mjg4SK1bh6qy8lvV1rqNB7fGCsiAdX4FqmXLlp6xm266SZZlqaamRhUVFV7bu1wuRUZGSpIiIiIuOt%2BtW7dGv35UVFSdy4FlZSdVU%2BO%2BpD4AALhemD5H1ta6bT3vBuQSSKdOndSyZUuvr1coLS1VSEiI4uLi6nztQlFRkZxOpyQpJiZGu3bt8szV1taqpKTEMw8AANCQgAxYTZo0UVJSkl5%2B%2BWUdPnxYZWVleu211zRu3DiNHz9epaWlys3NVXV1tQoKCrRp0yYlJydLkiZMmKBVq1Zp69atqqqq0qJFi9SsWbM6l/wAAADq47Asy7K7iO87efKkWrVqdcX7OXv2rH7xi1/o97//vYKCghQfH69Zs2apZcuW%2BvTTT7VgwQJ9%2BeWX6tChg9LT0zVy5EjPc9955x3l5OTo%2BPHj6tWrl%2BbPn6%2BuXbteUT1lZSevtKU6QkKCNPLlzcb3CwDAtbZuxmAj%2BwkJCVJERAu5XFWqqXGrbdsrzxSXw%2BcCVu/evTVq1CglJSWpX79%2BdpdjDAELAID6BVrA8rlLhPPnz9fx48f1wAMP6M4779TSpUsv6SsSAAAA7OZzAWv8%2BPF66623tGnTJt1333364IMPFBcXp8cff1yFhYV2lwcAANAgnwtY50VGRupf//VftXLlSv3yl7/Uli1b9NBDD%2BnOO%2B/Uhx9%2BaHd5AAAA9fLZ78EqLy/X6tWrtXr1an311VcaNGiQkpOTdezYMc2dO1dff/21Hn74YbvLBAAAqMPnAtbmzZuVn5%2Bvjz76SOHh4brnnnuUlJSkjh07era57bbbNGXKFAIWAADwST4XsKZOnaoBAwbo5Zdf1j/90z8pJKRuiU6n0/gvTgYAADDF5wJWQUGBOnXqpLNnz3rC1alTp7x%2B7Y0krV271o7yAAAAGuRzN7kHBwfrrrvu0kcffeQZe/fdd3XnnXfqwIEDNlYGAADQOD4XsBYuXKiuXbvqjjvu8IyNHTtWvXv31sKFC22sDAAAoHF87hLhjh07tHHjRoWGhnrGfvSjH2nu3LmKi4uzrzAAAIBG8rkVLMuydPbs2TrjVVVVcrvdNlQEAABwaXwuYA0ePFgZGRkqKSlRZWWlKioqtGPHDj3xxBMaMmSI3eUBAAA0yOcuEc6ZM0fp6em6%2B%2B675XA4POMDBgzQ7NmzbawMAACgcXwuYLVp00ZLly7VF198of3790uSOnfurFtvvdXewgAAABrJ5wLWeV26dFGXLl3sLgMAAOCS%2BVzA2rlzpxYsWKC///3vqq6urjO/e/duG6oCAABoPJ8LWHPnzlXTpk312GOPqVmzZnaXAwAAcMl8LmDt27dPW7ZsUfPmze0uBQAA4LL43Nc03HjjjXzfFQAA8Gs%2BF7DS09OVmZmpU6dO2V0KAADAZfG5S4Svv/66Dh48qN/97ncKDw9XUJB3Bvyf//kfmyoDAABoHJ8LWD/5yU/UpEkTu8sAAAC4bD4XsB5//HG7SwAAALgiPncPliR9/vnnmjlzpn72s59Jktxut9atW2dzVQAAAI3jcwFrw4YNuu%2B%2B%2B%2BRyufTZZ59Jkg4fPqy5c%2BcqPz/f5uoAAAAa5nMB6ze/%2BY1eeukl/eY3v/H8sucOHTooOztbubm59hYHAADQCD4XsPbt26eEhARJ8gQsSRowYIBKS0vtKgsAAKDRfC5gNWnSRBUVFXXG9%2B/fz6/OAQAAfsHnAlZcXJxmz56tvXv3SpJcLpc2b96sGTNmKD4%2B3ubqAAAAGuZzAWvmzJmyLEujR4/WmTNnNGjQIE2ZMkUdOnTQ008/bXd5AAAADfK578Fq3bq13njjDe3du1f79u1TUFCQOnfurM6dO9tdGgAAQKP4XMA679Zbb9Wtt97qNeZ2u%2Bv86hwAAABf43MBKzo62uunBy%2B0e/fua1gNAADApfO5gDVv3jyvgOV2u1VaWqo//vGPevjhh22sDAAAoHF8LmBNnDjxouOJiYl69dVXlZSUdI0rAgAAuDR%2Bc0NT586d9fe//93uMgAAABrkNwHrL3/5i06ePGl3GQAAAA3yuUuEQ4YMqTN27tw5VVZW6r777rOhIgAAgEvjcwErOTm5zk8R3nDDDeratavi4uLsKQoAAOAS%2BFzAmj59ut0lAAAAXBGfC1hZWVkKCWlcWY8%2B%2BuhVrgYAAODS%2BVzAWr9%2BvQ4dOqTq6mqFh4fL7XbrxIkTCg0NVUREhGc7h8NBwAIAAD7J5wLW1KlTtXXrVmVkZHgC1ZEjR/Tiiy8qPj5ed911l80VAgAA/DCf%2B5qGxYsX65lnnvFarWrXrp1mzZqlV1991cbKAAAAGsfnAtbx48cv%2BrsImzRpovLychsqAgAAuDQ%2BF7B69uypjIwMFRcXq7KyUidPnlRJSYmeeeYZRUdH210eAABAg3zuHqznnntOjzzyiO655x7PSpZlWerYsaNef/11m6sDAABomM8FrFtuuUUFBQXatWuXvvnmG1mWpRtvvFExMTEXvXQIAADga3wuYJ0XERGhqqoqDRgwwO5SAAAALonP3YNVUVGhyZMna8SIEZo8ebIkqaysTGPGjNGRI0dsrg4AAKBhPhewXn75ZbndbuXn5yso6LvyWrVqpR49emjhwoU2VwcAANAwn7tEuGXLFr3zzjtq166d556rZs2aaebMmbrzzjttrg4AAKBhPreCdfz4cbVt27bOeGhoqKqrq22oCAAA4NL4XMDq3LmzPvnkkzrjK1euVOfOna99QQAAAJfI5y4RPvLII5oxY4aGDx%2Bu2tpaPffccyouLtbOnTuVlZVld3kAAAAN8rkVrISEBC1fvlxBQUHq0qWL/vrXv6pjx45auXKlEhISLmufL7zwgrp37%2B55XFhYqLFjxyomJkYjR47UmjVrvLZftmyZ4uPj5XQ6lZSUpOLi4ivqCQAAXF98agXL7XZr165dcjqdWrRokZF97t69W%2B%2B9957n8ZEjR5SSkqInnnhCSUlJ2rZtmx577DH94z/%2Bo5xOp9avX6%2BsrCz9%2Bte/Vu/evfX2229r2rRp%2BvDDD9W8eXMjNQEAgMDmUytYQUFBmjRpkmpra43sz%2B12a968eXrwwQc9Y2vXrlWnTp00adIkhYaGKi4uTiNGjFB%2Bfr4kKT8/X4mJiRo4cKBCQ0OVmpoqh8OhDRs2GKkJAAAEPp8KWJI0ZswY5ebmyrKsK97XypUr1axZM40ZM8YzVlJSop49e3pt16NHD89lwAvnHQ6HoqOjL%2Bky4dGjR1VcXOz1p7z8mEJCgoz%2BCQ72ucMHAMBlMX1uDA7%2B7rFt/dj2yvUoKyvTRx99pJycHN10001q2rSp1/zKlSsbtZ9jx47ptdde029/%2B1uvcZfLpejoaK%2Bx8PBwlZeXe%2BbDw8O95sPCwjzzjZGXl6clS5Z4jaWmpiotLa3R%2BwAA4HoSEdHC6P5atw41ur9L5XMBKyIiQkOHDr3i/WRmZuree%2B/VLbfcooMHDza4/fkvNa3vF0pfyi%2BaTk5O1vDhw73GQkKay%2BWqavQ%2BGoMVLABAoDB1jgwODlLr1qGqrPxWtbVu48GtsXwmYKWlpSk7O1uZmZmesezs7Mta9SksLNSuXbv0wgsv1JmLjIxURUWF15jL5VJkZKSk7wLexea7devW6NePiopSVFSU11hZ2UnV1LgbvQ8AAK4nps%2BRtbVuW8%2B7PrMEsnHjxjpjb7/99mXta82aNTp8%2BLCGDh2qAQMG6O6775YkDRgwQN27d69zP1VRUZGcTqckKSYmRrt27fLM1dbWqqSkxDMPAADQEJ8JWBdzuTe6P/300/rggw/0/vvv6/3331dOTo4k6f3339ddd92l0tJS5ebmqrq6WgUFBdq0aZOSk5MlSRMmTNCqVau0detWVVVVadGiRWrWrFmdS34AAAD18ZlLhBdzKfc9fV9YWJjCwsI8j2tqaiRJN954oyTpjTfe0IIFC/TKK6%2BoQ4cOeuWVVzw3vg8dOlQZGRmaOXOmjh8/rl69eiknJ0c33HDDFXYDAACuFz4dsEzp2LGj9uzZ43ncr18/vf/%2B%2B/VuP3HiRE2cOPFalAYAAAKQT18iBAAA8Ec%2Bs4J17tw5Pfnkkw2OvfLKK9eyLAAAgEvmMwHrjjvu0NGjRxscAwAA8HU%2BE7Au/MZ1AAAAf8U9WAAAAIYRsAAAAAwjYAEAABhGwAIAADCMgAUAAGAYAQsAAMAwAhYAAIBhBCwAAADDCFgAAACGEbAAAAAMI2ABAAAYRsACAAAwjIAFAABgGAELAADAMAIWAACAYQQsAAAAwwhYAAAAhhGwAAAADCNgAQAAGEbAAgAAMIyABQAAYBgBCwAAwDACFgAAgGEELAAAAMMIWAAAAIYRsAAAAAwjYAEAABhGwAIAADCMgAUAAGAYAQsAAMAwAhYAAIBhBCwAAADDCFgAAACGEbAAAAAMI2ABAAAYRsACAAAwjIAFAABgGAELAADAMAIWAACAYQQsAAAAwwhYAAAAhhGwAAAADCNgAQAAGEbAAgAAMIyABQAAYBgBCwAAwDACFgAAgGEELAAAAMMIWAAAAIYRsAAAAAwjYAEAABgWsAHr4MGDSklJUf/%2B/RUbG6uMjAydOHFCklRYWKixY8cqJiZGI0eO1Jo1a7yeu2zZMsXHx8vpdCopKUnFxcV2tAAAAPxUwAaslJQUhYeH6%2BOPP9aaNWu0b98%2Bvfjiizpy5IhSUlKUmJio7du3a9asWZozZ46KiookSevXr1dWVpYyMzO1bds2DRs2TNOmTdPp06dt7ggAAPiLgAxYJ0%2BeVK9evZSenq4WLVqobdu2Gj9%2BvD799FOtXbtWnTp10qRJkxQaGqq4uDiNGDFC%2Bfn5kqT8/HwlJiZq4MCBCg0NVWpqqhwOhzZs2GBzVwAAwF8EZMBq1aqVMjMz1aZNG89YaWmp2rdvr5KSEvXs2dNr%2Bx49enguA14473A4FB0dzWVCAADQaCF2F3At7Ny5UytWrFB2drZyc3MVHR3tNR8eHq7y8nJJksvlUnh4uNd8WFiYZ74xjh49qrKyMq%2BxkJDmioqKuswOLi44OCDzMQDgOhQSYuacdv7caPc5MuAD1o4dO5SSkqKMjAwNGzZMubm5F93O4XB4/V3ffGPk5eVpyZIlXmOpqalKS0tr9D4AALieRES0MLq/1q1Dje7vUgV0wPr444/1b//2b5o/f75Gjx4tSYqMjFRFRYXXdi6XS5GRkZKkiIiIi85369at0a%2BbnJys4cOHe42FhDSXy1V1OW3Uy%2B50DgCAKabOkcHBQWrdOlSVld%2BqttZtPLg1VsAGrM8%2B%2B0xPPfWUsrOzNWjQIM94TEyMVq9e7bVtUVGRnE6nZ37Xrl0aP368JKm2tlYlJSVKTExs9GtHRUXVuRxYVnZSNTXuy20HAICAZvocWVvrtvW8G5BLIDU1NZo9e7Yee%2Bwxr3AlSWPGjFFpaalyc3NVXV2tgoICbdq0ScnJyZKkCRMmaNWqVdq6dauqqqq0aNEiNWvWrM6KFAAAQH0clmVZdhdh2qeffqr7779fTZs2rTNXUFCgb775RgsWLNCXX36pDh06KD09XSNHjvRs88477ygnJ0fHjx9Xr169NH/%2BfHXt2vWKaiorO3lFz7%2BYkJAgjXx5s/H9AgBwra2bMdjIfkJCghQR0UIuV5Vqatxq27aVkf1eqoAMWL6IgAUAQP0CLWAF5CVCAAAAOxGwAAAADCNgAQAAGEbAAgAAMIyABQAAYBgBCwAAwDACFgAAgGEELAAAAMMIWAAAAIYRsAAAAAwjYAEAABhGwAIAADCMgAUAAGAYAQsAAMAwAhYAAIBhBCwAAADDCFgAAACGEbAAAAAMI2ABAAAYRsACAAAwjIAFAABgGAELAADAMAIWAACAYQQsAAAAwwhYAAAAhhGwAAAADCNgAQAAGEbAAgAAMIyABQAAYBgBCwAAwDACFgAAgGEELAAAAMMIWAAAAIYRsAAAAAwjYAEAABhGwAIAADCMgAUAAGAYAQsAAMAwAhYAAIBhBCwAAADDCFgAAACGEbAAAAAMI2ABAAAYRsACAAAwjIAFAABgGAELAADAMAIWAACAYQQsAAAAwwhYAAAAhhGwAAAADCNgAQAAGEbAAgAAMIyABQAAYBgBCwAAwDACFgAAgGEELAAAAMMIWBdx8OBBTZ48WX369FFsbKxeeuklud1uu8sCAAB%2BIsTuAnyNZVl69NFH1aVLF23cuFHHjx/Xww8/rDZt2uihhx6yuzwAAOAHWMG6wM6dO7Vnzx7Nnj1bYWFhuuWWWzR16lTl5eXZXRoAAPATrGBdoKSkRDfddJPCw8M9Y7fddpv279%2BvU6dOqWXLlg3u4%2BjRoyorK/MaCwlprqioKKO1BgeTjwEAgSEkxMw57fy50e5zJAHrAi6XS2FhYV5j5x%2B7XK5GBay8vDwtWbLEa%2BzRRx/V9OnTzRWq74Lcz278u5KTk42HN19x9OhR5eXl0aOfo8fAQI/%2BL9D7k77rcdmyt2zvkSWQqyA5OVmrV6/2%2BpOcnGz8dcrKyrRkyZI6q2WBhB4DAz0GBnr0f4Hen%2BQ7PbKCdYE2bdqooqLCa8zlckmSIiMjG7WPqKiogP2XAQAAaBgrWBeIiYnRoUOHPKFKkoqKitSlSxe1aNHCxsoAAIC/IGBdoEePHnI6nXr%2B%2BedVWVmpPXv2KCcnR/fff7/dpQEAAD8R/Oyzzz5rdxG%2B5ic/%2BYk%2B%2BOADLViwQH/4wx80ceJETZ482e6yLqpFixbq379/QK%2Bu0WNgoMfAQI/%2BL9D7k3yjR4dlWZZtrw4AABCAuEQIAABgGAELAADAMAIWAACAYQQsAAAAwwhYAAAAhhGwAAAADCNgAQAAGEbAAgAAMIyABQAAYBgByw8dPHhQkydPVp8%2BfRQbG6uXXnpJbrfb7rIadPDgQaWkpKh///6KjY1VRkaGTpw4oQMHDqh79%2B6KiYnx%2BrNu3TrPc5ctW6b4%2BHg5nU4lJSWpuLjYM3fmzBnNnTtX/fv3V9%2B%2BfZWWlqby8nI7WlR8fLx69erl1ceCBQskSYWFhRo7dqxiYmI0cuRIrVmzxuu5/tDjn//85zrHKSYmRt27d9f27dv99jhu3rxZgwYN0uOPP15n7moet2v5Wf6hHrdt26akpCT17dtX8fHxeu211zxzq1atUnR0dJ3jeuzYMb/p8Wr/P8YXenz99dfr9NerVy8NHz5ckn8dx/rOFZKffR4t%2BBW3222NGzfOevLJJ62Kigpr7969Vnx8vPX222/bXVqD7rrrLuvpp5%2B2Tp06ZR09etRKTEy0nnnmGau4uNjq2bNnvc/78MMPrT59%2BliFhYXW6dOnrcWLF1uDBw%2B2qqqqLMuyrAULFlijR4%2B2vv76a6u8vNyaNm2aNW3atGvVlpfbb7/d2rFjR53xw4cPW71797aWLVtmnT592vr4448tp9Npff7555Zl%2BVePF1q%2BfLk1YcIEvz2OOTk5VkJCgjVhwgRrxowZXnNX87hdy8/yD/V46NAhq0%2BfPtbKlSutc%2BfOWcXFxVa/fv2s9957z7Isy1q6dKn14IPSfWK4AAAH20lEQVQP1rtvf%2Bjxar43faXHi0lLS7MWLVpkWZb/HEfLqv9c4W%2BfRwKWn/n888%2Bt6Ohoy%2BVyecbeeecdKyEhwcaqGlZZWWk9/fTT1rFjxzxjy5cvtxISEqwtW7ZYgwYNqve5U6ZMsZ5//nnPY7fbbQ0ZMsRas2aNde7cOev222%2B31q9f75nfu3ev1a1bN%2Bvw4cNXp5l61NTUWN27d7e%2B%2BOKLOnNvvvmmNXbsWK%2Bxxx9/3Jo9e7ZlWf7T44WOHTtm9e/f39q9e7ffHsdly5ZZlZWV1lNPPVXnpHU1j9u1/Cz/UI9FRUXWwoULvcamT5/u6TErK6vek7m/9Hg135u%2B0uOFNm7caMXHx1unT5%2B2LMt/juMPnSv87fPIJUI/U1JSoptuuknh4eGesdtuu0379%2B/XqVOnbKzsh7Vq1UqZmZlq06aNZ6y0tFTt27dXZWWl3G63pk6dqh//%2BMdKSEjQW2%2B9Jev/fw95SUmJevbs6Xmew%2BFQdHS0iouL9fXXX%2BvUqVNe87fccotCQ0O9loavhcrKSlmWpcWLF2vIkCEaMmSIZs%2BerVOnTtXpQZJ69OjhqdFferzQr371K/3zP/%2BzoqOj/fY4Tpo0Sa1atbro3NU8btfys/xDPcbExOiZZ57xGjt06JDat28v6bv39VdffaW7775bd9xxh/7lX/5FGzdulCS/6fFqvjd9pcfvq62t1S9/%2BUs9%2BeSTCg0NleQ/x/GHzhX%2B9nkkYPkZl8ulsLAwr7Hzj10ulx0lXZadO3dqxYoVevDBB9WkSRP9wz/8gyZMmKDNmzdr3rx5%2BvWvf63/%2Bq//kvRdX99/00vf9VxeXu7p%2BcL/Jq1bt77m9yidPXtWPXv2VExMjAoKCvQf//Ef%2Bvzzz/Xss89e9LiFh4d7avSXHr/v4MGDWrt2rVJTUyUpYI7j913N4%2Barn%2BXf/va3OnDggO655x5J3/UbGRmpF154QZs3b9a4ceOUmpqqvXv3%2Bk2PV/O96Ss9ft9///d/KygoSD/96U89Y/56HL9/rvC3z2PIZT0LuAI7duxQSkqKMjIyNGzYMEny3IgpSYMHD1ZycrJWrVqlpKQkORyOi%2B6nvvHGzpvWrl07rV692vO4ZcuWSk9P189//nP169fvos85X6O/9Ph9K1asUHx8vNq1ayfpu2MYCMexMfz5uP2Q5cuXKzs7Wzk5OZ7jOn36dK9tHnjgAf3%2B97/XmjVrNHTo0Hr35Us9Xk/vTUnKzc3V/fff71WfPx7HC88Vubm5F93OVz%2BPrGD5mTZt2qiiosJr7Hy6joyMtKOkS/Lxxx9r2rRpmjdvnu6///56t%2BvYsaPnp1siIiIu2nNkZKRnGfn785ZlqaKiwmuJ2S4dO3aU2%2B1WUFBQvT1I/tnjunXrvP6FfDH%2BfhwjIyOv2nHztc/yq6%2B%2BqpycHC1fvlx9%2B/b9wW07duyosrIyv%2Bvx%2B0y9N32txwMHDuhvf/ubRo0a1eC2vnwcL3au8LfPIwHLz8TExOjQoUNeS5ZFRUXq0qWLWrRoYWNlDfvss8/01FNPKTs7W6NHj/aMf/DBB1qxYoXXtl9%2B%2BaVuvvlmSd/1vGvXLs9cbW2tSkpK5HQ6dfPNNys8PNzrPp09e/bo7Nmz6tWr11XuyNvf/vY3/eIXv/Aa%2B/LLL9W0aVMNGzaszr1ERUVFcjqdkvynx/O%2B%2BOILHT58WAMHDvSMBcpx/L6YmJirdtx86bO8dOlS/eEPf9DKlSvVvXt3r7k33nhDW7Zs8Rrbt2%2Bfbr75Zr/p8Wq%2BN32lx/M2bdqk6OjoOpfK/Ok41neu8LfPIwHLz/To0UNOp1PPP/%2B8KisrtWfPHuXk5PzgapAvqKmp0ezZs/XYY49p0KBBXnNNmjTRiy%2B%2BqD/96U%2BqqanRli1btGrVKk9PEyZM0KpVq7R161ZVVVVp0aJFatasmYYPH67g4GDde%2B%2B9ysrK0oEDB3T8%2BHFlZmZq1KhR%2BtGPfnRNe4yIiFBeXp5ycnJ09uxZ7d%2B/X7/61a80ceJEjRs3TqWlpcrNzVV1dbUKCgq0adMmJScn%2B1WP55WUlKh9%2B/Zq2bKlZyxQjuP3jRkz5qodN1/5LB84cEDZ2dlavHixOnToUGfe5XLpueee0/79%2B3X27FktXbpUX3/9te6%2B%2B26/6fFqvjd9pcfzdu/era5du9YZ95fj%2BEPnCr/7PF72zx/CNt988401ZcoUy%2Bl0WrGxsdbixYvtLqlBf/7zn61u3bpZvXr1qvPn4MGD1sqVK62EhASrd%2B/e1ujRo61Vq1Z5Pf8///M/rbi4OCsmJsaaOHGi9b//%2B7%2BeuTNnzljz58%2B3%2BvXrZ/Xt29d64oknrMrKymvdomVZlrV9%2B3br3nvvtfr06WPFx8dbL730knXmzBnLsr77bzB27FirV69eVkJCgvXhhx96PddferQsy3rrrbes8ePH1xn3x%2BN4/n0YHR1tRUdHex6fdzWP27X6LP9Qj0uWLLG6d%2B9e53N5/sfTz5w5Yy1cuNAaPHiwdfvtt1sTJ060/vrXv/pVj5Z1dd%2BbvtKjZVnW1KlTrRdeeKHOc/3lODZ0rvCnz6PDsv7/51QBAABgBJcIAQAADCNgAQAAGEbAAgAAMIyABQAAYBgBCwAAwDACFgAAgGEELAAAAMMIWAAAAIYRsAAAAAwjYAEAABhGwAIAADCMgAUAAGAYAQsAAMCw/wP7mVXTWINYjwAAAABJRU5ErkJggg%3D%3D\"/>\n        </div>\n        <div role=\"tabpanel\" class=\"tab-pane col-md-12\" id=\"common-8139544016919160671\">\n            \n<table class=\"freq table table-hover\">\n    <thead>\n    <tr>\n        <td class=\"fillremaining\">Value</td>\n        <td class=\"number\">Count</td>\n        <td class=\"number\">Frequency (%)</td>\n        <td style=\"min-width:200px\">&nbsp;</td>\n    </tr>\n    </thead>\n    <tr class=\"\">\n        <td class=\"fillremaining\">18431</td>\n        <td class=\"number\">1</td>\n        <td class=\"number\">0.0%</td>\n        <td>\n            <div class=\"bar\" style=\"width:1%\">&nbsp;</div>\n        </td>\n</tr><tr class=\"\">\n        <td class=\"fillremaining\">7521</td>\n        <td class=\"number\">1</td>\n        <td class=\"number\">0.0%</td>\n        <td>\n            <div class=\"bar\" style=\"width:1%\">&nbsp;</div>\n        </td>\n</tr><tr class=\"\">\n        <td class=\"fillremaining\">16828</td>\n        <td class=\"number\">1</td>\n        <td class=\"number\">0.0%</td>\n        <td>\n            <div class=\"bar\" style=\"width:1%\">&nbsp;</div>\n        </td>\n</tr><tr class=\"\">\n        <td class=\"fillremaining\">7529</td>\n        <td class=\"number\">1</td>\n        <td class=\"number\">0.0%</td>\n        <td>\n            <div class=\"bar\" style=\"width:1%\">&nbsp;</div>\n        </td>\n</tr><tr class=\"\">\n        <td class=\"fillremaining\">17195</td>\n        <td class=\"number\">1</td>\n        <td class=\"number\">0.0%</td>\n        <td>\n            <div class=\"bar\" style=\"width:1%\">&nbsp;</div>\n        </td>\n</tr><tr class=\"\">\n        <td class=\"fillremaining\">11623</td>\n        <td class=\"number\">1</td>\n        <td class=\"number\">0.0%</td>\n        <td>\n            <div class=\"bar\" style=\"width:1%\">&nbsp;</div>\n        </td>\n</tr><tr class=\"\">\n        <td class=\"fillremaining\">15717</td>\n        <td class=\"number\">1</td>\n        <td class=\"number\">0.0%</td>\n        <td>\n            <div class=\"bar\" style=\"width:1%\">&nbsp;</div>\n        </td>\n</tr><tr class=\"\">\n        <td class=\"fillremaining\">3427</td>\n        <td class=\"number\">1</td>\n        <td class=\"number\">0.0%</td>\n        <td>\n            <div class=\"bar\" style=\"width:1%\">&nbsp;</div>\n        </td>\n</tr><tr class=\"\">\n        <td class=\"fillremaining\">5472</td>\n        <td class=\"number\">1</td>\n        <td class=\"number\">0.0%</td>\n        <td>\n            <div class=\"bar\" style=\"width:1%\">&nbsp;</div>\n        </td>\n</tr><tr class=\"\">\n        <td class=\"fillremaining\">7505</td>\n        <td class=\"number\">1</td>\n        <td class=\"number\">0.0%</td>\n        <td>\n            <div class=\"bar\" style=\"width:1%\">&nbsp;</div>\n        </td>\n</tr><tr class=\"other\">\n        <td class=\"fillremaining\">Other values (8945)</td>\n        <td class=\"number\">8945</td>\n        <td class=\"number\">0.0%</td>\n        <td>\n            <div class=\"bar\" style=\"width:100%\">&nbsp;</div>\n        </td>\n</tr>\n</table>\n        </div>\n        <div role=\"tabpanel\" class=\"tab-pane col-md-12\"  id=\"extreme-8139544016919160671\">\n            <p class=\"h4\">Minimum 5 values</p>\n            \n<table class=\"freq table table-hover\">\n    <thead>\n    <tr>\n        <td class=\"fillremaining\">Value</td>\n        <td class=\"number\">Count</td>\n        <td class=\"number\">Frequency (%)</td>\n        <td style=\"min-width:200px\">&nbsp;</td>\n    </tr>\n    </thead>\n    <tr class=\"\">\n        <td class=\"fillremaining\">1</td>\n        <td class=\"number\">1</td>\n        <td class=\"number\">0.0%</td>\n        <td>\n            <div class=\"bar\" style=\"width:100%\">&nbsp;</div>\n        </td>\n</tr><tr class=\"\">\n        <td class=\"fillremaining\">4</td>\n        <td class=\"number\">1</td>\n        <td class=\"number\">0.0%</td>\n        <td>\n            <div class=\"bar\" style=\"width:100%\">&nbsp;</div>\n        </td>\n</tr><tr class=\"\">\n        <td class=\"fillremaining\">7</td>\n        <td class=\"number\">1</td>\n        <td class=\"number\">0.0%</td>\n        <td>\n            <div class=\"bar\" style=\"width:100%\">&nbsp;</div>\n        </td>\n</tr><tr class=\"\">\n        <td class=\"fillremaining\">8</td>\n        <td class=\"number\">1</td>\n        <td class=\"number\">0.0%</td>\n        <td>\n            <div class=\"bar\" style=\"width:100%\">&nbsp;</div>\n        </td>\n</tr><tr class=\"\">\n        <td class=\"fillremaining\">11</td>\n        <td class=\"number\">1</td>\n        <td class=\"number\">0.0%</td>\n        <td>\n            <div class=\"bar\" style=\"width:100%\">&nbsp;</div>\n        </td>\n</tr>\n</table>\n            <p class=\"h4\">Maximum 5 values</p>\n            \n<table class=\"freq table table-hover\">\n    <thead>\n    <tr>\n        <td class=\"fillremaining\">Value</td>\n        <td class=\"number\">Count</td>\n        <td class=\"number\">Frequency (%)</td>\n        <td style=\"min-width:200px\">&nbsp;</td>\n    </tr>\n    </thead>\n    <tr class=\"\">\n        <td class=\"fillremaining\">19147</td>\n        <td class=\"number\">1</td>\n        <td class=\"number\">0.0%</td>\n        <td>\n            <div class=\"bar\" style=\"width:100%\">&nbsp;</div>\n        </td>\n</tr><tr class=\"\">\n        <td class=\"fillremaining\">19149</td>\n        <td class=\"number\">1</td>\n        <td class=\"number\">0.0%</td>\n        <td>\n            <div class=\"bar\" style=\"width:100%\">&nbsp;</div>\n        </td>\n</tr><tr class=\"\">\n        <td class=\"fillremaining\">19150</td>\n        <td class=\"number\">1</td>\n        <td class=\"number\">0.0%</td>\n        <td>\n            <div class=\"bar\" style=\"width:100%\">&nbsp;</div>\n        </td>\n</tr><tr class=\"\">\n        <td class=\"fillremaining\">19152</td>\n        <td class=\"number\">1</td>\n        <td class=\"number\">0.0%</td>\n        <td>\n            <div class=\"bar\" style=\"width:100%\">&nbsp;</div>\n        </td>\n</tr><tr class=\"\">\n        <td class=\"fillremaining\">19155</td>\n        <td class=\"number\">1</td>\n        <td class=\"number\">0.0%</td>\n        <td>\n            <div class=\"bar\" style=\"width:100%\">&nbsp;</div>\n        </td>\n</tr>\n</table>\n        </div>\n    </div>\n</div>\n</div><div class=\"row variablerow\">\n    <div class=\"col-md-3 namecol\">\n        <p class=\"h4 pp-anchor\" id=\"pp_var_last_new_job\">last_new_job<br/>\n            <small>Categorical</small>\n        </p>\n    </div><div class=\"col-md-3\">\n    <table class=\"stats \">\n        <tr class=\"\">\n            <th>Distinct count</th>\n            <td>6</td>\n        </tr>\n        <tr>\n            <th>Unique (%)</th>\n            <td>0.0%</td>\n        </tr>\n        <tr class=\"ignore\">\n            <th>Missing (%)</th>\n            <td>0.0%</td>\n        </tr>\n        <tr class=\"ignore\">\n            <th>Missing (n)</th>\n            <td>0</td>\n        </tr>\n    </table>\n</div>\n<div class=\"col-md-6 collapse in\" id=\"minifreqtable5391607699790031115\">\n    <table class=\"mini freq\">\n        <tr class=\"\">\n    <th>1</th>\n    <td>\n        <div class=\"bar\" style=\"width:100%\" data-toggle=\"tooltip\" data-placement=\"right\" data-html=\"true\"\n             data-delay=500 title=\"Percentage: 0.0%\">\n            3838\n        </div>\n        \n    </td>\n</tr><tr class=\"\">\n    <th>>4</th>\n    <td>\n        <div class=\"bar\" style=\"width:1%\" data-toggle=\"tooltip\" data-placement=\"right\" data-html=\"true\"\n             data-delay=500 title=\"Percentage: 0.0%\">\n            &nbsp;\n        </div>\n        1965\n    </td>\n</tr><tr class=\"\">\n    <th>2</th>\n    <td>\n        <div class=\"bar\" style=\"width:1%\" data-toggle=\"tooltip\" data-placement=\"right\" data-html=\"true\"\n             data-delay=500 title=\"Percentage: 0.0%\">\n            &nbsp;\n        </div>\n        1570\n    </td>\n</tr><tr class=\"other\">\n    <th>Other values (3)</th>\n    <td>\n        <div class=\"bar\" style=\"width:1%\" data-toggle=\"tooltip\" data-placement=\"right\" data-html=\"true\"\n             data-delay=500 title=\"Percentage: 0.0%\">\n            &nbsp;\n        </div>\n        1582\n    </td>\n</tr>\n    </table>\n</div>\n<div class=\"col-md-12 text-right\">\n    <a role=\"button\" data-toggle=\"collapse\" data-target=\"#freqtable5391607699790031115, #minifreqtable5391607699790031115\"\n       aria-expanded=\"true\" aria-controls=\"collapseExample\">\n        Toggle details\n    </a>\n</div>\n<div class=\"col-md-12 extrapadding collapse\" id=\"freqtable5391607699790031115\">\n    \n<table class=\"freq table table-hover\">\n    <thead>\n    <tr>\n        <td class=\"fillremaining\">Value</td>\n        <td class=\"number\">Count</td>\n        <td class=\"number\">Frequency (%)</td>\n        <td style=\"min-width:200px\">&nbsp;</td>\n    </tr>\n    </thead>\n    <tr class=\"\">\n        <td class=\"fillremaining\">1</td>\n        <td class=\"number\">3838</td>\n        <td class=\"number\">0.0%</td>\n        <td>\n            <div class=\"bar\" style=\"width:100%\">&nbsp;</div>\n        </td>\n</tr><tr class=\"\">\n        <td class=\"fillremaining\">>4</td>\n        <td class=\"number\">1965</td>\n        <td class=\"number\">0.0%</td>\n        <td>\n            <div class=\"bar\" style=\"width:1%\">&nbsp;</div>\n        </td>\n</tr><tr class=\"\">\n        <td class=\"fillremaining\">2</td>\n        <td class=\"number\">1570</td>\n        <td class=\"number\">0.0%</td>\n        <td>\n            <div class=\"bar\" style=\"width:1%\">&nbsp;</div>\n        </td>\n</tr><tr class=\"\">\n        <td class=\"fillremaining\">3</td>\n        <td class=\"number\">610</td>\n        <td class=\"number\">0.0%</td>\n        <td>\n            <div class=\"bar\" style=\"width:1%\">&nbsp;</div>\n        </td>\n</tr><tr class=\"\">\n        <td class=\"fillremaining\">4</td>\n        <td class=\"number\">599</td>\n        <td class=\"number\">0.0%</td>\n        <td>\n            <div class=\"bar\" style=\"width:1%\">&nbsp;</div>\n        </td>\n</tr><tr class=\"\">\n        <td class=\"fillremaining\">never</td>\n        <td class=\"number\">373</td>\n        <td class=\"number\">0.0%</td>\n        <td>\n            <div class=\"bar\" style=\"width:1%\">&nbsp;</div>\n        </td>\n</tr>\n</table>\n</div>\n</div><div class=\"row variablerow\">\n    <div class=\"col-md-3 namecol\">\n        <p class=\"h4 pp-anchor\" id=\"pp_var_major_discipline\">major_discipline<br/>\n            <small>Categorical</small>\n        </p>\n    </div><div class=\"col-md-3\">\n    <table class=\"stats \">\n        <tr class=\"\">\n            <th>Distinct count</th>\n            <td>6</td>\n        </tr>\n        <tr>\n            <th>Unique (%)</th>\n            <td>0.0%</td>\n        </tr>\n        <tr class=\"ignore\">\n            <th>Missing (%)</th>\n            <td>0.0%</td>\n        </tr>\n        <tr class=\"ignore\">\n            <th>Missing (n)</th>\n            <td>0</td>\n        </tr>\n    </table>\n</div>\n<div class=\"col-md-6 collapse in\" id=\"minifreqtable5975229016759465976\">\n    <table class=\"mini freq\">\n        <tr class=\"\">\n    <th>STEM</th>\n    <td>\n        <div class=\"bar\" style=\"width:100%\" data-toggle=\"tooltip\" data-placement=\"right\" data-html=\"true\"\n             data-delay=500 title=\"Percentage: 0.0%\">\n            7989\n        </div>\n        \n    </td>\n</tr><tr class=\"\">\n    <th>Humanities</th>\n    <td>\n        <div class=\"bar\" style=\"width:1%\" data-toggle=\"tooltip\" data-placement=\"right\" data-html=\"true\"\n             data-delay=500 title=\"Percentage: 0.0%\">\n            &nbsp;\n        </div>\n        378\n    </td>\n</tr><tr class=\"\">\n    <th>Other</th>\n    <td>\n        <div class=\"bar\" style=\"width:1%\" data-toggle=\"tooltip\" data-placement=\"right\" data-html=\"true\"\n             data-delay=500 title=\"Percentage: 0.0%\">\n            &nbsp;\n        </div>\n        177\n    </td>\n</tr><tr class=\"other\">\n    <th>Other values (3)</th>\n    <td>\n        <div class=\"bar\" style=\"width:1%\" data-toggle=\"tooltip\" data-placement=\"right\" data-html=\"true\"\n             data-delay=500 title=\"Percentage: 0.0%\">\n            &nbsp;\n        </div>\n        411\n    </td>\n</tr>\n    </table>\n</div>\n<div class=\"col-md-12 text-right\">\n    <a role=\"button\" data-toggle=\"collapse\" data-target=\"#freqtable5975229016759465976, #minifreqtable5975229016759465976\"\n       aria-expanded=\"true\" aria-controls=\"collapseExample\">\n        Toggle details\n    </a>\n</div>\n<div class=\"col-md-12 extrapadding collapse\" id=\"freqtable5975229016759465976\">\n    \n<table class=\"freq table table-hover\">\n    <thead>\n    <tr>\n        <td class=\"fillremaining\">Value</td>\n        <td class=\"number\">Count</td>\n        <td class=\"number\">Frequency (%)</td>\n        <td style=\"min-width:200px\">&nbsp;</td>\n    </tr>\n    </thead>\n    <tr class=\"\">\n        <td class=\"fillremaining\">STEM</td>\n        <td class=\"number\">7989</td>\n        <td class=\"number\">0.0%</td>\n        <td>\n            <div class=\"bar\" style=\"width:100%\">&nbsp;</div>\n        </td>\n</tr><tr class=\"\">\n        <td class=\"fillremaining\">Humanities</td>\n        <td class=\"number\">378</td>\n        <td class=\"number\">0.0%</td>\n        <td>\n            <div class=\"bar\" style=\"width:1%\">&nbsp;</div>\n        </td>\n</tr><tr class=\"\">\n        <td class=\"fillremaining\">Other</td>\n        <td class=\"number\">177</td>\n        <td class=\"number\">0.0%</td>\n        <td>\n            <div class=\"bar\" style=\"width:1%\">&nbsp;</div>\n        </td>\n</tr><tr class=\"\">\n        <td class=\"fillremaining\">Business Degree</td>\n        <td class=\"number\">170</td>\n        <td class=\"number\">0.0%</td>\n        <td>\n            <div class=\"bar\" style=\"width:1%\">&nbsp;</div>\n        </td>\n</tr><tr class=\"\">\n        <td class=\"fillremaining\">Arts</td>\n        <td class=\"number\">129</td>\n        <td class=\"number\">0.0%</td>\n        <td>\n            <div class=\"bar\" style=\"width:1%\">&nbsp;</div>\n        </td>\n</tr><tr class=\"\">\n        <td class=\"fillremaining\">No Major</td>\n        <td class=\"number\">112</td>\n        <td class=\"number\">0.0%</td>\n        <td>\n            <div class=\"bar\" style=\"width:1%\">&nbsp;</div>\n        </td>\n</tr>\n</table>\n</div>\n</div><div class=\"row variablerow\">\n    <div class=\"col-md-3 namecol\">\n        <p class=\"h4 pp-anchor\" id=\"pp_var_relevent_experience\">relevent_experience<br/>\n            <small>Categorical</small>\n        </p>\n    </div><div class=\"col-md-3\">\n    <table class=\"stats \">\n        <tr class=\"\">\n            <th>Distinct count</th>\n            <td>2</td>\n        </tr>\n        <tr>\n            <th>Unique (%)</th>\n            <td>0.0%</td>\n        </tr>\n        <tr class=\"ignore\">\n            <th>Missing (%)</th>\n            <td>0.0%</td>\n        </tr>\n        <tr class=\"ignore\">\n            <th>Missing (n)</th>\n            <td>0</td>\n        </tr>\n    </table>\n</div>\n<div class=\"col-md-6 collapse in\" id=\"minifreqtable3627571020609653225\">\n    <table class=\"mini freq\">\n        <tr class=\"\">\n    <th>Has relevent experience</th>\n    <td>\n        <div class=\"bar\" style=\"width:100%\" data-toggle=\"tooltip\" data-placement=\"right\" data-html=\"true\"\n             data-delay=500 title=\"Percentage: 0.0%\">\n            7851\n        </div>\n        \n    </td>\n</tr><tr class=\"\">\n    <th>No relevent experience</th>\n    <td>\n        <div class=\"bar\" style=\"width:1%\" data-toggle=\"tooltip\" data-placement=\"right\" data-html=\"true\"\n             data-delay=500 title=\"Percentage: 0.0%\">\n            &nbsp;\n        </div>\n        1104\n    </td>\n</tr>\n    </table>\n</div>\n<div class=\"col-md-12 text-right\">\n    <a role=\"button\" data-toggle=\"collapse\" data-target=\"#freqtable3627571020609653225, #minifreqtable3627571020609653225\"\n       aria-expanded=\"true\" aria-controls=\"collapseExample\">\n        Toggle details\n    </a>\n</div>\n<div class=\"col-md-12 extrapadding collapse\" id=\"freqtable3627571020609653225\">\n    \n<table class=\"freq table table-hover\">\n    <thead>\n    <tr>\n        <td class=\"fillremaining\">Value</td>\n        <td class=\"number\">Count</td>\n        <td class=\"number\">Frequency (%)</td>\n        <td style=\"min-width:200px\">&nbsp;</td>\n    </tr>\n    </thead>\n    <tr class=\"\">\n        <td class=\"fillremaining\">Has relevent experience</td>\n        <td class=\"number\">7851</td>\n        <td class=\"number\">0.0%</td>\n        <td>\n            <div class=\"bar\" style=\"width:100%\">&nbsp;</div>\n        </td>\n</tr><tr class=\"\">\n        <td class=\"fillremaining\">No relevent experience</td>\n        <td class=\"number\">1104</td>\n        <td class=\"number\">0.0%</td>\n        <td>\n            <div class=\"bar\" style=\"width:1%\">&nbsp;</div>\n        </td>\n</tr>\n</table>\n</div>\n</div><div class=\"row variablerow\">\n    <div class=\"col-md-3 namecol\">\n        <p class=\"h4 pp-anchor\" id=\"pp_var_target\">target<br/>\n            <small>Boolean</small>\n        </p>\n    </div><div class=\"col-md-6\">\n    <div class=\"row\">\n        <div class=\"col-sm-6\">\n            <table class=\"stats \">\n                <tr class=\"\">\n                    <th>Distinct count</th>\n                    <td>2</td>\n                </tr>\n                <tr>\n                    <th>Unique (%)</th>\n                    <td>0.0%</td>\n                </tr>\n                <tr class=\"ignore\">\n                    <th>Missing (%)</th>\n                    <td>0.0%</td>\n                </tr>\n                <tr class=\"ignore\">\n                    <th>Missing (n)</th>\n                    <td>0</td>\n                </tr>\n            </table>\n        </div>\n        <div class=\"col-sm-6\">\n            <table class=\"stats \">\n                <tr>\n                    <th>Mean</th>\n                    <td>0.16561</td>\n                </tr>\n            </table>\n        </div>\n    </div>\n</div>\n<div class=\"col-md-3 collapse in\" id=\"minifreqtable-6670932829574814875\">\n    <table class=\"mini freq\">\n        <tr class=\"\">\n    <th>0.0</th>\n    <td>\n        <div class=\"bar\" style=\"width:100%\" data-toggle=\"tooltip\" data-placement=\"right\" data-html=\"true\"\n             data-delay=500 title=\"Percentage: 0.0%\">\n            7472\n        </div>\n        \n    </td>\n</tr><tr class=\"\">\n    <th>1.0</th>\n    <td>\n        <div class=\"bar\" style=\"width:1%\" data-toggle=\"tooltip\" data-placement=\"right\" data-html=\"true\"\n             data-delay=500 title=\"Percentage: 0.0%\">\n            &nbsp;\n        </div>\n        1483\n    </td>\n</tr>\n    </table>\n</div>\n<div class=\"col-md-12 text-right\">\n    <a role=\"button\" data-toggle=\"collapse\" data-target=\"#freqtable-6670932829574814875, #minifreqtable-6670932829574814875\"\n        aria-expanded=\"true\" aria-controls=\"collapseExample\">\n        Toggle details\n    </a>\n</div>\n<div class=\"col-md-12 extrapadding collapse\" id=\"freqtable-6670932829574814875\">\n    \n<table class=\"freq table table-hover\">\n    <thead>\n    <tr>\n        <td class=\"fillremaining\">Value</td>\n        <td class=\"number\">Count</td>\n        <td class=\"number\">Frequency (%)</td>\n        <td style=\"min-width:200px\">&nbsp;</td>\n    </tr>\n    </thead>\n    <tr class=\"\">\n        <td class=\"fillremaining\">0.0</td>\n        <td class=\"number\">7472</td>\n        <td class=\"number\">0.0%</td>\n        <td>\n            <div class=\"bar\" style=\"width:100%\">&nbsp;</div>\n        </td>\n</tr><tr class=\"\">\n        <td class=\"fillremaining\">1.0</td>\n        <td class=\"number\">1483</td>\n        <td class=\"number\">0.0%</td>\n        <td>\n            <div class=\"bar\" style=\"width:1%\">&nbsp;</div>\n        </td>\n</tr>\n</table>\n</div>\n</div><div class=\"row variablerow\">\n    <div class=\"col-md-3 namecol\">\n        <p class=\"h4 pp-anchor\" id=\"pp_var_training_hours\">training_hours<br/>\n            <small>Numeric</small>\n        </p>\n    </div><div class=\"col-md-6\">\n    <div class=\"row\">\n        <div class=\"col-sm-6\">\n            <table class=\"stats \">\n                <tr>\n                    <th>Distinct count</th>\n                    <td>241</td>\n                </tr>\n                <tr>\n                    <th>Unique (%)</th>\n                    <td>0.0%</td>\n                </tr>\n                <tr class=\"ignore\">\n                    <th>Missing (%)</th>\n                    <td>0.0%</td>\n                </tr>\n                <tr class=\"ignore\">\n                    <th>Missing (n)</th>\n                    <td>0</td>\n                </tr>\n                <tr class=\"ignore\">\n                    <th>Infinite (%)</th>\n                    <td>0.0%</td>\n                </tr>\n                <tr class=\"ignore\">\n                    <th>Infinite (n)</th>\n                    <td>0</td>\n                </tr>\n            </table>\n\n        </div>\n        <div class=\"col-sm-6\">\n            <table class=\"stats \">\n\n                <tr>\n                    <th>Mean</th>\n                    <td>65.075</td>\n                </tr>\n                <tr>\n                    <th>Minimum</th>\n                    <td>1</td>\n                </tr>\n                <tr>\n                    <th>Maximum</th>\n                    <td>336</td>\n                </tr>\n                <tr class=\"ignore\">\n                    <th>Zeros (%)</th>\n                    <td>0.0%</td>\n                </tr>\n            </table>\n        </div>\n    </div>\n</div>\n<div class=\"col-md-3 collapse in\" id=\"minihistogram7490240464251127472\">\n    <img src=\"data:image/png;base64,iVBORw0KGgoAAAANSUhEUgAAAMgAAABLCAYAAAA1fMjoAAAABHNCSVQICAgIfAhkiAAAAAlwSFlzAAAPYQAAD2EBqD%2BnaQAAADl0RVh0U29mdHdhcmUAbWF0cGxvdGxpYiB2ZXJzaW9uIDIuMi4zLCBodHRwOi8vbWF0cGxvdGxpYi5vcmcvIxREBQAAAS1JREFUeJzt2sFpw0AQQFHLpKQU4Z5yTk8pIj1t7iZ8LIHQWnrvbtiDPuNlZxljjBvwr/vRB4CZfRx9gGefXz%2Brf/P7/djhJGCCQBIIBIFAEAgEgUAQCASBQBAIBIFAEAgEgUAQCASBQBAIhOnW3bewIs9eTBAIAoEgEAgCgSAQCAKBIBAIAoEgEAgCgSAQCAKBcIplxS0sOPIKEwSCQCAIBIJAIAgEgkAgCASCQCBc9qFwi7WPix4W358JAkEgEPzF2pF9r/dngkAQCASBQHAHmYx7y1wEcgKzvs%2BcIXaBXNCWD/eqljHGOPoQMCuXdAgCgSAQCAKBIBAIAoEgEAgCgSAQCAKBIBAIAoEgEAgCgSAQCAKBIBAIAoEgEAgCgSAQCAKBIBAIAoEgEAh/iv8iBMcoEzcAAAAASUVORK5CYII%3D\">\n\n</div>\n<div class=\"col-md-12 text-right\">\n    <a role=\"button\" data-toggle=\"collapse\" data-target=\"#descriptives7490240464251127472,#minihistogram7490240464251127472\"\n       aria-expanded=\"false\" aria-controls=\"collapseExample\">\n        Toggle details\n    </a>\n</div>\n<div class=\"row collapse col-md-12\" id=\"descriptives7490240464251127472\">\n    <ul class=\"nav nav-tabs\" role=\"tablist\">\n        <li role=\"presentation\" class=\"active\"><a href=\"#quantiles7490240464251127472\"\n                                                  aria-controls=\"quantiles7490240464251127472\" role=\"tab\"\n                                                  data-toggle=\"tab\">Statistics</a></li>\n        <li role=\"presentation\"><a href=\"#histogram7490240464251127472\" aria-controls=\"histogram7490240464251127472\"\n                                   role=\"tab\" data-toggle=\"tab\">Histogram</a></li>\n        <li role=\"presentation\"><a href=\"#common7490240464251127472\" aria-controls=\"common7490240464251127472\"\n                                   role=\"tab\" data-toggle=\"tab\">Common Values</a></li>\n        <li role=\"presentation\"><a href=\"#extreme7490240464251127472\" aria-controls=\"extreme7490240464251127472\"\n                                   role=\"tab\" data-toggle=\"tab\">Extreme Values</a></li>\n\n    </ul>\n\n    <div class=\"tab-content\">\n        <div role=\"tabpanel\" class=\"tab-pane active row\" id=\"quantiles7490240464251127472\">\n            <div class=\"col-md-4 col-md-offset-1\">\n                <p class=\"h4\">Quantile statistics</p>\n                <table class=\"stats indent\">\n                    <tr>\n                        <th>Minimum</th>\n                        <td>1</td>\n                    </tr>\n                    <tr>\n                        <th>5-th percentile</th>\n                        <td>7</td>\n                    </tr>\n                    <tr>\n                        <th>Q1</th>\n                        <td>23</td>\n                    </tr>\n                    <tr>\n                        <th>Median</th>\n                        <td>47</td>\n                    </tr>\n                    <tr>\n                        <th>Q3</th>\n                        <td>88</td>\n                    </tr>\n                    <tr>\n                        <th>95-th percentile</th>\n                        <td>188</td>\n                    </tr>\n                    <tr>\n                        <th>Maximum</th>\n                        <td>336</td>\n                    </tr>\n                    <tr>\n                        <th>Range</th>\n                        <td>335</td>\n                    </tr>\n                    <tr>\n                        <th>Interquartile range</th>\n                        <td>65</td>\n                    </tr>\n                </table>\n            </div>\n            <div class=\"col-md-4 col-md-offset-2\">\n                <p class=\"h4\">Descriptive statistics</p>\n                <table class=\"stats indent\">\n                    <tr>\n                        <th>Standard deviation</th>\n                        <td>60.235</td>\n                    </tr>\n                    <tr>\n                        <th>Coef of variation</th>\n                        <td>0.92563</td>\n                    </tr>\n                    <tr>\n                        <th>Kurtosis</th>\n                        <td>3.9772</td>\n                    </tr>\n                    <tr>\n                        <th>Mean</th>\n                        <td>65.075</td>\n                    </tr>\n                    <tr>\n                        <th>MAD</th>\n                        <td>44.298</td>\n                    </tr>\n                    <tr class=\"\">\n                        <th>Skewness</th>\n                        <td>1.8496</td>\n                    </tr>\n                    <tr>\n                        <th>Sum</th>\n                        <td>582746</td>\n                    </tr>\n                    <tr>\n                        <th>Variance</th>\n                        <td>3628.3</td>\n                    </tr>\n                    <tr>\n                        <th>Memory size</th>\n                        <td>70.0 KiB</td>\n                    </tr>\n                </table>\n            </div>\n        </div>\n        <div role=\"tabpanel\" class=\"tab-pane col-md-8 col-md-offset-2\" id=\"histogram7490240464251127472\">\n            <img src=\"data:image/png;base64,iVBORw0KGgoAAAANSUhEUgAAAlgAAAGQCAYAAAByNR6YAAAABHNCSVQICAgIfAhkiAAAAAlwSFlzAAAPYQAAD2EBqD%2BnaQAAADl0RVh0U29mdHdhcmUAbWF0cGxvdGxpYiB2ZXJzaW9uIDIuMi4zLCBodHRwOi8vbWF0cGxvdGxpYi5vcmcvIxREBQAAIABJREFUeJzt3XtU1OWi//HPwHgBE2ZEcWeSZW3DYOhm3lOhckkXt8sNYnWOu7MtPW4StG1TXrdlLUrTOOrq4raVdnbnxCF0L%2BscSVN3uVO76CkFyrPLLmo7QBjk4oUYvr8/%2Bjm7CVSshxkG3q%2B1WC6eZ%2BbL8/34qB%2B/32GwWZZlCQAAAMaEBXsBAAAA7Q0FCwAAwDAKFgAAgGEULAAAAMMoWAAAAIZRsAAAAAyjYAEAABhGwQIAADCMggUAAGAYBQsAAMAwChYAAIBhFCwAAADDKFgAAACGUbAAAAAMo2ABAAAYRsECAAAwjIIFAABgGAULAADAMAoWAACAYRQsAAAAwyhYAAAAhlGwAAAADKNgAQAAGEbBAgAAMIyCBQAAYBgFCwAAwDAKFgAAgGEULAAAAMMoWAAAAIZRsAAAAAyjYAEAABhGwQIAADCMggUAAGAYBQsAAMAwChYAAIBhFCwAAADDKFgAAACGUbAAAAAMo2ABAAAYZg/2AjqK8vIao8cLC7OpR49uqqysU2OjZfTYoYIMyEAiA4kMJDKQyEBqPoNevboHZy1B%2Bar42cLCbLLZbAoLswV7KUFDBmQgkYFEBhIZSGQgta0MKFgAAACGUbAAAAAMo2ABAAAYRsECAAAwjIIFAABgWMgWrE8%2B%2BUT33nuvBg0apKFDhyo7O1tlZWU6fPiwrrrqKrlcLr%2BPzZs3%2B567fv16JScnKykpSenp6SouLvbNnT59WosWLdLgwYN13XXXKSsrS5WVlcE4RQAAEKJCsmCdPn1aU6dO1Y033qhdu3bpjTfe0LFjx7R48WLV1NSoU6dOOnDggN9HamqqJGnr1q3Kzc1VTk6O3nvvPY0ePVrTp0/XiRMnJEnLli3Tvn37VFBQoO3bt6u%2Bvl7z5s0L5ukCAIAQE5IF69SpU5o9e7amT5%2Buzp07q2fPnho3bpw%2B%2B%2BwzHT9%2BXNHR0Wd9bn5%2BvtLS0jR06FBFREQoMzNTNptN27ZtU0NDgzZu3KhZs2YpLi5OTqdTbrdbO3bsUGlpaQDPEAAAhLKQLFjR0dFKT0%2BX3W6XZVk6dOiQNm7cqNTUVFVXV6uxsVHTpk3TjTfeqLFjx2rt2rWyrO/f0bWkpEQJCQm%2BY9lsNsXHx6u4uFhff/21amtr/eb79%2B%2BviIgIv9uIAAAA5xLSPyrn6NGjGjt2rLxerzIyMpSdna2//OUvuvTSSzV58mStXLlSe/fuVVZWlq%2BUeTweORwOv%2BNER0ersrJSHo/H9/kPRUVFXdDrsMrKylReXu43ZrdHKjY29ieeaVPh4WF%2Bv3ZEZEAGEhlIZCCRgUQGUtvKIKQL1iWXXKKioiJ99dVXWrhwoR566CEtX75cKSkpvseMGDFCGRkZKigoUHp6umy25t8%2B/2zjLZ3/oby8PK1evdpvLDMzU1lZWS0%2BRktFRUUYP2aoIQMykMhAIgOJDCQykNpGBiFdsKTvi89ll10mt9uttLQ0zZ8/Xz169PB7TN%2B%2BfbVlyxZJktPpVFVVld%2B8x%2BPRgAEDFBMTI0mqqqpSZGSkJMmyLFVVVfnmWiIjI8Ov5EnfX8HyeOou%2BPzOJjw8TFFREaquPimvt9HYcUMJGZCBRAYSGUhkIJGB1HwGTme3oKwlJAvW7t27tXDhQhUWFspu//4UGhu/D/KDDz7QsWPHdM899/gef%2BjQIcXFxUmSXC6XioqKNGHCBEmS1%2BtVSUmJ0tLSFBcXJ4fDoeLiYvXp00eSdPDgQdXX1ysxMbHF64uNjW1yO7C8vEYNDeY3vNfb2CrHDSVkQAYSGUhkIJGBRAZS28ggJAtWYmKiTp48qeXLlysrK0snT57UqlWrNGjQIHXq1ElLly7VZZddpiFDhuj9999XQUGBli1bJkmaPHmysrOzdcstt8jlcunZZ59V165dlZKSovDwcE2aNEm5ubmKj49XZGSkcnJyNG7cOPXs2TPIZ928W5/eGewltNjmWSOCvQQAAAIiJAtW9%2B7dtXbtWj311FO66aabZLfbNWTIED3xxBPq3bu35s2bp8cee0ylpaXq27evFi5cqFtuuUWSNGrUKLndbs2dO1cVFRVKTEzUmjVr1KVLF0nSzJkzVVdXp4kTJ8rr9So5OVmLFy8O4tkCAIBQY7POvH8BWlV5eY3R49ntYXI6u2nQ/EKjx21Npq9gncnA46kL%2BqXgYCEDMpDIQCIDiQyk5jPo1at7UNYS/O9jBAAAaGcoWAAAAIZRsAAAAAyjYAEAABhGwQIAADCMggUAAGAYBQsAAMAwChYAAIBhFCwAAADDKFgAAACGUbAAAAAMo2ABAAAYRsECAAAwjIIFAABgGAULAADAMAoWAACAYRQsAAAAwyhYAAAAhlGwAAAADKNgAQAAGEbBAgAAMIyCBQAAYBgFCwAAwDAKFgAAgGEULAAAAMMoWAAAAIZRsAAAAAyjYAEAABhGwQIAADCMggUAAGAYBQsAAMAwChYAAIBhFCwAAADDQrZgffLJJ7r33ns1aNAgDR06VNnZ2SorK5Mk7d69W%2BPHj5fL5dKtt96qTZs2%2BT13/fr1Sk5OVlJSktLT01VcXOybO336tBYtWqTBgwfruuuuU1ZWliorKwN6bgAAILSFZME6ffq0pk6dqhtvvFG7du3SG2%2B8oWPHjmnx4sUqLS3VjBkzlJaWpvfff1/z58/XwoULtX//fknS1q1blZubq5ycHL333nsaPXq0pk%2BfrhMnTkiSli1bpn379qmgoEDbt29XfX295s2bF8zTBQAAISYkC9apU6c0e/ZsTZ8%2BXZ07d1bPnj01btw4ffbZZ3r99dfVr18/TZkyRRERERozZoxuvvlm5efnS5Ly8/OVlpamoUOHKiIiQpmZmbLZbNq2bZsaGhq0ceNGzZo1S3FxcXI6nXK73dqxY4dKS0uDfNYAACBUhGTBio6OVnp6uux2uyzL0qFDh7Rx40alpqaqpKRECQkJfo8fOHCg7zbgj%2BdtNpvi4%2BNVXFysr7/%2BWrW1tX7z/fv3V0REhN9tRAAAgHOxB3sBP8fRo0c1duxYeb1eZWRkKDs7W1OnTlV8fLzf4xwOh%2B91VB6PRw6Hw28%2BOjpalZWV8ng8vs9/KCoq6oJeh1VWVqby8nK/Mbs9UrGxsS0%2BxvmEh4deN7bbza75TAahmIUpZEAGEhlIZCCRgdS2MgjpgnXJJZeoqKhIX331lRYuXKiHHnrorI%2B12Wx%2Bv55t/nzPb4m8vDytXr3abywzM1NZWVktPkZ75HR2a5XjRkVFtMpxQwkZkIFEBhIZSGQgtY0MQrpgSd8Xn8suu0xut1tpaWkaPXq0qqqq/B7j8XjUo0cPSZLT6Wx2fsCAAYqJiZEkVVVVKTIyUpJkWZaqqqp8cy2RkZGhlJQUvzG7PVIeT90Fn9/ZhIeHtYkNdCFMnr/0jwyqq0/K6200euxQQQZkIJGBRAYSGUjNZ9Ba/7k/n5AsWLt379bChQtVWFgou/37U2hs/D7I4cOHa8OGDX6P379/v5KSkiRJLpdLRUVFmjBhgiTJ6/WqpKREaWlpiouLk8PhUHFxsfr06SNJOnjwoOrr65WYmNji9cXGxja5HVheXqOGho654c9orfP3ehs7fLZkQAYSGUhkIJGB1DYyCP5Nyp8gMTFRJ0%2Be1PLly3Xy5ElVVlZq1apVGjRokO68804dPXpU69at06lTp1RYWKh33nlHGRkZkqTJkyeroKBAe/bsUV1dnVasWKGuXbsqJSVF4eHhmjRpknJzc3X48GFVVFQoJydH48aNU8%2BePYN81gAAIFSE5BWs7t27a%2B3atXrqqad00003yW63a8iQIXriiScUExOjF154QUuWLNHy5cvVp08fLV%2B%2B3PfC91GjRsntdmvu3LmqqKhQYmKi1qxZoy5dukiSZs6cqbq6Ok2cOFFer1fJyclavHhxEM8WAACEGptlWVawF9ERlJfXGD2e3R4mp7ObBs0vNHrc1rR51gijxzuTgcdTF/RLwcFCBmQgkYFEBhIZSM1n0KtX96CsJSRvEQIAALRlFCwAAADDKFgAAACGUbAAAAAMo2ABAAAYRsECAAAwjIIFAABgGAULAADAMAoWAACAYRQsAAAAwyhYAAAAhlGwAAAADKNgAQAAGEbBAgAAMIyCBQAAYBgFCwAAwDAKFgAAgGEULAAAAMMoWAAAAIZRsAAAAAyjYAEAABhGwQIAADCMggUAAGAYBQsAAMAwChYAAIBhFCwAAADDKFgAAACGUbAAAAAMo2ABAAAYRsECAAAwjIIFAABgGAULAADAMAoWAACAYSFbsI4cOaIZM2Zo8ODBGjZsmNxut44fP67Dhw/rqquuksvl8vvYvHmz77nr169XcnKykpKSlJ6eruLiYt/c6dOntWjRIg0ePFjXXXedsrKyVFlZGYxTBAAAISpkC9aMGTPkcDi0Y8cObdq0SV988YWWLl2qmpoaderUSQcOHPD7SE1NlSRt3bpVubm5ysnJ0XvvvafRo0dr%2BvTpOnHihCRp2bJl2rdvnwoKCrR9%2B3bV19dr3rx5wTxVAAAQYkKyYNXU1CgxMVFz5sxRt27d1KtXL02YMEEffvihjh8/rujo6LM%2BNz8/X2lpaRo6dKgiIiKUmZkpm82mbdu2qaGhQRs3btSsWbMUFxcnp9Mpt9utHTt2qLS0NIBnCAAAQllIFqzu3bsrJydHMTExvrGjR4/q4osvVnV1tRobGzVt2jTdeOONGjt2rNauXSvLsiRJJSUlSkhI8D3PZrMpPj5excXF%2Bvrrr1VbW%2Bs3379/f0VERPjdRgQAADgXe7AXYMKBAwf0yiuvaOXKlfJ6vbr00ks1efJkrVy5Unv37lVWVpaio6OVnp4uj8cjh8Ph9/zo6GhVVlbK4/H4Pv%2BhqKioC3odVllZmcrLy/3G7PZIxcbG/sQzbCo8PPS6sd1uds1nMgjFLEwhAzKQyEAiA4kMpLaVQcgXrL1792rGjBlyu90aPXq0JCklJcU3P2LECGVkZKigoEDp6emy2WzNHuds4y2d/6G8vDytXr3abywzM1NZWVktPkZ75HR2a5XjRkVFtMpxQwkZkIFEBhIZSGQgtY0MQrpg7dixQw899JAeffRR3X777Wd9XN%2B%2BfbVlyxZJktPpVFVVld%2B8x%2BPRgAEDfLccq6qqFBkZKUmyLEtVVVV%2BtyPPJyMjw6/kSd9fwfJ46lp8jPMJDw9rExvoQpg8f%2BkfGVRXn5TX22j02KGCDMhAIgOJDCQykJrPoLX%2Bc38%2BIVuw9u3bp4cfflgrV67U8OHDfeNvvvmmjh07pnvuucc3dujQIcXFxUmSXC6XioqKNGHCBEmS1%2BtVSUmJ0tLSFBcXJ4fDoeLiYvXp00eSdPDgQdXX1ysxMbHFa4uNjW1yO7C8vEYNDR1zw5/RWufv9TZ2%2BGzJgAwkMpDIQCIDqW1kEPyblD9BQ0ODFixYoOzsbL9yJUmdOnXS0qVL9e6776qhoUG7du1SQUGBr3BNnjxZBQUF2rNnj%2Brq6rRixQp17dpVKSkpCg8P16RJk5Sbm6vDhw%2BroqJCOTk5GjdunHr27BmMUwUAACEoJK9gffTRR/r888/15JNP6sknn/SbKyws1Lx58/TYY4%2BptLRUffv21cKFC3XLLbdIkkaNGiW32625c%2BeqoqJCiYmJWrNmjbp06SJJmjlzpurq6jRx4kR5vV4lJydr8eLFgT5FAAAQwmzWmfcvQKsqL68xejy7PUxOZzcNml9o9LitafOsEUaPdyYDj6cu6JeCg4UMyEAiA4kMJDKQms%2BgV6/uQVlLSN4iBAAAaMsoWAAAAIZRsAAAAAyjYAEAABhGwQIAADAsJN%2BmAaEpNffdYC/hgpj%2BrkcAQMfBFSwAAADDKFgAAACGUbAAAAAMo2ABAAAYRsECAAAwjIIFAABgGAULAADAMAoWAACAYRQsAAAAwyhYAAAAhlGwAAAADKNgAQAAGEbBAgAAMIyCBQAAYFjAC1ZNTU2gvyQAAEBABbxgjRw5Ug8//LA%2B/PDDQH9pAACAgAh4wXr00UdVUVGhe%2B%2B9V6mpqXrppZdUWVkZ6GUAAAC0moAXrAkTJmjt2rV65513dPfdd%2BvNN9/UmDFjNHv2bO3evTvQywEAADAuaC9y79Gjh/75n/9Zr776qp566int2rVLv/3tb5WamqotW7YEa1kAAAA/mz1YX7iyslIbNmzQhg0b9NVXX2n48OHKyMjQsWPHtGjRIn399de67777grU8AACAnyzgBWvnzp3Kz8/X9u3b5XA49Otf/1rp6enq27ev7zFXX3217r//fgoWAAAISQEvWNOmTdOQIUP09NNP65ZbbpHd3nQJSUlJio2NDfTSAAAAjAh4wSosLFS/fv1UX1/vK1e1tbW66KKL/B73%2BuuvB3ppAAAARgT8Re7h4eG64447tH37dt/Yf/3Xfyk1NVWHDx8O9HIAAACMC3jBeuKJJ/TLX/5SN9xwg29s/Pjxuuaaa/TEE08EejkAAADGBfwW4d69e/X2228rIiLCN9azZ08tWrRIY8aMCfRyAAAAjAv4FSzLslRfX99kvK6uTo2NjYFeDgAAgHEBL1gjRoyQ2%2B1WSUmJqqurVVVVpb179%2BrBBx/UyJEjW3ycI0eOaMaMGRo8eLCGDRsmt9ut48ePS5J2796t8ePHy%2BVy6dZbb9WmTZv8nrt%2B/XolJycrKSlJ6enpKi4u9s2dPn1aixYt0uDBg3XdddcpKyuLH%2BUDAAAuSMAL1sKFC1VfX6%2BJEydqyJAhGjZsmP7pn/5J4eHhWrBgQYuPM2PGDDkcDu3YsUObNm3SF198oaVLl6q0tFQzZsxQWlqa3n//fc2fP18LFy7U/v37JUlbt25Vbm6ucnJy9N5772n06NGaPn26Tpw4IUlatmyZ9u3bp4KCAm3fvl319fWaN29eq2QBAADap4C/BismJkYvvfSSPvvsM3355ZeSpMsvv1xXXHFFi49RU1OjxMREzZkzR926dVO3bt00YcIEvfzyy3r99dfVr18/TZkyRZI0ZswY3XzzzcrPz1dSUpLy8/OVlpamoUOHSpIyMzOVl5enbdu2KTU1VRs3btRTTz2luLg4SZLb7VZqaqpKS0vVu3dvs2EAAIB2KWg/KufKK6/UlVde%2BZOe2717d%2BXk5PiNHT16VBdffLFKSkqUkJDgNzdw4EBt3rxZklRSUqLbbrvNN2ez2RQfH6/i4mIlJCSotrbW7/n9%2B/dXRESEiouLKVgAAKBFAl6wDhw4oCVLluhvf/ubTp061WT%2Bk08%2B%2BUnHfOWVV7Ry5UqtW7dO8fHxfvMOh8P3OiqPxyOHw%2BE3Hx0drcrKSnk8Ht/nPxQVFXVBr8MqKytTeXm535jdHmn03enDw4P2c7o7DLu97Wd8Zh905P1ABmQgkYFEBlLbyiDgBWvRokXq3LmzsrOz1bVr1599vL1792rGjBlyu90aPXq01q1b1%2BzjbDab369nmz%2Bb883/UF5enlavXu03lpmZqaysrBYfA8HndHYL9hJaLCoq4vwPaufIgAwkMpDIQGobGQS8YH3xxRfatWuXIiMjf/axduzYoYceekiPPvqobr/9dklSjx49VFVV5fc4j8ejHj16SJKcTmez8wMGDFBMTIwkqaqqyrc%2By7JUVVXlm2uJjIwMpaSk%2BI3Z7ZHyeOou7ATPITw8rE1soPbM5O9XazmzD6qrT8rr7Zhvc0IGZCCRgUQGUvMZBOs/ywEvWL/4xS%2BMvN/Vvn379PDDD2vlypUaPny4b9zlcmnDhg1%2Bj92/f7%2BSkpJ880VFRZowYYIkyev1qqSkRGlpaYqLi5PD4VBxcbH69OkjSTp48KDq6%2BuVmJjY4rXFxsY2uR1YXl6jhoaOueFDVSj9fnm9jSG13tZABmQgkYFEBlLbyCDgNynnzJmjnJwc1dbW/uRjNDQ0aMGCBcrOzvYrV5J055136ujRo1q3bp1OnTqlwsJCvfPOO8rIyJAkTZ48WQUFBdqzZ4/q6uq0YsUKde3aVSkpKQoPD9ekSZOUm5urw4cPq6KiQjk5ORo3bpx69uz5s84bAAB0HAG/gvXss8/qyJEj2rhxoxwOh8LC/DveX//61/Me46OPPtLnn3%2BuJ598Uk8%2B%2BaTfXGFhoV544QUtWbJEy5cvV58%2BfbR8%2BXLfC99HjRolt9utuXPnqqKiQomJiVqzZo26dOkiSZo5c6bq6uo0ceJEeb1eJScna/HixWZOHgAAdAg2y7KsQH7BZ555Rp06dTrr/AMPPBDA1QROeXmN0ePZ7WFyOrtp0PxCo8fFP2yeNSLYSzivM/vA46kL%2BuXwYCEDMpDIQCIDqfkMevXqHpy1BPoLzp49O9BfEgAAIKCC8kYRH3/8sebOnavf/OY3kqTGxkbfG4ECAACEuoAXrG3btunuu%2B%2BWx%2BPRvn37JEnffvutFi1apPz8/EAvBwAAwLiAF6znn39ey5Yt0/PPP%2B97884%2Bffr43oUdAAAg1AW8YH3xxRcaO3asJP93Rx8yZIiOHj0a6OUAAAAYF/CC1alTpybvpC5JX375pZEfnQMAABBsAS9YY8aM0YIFC/T5559L%2Bv7H1OzcuVOzZs1ScnJyoJcDAABgXMAL1ty5c2VZlm6//XadPn1aw4cP1/33368%2BffrokUceCfRyAAAAjAv4%2B2BFRUXphRde0Oeff64vvvhCYWFhuvzyy3X55ZcHeikAAACtIuAF64wrrrhCV1xxhd9YY2Njkx%2BdAwAAEGoCXrDi4%2BP9vnvwxz755JMArgYAAMC8gBesP/zhD34Fq7GxUUePHtVbb72l%2B%2B67L9DLAQAAMC7gBeuuu%2B5qdjwtLU3PPPOM0tPTA7wiAAAAs9rMC54uv/xy/e1vfwv2MgAAAH62NlOw/vd//1c1NTXBXgYAAMDPFvBbhCNHjmwy9t1336m6ulp33313oJcDAABgXMALVkZGRpPvIuzSpYt%2B%2BctfasyYMYFeDgAAgHEBL1gzZ84M9JcEAAAIqIAXrNzcXNntLfuyDzzwQCuvBgAAwLyAF6ytW7fqm2%2B%2B0alTp%2BRwONTY2Kjjx48rIiJCTqfT9zibzUbBAgAAISngBWvatGnas2eP3G63r1CVlpZq6dKlSk5O1h133BHoJQEAABgV8LdpWLVqlebNm%2Bd3tap3796aP3%2B%2BnnnmmUAvBwAAwLiAF6yKiopmfxZhp06dVFlZGejlAAAAGBfwgpWQkCC3263i4mJVV1erpqZGJSUlmjdvnuLj4wO9HAAAAOMC/hqsxx57TL/73e/061//2ncly7Is9e3bV88%2B%2B2yglwMAAGBcwAtW//79VVhYqKKiIv3973%2BXZVn6xS9%2BIZfL1eytQwAAgFAT8IJ1htPpVF1dnYYMGRKsJQAAALSKgL8Gq6qqSlOnTtXNN9%2BsqVOnSpLKy8t15513qrS0NNDLAQAAMC7gBevpp59WY2Oj8vPzFRb2/Zfv3r27Bg4cqCeeeCLQywEAADAu4LcId%2B3apf/8z/9U7969fa%2B56tq1q%2BbOnavU1NRALwcAAMC4oLwPVq9evZqMR0RE6NSpU4FeDgAAgHEBL1iXX365/vKXvzQZf/XVV3X55ZcHejkAAADGBfwW4e9%2B9zvNmjVLKSkp8nq9euyxx1RcXKwDBw4oNzc30MsBAAAwLuBXsMaOHas//elPCgsL05VXXqmPPvpIffv21auvvqqxY8e2%2BDg7d%2B7U8OHDNXv2bL/xw4cP66qrrpLL5fL72Lx5s%2B8x69evV3JyspKSkpSenq7i4mLf3OnTp7Vo0SINHjxY1113nbKysvgRPgAA4IIE9ApWY2OjioqKlJSUpBUrVvzk4/zxj3/Ua6%2B9pn79%2BjWZq6mpUadOnXTgwIFmn7t161bl5ubqueee0zXXXKMXX3xR06dP15YtWxQZGally5Zp3759Kigo0EUXXaS5c%2Bdq3rx5ev7553/yegEAQMcS0CtYYWFhmjJlirxe7886TpcuXc5asI4fP67o6OizPjc/P19paWkaOnSoIiIilJmZKZvNpm3btqmhoUEbN27UrFmzFBcXJ6fTKbfbrR07dvAeXQAAoMUCfovwzjvv1Lp162RZ1k8%2BxpQpU9S9e/dm56qrq9XY2Khp06bpxhtv1NixY7V27Vrf1yspKVFCQoLv8TabTfHx8SouLtbXX3%2Bt2tpav/n%2B/fsrIiLC7zYiAADAuQT8Re7l5eXavn271qxZo0suuUSdO3f2m3/11Vd/1vE7deqkSy%2B9VJMnT9bKlSu1d%2B9eZWVlKTo6Wunp6fJ4PHI4HH7PiY6OVmVlpTwej%2B/zH4qKirqg12GVlZWpvLzcb8xuj1RsbOxPPKumwsMD3o07HLu97Wd8Zh905P1ABmQgkYFEBlLbyiDgBcvpdGrUqFGtdvyUlBSlpKT4Ph8xYoQyMjJUUFCg9PT0s/5A6fP9oOkL%2BUHUeXl5Wr16td9YZmamsrKyWnwMBJ/T2S3YS2ixqKiIYC8h6MiADCQykMhAahsZBKxgZWVlaeXKlcrJyfGNrVy5MiClo2/fvtqyZYuk7wteVVWV37zH49GAAQMUExMj6fuflxgZGSlJsixLVVVVvrmWyMjI8Ct50vdXsDyeup9zGn7Cw8PaxAZqz0z%2BfrWWM/uguvqkvN7GYC8nKMiADCQykMhAaj6DYP1nOWAF6%2B23324y9uKLLxovWG%2B%2B%2BaaOHTume%2B65xzd26NAhxcXFSZJcLpeKioo0YcIESZLX61VJSYnS0tIUFxcnh8Oh4uJi9enTR5J08OBB1dfXKzExscVriI2NbXI7sLy8Rg0NHXPDh6pQ%2Bv3yehtDar2tgQzIQCIDiQyktpFBUG9S/pwXup9Np06dtHTpUr377rtqaGjQrl27VFBQ4CtckydPVkFBgfbs2aO6ujqtWLFCXbt2VUpKisLDwzVp0iTl5ubq8OHDqqioUE5OjsaNG6eePXsaXysAAGifAv4arB%2B6kNc1/ZDL5ZIkNTQ0SJLeeutSzLWQAAAUfklEQVQtSdKBAweUkpKiefPm6bHHHlNpaan69u2rhQsX6pZbbpEkjRo1Sm63W3PnzlVFRYUSExO1Zs0adenSRZI0c%2BZM1dXVaeLEifJ6vUpOTtbixYt/5pkCAICOxGa1xmWkZlxzzTX6%2BOOPzzvWXpWX1xg9nt0eJqezmwbNLzR6XPzD5lkjgr2E8zqzDzyeuqBfDg8WMiADiQwkMpCaz6BXr%2Bbf1qm1Bf/7GAEAANqZgN0i/O677/T73//%2BvGPLly8P1JIAAABaRcAK1g033KCysrLzjgEAAIS6gBWsf//3fw/UlwIAAAgqXoMFAABgWFDfpgFoy1Jz3w32Ei5IKHzXIwB0FFzBAgAAMIyCBQAAYBgFCwAAwDAKFgAAgGEULAAAAMMoWAAAAIZRsAAAAAyjYAEAABhGwQIAADCMggUAAGAYBQsAAMAwChYAAIBhFCwAAADDKFgAAACGUbAAAAAMo2ABAAAYRsECAAAwjIIFAABgGAULAADAMAoWAACAYRQsAAAAwyhYAAAAhlGwAAAADKNgAQAAGEbBAgAAMIyCBQAAYBgFCwAAwLCQLVg7d%2B7U8OHDNXv27CZzu3fv1vjx4%2BVyuXTrrbdq06ZNfvPr169XcnKykpKSlJ6eruLiYt/c6dOntWjRIg0ePFjXXXedsrKyVFlZ2ernAwAA2o%2BQLFh//OMf9fjjj6tfv35N5kpLSzVjxgylpaXp/fff1/z587Vw4ULt379fkrR161bl5uYqJydH7733nkaPHq3p06frxIkTkqRly5Zp3759Kigo0Pbt21VfX6958%2BYF9PwAAEBoC8mC1aVLF7322mvNFqzXX39d/fr105QpUxQREaExY8bo5ptvVn5%2BviQpPz9faWlpGjp0qCIiIpSZmSmbzaZt27apoaFBGzdu1KxZsxQXFyen0ym3260dO3aotLQ00KcJAABCVEgWrClTpqh79%2B7NzpWUlCghIcFvbODAgb7bgD%2Bet9lsio%2BPV3Fxsb7%2B%2BmvV1tb6zffv318RERF%2BtxEBAADOxR7sBZjm8XgUHx/vN%2BZwOHyvo/J4PHI4HH7z0dHRqqyslMfj8X3%2BQ1FRURf0OqyysjKVl5f7jdntkYqNjW3xMc4nPDwkuzFakd3eMffEmT8LHfnPBBmQgUQGUtvKoN0VrLOx2Wx%2Bv55t/nzPb4m8vDytXr3abywzM1NZWVktPgZwoZzObsFeQlBFRUUEewlBRwZkIJGB1DYyaHcFq0ePHqqqqvIb83g86tGjhyTJ6XQ2Oz9gwADFxMRIkqqqqhQZGSlJsixLVVVVvrmWyMjIUEpKit%2BY3R4pj6fugs/nbMLDw9rEBkLbYXJ/hZIzfxaqq0/K620M9nKCggzIQCIDqfkMgvWfz3ZXsFwulzZs2OA3tn//fiUlJfnmi4qKNGHCBEmS1%2BtVSUmJ0tLSFBcXJ4fDoeLiYvXp00eSdPDgQdXX1ysxMbHFa4iNjW1yO7C8vEYNDR1zwyMwOvr%2B8nobyYAMyEBkILWNDIJ/k9KwO%2B%2B8U0ePHtW6det06tQpFRYW6p133lFGRoYkafLkySooKNCePXtUV1enFStWqGvXrkpJSVF4eLgmTZqk3NxcHT58WBUVFcrJydG4cePUs2fPIJ8ZAAAIFSF5BcvlckmSGhoaJElvvfWWJOnAgQOKiYnRCy%2B8oCVLlmj58uXq06ePli9f7nvh%2B6hRo%2BR2uzV37lxVVFQoMTFRa9asUZcuXSRJM2fOVF1dnSZOnCiv16vk5GQtXrw48CcJAABCls2yLCvYi%2BgIystrjB7Pbg%2BT09lNg%2BYXGj0uQtfmWSOCvYSgOPNnweOpC/otgWAhAzKQyEBqPoNevZp/W6fW1u5uEQIAAAQbBQsAAMAwChYAAIBhFCwAAADDKFgAAACGUbAAAAAMo2ABAAAYRsECAAAwjIIFAABgGAULAADAMAoWAACAYRQsAAAAwyhYAAAAhlGwAAAADKNgAQAAGEbBAgAAMIyCBQAAYBgFCwAAwDAKFgAAgGH2YC8AgBmpue8GewkttnnWiGAvAQBaFVewAAAADKNgAQAAGEbBAgAAMIyCBQAAYBgFCwAAwDAKFgAAgGEULAAAAMMoWAAAAIZRsAAAAAyjYAEAABhGwQIAADCMggUAAGAYBQsAAMCwdluwkpOTlZiYKJfL5ftYsmSJJGn37t0aP368XC6Xbr31Vm3atMnvuevXr1dycrKSkpKUnp6u4uLiYJwCAAAIUfZgL6C1VFdX6%2BWXX9b111/vN15aWqoZM2bowQcfVHp6ut577z1lZ2frsssuU1JSkrZu3arc3Fw999xzuuaaa/Tiiy9q%2BvTp2rJliyIjI4N0NgAAIJS0yytYXq9XdXV1io6ObjL3%2Buuvq1%2B/fpoyZYoiIiI0ZswY3XzzzcrPz5ck5efnKy0tTUOHDlVERIQyMzNls9m0bdu2QJ8GAAAIUe2yYFVXV8uyLK1atUojR47UyJEjtWDBAtXW1qqkpEQJCQl%2Bjx84cKDvNuCP5202m%2BLj47lNCAAAWqxd3iKsr69XQkKCXC6XHn/8cZWVlSk7O1uLFy%2BWx%2BNRfHy83%2BMdDocqKyslSR6PRw6Hw28%2BOjraN98SZWVlKi8v9xuz2yMVGxv7E8%2BoqfDwdtmN0UHY7eb275k/Cx35zwQZkIFEBlLbyqBdFqzevXtrw4YNvs8vuugizZkzR//6r/%2BqQYMGNfscm83m9%2BvZ5lsiLy9Pq1ev9hvLzMxUVlZWi48BtGdOZzfjx4yKijB%2BzFBDBmQgkYHUNjJolwWrOX379lVjY6PCwsJUVVXlN%2BfxeNSjRw9JktPpbHZ%2BwIABLf5aGRkZSklJ8Ruz2yPl8dT9xNU3FR4e1iY2EPBTDJpfGOwlXJCtc24K9hLO6czfB9XVJ%2BX1NgZ7OUFBBmQgNZ9Ba/yHriXaZcH69NNP9ec//1mPPPKIb%2BzQoUPq3LmzRo8erT//%2Bc9%2Bj9%2B/f7%2BSkpIkSS6XS0VFRZowYYKk718wX1JSorS0tBZ//djY2Ca3A8vLa9TQ0DE3PBDqQuXPrtfbGDJrbS1kQAZS28gg%2BDcpW4HT6VReXp7WrFmj%2Bvp6ffnll/q3f/s33XXXXfrVr36lo0ePat26dTp16pQKCwv1zjvvKCMjQ5I0efJkFRQUaM%2BePaqrq9OKFSvUtWvXJlekAAAAzqZdXsHq3bu31qxZo6efflrPPfecnE6nbrvtNmVlZalz58564YUXtGTJEi1fvlx9%2BvTR8uXLfS98HzVqlNxut%2BbOnauKigolJiZqzZo16tKlS5DPCgAAhAqbZVlWsBfREZSX1xg9nt0eJqezW8i9lgUIRZtnjQj2Es7pzN8HHk9d0G%2BLBAsZkIHUfAa9enUPylra5S1CAACAYKJgAQAAGEbBAgAAMIyCBQAAYBgFCwAAwDAKFgAAgGEULAAAAMMoWAAAAIZRsAAAAAyjYAEAABhGwQIAADCMggUAAGAYBQsAAMAwChYAAIBhFCwAAADDKFgAAACGUbAAAAAMo2ABAAAYRsECAAAwjIIFAABgGAULAADAMAoWAACAYfZgLwAA2rrU3HeDvYQLsnnWiGAvAejwuIIFAABgGAULAADAMG4RAkA7E0q3NLmdifaKK1gAAACGUbAAAAAMo2ABAAAYRsECAAAwjBe5AwDQTvEND8FDwQIABE0oFQCp/ZUAtB5uEQIAABjGFSwAAFoo1K64IXi4gtWMI0eOaOrUqbr22ms1bNgwLVu2TI2NjcFeFgAACBFcwfoRy7L0wAMP6Morr9Tbb7%2BtiooK3XfffYqJidFvf/vbYC8PAACEAK5g/ciBAwd08OBBLViwQNHR0erfv7%2BmTZumvLy8YC8NAACECK5g/UhJSYkuueQSORwO39jVV1%2BtL7/8UrW1tbrooovOe4yysjKVl5f7jdntkYqNjTW2zvBwujEAoP2w23/%2Bv2tn/m1sC/9GUrB%2BxOPxKDo62m/szOcej6dFBSsvL0%2BrV6/2G3vggQc0c%2BZMY%2BssKyvT%2BvVr9T/ZGUaLWygpKytTXl6eMjLIgAzIgAzIgAz%2B8W9jW8gg%2BBWvHcrIyNCGDRv8PjIyMox%2BjfLycq1evbrJlbKOhAzIQCIDiQwkMpDIQGpbGXAF60diYmJUVVXlN%2BbxeCRJPXr0aNExYmNjg96cAQBA8HAF60dcLpe%2B%2BeYbX6mSpP379%2BvKK69Ut27dgrgyAAAQKihYPzJw4EAlJSXp8ccfV3V1tQ4ePKg1a9bonnvuCfbSAABAiAhfvHjx4mAvoq256aab9Oabb2rJkiX6n//5H911112aOnVqsJfVRLdu3TR48OAOfWWNDMhAIgOJDCQykMhAajsZ2CzLsoK6AgAAgHaGW4QAAACGUbAAAAAMo2ABAAAYRsECAAAwjIIFAABgGAULAADAMAoWAACAYRQsAAAAwyhYAAAAhlGwQsyRI0c0depUXXvttRo2bJiWLVumxsbGYC%2BrVSUnJysxMVEul8v3sWTJEknS7t27NX78eLlcLt16663atGlTkFdrzs6dOzV8%2BHDNnj27ydz5znv9%2BvVKTk5WUlKS0tPTVVxcHKhlG3W2DA4fPqyrrrrKb0%2B4XC5t3rzZ95j2ksGRI0c0Y8YMDR48WMOGDZPb7dbx48cldZx9cLYMOtI%2B%2BOSTT3Tvvfdq0KBBGjp0qLKzs1VWViap4%2ByDs2XQZveBhZDR2Nho/epXv7J%2B//vfW1VVVdbnn39uJScnWy%2B%2B%2BGKwl9aqrr/%2Bemvv3r1Nxr/99lvrmmuusdavX2%2BdOHHC2rFjh5WUlGR9/PHHQVilWWvWrLHGjh1rTZ482Zo1a5bf3PnOe8uWLda1115r7d692zpx4oS1atUqa8SIEVZdXV0wTuUnO1cGxcXFVkJCwlmf214ysCzLuuOOO6xHHnnEqq2ttcrKyqy0tDRr3rx5HWYfWNbZM%2Bgo%2B%2BDUqVPWsGHDrNWrV1unT5%2B2ysvLrbvvvtuaMWNGh9kH58qgre4DrmCFkAMHDujgwYNasGCBoqOj1b9/f02bNk15eXnBXlqr8Xq9qqurU3R0dJO5119/Xf369dOUKVMUERGhMWPG6Oabb1Z%2Bfn4QVmpWly5d9Nprr6lfv35N5s533vn5%2BUpLS9PQoUMVERGhzMxM2Ww2bdu2LdCn8bOcK4Pjx483uyfOaC8Z1NTUKDExUXPmzFG3bt3Uq1cvTZgwQR9%2B%2BGGH2QfnyqCj7INTp05p9uzZmj59ujp37qyePXtq3Lhx%2BuyzzzrMPjhXBm11H1CwQkhJSYkuueQSORwO39jVV1%2BtL7/8UrW1tUFcWeuprq6WZVlatWqVRo4cqZEjR2rBggWqra1VSUmJEhIS/B4/cODAkL38/UNTpkxR9%2B7dm50733n/eN5msyk%2BPj7kcjlXBtXV1WpsbNS0adN04403auzYsVq7dq2s//%2Bz69tLBt27d1dOTo5iYmJ8Y0ePHtXFF1/cYfbBuTLoKPsgOjpa6enpstvtsixLhw4d0saNG5Wamtph9sG5Mmir%2B4CCFUI8Hk%2BTln7mc4/HE4wltbr6%2BnolJCTI5XKpsLBQL7/8sj7%2B%2BGMtXry42TwcDocqKyuDtNrAON95ezwevxIufb9P2lMunTp10qWXXqrJkydr586d%2BsMf/qDnnntOr732mqT2m8GBAwf0yiuv6F/%2B5V867D74YQYdbR8cPXpUiYmJuu222%2BRyuZSdnd3h9kFzGbTVfUDBQpvWu3dvbdiwQVOnTtVFF12k/v37a86cOfrv//5vNTQ0NPscm80W4FW2DWfO%2B2zn355ySUlJUV5enlJSUtS1a1eNGDFCGRkZKigokNQ%2BM9i7d6%2BmTp0qt9ut0aNHn/Vx7Xkf/DiDjrYPLrnkEhUVFamwsFCHDh3SQw89dNbHttd90FwGbXUfULBCSExMjKqqqvzGzly56tGjRzCWFBR9%2B/ZVY2OjwsLCms2jvWfRo0ePc5630%2BnskLn07dtXx44dk9T%2BMtixY4emT5%2BuP/zhD7rnnnskdbx90FwGzWnP%2B0D6vhRcdtllcrvdeuONN9SpU6cOtQ%2Bkphk0dyWqLewDClYIcblc%2Buabb/xuB%2B7fv19XXnmlunXrFsSVtZ5PP/1UTz75pN/YoUOH1LlzZ40ePbrJPfT9%2B/crKSkpkEsMOJfLdc7zdrlcKioq8s15vV6VlJS0q1zefPNNvfLKK35jhw4dUlxcnKT2lcG%2Bffv08MMPa%2BXKlbr99tt94x1pH5wtg46yD3bv3q1bbrnF76r9mbfnGT58eIfYB%2BfK4IMPPmib%2B6BVv0cRxk2aNMl68MEHrePHj1uffvqpNWLECOuVV14J9rJazbfffmtde%2B211gsvvGCdPn3a%2BuKLL6zbb7/deuKJJ6xjx45Z119/vfXSSy9ZJ0%2BetDZv3my5XC7rk08%2BCfayjXn44YebvEXB%2Bc777bff9n1Lcm1trbV06VJrzJgx1qlTp4JxCj9bcxls27bNSkpKsv76179a3333nfXuu%2B9a1157rbV161bLstpPBt99952Vmppq/elPf2oy11H2wbky6Cj7oLq62ho%2BfLj15JNPWidOnLAqKiqsqVOnWnfffXeH2QfnyqCt7gMKVoj5%2B9//bt1///1WUlKSNWzYMGvVqlXBXlKre//9961JkyZZ1157rZWcnGwtW7bMOn36tGVZlvXBBx9Y48ePtxITE62xY8daW7ZsCfJqzUhMTLQSExOt%2BPh4Kz4%2B3vf5Gec77//4j/%2BwxowZY7lcLuuuu%2B6y/u///i/Qp/CznS%2BDV1991Ro7dqx1zTXXWLfffrtVUFDg9/z2kMEHH3xgDRgwwHfuP/w4cuRIh9gH58ugI%2BwDy7KskpIS6ze/%2BY11ww03WEOGDLGysrKsb7/91rKsjvH3gWWdO4O2uA9slvX/v48RAAAARvAaLAAAAMMoWAAAAIZRsAAAAAyjYAEAABhGwQIAADCMggUAAGAYBQsAAMAwChYAAIBhFCwAAADDKFgAAACGUbAAAAAMo2ABAAAYRsECAAAw7P8BFknNHPYQjswAAAAASUVORK5CYII%3D\"/>\n        </div>\n        <div role=\"tabpanel\" class=\"tab-pane col-md-12\" id=\"common7490240464251127472\">\n            \n<table class=\"freq table table-hover\">\n    <thead>\n    <tr>\n        <td class=\"fillremaining\">Value</td>\n        <td class=\"number\">Count</td>\n        <td class=\"number\">Frequency (%)</td>\n        <td style=\"min-width:200px\">&nbsp;</td>\n    </tr>\n    </thead>\n    <tr class=\"\">\n        <td class=\"fillremaining\">28</td>\n        <td class=\"number\">158</td>\n        <td class=\"number\">0.0%</td>\n        <td>\n            <div class=\"bar\" style=\"width:1%\">&nbsp;</div>\n        </td>\n</tr><tr class=\"\">\n        <td class=\"fillremaining\">22</td>\n        <td class=\"number\">143</td>\n        <td class=\"number\">0.0%</td>\n        <td>\n            <div class=\"bar\" style=\"width:1%\">&nbsp;</div>\n        </td>\n</tr><tr class=\"\">\n        <td class=\"fillremaining\">26</td>\n        <td class=\"number\">141</td>\n        <td class=\"number\">0.0%</td>\n        <td>\n            <div class=\"bar\" style=\"width:1%\">&nbsp;</div>\n        </td>\n</tr><tr class=\"\">\n        <td class=\"fillremaining\">20</td>\n        <td class=\"number\">138</td>\n        <td class=\"number\">0.0%</td>\n        <td>\n            <div class=\"bar\" style=\"width:1%\">&nbsp;</div>\n        </td>\n</tr><tr class=\"\">\n        <td class=\"fillremaining\">24</td>\n        <td class=\"number\">136</td>\n        <td class=\"number\">0.0%</td>\n        <td>\n            <div class=\"bar\" style=\"width:1%\">&nbsp;</div>\n        </td>\n</tr><tr class=\"\">\n        <td class=\"fillremaining\">50</td>\n        <td class=\"number\">132</td>\n        <td class=\"number\">0.0%</td>\n        <td>\n            <div class=\"bar\" style=\"width:1%\">&nbsp;</div>\n        </td>\n</tr><tr class=\"\">\n        <td class=\"fillremaining\">18</td>\n        <td class=\"number\">132</td>\n        <td class=\"number\">0.0%</td>\n        <td>\n            <div class=\"bar\" style=\"width:1%\">&nbsp;</div>\n        </td>\n</tr><tr class=\"\">\n        <td class=\"fillremaining\">11</td>\n        <td class=\"number\">130</td>\n        <td class=\"number\">0.0%</td>\n        <td>\n            <div class=\"bar\" style=\"width:1%\">&nbsp;</div>\n        </td>\n</tr><tr class=\"\">\n        <td class=\"fillremaining\">12</td>\n        <td class=\"number\">129</td>\n        <td class=\"number\">0.0%</td>\n        <td>\n            <div class=\"bar\" style=\"width:1%\">&nbsp;</div>\n        </td>\n</tr><tr class=\"\">\n        <td class=\"fillremaining\">17</td>\n        <td class=\"number\">128</td>\n        <td class=\"number\">0.0%</td>\n        <td>\n            <div class=\"bar\" style=\"width:1%\">&nbsp;</div>\n        </td>\n</tr><tr class=\"other\">\n        <td class=\"fillremaining\">Other values (231)</td>\n        <td class=\"number\">7588</td>\n        <td class=\"number\">0.0%</td>\n        <td>\n            <div class=\"bar\" style=\"width:100%\">&nbsp;</div>\n        </td>\n</tr>\n</table>\n        </div>\n        <div role=\"tabpanel\" class=\"tab-pane col-md-12\"  id=\"extreme7490240464251127472\">\n            <p class=\"h4\">Minimum 5 values</p>\n            \n<table class=\"freq table table-hover\">\n    <thead>\n    <tr>\n        <td class=\"fillremaining\">Value</td>\n        <td class=\"number\">Count</td>\n        <td class=\"number\">Frequency (%)</td>\n        <td style=\"min-width:200px\">&nbsp;</td>\n    </tr>\n    </thead>\n    <tr class=\"\">\n        <td class=\"fillremaining\">1</td>\n        <td class=\"number\">2</td>\n        <td class=\"number\">0.0%</td>\n        <td>\n            <div class=\"bar\" style=\"width:1%\">&nbsp;</div>\n        </td>\n</tr><tr class=\"\">\n        <td class=\"fillremaining\">2</td>\n        <td class=\"number\">38</td>\n        <td class=\"number\">0.0%</td>\n        <td>\n            <div class=\"bar\" style=\"width:1%\">&nbsp;</div>\n        </td>\n</tr><tr class=\"\">\n        <td class=\"fillremaining\">3</td>\n        <td class=\"number\">55</td>\n        <td class=\"number\">0.0%</td>\n        <td>\n            <div class=\"bar\" style=\"width:1%\">&nbsp;</div>\n        </td>\n</tr><tr class=\"\">\n        <td class=\"fillremaining\">4</td>\n        <td class=\"number\">102</td>\n        <td class=\"number\">0.0%</td>\n        <td>\n            <div class=\"bar\" style=\"width:100%\">&nbsp;</div>\n        </td>\n</tr><tr class=\"\">\n        <td class=\"fillremaining\">5</td>\n        <td class=\"number\">53</td>\n        <td class=\"number\">0.0%</td>\n        <td>\n            <div class=\"bar\" style=\"width:1%\">&nbsp;</div>\n        </td>\n</tr>\n</table>\n            <p class=\"h4\">Maximum 5 values</p>\n            \n<table class=\"freq table table-hover\">\n    <thead>\n    <tr>\n        <td class=\"fillremaining\">Value</td>\n        <td class=\"number\">Count</td>\n        <td class=\"number\">Frequency (%)</td>\n        <td style=\"min-width:200px\">&nbsp;</td>\n    </tr>\n    </thead>\n    <tr class=\"\">\n        <td class=\"fillremaining\">328</td>\n        <td class=\"number\">8</td>\n        <td class=\"number\">0.0%</td>\n        <td>\n            <div class=\"bar\" style=\"width:1%\">&nbsp;</div>\n        </td>\n</tr><tr class=\"\">\n        <td class=\"fillremaining\">330</td>\n        <td class=\"number\">9</td>\n        <td class=\"number\">0.0%</td>\n        <td>\n            <div class=\"bar\" style=\"width:100%\">&nbsp;</div>\n        </td>\n</tr><tr class=\"\">\n        <td class=\"fillremaining\">332</td>\n        <td class=\"number\">5</td>\n        <td class=\"number\">0.0%</td>\n        <td>\n            <div class=\"bar\" style=\"width:1%\">&nbsp;</div>\n        </td>\n</tr><tr class=\"\">\n        <td class=\"fillremaining\">334</td>\n        <td class=\"number\">5</td>\n        <td class=\"number\">0.0%</td>\n        <td>\n            <div class=\"bar\" style=\"width:1%\">&nbsp;</div>\n        </td>\n</tr><tr class=\"\">\n        <td class=\"fillremaining\">336</td>\n        <td class=\"number\">5</td>\n        <td class=\"number\">0.0%</td>\n        <td>\n            <div class=\"bar\" style=\"width:1%\">&nbsp;</div>\n        </td>\n</tr>\n</table>\n        </div>\n    </div>\n</div>\n</div>\n    <div class=\"row headerrow highlight\">\n        <h1>Correlations</h1>\n    </div>\n    <div class=\"row variablerow\">\n    <img src=\"data:image/png;base64,iVBORw0KGgoAAAANSUhEUgAAAsUAAAJ7CAYAAAALC%2BwdAAAABHNCSVQICAgIfAhkiAAAAAlwSFlzAAAPYQAAD2EBqD%2BnaQAAADl0RVh0U29mdHdhcmUAbWF0cGxvdGxpYiB2ZXJzaW9uIDIuMi4zLCBodHRwOi8vbWF0cGxvdGxpYi5vcmcvIxREBQAAIABJREFUeJzs3XlclOX6x/HvgIqkhopgRpqZgRskLhiampi5pFnkdjSt1HJHs45mmVumlhuatuhJ8ZxyyciyrOO%2BnEpNc98w961wAxGU/fn9Yc6PCRRwBoeZ%2Bbxfr3nJ3M92PTfjzDUX93M/JsMwDAEAAAAuzM3eAQAAAAD2RlIMAAAAl0dSDAAAAJdHUgwAAACXR1IMAAAAl0dSDAAAAJdHUgwAAACXR1IMAAAAl0dSDAAAAJdHUgwAAACXV8TeAQCAswkICLjlsqJFi6p06dKqUaOGnn32WbVu3Vomk%2BkuRgcAyInJMAzD3kEAgDO5mRQHBQXJx8fHYll8fLxOnTqlCxcuSJKaNm2qWbNmqVixYnc9TgDA/yMpBgAbu5kUz549W08%2B%2BWS25YZh6Pvvv9c777yj69evq0ePHnr77bfvdpgAgCwYUwwAd5nJZFK7du00aNAgSdLixYt1/fp1O0cFAK6NMcUAYCfNmzfXBx98oNTUVB08eFB16tSxWL5582Z9/vnn2rVrl65cuaISJUqoevXqeu6559SuXTu5uWWva8THxysqKkobNmzQyZMnlZqaKi8vLwUFBenll19WgwYNsm0TFhams2fPau7cuUpKSlJkZKROnz6tmTNnmivdhw8f1rx587R9%2B3bFxsaqSJEi8vX1VUhIiF544YUcx1FfvXpVCxYs0Nq1a3Xy5EmlpaWpXLlyqlOnjl588UUFBQVZrP/777%2Brbdu2cnd314EDB7Rnzx599NFH2r17t65evSpfX1%2B1aNFCERERKlGihDVdDwDZUCkGADu57777zD9fvXrVYllkZKReeuklrVmzRiVLllRISIjKli2rzZs3a9iwYRoyZIgyMjIstjl//rzCw8P18ccf6%2BjRowoICNBjjz2m4sWLa/369XrxxRcVHR19y3iOHTumf/7zn/Lw8NDjjz8uLy8vSdKvv/6q559/XsuWLVNKSorq1q2rRx99VElJSfryyy/VqVMnbd682WJfZ8%2Be1XPPPacPP/xQR44cUbVq1RQSEqKMjAx9//336ty5s5YuXWqxjYeHh/nnzZs3q1u3bjp27Jhq1aqlRx55RGfPnlVUVJQiIiLy19EAkBcGAMCm/P39DX9/f2P16tW3Xe/IkSPmdXfv3m1uX716teHv72/UrVvX2LBhg8U2v/76q9GwYUPD39/fmD9/vsWyt99%2B2/D39zfCwsKM8%2BfPm9szMjKMSZMmmfeZmJhosV2zZs0Mf39/o3nz5sbMmTOzxdmxY0fD39/fmDRpkpGRkWFuT09PN2bNmmX4%2B/sbbdu2tdima9euhr%2B/vxEeHm7ExsZaxDJz5kzD39/fqFmzpnH06FHzstOnTxv%2B/v5GtWrVjCZNmhiLFi2y2OfSpUvN/XXw4MFbdSsA3BEqxQBgJ2vWrJEklSpVStWrVze3z549W5I0ZMgQNW3a1GKb%2BvXra9iwYZKkBQsWyMhyrXTlypX13HPPafDgwRazXri5uSkiIkJubm66evWqdu3alWM8qamp6tevX7b2gwcPSpLCw8Mthmy4u7urf//%2BGjx4sLp3767U1FRJ0u7du7V9%2B3ZJ0gcffCBfX1%2BLWAYNGqSaNWsqLS1Nixcvzna8zMxM1ahRQ126dLFof/7551W6dGlJ0p49e3I8BwC4U4wpBgA7%2BP777/Xxxx9Lknr16qWiRYtKkmJjY3XgwAFJUrNmzXLc9sknn5TJZNK5c%2Bd08uRJVa5cWZLUu3fvWx7P09NT3t7eunDhgnk6uL9r2LChihTJ/rHg5eWlCxcuaPXq1XrkkUcslplMJvXv39%2Bi7X//%2B5%2BkG7NwPPzwwzkeq3nz5tq/f7%2B2bNmS4/Lw8PBsbSaTSRUrVlR8fLwuX76c43YAcKdIigGggHz66af6%2BuuvLdquXr2qEydO6Pz585Kk9u3bq0%2BfPublMTEx5p/Hjx9/yxt7FClSRGlpaTp%2B/Lg5KZak5ORkrVu3Trt379bFixeVnJxsribfHLecmZmZ4z4rVqyYY3vXrl01Y8YMzZgxQ5s2bVKrVq3UsGFD%2Bfv757j%2BkSNHJClbAp1VlSpVJN0Yx5yfWDw9PSVJaWlpt9w3ANwJkmIAKCA5/Ynf3d1dpUuXVrNmzdSxY0c1b97cYvmVK1fMP69bty7XY2S9QG/Pnj0aNGiQ/vzzzzuK91YzOvTr10%2BZmZmaO3eudu7cqZ07d0qSypcvr6eeekrdunXTQw89lC2mmxfq5eTmsrS0NCUnJ6t48eIWy0uWLHlH5wAAd4qkGAAKyK1u3nE7N8fsenp63nLsb06uXbum/v3768KFC6pUqZJef/111a9fX15eXuYhETenXssvk8mkgQMHqnv37lqzZo02bdqkLVu2KDY2Vv/5z3%2B0ePFivf/%2B%2B3r66acttjNuc2%2BorNXqnKaWA4C7jaQYAAqRmxeSXb9%2BXUlJSXmej3fTpk26cOGC3NzcNGfOHIvK7U1JSUlWxebl5aXnn39ezz//vDIzM7Vt2zZ9%2BOGH2rZtm0aPHq1GjRqpdOnS5ipw1qr33yUkJEiSihcvzi2uARQKfD0HgEIk6zjd/MywcOrUKUnSAw88kGNCfOLECcXHx1sf4F/c3NzUoEEDffbZZ/Lx8dHVq1fN8d4cS5x1fPTfHT582GJdALA3kmIAKER8fHxUs2ZNScp2c4ubjh8/rvbt2%2BuTTz4xt917772SpJSUlBy3%2BfDDD80///2mH7ezZ88evfXWW5o3b16Oyz08PFSmTBlJMt%2Bq%2BuY0ckeOHDEnv1llZmZq5cqVkqTGjRvnORYAKEgkxQBQyPTt21eStGLFCi1YsMBi2cmTJxUREaFDhw5ZTEt2c57j2NhY8/zH0o0hE%2BPHj9e%2BfftUt25dSbee8SEnJUqUUHR0tGbOnKkNGzZkW7569WodOXJERYsWVXBwsCSpRo0aatSokSTpzTff1MWLF83rp6ena9KkSTp27JhKlSqVbS5iALAXxhQDQCHz1FNP6dVXX9WcOXM0YcIELViwQFWqVFFcXJwOHjyojIwMhYSEWNzu%2BNFHH1Xjxo31v//9T4MGDdKjjz6qokWL6sCBA3Jzc9Nnn32mH3/8Ub/99pv%2B/e9/6%2BDBgxo4cKDq1at321gefvhhRUREaObMmerTp4/8/Pz04IMPymQy6fTp0%2BZhG8OHD7e4ScfEiRPVo0cP7d%2B/X2FhYXr00UdVrFgxHTx4UJcuXVLx4sU1depUlS9fvmA6EQDyiaQYAAqh119/XaGhofriiy%2B0a9cubdmyRV5eXqpdu7bat2%2Bv5557LtsFatOnT9eUKVO0du1a7du3T97e3mrRooX69u2rypUrq0KFCtq/f792796t48ePy93dPU%2BxDBgwQNWqVdPSpUu1f/9%2Bbdu2TZJUrlw5tWnTRt26dcuWXJcvX17R0dGKiorS6tWrtW/fPqWnp6t8%2BfJ68skn1atXLz344IO26SwAsAGTcbs5cwAAAAAXwJhiAAAAuDySYgAAALg8kmIAAAC4PJJiAAAAFJj//e9/atiwoV577bVc112wYIGaNWumoKAgdezYUfv37zcvS0lJ0ahRoxQSEqLg4GBFRERYTE1pLZJiAAAAFIi5c%2Bdq/PjxeZptZvXq1YqMjNTEiRO1detWNW3aVH369NG1a9ckSZMnT9aOHTsUHR2tdevWKTU1VW%2B99ZbNYiUpBgAAQIHw8PDQV199laekeOnSperQoYMee%2BwxeXp6asCAATKZTFq7dq3S09O1bNkyDRkyRBUrVlSZMmU0bNgwrV%2B/XrGxsTaJlXmKAQAAkKPz58/rwoULFm0%2BPj4WN%2Bu5nR49euT5WAcOHFCbNm3Mz00mk6pVq6b9%2B/erZs2aSkxMVM2aNc3Lq1SpIk9PT%2B3fv98mNwIiKYZjMpnsHUHePPSQ9Pvv0iOPSMeP2zua20tPt3cEeePmJmVm2juKXGUobzfGKAwcpEvlrgx7h5B3jtKpbvzB2Obs%2BflUAMdeMnOmZs2aZdE2cOBADRo0yObHiouLU%2BnSpS3avLy8dPnyZcXFxZmfZ3XvvffabFwxSTFQkEqXltzdb/wL23CUL0QOhC4tAHSqbZlMEvcas4vOnTsrLCzMos3Hx6dAjmW6xf%2BbW7XndXlekRQDAAA4gwKo/Pv6%2BuZ5qIS1ypQpo/j4eIu2uLg4%2Bfv7y9vbW5IUHx%2Bve%2B65R5JkGIbi4%2BPNy6zF300AAABgd4GBgdq3b5/5eUZGhg4cOKCgoCBVrFhRpUuXtpiiLSYmRqmpqapVq5ZNjk9SDAAA4Azc3Gz/KGCtWrXS9u3bJUldunRRdHS0tmzZoqSkJE2bNk3FixdXWFiY3N3d1alTJ0VGRur06dO6dOmSJk6cqFatWqlcuXI2iYXhEwAAACgQgYGBkqT0vy7mXrNmjSRp7969kqTjx4%2Bb5yFu0qSJhg0bphEjRujSpUuqVauW5syZIw8PD0nSoEGDlJSUpPDwcGVkZKhZs2YaM2aMzWI1GQYj1%2BGAHOUiluBgaccOqU4daedOe0dze44y%2B4S7u5RR%2BGchcKTZJxykSx1r9glH6VRHmX3CkS60s%2Bfn01/Jo02lpNh%2Bn4UUlWIAAABn4Chfcgopeg8AAAAuj0oxAACAM6BSbBV6DwAAAC6PSjEAAIAzoFJsFZJiAAAAZ0BSbBV6DwAAAC6PSjEAAIAzoFJsFXoPAAAALo9KMQAAgDOgUmwVkmIAAABnQFJsFXoPAAAALo9KMQAAgDOgUmwVeg8AAAAuj0oxAACAM6BSbBWSYgAAAGdAUmwVeg8AAAAuj0oxAACAM6BSbBWSYgAAAGdAUmwVeg8AAAAuj0oxAACAM6BSbBV6DwAAAC6PSjEAAIAzoFJsFZJiAAAAZ0BSbBV6DwAAAC6PSjEAAIAzoFJsFXoPAAAALo9KMQAAgDOgUmwVkmIAAABnQFJsFXoPAAAALo%2Bk2IWdPXtWgYGBOn78eL63nTJlirp3714AUQEAgDvi5mb7hwth%2BIQL8/Pz0969e%2B0dBgAAgN2RFAMAADgDF6vs2hq958LOnDmjgIAAHT16VI0bN9bSpUv1yiuvqHbt2nrqqae0detW87rr1q1Ty5YtFRwcrKFDhyo5OdliXytXrlTr1q316KOPqm3btlq%2BfLkk6eLFiwoJCdGGDRvM677xxhvq16/fXTlHAABcBsMnrOJaZ4tbKlq0qObPn6/Bgwdr%2B/btCgoK0oQJEyRJCQkJeu211/TCCy9o69atateunb755hvztkePHtWbb76pUaNG6bffftOoUaM0atQo7d69W%2BXKldM///lPTZw4Uampqfrtt9%2B0YcMGjRkzxk5nCgAAkB3DJ2D2xBNPqFatWpKkVq1aadWqVZKkn376SR4eHurWrZvc3NzUrFkzBQcHm6vFX375pcLCwhQaGipJCgkJUevWrfXNN9/o0UcfVceOHfXdd99p3rx5WrVqlYYOHary5cvnOa7z58/rwoULFm0%2BDz0k39KlbXHaBataNct/AQAoKC5W2bU1kmKY%2Bfn5mX8uVqyYUlJSJEl//vmn7rvvPrll%2Bc/24IMPKiYmRpJ06tQpbdy40ZxES5JhGHr88cfNz9999121a9dONWrU0D/%2B8Y98xbVkyRLNmjXLom3g4MEaNHhwvvZjVwsX2jsC5%2BLubu8IclX4I7TkAF0qh%2BtVx%2BhUx2Ey2TsCODmSYpi53eIbZmpqqkx/ezPKyMiw2K5Lly4aNWrULff9559/qkiRIoqNjdW1a9dUokSJPMfVuXNnhYWFWbT5tGsnLViQ533YTbVqNxLirl2lQ4fsHc3tbdtm7wjyxt1dyvL6K6wyHCiBc5AulbscIMibHKVTHaWyaDJJhmHvKPLGnsm7o/w%2BCymSYuTK19dXf/75pzIzM82J84kTJ8zLK1WqlG1qtz///FM%2BPj5yd3dXamqqRo0apbFjx2rFihWaPn26Ro4cma/j%2B/r6WjbewdzKdnXokLRzp72jAAA4M5Jiq9B7yFVoaKgSExO1ePFipaamas2aNdq3b595eYcOHbRjxw4tW7ZMaWlpOnjwoDp27GgeTjF79mz5%2BvqqXbt2evvttxUdHa1du3bZ63QAAACyISlGripUqKDJkydr3rx5CgkJ0fLly9W1a1elpaVJkh5%2B%2BGFNnTpVc%2BbMUZ06dTRgwAD17NlTrVu31uHDh7VgwQKNHj1aklSxYkX17t1b77zzjnl7AABgA0zJZhWTYTjKIB0gC0e54CI4WNqxQ6pTp/APn0hPt3cEeeMgYzUZU2x7jCkuAI6S9DCmOG/%2BmgXKpjZvtv0%2BCynGFAMAADiDQvgl58yZMxo9erR%2B%2B%2B03eXp6Kjw8XK%2B//nq2i/t79uypbX%2B74DsjI0Pt27fXxIkTNXz4cH333XdyzzKry0MPPWS%2BWZgtkBQDAAA4g0KWFBuGoYEDB6pq1arauHGjLl26pN69e8vb21s9e/a0WHfevHkWz69fv66nn35aTz/9tKQbNxKLiIhQ3759CyzewtV7AAAAcAp79%2B5VTEyMRo4cKS8vL1WpUkWvvvqqlixZkuu2s2fPVmBgoPmeBwkJCfLy8irQeKkUAwAAOIMCqBTneFdZH5/sU6Xm4MCBA/Lz81PpLHegrVGjhk6cOKHExESVLFkyx%2B3OnDmjRYsWWQyNSEhI0Nq1a/XZZ5/pypUrCgoK0jvvvKPKlSvf2YnlgEoxAAAAcrRkyRKFh4dbPPJS6ZWkuLi4bNXdm8/j4uJuud0nn3yi9u3bW9xp18/PT/fdd58WLlyoVatWycvLS6%2B88opSU1Pv4KxyRqUYAADAGRRApTjHu8r6%2BNj8ODddvnxZy5cv17JlyyzaP/nkE4vn48aNU4MGDbRt2zY1atTIJscmKQYAAHAGBZAU53hX2Tzy9vZWfHy8RdvNCnHZsmVz3Gbt2rWqUqWKHn744dvuu2TJkvLy8so2tMMaDJ8AAACAzQUGBurcuXMWQyX27NmjqlWrqkSJEjlu89NPPyn0b/MtJyYmaty4cYqNjTW3xcXFKS4uThUrVrRZvCTFAAAAzqCQ3dGuevXqCgoK0vjx45WQkKCYmBjNmTNH3bp1kyS1atVK27dvt9jm4MGDqlq1qkVbyZIltWvXLr333nu6cuWKrly5orFjx6p69eoKDg62KsasSIoBAABQIGbMmKGrV6%2BqcePGevnll9WlSxd17dpVknT8%2BHFdu3bNYv0LFy5YzFZx06xZs5SZmakWLVqodevWMgxDH3/8cbabgFiD2zzDMXGbZ9vjNs82xW2ebY/bPBeAQnazh1viNs9507Kl7fe5cqXt91lIcaEdAACAM3CULzmFFL0HAAAAl0elGAAAwBlQKbYKvQcAAACXR6UYAADAGVAptgpJMQAAgDMgKbYKvQcAAACXR6UYAADAGVAptgpJMQAAgDMgKbYKvQcAAACXR6UYAADAGVAptgq9BwAAAJdHpRgAAMAZUCm2CkkxAACAMyAptgq9BwAAAJdHpRgAAMAZUCm2Cr0HAAAAl0elGAAAwBlQKbYKSTEAAIAzICm2Cr0HAAAAl0elGAAAwBlQKbYKvQcAAACXR6UYAADAGVAptgpJMQAAgDMgKbYKvQcAAACXR6UYjik93d4R5M%2B2bfaOIHdFHODtIDhY2rFDql9f2rnT3tHcVuo1w94h5InJJLm7S2lpklHIQ/Ys7mB1HEeo2iUn2zuC3JlMUvHiUkpK4X%2BRSpKnp/2O7QivuUKM3gMAAIDLc4DSEAAAAHJFpdgqJMUAAADOgKTYKvQeAAAAXB6VYgAAAGdApdgq9B4AAABcHpViAAAAZ0Cl2CokxQAAAM6ApNgq9B4AAABcHpViAAAAZ0Cl2Cr0HgAAAFwelWIAAABnQKXYKiTFAAAAzoCk2Cr0HgAAAFwelWIAAABnQKXYKvQeAAAAXB5JMQAAgDNwc7P9w0pnzpxRr169VLt2bYWGhmry5MnKzMzMtl50dLSqVaumwMBAi8fFixclSSkpKRo1apRCQkIUHBysiIgIXb582er4siIpBgAAcAaFLCk2DEMDBw5UmTJltHHjRn3xxRf68ccfFRUVlW3dq1evqmHDhtq7d6/Fo1y5cpKkyZMna8eOHYqOjta6deuUmpqqt956y6r4/o6kGAAAADa3d%2B9excTEaOTIkfLy8lKVKlX06quvasmSJdnWvXLliry8vHLcT3p6upYtW6YhQ4aoYsWKKlOmjIYNG6b169crNjbWZvFyoR0AAIAzKIAL7c6fP68LFy5YtPn4%2BMjX1zfXbQ8cOCA/Pz%2BVLl3a3FajRg2dOHFCiYmJKlmypLk9ISFBJ0%2BeVHh4uE6ePKlKlSppyJAhatq0qU6dOqXExETVrFnTvH6VKlXk6emp/fv3q3z58jY4U5JiAAAA3MKSJUs0a9Ysi7aBAwdq0KBBuW4bFxeXrfp783lcXJxFUly6dGmVLVtWb7zxhipVqqQvv/xSAwYM0Lfffqv4%2BHiLbW%2B69957bTqumKQYAADAGRRApbhz584KCwuzaPPx8bH5cf6eZL/00kv6/vvvtXz5cjVp0uSW25lMJpvFQFIMAADgDAogKfb19c3TUImceHt7m6u8N8XFxUmSypYtm%2Bv2DzzwgC5cuCBvb29JUnx8vO655x5JNy7ii4%2BPNy%2BzBS60AwAAgM0FBgbq3Llz5kRYkvbs2aOqVauqRIkSFut%2B%2Bumn%2BuWXXyzajh8/rooVK6pixYoqXbq09u/fb14WExOj1NRU1apVy2bxkhQDAAA4g0I2JVv16tUVFBSk8ePHKyEhQTExMZozZ466desmSWrVqpW2b98u6UYFedy4cTpx4oRSU1M1f/58nTp1SuHh4XJ3d1enTp0UGRmp06dP69KlS5o4caJatWplnrLNFhg%2BAQAAgAIxY8YMjRo1So0bN1aJEiXUtWtXde3aVdKNSvC1a9ckSUOHDlVmZqZeeOEFXb9%2BXQEBAYqKijLPLDFo0CAlJSUpPDxcGRkZatasmcaMGWPTWE2GYRg23SNwN2Rk2DuCvHN3d4x4izjAd%2BTgYGnHDqlOHWnnTntHc1vXrznGW6vJJBUvLiUnS4X908CzeCEPMCuTqfB3qHTjF1/YOdKLVJI8Pe137IkTbb/PESNsv89CygE%2BBQEAAJCrArjQzpXQewAAAHB5VIoBAACcAZViq5AUAwAAOAOSYqvQewAAAHB5VIoBAACcAZViq9B7AAAAcHlUigEAAJwBlWKrkBQDAAA4A5Jiq9B7AAAAcHkkxU7szJkzCggI0NGjRyVJAQEB2rRpU4Efd%2BTIkRo2bNgtl3fq1EkffvhhgccBAIBLcXOz/cOFMHwCNjd%2B/Hh7hwAAAJAvJMUOKj09XUWK8OsDAAB/cbHKrq2RVdnBuXPnNG7cOG3dulWlSpXSE088oeHDh2vXrl2KiIhQZGSkxo8fr/Pnz6t%2B/fqaNm2aSpYsqQ8//FD79u1TiRIltGrVKu3bt08pKSmaPHmy1qxZo2vXrqlWrVoaNWqUKleufNsYUlNTNWnSJK1YsUKGYSgoKEijRo1SpUqVbhtjiRIlcj2/N998UykpKZo%2Bfbokafbs2Vq0aJHS09PVo0ePfPfX%2BfPndeHCBYs2H29v%2Bfr45HtfuI3gYHtHkLtq1Sz/LcRMJntHkDc343SUeGFjjvCL50WadyTFViEptoOhQ4eqVq1amj59upKSkvTaa6/pgw8%2BUJs2bXT9%2BnX98MMP%2Buqrr3Tt2jW1b99eX331lV566SVJ0q5du8zrS9K0adP066%2B/6vPPP1fZsmU1depUvfzyy1q1atVtY5g9e7YOHz6s5cuXy8vLS5GRkerXr5%2B%2B%2B%2B47ubm53TLGsWPH5utcf/rpJ82ZM0fz589XjRo1NGfOHB0%2BfFiNGzfO8z6WLFmiWbNmWbQNHDBAgyIi8hWLXbm72zuC3O3YYe8I8m7hQntHkKvi9g4gnzw87B1BXjhYUuQISVxxB3qlOsaLFA6MpPguO3TokPbs2aMFCxbIw8NDnp6eioiI0Kuvvqo2bdooIyNDvXr1UqlSpVSqVCnVqVNHx48fN29vMpnUqVMnuf31bTA6Olpjx47VAw88IEmKiIjQwoULtWPHDvn5%2Bd0yjsWLF2vatGkqX768pBuJ%2BsKFC7Vv3z4VK1bsljHmNylevXq1GjZsqDp16kiS%2BvXrp3//%2B9/52kfnzp0VFhZm0ebj7S1lZORrP3bj7u4Ysdavb%2B8Iclet2o2EuGtX6dAhe0dzW8m/OMaXDJPpRq6RkiIZhr2jub3iHoU8wKxMpsLfodKNX3xh50gvUsm%2BXzSoFFuFpPguO336tDIyMlSvXj2L9oyMDMXFxUmSRTLr4eGhlCxvWhUqVDAnxFeuXNHVq1f14IMPmpd7eXnJy8tLZ86cuWVSfOXKFcXHx6tPnz4yZalkZGZm6o8//pCbm9stY7x8%2BbLKli2b5/ONjY01J%2BySVLRoUd1///153l6SfH195evra9noCEmmo9m5094R5N2hQ4U%2BXkf47M7KMBwvZtiAI/3SeZGigJEU32Umk0n33HOPdubwgb5161ZJMie9OSlatGiO%2B8zKMIxsbVnd3P%2BiRYsUGBiYbfmaNWtuGWN%2BpaamZoslg4QWAADbo1JsFXrvLqtUqZKuXbum06dPm9sSExPNVeL8uFkVzjq8Ij4%2BXleuXDFfMJeTUqVKqXTp0jp8%2BLBF%2B5kzZ2weo6%2Bvr/744w/z89TUVJ07dy7f%2BwEAALlgnmKruNbZFgL%2B/v4KDg7WhAkTFBcXp4SEBI0ePVrDhw%2B/o/116NBBc%2BfO1R9//KHExERNmzZNlSpVUnAuMwl06dJFn376qY4ePaq0tDRFRUWpQ4cOun79uk1jfPzxx/XTTz9p9%2B7dun79umbPnn1H5wkAAFCQSIrtYOrUqcrMzFRYWJjCwsKUlpamSZMm3dG%2BIiIiFBgYqGeeeUbNmzfX%2BfPnNX/%2BfLnnMttB//791ahRI3Xt2lX169fXf//7X82dO1drEKT9AAAgAElEQVSenp42jfHpp59W9%2B7d1a9fPz3xxBMqWrSo6tSpo/T09Ds6XwAAcAtUiq1iMgxGrcMBOdK4ZEeZfcIRbgYTHHxj6rg6dQr9hXbXrznGW6vJdONi%2BeTkwn8Nk2fxQh5gVo4y%2B0Rysr0jyJ0jvUgl6a/ikl0sWGD7fb74ou33WUg5wKcgAAAAcuVilV1bIylGvnz22WeKjIy85fL27dtr/PjxdzEiAAAgiaTYSiTFyJdevXqpV69e9g4DAADApkiKAQAAnAGVYqvQewAAAHB5VIoBAACcAZViq5AUAwAAOAOSYqvQewAAAHB5VIoBAACcAZViq9B7AAAAcHlUigEAAJwBlWKrkBQDAAA4A5Jiq9B7AAAAcHlUigEAAJwBlWKr0HsAAABweVSKAQAAnAGVYquQFAMAADgDkmKr0HsAAABweVSKAQAAnAGVYqvQewAAAHB5JMUAAADOwM3N9g8rnTlzRr169VLt2rUVGhqqyZMnKzMzM8d1Fy5cqKeeekrBwcFq166d1qxZY142fPhw1ahRQ4GBgebHM888Y3V8WTF8AgAAwBkUsuEThmFo4MCBqlq1qjZu3KhLly6pd%2B/e8vb2Vs%2BePS3WXbVqlaZNm6a5c%2BcqMDBQ3333nYYMGaIffvhBlSpVUkJCgiIiItS3b98Ci7dw9R4AAACcwt69exUTE6ORI0fKy8tLVapU0auvvqolS5ZkWzc5OVmvv/66goODVaRIET333HMqWbKkdu/eLUlKSEiQl5dXgcZLpRgAAMAZFECl%2BPz587pw4YJFm4%2BPj3x9fXPd9sCBA/Lz81Pp0qXNbTVq1NCJEyeUmJiokiVLmtv/PhQiISFBiYmJqlChgvn52rVr9dlnn%2BnKlSsKCgrSO%2B%2B8o8qVK1txdpaoFAMAADiDAhhTvGTJEoWHh1s8cqr05iQuLi5bdffm87i4uFtuZxiGRo4cqVq1aqlOnTqSJD8/P913331auHChVq1aJS8vL73yyitKTU29w87KjkoxAAAActS5c2eFhYVZtPn4%2BBTY8dLS0vTmm2/q%2BPHjioqKkttf1e9PPvnEYr1x48apQYMG2rZtmxo1amSTY5MUAwAAOIMCGD7h6%2Bubp6ESOfH29lZ8fLxF280KcdmyZbOtn5ycrP79%2Bys1NVVffPGF7r333lvuu2TJkvLy8so2tMMaDJ8AAACAzQUGBurcuXMWQyX27NmjqlWrqkSJEhbrGoah1157TcWKFdO8efMsEuLExESNGzdOsbGx5ra4uDjFxcWpYsWKNouXpBgAAMAZFLJ5iqtXr66goCCNHz9eCQkJiomJ0Zw5c9StWzdJUqtWrbR9%2B3ZJ0nfffaeYmBhNnz5dxYoVs9hPyZIltWvXLr333nu6cuWKrly5orFjx6p69eoKDg62KsasSIoBAACcQSFLiiVpxowZunr1qho3bqyXX35ZXbp0UdeuXSVJx48f17Vr1yRJ0dHR%2BvPPPxUSEmJxg46RI0dKkmbNmqXMzEy1aNFCrVu3lmEY%2Bvjjj81jjm3BZBiGYbO9AXdLRoa9I8g7d3fHiLeIA1xiEBws7dgh1akj7dxp72hu6/o1x3hrNZmk4sWl5GSpsH8aeBYv5AFmZTIV/g6VbvziCztHepFKkqen/Y69ebPt9xkaavt9FlIO8CkIAACAXBWyO9o5GnoPAAAALo9KMQAAgDOgUmwVkmI4pAy52zuEPHOXY8Sb6gBjYE0mqbik5F92FPqhhZ73mOwdQt78NU67eMPCP07byCzkv/QsTJIMFf7XwKx/2XH8ax75%2BEhdukiLvykuG05JW2AGDbLjwUmKrULvAQAAwOVRKQYAAHAGVIqtQu8BAADA5VEpBgAAcAZUiq1CUgwAAOAMSIqtQu8BAADA5VEpBgAAcAZUiq1C7wEAAMDlUSkGAABwBlSKrUJSDAAA4AxIiq1C7wEAAMDlUSkGAABwBlSKrULvAQAAwOVRKQYAAHAGVIqtQlIMAADgDEiKrULvAQAAwOVRKQYAAHAGVIqtQu8BAADA5VEpBgAAcAZUiq1CUgwAAOAMSIqtQu8BAADA5VEpBgAAcAZUiq1C7wEAAMDlUSkGAABwBlSKrUJSDAAA4AxIiq1C7wEAAMDlUSkGAABwBlSKrULvAQAAwOVRKQYAAHAGVIqtQlIMAADgDEiKrULvAQAAwOVRKQYAAHAGVIqtQlIMAADgDEiKrULvAQAAwOVRKQYAAHAGVIqtQu8BAADA5VEpBgAAcAZUiq1ik947e/asAgMDdfz4cVvs7rZee%2B01vfnmmwV6jDNnziggIEBHjx4t0OPYW8%2BePRUZGXlH2x49elQBAQE6c%2BaMjaMCAAB3xM3N9g8XYpOz9fPz0969e/XQQw9JkjZv3qy9e/faYtfIp/nz5ys9PT1P686bN09Dhgwp4IgAAICrOnPmjHr16qXatWsrNDRUkydPVmZmZo7rLliwQM2aNVNQUJA6duyo/fv3m5elpKRo1KhRCgkJUXBwsCIiInT58mWbxlogXwGioqK0b9%2B%2Bgtg1buPy5ct6//33lZGRYe9QAADA3VbIKsWGYWjgwIEqU6aMNm7cqC%2B%2B%2BEI//vijoqKisq27evVqRUZGauLEidq6dauaNm2qPn366Nq1a5KkyZMna8eOHYqOjta6deuUmpqqt956y6r4/i7fZ3vq1Cm99NJLevTRR/XEE0/oP//5j8Vwg759%2B2rDhg0aP368XnzxRb344ouaNGmSxT5mzZqljh075ul4X375pcLCwlS3bl2NGzcu27eLL774QmFhYQoODlZ4eLh%2B/vlnSdIHH3yg7t27W6y7du1a1atXT6mpqUpNTdW4cePUoEEDhYSEqHfv3jp16lSOMVy5ckXDhg3T448/rtDQUEVEROjixYuSpJ9//lnVq1fX%2BvXr1bx5c9WtW1cRERFKTEw0x9%2BuXTstXLhQjz32mEJCQrRw4UJt2rRJLVq0UN26dTV%2B/HjzsW4XV1pamgICArRq1Sp16dJFtWvXVvv27RUTE6OLFy%2BqSZMmMgxD9erV09dff51r33bv3l1TpkyRJE2fPl39%2BvXT3Llz1bBhQ4WEhOj99983r3vp0iX17t1bwcHBatu2rfbs2WOxr3Pnzqlv374KDg5WkyZNNGrUKCUlJUmShg4dqsGDB5vX3bx5s4KDg3Xu3LlcYwQAAI5p7969iomJ0ciRI%2BXl5aUqVaro1Vdf1ZIlS7Ktu3TpUnXo0EGPPfaYPD09NWDAAJlMJq1du1bp6elatmyZhgwZoooVK6pMmTIaNmyY1q9fr9jYWJvFm%2B8L7YYOHaratWvrk08%2B0cmTJ9W1a1cVLVrUvPyTTz5RWFiYXnnlFf3jH//QsmXLNG3aNA0bNkxuf33jWL16tZ5//vlcj3Xs2DGNGjVKs2bNUpMmTfTtt9/qvffeU6tWrSTdSEg/%2Bugjffrpp6pWrZpWr16tfv36aeXKlWrdurWioqIUFxenMmXKmI/75JNPqlixYpo%2BfboOHz6s5cuXy8vLS5GRkerXr5%2B%2B%2B%2B67bHG8/fbbSkpK0rfffquiRYtqxIgRGjBggJYsWaIiRYooMzNTK1as0DfffKNr167ppZde0tSpUzV69GgVKVJEZ8%2Be1aVLl7Rp0yb961//0uTJk9WyZUt988032rVrl3r27KlOnTrJ399fs2fPvmVcN/t53rx5ev/991WhQgX16tVLM2bM0EcffaTPPvtMPXr00Pbt2%2BXh4ZGv32uRIkW0c%2BdOBQcHa8OGDdq6dat69%2B6tZ555RtWrV9eECROUkpKiDRs26Pr163r99dezvS5q1aql6dOnKykpSa%2B99po%2B%2BOADjR07Vm%2B//bbatGmjLVu2qF69eho/fryGDh2q%2B%2B%2B/P0%2BxnT9/XhcuXLBo8/b2kY%2BPb77OEbdnMtk7gtzdjNERYlVwsL0jyJtq1Sz/hUvx8bF3BLn76yPc/C9uowDGAOf0Gezj4yNf39w/gw8cOCA/Pz%2BVLl3a3FajRg2dOHFCiYmJKlmypMW6bdq0MT83mUyqVq2a9u/fr5o1ayoxMVE1a9Y0L69SpYo8PT21f/9%2BlS9f3ppT/H9GPhw8eNDw9/c34uLizG2bN282jhw5Yvj7%2BxtHjhwxDMMwmjVrZixcuNAwDMNITEw0ateubfzyyy%2BGYRjGqVOnjBo1ahgXL17M9Xiffvqp0a5dO4u2Nm3aGMOHDzcMwzAGDBhgTJs2zWJ59%2B7djblz5xqGYRhhYWHG119/bRiGYaSlpRkhISHGxo0bDcMwjJCQEOOnn34yb5eSkmIEBgYau3fvNk6fPm0%2Bn7i4OCMgIMDYuXNntn44ffq0sWXLFsPf39/Ys2ePefn8%2BfONZs2aGYZhGNHR0Ub16tWN69evG4ZhGPv37zf8/f2Nbdu2mdevWbOmsXr16lzjMgzD8Pf3Nz7//HOLY7Vq1cowDMMcS3Jycq59axiG8cILLxiTJ082DMMwZs6caTRs2NDIyMgwL69bt66xYsUKwzAMIygoyFi1apV52YoVK8x9cPDgQaN69eoWx/3111%2BN2rVrm59HR0cbbdu2NebOnWt06tTJ4ji5mTlzpuHv72/xmDFjZp63BwDAFWRm2v6R02fwzJl5%2Bwz%2B6KOPjPDwcIu2EydOGP7%2B/sapU6cs2mvUqGGsX7/eou311183/vnPfxrbt283/P39jaSkJIvljRs3NpYuXZr/jrqFfFWKT58%2BrZIlS1pk/I899thtZyAoUaKEnnzySS1fvlyhoaFauXKlGjZsKG9v71yPFxsbKz8/P4u2SpUqmX8%2BdeqU1q9fr3nz5mVN8uXv7y9JatWqldasWaPnnntOv/76qySpYcOGunLliuLj49WnTx%2BZspScMjMz9ccff6hs2bLmtnPnzskwDD344IPZYjhz5ox5%2B8qVK5uX%2B/n56fz58%2BbnXl5eKl68uCSZK7hZv9UUL15cKSkpucYVFBQkSXrggQfMyzw8PJSSknKbXsy7ChUqmKv5N/ednJysuLg4JScnW/wusp7v6dOnlZGRoXr16lnsLyMjQ5cvX1bZsmUVHh6ub7/9VpGRkVq2bJnFcXLTuXNnhYWFWbR5e/vIUYZOu7vLIWJNS7N3BLkzmSQPDyklRTIMe0dze8Ub1rF3CHlTrZq0cKHUtat06JC9o7kt47cd9g4hz0ymwv8alaQc/opd6JQpI7VsKa1cKcXF2Tua3HXpYu8IbCunz2CfAvgTg%2BkWfwK8VXtel%2BdHvodPGHfwv/zZZ59VRESExowZo9WrV%2BuFF17I03apqanZTjbrRWRubm4aOnSoevXqleP2rVq1Uvfu3ZWcnKxVq1apZcuWKlKkiDkhW7RokQIDA7Ntl1OSn1On/z1xvckwDBUrVswizrzsL7e4bretLdwqUU1NTc123KwzXJhMJt1zzz3auXPnLfedmpqq8%2BfPq2jRojp16pQeeeSRPMfl6%2Bub7c80jpBkOhpH%2BAC/yTAcIN7b/H8olA4dcryYYbW//VW8UIuLc6x47eEWkzpYJafP4Lzy9vZWfHy8RVvcX99sshYgJalMmTI5ruvv728upMbHx%2Buee%2B6RdCPXio%2BPz1ORNa/yNfikYsWKSkpKshhbsnr1am3ZsuW224WGhqpEiRJatmyZfv/9dzVv3jxPx/P19dUff/xh0Xby5Enzz5UqVdLhw4ctlt%2Bs7EpSYGCgypUrp82bN2vdunVq3bq1JKlUqVIqXbp0tm1zSoYfeOABubm5WczBfDOGv1ets8ZwJ%2BNb8hPX3VS2bFkVKVLE4sK4EydOmH%2BuVKmSrl27ptOnT5vbEhMTzS98Sfr4449VoUIFTZo0SePGjTNfiAgAAJxTYGCgzp07Z5EP7NmzR1WrVlWJEiWyrZt15rKMjAwdOHBAQUFBqlixokqXLm0xRVtMTIxSU1NVq1Ytm8Wbr6S4WrVqqlWrliIjI3Xt2jUdPnxYI0eOzPbnew8PDx07dsyc8bu5ualdu3aaMmWKmjdvbs7yc/P444/rwIEDWr9%2BvVJTU7Vw4UKLYQmdO3fWjz/%2BqI0bNyojI0NbtmxR27ZtLeZIbtmypebNm6eMjAw1aNDA3N6lSxd9%2BumnOnr0qNLS0hQVFaUOHTro%2BvXrFjHce%2B%2B9euqpp/Thhx8qLi5OcXFxmjFjhho0aKAKFSqY1/vXv/6l%2BPh4xcbGasmSJWrRokXeOzaLvMaVk5tDNGJiYmyadBYtWlSPPfaY/vOf/%2Bjq1as6d%2B6cFi9ebF7u7%2B%2Bv4OBgTZgwQXFxcUpISNDo0aM1fPhwSdKRI0cUFRWld955Ry1btlTVqlXNs14AAADbyMy0/cMa1atXV1BQkMaPH6%2BEhATFxMRozpw56tatm6Qbf9Hfvn27pBv5T3R0tLZs2aKkpCRNmzZNxYsXV1hYmNzd3dWpUydFRkbq9OnTunTpkiZOnKhWrVqpXLly1nabWb4vU5w6darOnDmj0NBQvfLKK%2BrXr5%2BaNm1qsU6nTp20dOlS9e7d29z27LPP6urVq3rmmWfyfKzg4GC99dZbGjNmjB577DHFxMSoTZs2Svtr8GOjRo00bNgwjR07VrVr19aYMWM0evRo89hbSWrdurV%2B/fVXtWrVymJ4QP/%2B/dWoUSN17dpV9evX13//%2B1/NnTtXnp6e2eIYPXq0SpYsqbCwMD399NMqWbKkZsyYYbFOixYt9Pzzz6tNmzaqVq2a%2Bvbtm%2BfzzCo/cf1d9erVFRwcrB49euirr766o%2BPfynvvvSfDMNSkSRP17t1bL730kqT/H0YxdepUZWZmKiwsTGFhYUpLS9OkSZNkGIbeeecd9ejRw3xzl1GjRmnZsmX67bffbBojAACurLAlxZI0Y8YMXb16VY0bN9bLL7%2BsLl26qGvXrpKk48ePm%2BchbtKkiYYNG6YRI0YoNDRUO3fu1Jw5c8zXYg0aNEgNGjRQeHi4WrRooXLlyundd9%2B1PsAsTMadDBK%2BA5s3b9aIESO0bt26fF1kVdht3bpVPXr00J49e/I9DRrunCONKXaUC%2B3%2BGjpeqJlMUvHiUnJy4R9T7HmPI8wbpxtTx%2B3YIdWpU%2BjHFBuZhfyXnoWjXGg3a5a9I8idj8%2BNi9cWL3aMMcWDBtnv2Da67t6CK6U2%2Bb7Q7k7ExsZqwoQJ6tWrl1MlxAAAAIVFQVxo50oKPCmeM2eOZs%2Berfbt25vHkEg3Blpnff53999/v1auXFnQ4Tmtd999V19%2B%2BeUtl/fr10/9%2B/e/ixEBAAAUXndt%2BARgS44wHOEmhk/YDsMnCgDDJwoEwydsh%2BETeZeUZPt9/m2SCKd2V4ZPAAAAoGAxfMI6DPAFAACAy6NSDAAA4ASoFFuHSjEAAABcHpViAAAAJ0Cl2DokxQAAAE6ApNg6DJ8AAACAy6NSDAAA4ASoFFuHSjEAAABcHpViAAAAJ0Cl2DokxQAAAE6ApNg6DJ8AAACAy6NSDAAA4ASoFFuHSjEAAABcHpViAAAAJ0Cl2DokxQAAAE6ApNg6DJ8AAACAy6NSDAAA4ASoFFuHSjEAAABcHpViAAAAJ0Cl2DokxQAAAE6ApNg6DJ8AAACAy6NSDAAA4ASoFFuHSjEAAABcHpViAAAAJ0Cl2DokxQAAAE6ApNg6DJ8AAACAy6NSDAAA4ASoFFuHpBgAAMAJkBRbh%2BETAAAAcHlUigEAAJwAlWLrUCkGAACAyzMZhmHYOwgg3zIy7B1B3rm7O0a8bg7yHdlkkhzgbcuQyd4h5JmDdKlMbg7Sp8HB0o4dUp060s6d9o7mtjLSHeAXL8d5G5VuxGovv/1m%2B33WrWv7fRZWDJ8AAABwAgyfsI6DlIYAAACAgkOlGAAAwAlQKbYOlWIAAAC4PCrFAAAAToBKsXVIigEAAJwASbF1GD4BAACAuy4uLk6vvfaa6tSpo/r16%2Bvtt99WcnLyLdf/73//q3bt2ik4OFhPPfWUlixZYl42c%2BZMVa9eXYGBgeZHvXr18hUPlWIAAAAn4GiV4rfeektJSUlatWqVMjIy1L9/f02ePFnvvPNOtnX37NmjYcOGKTIyUk2bNtWWLVvUp08fPfzww6pXr54SEhLUoUMHvfvuu3ccD5ViAAAA3FWXLl3S%2BvXrNWLECJUrV07ly5fXkCFD9PXXXys1NTXb%2BvHx8erbt6/CwsLk7u6uRo0aKSAgQNu3b5ckJSQkyMvLy6qYqBQDAAA4gYKoFJ8/f14XLlywaPPx8ZGvr69V%2Bz1w4ICKFCmigIAAc1uNGjV07do1HT9%2B3KJdkpo0aaImTZqYn6enp%2Bv8%2BfOqUKGCpBtJ8R9//KGnn35asbGxeuSRRzRixAgFBQXlOSaSYgAAACdQEEnxkiVLNGvWLIu2gQMHatCgQVbtNy4uTiVLlpSb2/8PWrhZ6b18%2BXKu20%2BZMkUeHh5q0aKFpBuJuoeHh9577z2VLVtWs2fPVq9evbRy5UqVLVs2TzGRFAMAACBHnTt3VlhYmEWbj49Pnrb95ptv9NZbb%2BW47L333rvldiaT6ZbLDMPQlClT9MMPP2jBggW65557JCnbWOI33nhD3333ndasWaNOnTrlKV6SYgAAACdQEJViX1/fOx4q8eyzz%2BrZZ5/NcdnPP/%2Bsq1evKiMjQ%2B7u7pJuVI8lydvbO8dtMjMzNWLECO3fv19LliwxD53Iibu7uypUqJBt6MftcKEdAAAA7qoaNWooMzNTMTEx5rY9e/aoVKlSqly5co7bTJgwQceOHdMXX3xhkRAbhqH3339fBw8eNLelpaXp9OnTqlixYp5jIikGAABwApmZtn8UlDJlyqh169aaOHGiLl68qLNnz2r69Onq3LmzihYtKkl68cUX9cMPP0iSfvvtN3377beaPXt2tlkmTCaTzpw5o3fffVexsbFKSkrSlClTVKxYMT355JN5jonhEwAAAE7A0eYpHjt2rMaMGaMWLVqoaNGiateunQYPHmxefvr0aV25ckWSFB0drcTERDVv3txiH/Xr19e8efM0fvx4TZw4Uc8%2B%2B6wyMjIUGBioqKgo85jjvDAZhmHY5tSAuygjw94R5J27u2PE6%2BYgfzgymSQHeNsydOsLRQobB%2BlSmdwcpE%2BDg6UdO6Q6daSdO%2B0dzW1lpDvAL16O8zYq3YjVXlautP0%2BW7a0/T4LKyrFAAAATsDRKsWFjYOUhgAAAICCQ6UYAADACVAptg5JMQAAgBMgKbYOwycAAADg8qgUAwAAOAEqxdahUgwAAACXR6UYAADACVAptg5JMQAAgBMgKbYOwycAAADg8qgUAwAAOAEqxdahUgwAAACXR6UYAADACVAptg5JMQAAgBMgKbYOwycAAADg8qgUAwAAOAEqxdahUgwAAACXR6UYAADACVAptg5JMQAAgBMgKbYOwycKUM%2BePRUZGZmndVu2bKmlS5cWcETS119/rUaNGhX4cQAAABwJleJcrFq1SgEBAXrwwQfzve28efPyvO7KlSvzvX8AAICbqBRbh0pxLmbOnKmTJ09ma09PT7dDNI6FPgIA4O7JzLT9w5WQFN/GM888o99//139%2B/dXjx49FBAQoMWLFyskJETLly%2BXJM2fP19hYWGqXbu2WrdurTVr1pi37969u6ZMmSJJmj59uvr166e5c%2BeqYcOGCgkJ0fvvv29eNywsTIsWLZIkvf766xo/frwmTJig%2BvXrKzQ0VFFRUeZ1jx07pi5duig4OFjdunXTDz/8oICAAKWlpeX53FavXq2wsDDVqVNHb7zxhjIyMiRJmZmZmj17tlq0aKG6deuqS5cu2rNnj3m7gIAAbdq0yfx80aJFCgsLkySdOXMmWx9duHBB/fr1U0hIiOrWrauePXvq7NmzeY4TAADgbiApvo2bie9HH32kCRMmSJK2bt2q9evX69lnn9Wvv/6qqVOnaubMmdqxY4defPFFvfHGG0pISMi2ryJFimjnzp0yDEMbNmzQ1KlTNW/ePB08eDDbukWLFtWKFStUs2ZNbdmyRYMHD9bkyZN1%2BfJlSdLgwYNVvnx5/fTTTxoxYoR53HLRokXzdF5JSUnasWOHVqxYoaioKK1cuVLr16%2BXJH3%2B%2BedaunSpPvzwQ/3yyy8KCwvTSy%2B9ZD52XmTtoxkzZig9PV3r16/XL7/8oqpVq1p8GQAAALZBpdg6jCnOp3bt2qlEiRKSpHr16umXX37RvffeK0lq27atRo8eraNHjyo4ODjbtu7u7urdu7fc3NzUuHFjlSpVSsePH1f16tWzrevn56f27dtLktq0aaPRo0fr9OnTSk5O1uHDhzVp0iSVKFFCtWrV0pNPPqnPPvssz%2BeQkpKigQMHytPTU0FBQXr44Yd17NgxSVJ0dLS6du2qatWqSZJ69eqlefPmacOGDQoPD893HyUlJcnd3V0eHh4qUqSIRowYIZPJlOdYJen8%2BfO6cOGCRZuPt7d8fXzytR8ADi6H99VC6a/3T/O/ABwCSXE%2B3X///eafU1NTNX36dG3YsEEXL160aM9JhQoV5Ob2/8V5Dw8PJScn57iun5%2BfxXqSlJycrD///FOS9MADD5iX%2B/v75%2BscypQpY05aJalYsWJKSUmRdGMIRNaLCt3d3eXn56czZ87kef9Z%2B%2BjVV1/VK6%2B8oqZNm%2BqJJ55Qy5Yt1aRJk3zFu2TJEs2aNcuibeCAARoUEZGv/diVu7u9I3Au%2BfxiZQ%2BFP0JLDtCl0o4d9o4gfxYutHcEuXKkdybeRnPnapVdWyMpzqesQxTmzJmjdevW6dNPP1VAQICSk5NVu3btW26bNSHOza3WNQxDkiyqrVkT3LzIrVL79%2BWGYdxym5vxZJW1j6pXr661a9dq06ZN2rhxowYNGqSuXbtq%2BPDheY63c%2BfO5nHLN/l4e0t/jYMu9NzdHSPWfLw%2B7cpkknJ43RU2hgOlxQ7SpTLVrWPvEPKmWrUbCXHXrtKhQ/aO5rYytjnGFw1HeRuV7Ju8kxRbh6TYCvv27VOzZs3MQw0O3YU3P5%2B/hgz88ccf5qkZiiUAACAASURBVGEb%2B/bts9n%2BK1WqpOPHj5ufZ2Rk6OzZs6pYsaKkG1XrrBf03axc30pCQoLuuecetWjRQi1atFD9%2BvU1bty4fCXFvr6%2B8vX1tWx0lHdHALazc6e9I8ifQ4ccL2bAhTlIach%2BPDw8dOTIEV29ejXbsvvuu0%2BHDh3S9evXdeLECc2ZM0eenp6KjY0tsHgqVaqkBx54QFFRUbp%2B/boOHDig1atX22z/HTp00KJFi/T7778rOTlZn3zyiQzDMFdqK1eurJ9//lnSjYQ4t2N37NhRs2fPVkpKilJTU3Xw4EFzgg0AAGyHC%2B2sQ1Kciy5dumjGjBn6%2BOOPsy3r06ePMjMzFRoaqmHDhumNN97QM888ozFjxmjjxo0FFtOMGTN04MABhYaGaurUqXrllVfyffHarXTp0kVt27ZVjx491KhRI23ZskX//ve/zVXpESNG6KefflJYWJjefvttvfDCC7edj3jGjBnavn27QkND1bBhQx06dMg8TR0AAEBhYTJyGhSKQs0wDKWnp5vH7kZHR2vmzP9r787jYzz3Po5/7ySSlGgIYgkpdYqqLSpNrafUmqDp8yC0emhTbe1FS2lrqa1FOEJabXMcXrpQ5VBLqaVVWw8OD4IotUVE5JCNknWePzzyNCdBYpLcmZnP%2B/XKq5nrvmfy7Yjxm99c93WFF2shXurY0vQJW5kMx5ziIsWc4qJnONnIc%2Brnd/uiwObNS/30iaxMG/iDl%2B28jErmzilesKDoH3P48KJ/zNKKOcU2aODAgapSpYqmTp2q1NRUffnll3rmmWfMjgUAAEzkaNMdihpFsQ2aOnWqJk6cqNatW8vd3V1//vOf9dZbb%2Bn777/X2LFj73o/f39/LV68uASTAgAA2AaKYhvk6%2Buba9vnO7p166Zu3bqVfCAAAGA6OsXWsZFJhAAAAEDxoVMMAABgB%2BgUW4eiGAAAwA5QFFuH6RMAAABweHSKAQAA7ACdYuvQKQYAAIDDo1MMAABgB%2BgUW4dOMQAAgB3Izi76r%2BKUmJioUaNGqXnz5vL399e7776rW7du5XvuL7/8ovr166tx48a5vo4cOSJJslgsmjdvnlq3bq2mTZtq4MCBiomJKVQeimIAAACUuAkTJujq1av64YcftH79ekVHR2v27Nn5npuamqratWvr6NGjub6aNGkiSVq6dKlWrVqlyMhI7d69W76%2Bvho6dKgsFkuB81AUAwAA2AFb6hRfvXpVP/74o8aPH6/KlSuratWqevPNN7V69Wqlp6fnOT85OVmenp53fbyVK1fq1Vdf1eOPPy4PDw%2BNGzdOZ86c0aFDhwqciaIYAAAAJer48eNycXFR/fr1c8YaNmyo33//XWfPns1zfkpKipKTk9W/f389%2BeSTCgoK0po1ayRJaWlp%2Bu2339SoUaOc88uVKydfX18dO3aswJm40A4AAMAOFEdn98qVK0pISMg1VqVKFXl7e1v1uImJifLw8JCT0//3Z%2B90gq9du5bn/LJly8rb21sjR45Uo0aNtG3bNr399tvy9vZW3bp1ZbFY8nSSPT09832su6EoBgAAsAPFURSvWLFCCxcuzDU2bNgwDR8%2B/L73XbNmjSZMmJDvsenTp9/1foZh5Bnr27ev%2Bvbtm3M7KChIP/zwg1atWqWxY8cW6rHuhqIYAAAA%2BQoJCVGHDh1yjVWpUqVA9w0ODlZwcHC%2Bx3bv3q3U1FRlZWXJ2dlZ0u3usSRVqlSpQI9fs2ZNRUVFqWLFinJyclJSUlKu44mJiQV%2BLImiGAAAwC4UR6fY29vb6qkS%2BWnYsKGys7N18uRJNWzYUJJ05MgRlS9fXrVr185z/jfffCMPDw8FBgbmjJ05c0a1atWSq6ur6tWrp2PHjsnf31%2BSlJSUpAsXLqhx48YFzsSFdgAAAChRFStWVLdu3TRz5kz9%2B9//VmxsrObNm6eQkBCVKVNGkjRgwABt3LhR0u2L6aZNm6aoqChlZGRow4YN2rlzp/r16ydJ6tevnyIjIxUdHa3U1FRNmzZNjRo1ylmyrSDoFAMAANgBW9vRbsqUKZo8ebI6deqkMmXKqEePHho5cmTO8ZiYGCUnJ0uS%2Bvfvr9TUVI0YMUKJiYmqU6eOIiIi9MQTT0i6Pec4ISFBr7zyim7cuKGAgACFh4cXKo9hKcyqxkBpkZVldoKCc3a2jbxONvLBkWFINvCyZVHBL%2B4wm408pTKcbOQ59fOTDh6UmjeXCrFGqhmyMm3gD1628zIq3c5qlvHji/4xZ84s%2BscsrWzkX0EAAACg%2BDB9AgAAwA7Y2vSJ0oZOMQAAABwenWIAAAA7QKfYOhTFAAAAdoCi2DpMnwAAAIDDo1MMAABgB%2BgUW4dOMQAAABwenWIAAAA7QKfYOhTFAAAAdoCi2DpMnwAAAIDDo1MMAABgB%2BgUW4eiGAAAwA5QFFuH6RMAAABweHSKAQAA7ACdYutQFMM2OdnYhxy2kPfWLbMT3J9hSO7uUlqaZLGYneaeFkY%2BZHaEAqlSRerbV1qxQkpIMDvNvQ3JLN1/5n/kLClr/0GzY9yXs4thdoT78/OTDh6Us39z6dAhs9PcXyl/bcLdURQDAADYATrF1qEoBgAAsAMUxdaxgc90AQAAgOJFpxgAAMAO0Cm2Dp1iAAAAODw6xQAAAHaATrF1KIoBAADsAEWxdZg%2BAQAAAIdHpxgAAMAO0Cm2Dp1iAAAAODw6xQAAAHaATrF1KIoBAADsAEWxdZg%2BAQAAAIdHpxgAAMAO0Cm2Dp1iAAAAODw6xQAAAHaATrF1KIoBAADsAEWxdZg%2BAQAAAIdHpxgAAMAO0Cm2Dp1iAAAAODw6xQAAAHaATrF1KIoBAADsAEWxdZg%2BAQAAAIdHpxgAAMAO0Cm2Dp1iAAAAODw6xQAAAHaATrF1KIoBAADsgK0VxYmJifrggw%2B0Y8cOOTs7q3Pnznr//ffl7u6e59z33ntPa9euzTWWnZ2t5s2ba9myZQoPD9cnn3wiF5f/L23d3Nx04MCBAudh%2BgQAAABK3IQJE3T16lX98MMPWr9%2BvaKjozV79ux8z502bZqOHj2a83X48GE1atRIPXr0kCSlpKSoV69euc4pTEEsURQDAADYhezsov8qLlevXtWPP/6o8ePHq3LlyqpatarefPNNrV69Wunp6fe9/4oVK2SxWNS7d29Jt4tiT09PqzJRFAMAAKBEHT9%2BXC4uLqpfv37OWMOGDfX777/r7Nmz97zv9evXFR4ervHjx8swDEm3i%2BLDhw8rKChILVq0UL9%2B/XTkyJFCZWJOMQAAgB0ojs7ulStXlJCQkGusSpUq8vb2tupxExMT5eHhISen/%2B/P3un0Xrt27Z73XbZsmZo0aSI/P79cmdzc3DR9%2BnR5eXkpIiJCoaGh2rx5s7y8vAqUiaIYAADADhRHUbxixQotXLgw19iwYcM0fPjw%2B953zZo1mjBhQr7Hpk%2Bfftf73en%2B5icjI0NffvmlZs6cmWt86tSpuW6/9dZbWrdunbZu3ao%2BffrcN6tEUQwAAIC7CAkJUYcOHXKNValSpUD3DQ4OVnBwcL7Hdu/erdTUVGVlZcnZ2VnS7e6xJFWqVOmuj3ngwAFlZGSodevW9/zZzs7Oql69ep4u971QFAMAANiB4ugUe3t7Wz1VIj8NGzZUdna2Tp48qYYNG0qSjhw5ovLly6t27dp3vd/OnTsVEBCQa9qFxWLRrFmz1LNnTz3%2B%2BOOSbneUY2JiVKtWrQJn4kI7AAAAlKiKFSuqW7dumjlzpv79738rNjZW8%2BbNU0hIiMqUKSNJGjBggDZu3JjrfidOnNCf/vSnXGOGYejixYuaOnWq4uPjdePGDc2ZM0eurq7q2LFjgTNRFAMAANgBW1qSTZKmTJkib29vderUSc8//7wCAgI0cuTInOMxMTFKTk7OdZ%2BEhARVqFAhz2NNmzZNvr6%2BCg4OVvv27XX69GktWbJEZcuWLXAepk8AAADYAVvb0a58%2BfIKCwu76/Ht27fnGVu/fn2%2B53p6eurDDz%2B0Kg%2BdYgf0ww8/6Pz586b87G%2B//fa%2BS60AAACUNIpiBxQeHl7oojg7O1vZVr4FzcrK0syZM3OuLgUAAEXH1qZPlDYUxQ6mZ8%2BeOnXqlIYMGaLx48dr586dCg4Olp%2Bfn9q2bZtrLcLVq1ere/fumjVrlpo2bapLly7p%2BvXrGj16tFq0aKEuXbpo7969atSokXbv3i3p9o4yY8aMUYsWLdSyZUu9%2Beabunr1qiTpqaee0vXr1/Xcc8/lWfMQAABYh6LYOswpdjDfffed6tevr48//lgtWrRQ69atNWbMGL3wwguKjo5W37591axZM7Vp00bS7Z1s3NzcdPDgQbm4uGjatGk6duyY1q1bpzJlyuidd95RRkaGXFxu/ypNmTJFmZmZ2rZtm5ycnDRp0iSNGzdOkZGRWrt2rZ599lmtXbtWdevWLXDmfHfTqVy5WJaIcWj3WCy91LiT0QayFnAZT9NVrJj7v3Awf9gRrNRq0CD3f4FiQlHswMqWLauff/5ZZcuWlZOTkxo2bKi6devq2LFjOUVxSkqKQkNDc5ZH%2Bemnn9S/f39Vr15dkvTSSy9p586dOedu3LhR33//fc5WjW%2B99Zbat29v1TzifHfTGTpUw0eMeODHLHE2UMTJ3d3sBAXn5mZ2gvvq29fsBIXTpYvZCezP/%2B1HULodPGh2goL76iuzE5R6jtbZLWoUxQ5u7dq1%2BuKLL3T58mVlZWUpIyMj1841Dz/8sDw8PHJux8fHq2bNmjm369Wrl/P9xYsXlZ2drR49euT6Gc7OzoqNjVXFB2xF5bubTuXKksXyQI9X4gzDNrKmpZmd4P4M43ZBnJZW6p/T5Wts401GxYq3C%2BLNm6XSPt2/d2%2BzExScs7OUlWV2ivtz9m9udoT7a9DgdkH8wgtSdLTZae7Plt5oIBeKYgf2yy%2B/aPr06Zo/f746dOggFxcX9erVK9c5dzrEd1gsllx7kv9x/b87u8vs2LFDXl5eeX7exYsXHyhnvrvplPKCyCbZ0nNqsZT6vIXYWbRUSEy0vcwoAocOmZ2g4KKjbSuvCegUW4cL7RxYVFSU6tSpo86dO8vFxUW3bt2676oUlStXVlxcXM7tY8eO5Xzv4%2BMjJycn/frrrzljGRkZio%2BPL/rwAAAgFy60sw5FsQNyc3PT6dOnVb16dcXHxys2NlbJycmaMGGCqlates8itlWrVlq5cqWuXLmiq1evatmyZTnHypcvr8DAQM2bN0%2BXL1/WrVu3NHfuXIWGhspiscj9/%2Basnjp1SqmpqcX%2B/wkAAFBQFMUOqG/fvpo/f742bdqkdu3aqXv37urVq5cCAwP16quvasOGDZo/f36%2B93377bdVrVo1denSRQMHDtTAgQMl/f/Uiffff181a9ZUUFCQWrVqpV9//VUff/yxDMNQ5cqV1blzZ40bN04LFiwoqf9dAAAcAp1i6xgWSymfmIdSJz09Xa6urpJu70vesWNHbdmyRb6%2BviUXwpZ%2BbW3lQrtbt8xOcH%2BGcXuVjFu3Sv1zuiDyIbMjFEiVKrdXyli%2BvPTPKR4yxOwEBWczF9q52MDKOH5%2Bty9ea97cNuYUm/ja1Lhx0T/m0aNF/5ilFZ1iFEpERISef/55XblyRbdu3dKiRYv0pz/9KdeKFAAAoOTRKbYOq0%2BgUEJDQxUbG6sePXooKytLjRo1Unh4eM70CQAAYA5HK2KLGkUxCsXd3V0zZswwOwYAAECRoigGAACwA3SKrcNn3gAAAHB4dIoBAADsAJ1i61AUAwAA2AGKYuswfQIAAAAOj04xAACAHaBTbB06xQAAAHB4dIoBAADsAJ1i61AUAwAA2AGKYuswfQIAAAAOj04xAACAHaBTbB06xQAAAHB4dIoBAADsAJ1i61AUAwAA2AGKYuswfQIAAAAOj04xAACAHaBTbB06xQAAAHB4dIoBAADsAJ1i61AUAwAA2AGKYuswfQIAAAAOj04xAACAHaBTbB06xQAAAHB4dIoBAADsAJ1i61AUAwAA2AGKYuswfQIAAAAOj04xAACAHaBTbB06xQAAAHB4dIoBAADsAJ1i69ApBgAAsAPZ2UX/VdyOHj2qTp06qU%2BfPvc9d8OGDerSpYsaN26s7t27a/fu3TnHLBaL5s2bp9atW6tp06YaOHCgYmJiCpWFohgAAAAl7rvvvtPw4cP1yCOP3PfcqKgojRs3TiNHjtT%2B/fs1cOBADR06VHFxcZKkpUuXatWqVYqMjNTu3bvl6%2BuroUOHymKxFDgPRTEAAIAdsLVOcVpamlasWKGmTZve99xVq1apXbt2CgwMlLu7u3r16qX69etr7dq1kqSVK1fq1Vdf1eOPPy4PDw%2BNGzdOZ86c0aFDhwqch6IYAAAAJa53796qWrVqgc49fvy4nnjiiVxjjz/%2BuI4dO6a0tDT99ttvatSoUc6xcuXKydfXV8eOHStwHi60AwAAsAPF0dm9cuWKEhISco1VqVJF3t7eRf/D7iExMVEVKlTINebp6alTp04pKSlJFotFnp6eeY5fu3atwD%2BDohi2yTDMTlAgV65c0YoVKxQSElLiLyCF9tBDZie4rytXrmjF55/bxPM5fLjZCQrmypUrWrDARn5HbYRN/b0vxHxLs1y5ckUrFixQyKZNpf/5NFlx/HEuWLBCCxcuzDU2bNgwDS/Ai9yaNWs0YcKEfI/NmDFDwcHBVucz7lMP3O/4H1EUA8UoISFBCxcuVIcOHXgxLwI8n0WP57To8ZwWLZ5Pc4WEhKhDhw65xqpUqVKg%2BwYHBxdJ4StJXl5eSkxMzDWWmJgoLy8vVaxYUU5OTkpKSspzvFKlSgX%2BGRTFAAAAyJe3t3epeDPSuHHjPPODjx49qqCgILm6uqpevXo6duyY/P39JUlJSUm6cOGCGjduXOCfwYV2AAAAKHUGDBigjRs3Srp9Ud7u3bu1ceNG3bp1S8uWLdOFCxdyOtH9%2BvVTZGSkoqOjlZqaqmnTpqlRo0Zq0qRJgX8enWIAAACUuC5duujSpUvKyspSdnZ2Tld306ZN8vHxUUxMjJKTkyVJ9erV05w5cxQWFqZx48apbt26%2BvTTT1W5cmVJUt%2B%2BfZWQkKBXXnlFN27cUEBAgMLDwwuVx7AUZlVjAIViUxfc2ACez6LHc1r0eE6LFs8nSgpFMQAAABwec4oBAADg8CiKAQAA4PAoigEAAODwKIoBAADg8CiKAQAA4PAoigEAAODwKIoBAADg8CiKAQAA4PAoigEAAODwKIqBEpSVlWV2BECXL1%2B%2B67FDhw6VYBIgfxEREfmOX79%2BXR9%2B%2BGEJp4GjYJtnoIgNHTpUkydPVpUqVXKNHzlyRO%2B9956%2B%2B%2B47k5LZloULFxbovMzMTL355pvFnMa%2BNG/eXGPGjNGLL76YM3bjxg3NmTNHa9asoTAupEuXLmnWrFn661//KkmaNWuWVq5cqVq1amn27NmqW7euyQltR1JSkq5du6bg4GB99913%2Bs8S5dSpUxo3bhy/oygWLmYHAOzNQw89pKCgII0ZM0YhISG6efOmwsLCtGrVKg0aNMjseDZj586duW7/%2BuuvcnFxUY0aNZSVlaVLly7JMAz5%2BfmZlNB2RUREaPr06Vq3bp2mT5%2BuCxcuaMqUKXrssce0du1as%2BPZnPfff1%2BPPfaYpNu/t19//bWmTJmi48ePa/r06Vq8eLHJCW3Htm3bNHPmTGVkZKhbt245RbFhGDnfd%2B7c2cyIsGN0ioFi8K9//UvTp0%2BXm5ub4uPjVb9%2Bfb377ruqWbOm2dFs0ieffKLMzEwNHjxYLi6338unp6crIiJCrq6uGjp0qMkJbU9WVpaWLFmiv/71r3J1ddWHH36oTp06mR3LJvn7%2B2v37t1ydXXVe%2B%2B9JycnJ33wwQdKT09XmzZttG/fPrMj2pSsrCwFBATk%2BwbN3d1dlSpVMiEVHAFzioFi0LRpU3Xp0kXHjx9XcnKyunfvTkFshWXLlun111/PKYglydXVVYMHD9ayZctMTGa7/vWvf2nNmjV68sknVbVqVS1fvlwXLlwwO5ZNcnJyUnZ2trKysvTTTz%2BpXbt2Oce4jqDwnJ2ddeDAAfn4%2BKhs2bJKSkqSj4%2BPfHx8KIhRrCiKgSK2Y8cOBQUFae/evVq3bp0%2B/vhjLViwQAMGDNCZM2fMjmeTnJycdOLEiTzjv/76q5ydnU1IZNvefPNNjRw5UqGhoVqyZInWrFmjJk2aKDg4WPPnzzc7ns158sknNXLkSA0bNkyS1K5dO2VlZenTTz9Vw4YNTU5nm65du6ZBgwapZcuWCgkJkSRduXJFPXr0UExMjMnpYK%2BYUwwUsbFjx%2Brtt99Wr169JEm%2Bvr767rvvFBERof/%2B7//mApEH0K9fPw0YMECtW7eWj4%2BPDMNQXFycdu7cqb/85S9mx7M5zs7O2rBhg7y8vCTd7rqPHDlSQUFBmjhxosnpbM8HH3yg%2BfPn68aNG4qMjJSrq6tSU1O1YcMG3mQ8oKlTp%2Brhhx/W9u3b1bVrV0mSl5eX2rRpoylTpigyMtLkhLBHzCkGitjVq1fv%2BhHfqVOnci7IQeHs2rVLW7du1eXLl5WRkSFvb2%2B1adNGQUFBZkezaUlJSapQoYLZMWxWVlaW1q1bp%2Beee06GYZgdx260bt1amzdvloeHh5o2barDhw9Lkm7duqU2bdrowIEDJieEPaJTDBSxSpUq6ciRI1q7dq0uX76siIgIZWdna8uWLerSpYvZ8WxWmzZt1KZNG7Nj2IWbN29q1qxZWrNmjTIyMhQVFaWkpCS98847%2BvDDDymSC8HZ2VkzZ85U165d5e7ubnYcu5Genp7veHJycgkngSOhKAaK2Lp16zRx4kR169ZNP//8syQpISFB06dP1%2BXLlzVgwACTE9qGOwWaJI0ZM%2Bae54aFhZVEJLsxc%2BZMnT9/Xp999plCQ0MlSWXKlFG5cuU0efLknPV2UTCjR4/Wu%2B%2B%2Bq549e6p69eoqU6ZMruN16tQxKZntateunSZOnJizBnlycrJOnjypuXPn6plnnjE3HOwWRTFQxD777DN9/vnnatGihdavXy9Jqlq1qj799FMNGzaMoriA/lhYuLq6mpjE/vz8889avXq1vLy8cj7yL1eunCZNmqSOHTuanM72TJo0SZK0YcOGnLE76%2BoahpHvRaK4t8mTJ2vy5Mnq2rWrsrOz9fTTT8swDAUGBur99983Ox7sFHOKgSLWrFkzHTx4UE5OTrnmwmVmZurJJ5/MuY2iN3HiRH3wwQdmxyj1/Pz89M9//lOurq65fkeTkpLUvn17LgYtpNjY2Hse9/HxKaEk9ic1NVUXL16UYRiqWbOmPDw8zI4EO0anGChiNWrU0P79%2BxUQEJBrfP369fzjWMzWrl1LUVwAAQEBCgsLyzUtJTY2VjNmzMjze4v74%2B910du7d2%2Budckl5XTcDcNQ1apVVatWLTOiwY7RKQaK2ObNmzV%2B/Hg9%2B%2Byz2rhxo/r166eTJ0/q0KFDCgsL42K7YtSkSRMdOXLE7BilXlxcnEaPHq2jR48qMzNTZcuW1c2bN9WsWTPNnTtX1atXNzuiTenQocNdV564s6EHCqdx48bKzMyUpFxbPd%2B5bRiG/vSnP2n%2B/Pl69NFHTcsJ%2B0JRDBSD3377TStXrtSFCxfk5OSkWrVqqXfv3rx4F7M/TgXA/UVHR%2Bd8NO3r68tygQ9o%2BfLluW5bLBbFxcVp69at6t%2B/v1544QWTktmuvXv3avHixerfv7/q16%2BvsmXLKioqSl988YVefvllVatWTYsWLVJcXJwWL15sdlzYCYpiAHaDovjuLl26VKDzMjMz5evrW8xpHMPly5f13nvvsdHEA%2BjWrZu%2B/PLLnA1m7rh69apeeeUVrV27Vrdu3VK7du20b98%2Bk1LC3jCnGCgCL730UoEW7s/MzNRXX31VAomA3O71Ef9/YrWEolGtWjWdO3fO7Bg26d///rcyMjLyjGdnZ%2Bds85yamsqGKShSFMVAEWjWrFnO9zdv3tTatWvl5%2BenRx55RFlZWTp37pyioqL04osvmpgSjmzjxo053x85ckTffvutXnzxRdWuXVuZmZk6e/asVqxYoZdfftnElLZp165decYyMjK0e/duOTs7m5DI9rVt21YDBw5USEiIatasKcMwdPnyZa1cuVJPPfWU0tPT9fLLL6tTp05mR4UdYfoEUMTGjBmjHj165FlgfuvWrVq/fj0bIxQjLrQrmB49eigyMlJVq1bNNX7p0iW99tprOetro2AaNGiQZ8zNzU21a9fWO%2B%2B8o5YtW5qQyrbduHFDc%2BfO1Y4dO3T58mVJUuXKldWyZUuNGzdOFSpU0Mcff6xXX32VdcxRZCiKgSLWvHlz/fOf/8yzq1VGRoaeeuop1oC1UlJS0l23IV68eLFeeeWVEk5ke5o3b66ff/45z5qv169fV9u2bfkdhanuXKhYo0YNs6PAwTiZHQCwN97e3vrmm2/yjK9atUqVK1c2IZHtu3nzpqZMmSI/Pz%2B1adNG0u3i%2BI033lBiYmLOeRTEBdO8eXMNGTJE27ZtU3R0tKKjo/Xjjz9qxIgRuaYCoeCSkpK0Zs0aLVy4UAsXLtS6det0/fp1s2PZrG7duik7O9vsGHAwdIqBIrZ9%2B3aNHj1abm5uql69es5cuNTUVM2ZM0ddu3Y1O6LNmThxos6fP69hw4YpNDRUR44c0Y0bNzRx4kRlZ2dr3rx5Zke0KdeuXdP06dO1bds23bp1S5Lk4uKigIAAzZgxI8%2B0Ctzb0aNHNXDgQLm6usrHx0cWi0WxsbGyWCz64osvWOruAcyePVvu7u565ZVXVK5cObPjwEFQFAPFIDU1VTt37lR8fLzS09Pl7e2tli1bqlq1amZHs0nPPPOMVq9eLS8vr1zLrqWkpKhjx44syWSFpKQkpaeny8vLK88OYiiYF154Qe3bt1doaKicnG5/AJudna1PPvlENfd3kAAAGDtJREFU%2B/bt09KlS01OaHt69OihK1euKDU1VeXLl88zHS2/ixsBa/EKCBSD8uXLKzAw0OwYdiM5OTnP/FfpduGR37JNuL/o6GidPXtWaWlpeY4FBwebkMh2nTp1SkuWLMkpiCXJyclJr776qpYsWWJeMBvGVCiYgaIYKGL79%2B/XjBkz7lpwsAZs4QUEBCgsLExjxozJGYuNjdWMGTMUEBBgYjLbNGvWLC1evFjly5eXm5tbnuMUxYVTsWJFnT9/Ps80iZiYmDwdThTM888/f9djCxYsKMEkcCRMnwCKWJcuXdSkSRN16dIl34Kjbdu2JqSybXFxcRo9erSOHj2qzMxMlS1bVjdv3pSfn5/CwsJUvXp1syPalDtvMu5ctAjrREREaNWqVerXr59q164twzB05swZLV%2B%2BXN27d9fo0aPNjmiT9uzZo6ioKKWnp%2BeMXblyRevXr9fBgwdNTAZ7RVEMFDE/Pz/961//yvVRKorGyZMnFRMTI8Mw5OvrywVMD6h169basWMHc4iLiMVi0bJly7R69WpdvHhRkuTr66tevXqpb9%2B%2BvBY8gIiICH322WeqW7euoqOj9cQTT%2Bj8%2BfOqWrWqQkND%2BTQDxYKiGChir732mkaNGqXHH3/c7Ch2JyoqSnFxcTm7WKWlpeXbjce9RUZGymKxaNCgQWZHAfL15z//WZ9%2B%2BqkaNGiQsynPrVu39O677yowMFDPPvus2RFhhyiKgSK2cuVKLV26VM8884x8fHzydIlCQkJMSma7YmJiNHjwYMXExCg7O1tHjx5VbGysevfurcjISDVs2NDsiDZlyJAhOnTokJydnVWjRo08v6PLly83KZltslgs2r59u86ePZuzxN0fDRs2zIRUts3Pzy9nE5k/fvqWnJysPn36aPPmzSYnhD3iszOgiC1YsEAuLi7auHFjnmOGYVAUP4CpU6eqbdu2GjVqlFq0aCFJ8vHx0WuvvaZp06bpq6%2B%2BMjmhbXnsscd4I1GExo4dq82bN6tu3bp5thw2DIOi%2BAHUrl1bX331lfr27atq1app%2B/bt6tixo27cuKGEhASz48FO0SkGisD58%2Bf1yCOPSJLOnDkjwzDuem6dOnVKKpbdCAgI0M6dO%2BXq6pprneLMzEz5%2B/uzLTFM9eSTT2rJkiVq3Lix2VHsxq5duzR8%2BHDt3LlTa9as0YwZM/Too48qPj5e7dq1U1hYmNkRYYfoFANFoEePHjpy5IgkKTAwMN%2Bi2GKxyDAMlmR7AIZhKCUlJc822RcuXGBOcQGFh4drxIgRkqS5c%2Bfe81xWSygcT09P1atXz%2BwYduX777/Xnj179NBDD6l///567LHHFBUVperVq2vTpk1mx4OdoigGisAfX6S3bdtmYhL7FBgYqFGjRmnIkCGyWCw6fvy4Tp48qUWLFikoKMjseDbhTndd0j076/f6lAP5mzBhgsLDwzV8%2BHC5u7ubHcemxcTE6Ny5c/ruu%2B8UGBioP36YXb9%2BfZ0%2BfVo7d%2B40MSHsGdMnAJR66enpioiI0PLly5WcnCxJqlChgkJCQjR06NA88zhRNBYtWqQ33njD7Bil0n%2Bu8Xzjxg2lp6erYsWKec5lS%2BKC27Jli8LDw3Xq1Kl8j7u5ualv374aP358CSeDI6AoBmBTUlJS5OTklO%2B2zyhaf5y/jdz%2B8Y9/FPjce%2B3Ohvw999xzWrt2rdkx4GAoigGUSoXprrEzW/G4sz4sikZoaKj%2B9re/mR0DwF0wpxhAqfTqq68W6DwuXiw%2BzC8uWgcOHDA7AoB7oCgGUCpFR0ebHQEA4EAoigGUSmfPni3QeYZhqHbt2sUbBgBg9yiKAZRK3bp1k2EYut9lD0yfAAAUBYpiAKUS6z2bj%2BuwATgSJ7MDAEB%2BfHx8cn1Vq1ZNly5d0r59%2B7R//37Fx8erRo0a8vHxMTuqzVmzZk2%2B4zdu3NDSpUtzbvfp06ekIgGA6ViSDUCpd/78eb388su6fPmyPD09ZbFYlJycLF9fXy1ZskTVq1c3O6JNyM7OVmZmpvz9/XXgwIE8neDo6GgNGDDgnjve4cGxxB1QulEUAyj1QkNDVadOHY0YMUIPP/ywJCkpKUlz585VQkKCPvnkE5MT2oYlS5boo48%2Buuc5zZo109dff11CiexDVlaWnJ2d73vepk2b1LVr1xJIBOBBUBQDKPUCAgK0Y8cOubu75xq/fv26OnbsqF9%2B%2BcWkZLbn2rVrateunRYvXpznmLu7ux5//HGVKVPGhGS2q0GDBndd09kwDFWtWlXt27fX6NGj2YkRKMW40A5AqVe2bFklJibmmSZx/fp1ZWdnm5TKNnl5eWnHjh2qVKmS2VHsxty5czV//nx17NhR9erVU7ly5XT06FFt3bpVgwYNUlZWlr766ivNnDlT06dPNzsugLugKAZQ6j377LMaPHiwXn/9dT3yyCMyDENnz57V559/zsfRD%2BDatWuaNGmSzp49q1u3buU5zsofhfP1119r3rx5atiwYc5Yx44d1aVLF82bN0%2Bff/652rZtq//6r/8yMSWA%2B6EoBlDqjR07VmFhYZo4caJSU1MlSZ6enurVq5dGjBhhcjrb8/bbb%2Bvhhx9Wnz595ObmZnYcm3fs2DE9%2BuijecYfffTRnK2dH374Yd28ebOkowEoBOYUA7ApKSkpkpRzwR0Kz8/PT/v27WPucBHp16%2Bfqlevrtdee00%2BPj4yDENxcXH6%2B9//rhMnTujbb7/VO%2B%2B8o6tXr%2BY7lxtA6UCnGECplpWVpWbNmunw4cNycnKiGC4C9evX1%2BXLl1WrVi2zo9iFGTNmaMSIEQoODs654M5isahmzZoKDw%2BXs7OzEhISNHXqVJOTArgXOsUASr0xY8bo6aefVu/evc2OYhe2bNmixYsX67nnnlONGjXk5JR7H6c2bdqYlMy2xcXF6fLly7JYLKpSpQpvOgAbQ1EMoNR74403dPjwYRmGoWrVqsnV1TXX8eXLl5uUzDY1aNDgrscMw9CJEydKMI19SEpK0oULF5SWlpbnmL%2B/vwmJABQW0ycAlHqNGjVSo0aNzI5hN6KiouTiwst/UVm6dKlmz56tzMzMPMd4kwHYDjrFAOCgoqKiFBcXp06dOkmS0tLSWI3iAbRu3VojRoxQYGBgvs/ff36yAaB0olUAoNS7ceOGVq1addd1dWfOnGlCKtsVExOjwYMHKyYmRllZWYqKilJsbKx69%2B6tyMjIXOvt4v4yMjLUp0%2Bfu%2B5qB8A2ON3/FAAw1%2BjRo/XJJ5/oypUrSktLy/OFwpk6daratm2r/fv351xk5%2BPjo9dee03Tpk0zOZ3tef7557VhwwazYwCwEtMnAJR6zZs316ZNm%2BTt7W12FLsQEBCgnTt3ytXVVU2bNtXhw4clSZmZmfL399ehQ4dMTmhbpk2bpu%2B//14%2BPj7y8fHJs5pHWFiYSckAFAbTJwCUelWqVFG5cuXMjmE3DMNQSkqKKleunGv8woULzCl%2BAElJSWrXrp3ZMQBYiaIYQKn3/vvva8aMGQoNDc3ZMeyPuJCpcAIDAzVq1CgNGTJEFotFx48f18mTJ7Vo0SIFBQWZHc/mzJkzx%2BwIAIoA0ycAlHotWrTQzZs3lZWVlasgtlgsLHn1ANLT0xUREaHly5crOTlZklShQgWFhIRo6NChvMkogG%2B//Va9evWSJK1YseKu5xmGoT59%2BpRULABWoCgGUOrt2bMnZ13dxMREVaxYMdfxp556yoxYdiElJUVOTk7y8PAwO4pN6dq1qzZt2iRJ6tChw13PMwxD27ZtK6lYAKxAUQyg1Pv99981e/ZsrVmzRhkZGYqKilJSUpLeeecdzZw5M0%2BRjPs7ffq0zp8/n%2B/qHYGBgSYkAgBzMacYQKn34Ycf6vz58/rss88UGhoqSSpTpozKlSunDz74QPPmzTM5oW2ZNm2avvjiC5UpU0bu7u65jhmGQVH8AKKjo3X27Nl832QEBwebkAhAYdEpBlDqPfPMM1q9erW8vLxyLSGWkpKijh07at%2B%2BfSYntC0tWrRQeHi4WrVqZXYUuzBr1iwtXrxY5cuXz3f1jl27dpmQCkBh0SkGUOolJyfnO%2Bc1OztbGRkZJiSybV5eXvLz8zM7ht1YtWqVIiMj1aZNG7OjALACO9oBKPUCAgIUFham9PT0nLHY2Fi9%2B%2B67CggIMDGZbXr//ff1wQcf6ODBg7p48aIuXbqU6wuF4%2BLioqefftrsGACsxPQJAKVeXFycRo8eraNHjyozM1Nly5bVzZs35efnp7CwMFWvXt3siDbl66%2B/1uzZs3Xz5s1c4yxx92AiIyNlsVg0aNAgs6MAsAJFMQCbcfLkScXExMgwDPn6%2Buqxxx4zO5JNCggI0MCBA/XMM8/kOwf20UcfNSGV7RoyZIgOHTokZ2dn1ahRI882z8uXLzcpGYDCYE4xAJtRv3591a9f3%2BwYNs/JyUmDBg3KWfsZ1nnsscfUsGFDs2MAsBKdYgBwMF9//bWuXbumQYMGsXsdAPwfimIAcDA9e/ZUbGys0tLS5OnpmWvrbIklxAoiPDxcI0aMkCTNnTv3nueOHj26JCIBsBKfnQGAg3nppZeYOmGlO2tlS9KhQ4fuet5/vuEAUHrRKQYAoJjs3LlTbdu2NTsGgAKgVQAADubGjRuaO3euduzYofj4eLm5ualq1arq1KmT3njjjTxbP%2BP%2Brl%2B/rt9%2B%2By3XWtrx8fGaPHmyDhw4YGIyAAVFUQwADmbChAk6deqUXnrpJfn4%2BMhisSg2NlbffPONYmJiFBYWZnZEm7Jt2za99dZbunnzpgzD0J0PYB966CH17NnT5HQACorpEwDgYPz9/bVhwwZ5e3vnGo%2BPj1f37t21f/9%2Bk5LZpqCgIA0YMECBgYFq1aqV9u3bpxMnTujzzz/X22%2B/rTp16pgdEUABsM0zADgYT09PlStXLs%2B4u7u7PD09TUhk2y5duqQ%2BffrIw8NDhmHI3d1dfn5%2BGjt2rMaPH292PAAFRFEMAA7mvffe05QpU3T8%2BHFdv35dqampOnbsmCZPnqzRo0crPT095wv35%2BXllbM1dqVKlXTq1ClJUrVq1XTy5EkzowEoBKZPAICDadiwobKzs/MsF2axWPKM3Sn2cHd///vfNXfuXO3du1dhYWH66aef1L59e504cUIWi4VtngEbQVEMAA5mz549BV6n%2BKmnnirmNPZh//798vf3V1pamj799FMdO3ZM1apV0%2Buvv64aNWqYHQ9AAVAUA4CDunTpki5evCjDMOTr66uqVauaHcnmZGVlad26dQoODjY7CgArURQDgIO5evWqhg4dqsOHD%2BcsH2YYhp5%2B%2Bmn99a9/5WK7QgoICNCOHTtY3xmwcRTFAOBgRowYoezsbA0fPly%2Bvr6SpHPnzmn%2B/Pny9PTURx99ZHJC27JixQrt27dPPXv2VPXq1VWmTJlcx1mSDbANFMUA4GBat26tzZs3y8PDI9d4YmKievTooV27dpmUzDY1aNDgrscMw%2BBiRcBGsKMdADgYwzCUkZGR7/jvv/9uQiLbFhAQoBkzZuQZT0lJ0aJFi0xIBOBBUBQDgINp1aqV3nrrLY0cOVKPPPKIDMPQ2bNnFR4erjZt2pgdz2bExMTo3LlzOnjwoM6dO6f//OD19OnT%2Bvnnn01KB6CwmD4BAA4mJSVFEyZM0LZt23LGDMNQ586dNWnSJFWsWNHEdLZjy5YtCg8Pz9ms4z%2B5ubmpb9%2B%2B7GoH2AiKYgBwUMnJybp06ZIkqWbNmipfvrzJiWzTc889p7Vr15odA4CVKIoBwAGcPXu2wOeyWgIAR0RRDAAOoEGDBjIMI8%2B8V0k5Wzvf2eaZ1RIAOCKKYgBwALGxsQU%2B18fHpxiTAEDpRFEMAA4qKipKcXFx6tSpkyQpLS1Nbm5uJqcCAHM4mR0AAFCyYmJi1L17d7344osaNWqUpNud5Pbt2%2Bv48eMmpwMAc1AUA4CDmTp1qtq2bav9%2B/fLyen2PwM%2BPj567bXXNG3aNJPTAYA5KIoBwMEcPnxYo0aNkqura85FdpLUv39/LrID4LAoigHAwRiGoZSUlDzjFy5cYE4xAIdFUQwADiYwMFCjRo3S3r17ZbFYdPz4cf3jH//Q4MGDFRQUZHY8ADAFq08AgINJT09XRESEli9fruTkZElShQoVFBISoqFDh8rV1dXkhABQ8iiKAcDBZGRkqEyZMpKklJQUOTk5ycPDw%2BRUAGAuimIAcDD%2B/v7q1KmTgoKC1LJly5wVKADAkVEUA4CD2bZtm7Zu3art27fLyclJnTt3VmBgoAICAsyOBgCmoSgGAAeVlZWlf/7zn9qyZYu2b9%2BurKwsdevWTe%2B%2B%2B67Z0QCgxFEUA4CDS09P1549e/S3v/1NBw4cYK1iAA6JohgAHFBycrJ%2B/PFHbdu2Tbt27VKVKlXUuXNndevWTU888YTZ8QCgxFEUA4CD%2Bctf/qKDBw%2BqWrVq6tq1q7p27apGjRqZHQsATOVidgAAQMlq3Lixxo4dSyEMAH9ApxgAHFB8fLw2bNigy5cva8KECZKkqKgoCmUADovFKQHAwezZs0ddunTRjh079PXXX0uS4uLiNGDAAK1fv97kdABgDopiAHAwc%2BfO1UcffaSlS5fKMAxJUvXq1RUREaGPP/7Y5HQAYA6KYgBwMGfOnFGnTp0kKacolqSnnnpKsbGxZsUCAFNRFAOAg6lYsaJOnjyZZ3zXrl2qXLmyCYkAwHysPgEADuaVV17RoEGD1KtXL2VlZenvf/%2B7fv31V33//fd6%2B%2B23zY4HAKZg9QkAcEC7d%2B/W8uXLdeHCBTk5OalWrVrq27evWrVqZXY0ADAFRTEAAAAcHtMnAMABjB8/vkDnZWZmavbs2cWcBgBKH4piAHAAaWlpOd9nZ2drx44d8vHxka%2Bvr7KysnTu3DklJCQoKCjIxJQAYB6mTwCAg5k6daoaNGig3r175xr/6quvdOrUKU2aNMmkZABgHopiAHAw/v7%2B2rNnj8qUKZNrPD09Xa1atdKBAwdMSgYA5mGdYgBwMOXLl9fOnTvzjO/du1ceHh4mJAIA8zGnGAAczBtvvKGhQ4eqfv368vHxkWEYunTpkk6cOKEJEyaYHQ8ATMH0CQBwQGfOnNG2bdsUHx%2Bv9PR0eXt7q02bNmrWrJnZ0QDAFBTFAIB8devWTd9//73ZMQCgRDCnGACQr9jYWLMjAECJoSgGAOTLMAyzIwBAiaEoBgAAgMOjKAYAAIDDoygGAACAw6MoBgAAgMOjKAYA5IsVOwE4EopiAHAwISEh%2BvLLL3Xt2rV7nvfFF1%2BUUCIAMB%2BbdwCAg1m4cKG2bt2q06dPq3Xr1urZs6eeffZZubu7mx0NAExDUQwADiomJkY//PCDtmzZotOnT6tjx47q2bOnWrVqZXY0AChxFMUA4ODS09P1j3/8Q3PmzFFqaqpq1Kih0NBQvfjii2ZHA4AS42J2AACAOX755RetW7dOP/zwg8qVK6eQkBAFBwcrISFBM2fO1OnTpzVp0iSzYwJAiaBTDAAO5qOPPtLGjRuVmpqqjh07Kjg4WC1btsy1rXN8fLy6dOmi//mf/zExKQCUHDrFAOBgTpw4oVGjRqlz584qW7ZsvudUrVpVQ4cOLeFkAGAelmQDAAdjGIaCg4PzFMTJycnq06dPzu1BgwaVdDQAMA2dYgBwEMeOHdPRo0e1f/9%2BffPNN3k25zhz5oxOnTplUjoAMBdFMQA4iNTUVP3000/KzMzUokWL8hx3d3fXyJEjTUgGAObjQjsAcDCDBw/WJ598YnYMAChVKIoBwAGcP39ejzzyiCTp7Nmz9zy3Tp06JREJAEoVimIAcABNmjTRkSNHJEkNGjSQYRi55hTfuW0Yhk6cOGFWTAAwDUUxADiAS5cuqUaNGpKk2NhY7dq1Sy1atJC7u7uk2xt5pKWl6c9//rN8fHzMjAoApmBJNgBwAHcKYkn68ccfNWfOHF29elU%2BPj7y8fGRp6en5s%2Bfr%2B3bt5uYEgDMQ6cYABxMhw4dtGjRItWrVy/X%2BK%2B//qrXX39dP/74o0nJAMA8dIoBwMFcu3ZNtWvXzjNeq1YtJSYmlnwgACgFKIoBwMH4%2BfkpLCxMqampOWNXr17VjBkz1KxZMxOTAYB5mD4BAA4mJiZGo0ePVlRUlDw8PGSxWHTjxg01atRIYWFh8vX1NTsiAJQ4imIAcFAnT55UTEyMJKlmzZpq0KCByYkAwDwUxQAAAHB4zCkGAACAw6MoBgAAgMOjKAYAAIDDoygGAACAw6MoBgAAgMOjKAYAAIDDoygGAACAw6MoBgAAgMP7X6m0sAt34DEWAAAAAElFTkSuQmCC\" class=\"center-img\">\n    <img src=\"data:image/png;base64,iVBORw0KGgoAAAANSUhEUgAAAsUAAAJ7CAYAAAALC%2BwdAAAABHNCSVQICAgIfAhkiAAAAAlwSFlzAAAPYQAAD2EBqD%2BnaQAAADl0RVh0U29mdHdhcmUAbWF0cGxvdGxpYiB2ZXJzaW9uIDIuMi4zLCBodHRwOi8vbWF0cGxvdGxpYi5vcmcvIxREBQAAIABJREFUeJzs3XlcVPX%2Bx/E3oCKKoRCYkWbmBTdQXDA1NTFzKdPM1Ks3MzXTVFLrapZhmanlblqm1%2B3e1KjMymvlrl1LLfcdy3AhC1FZBGQbzu8Pc35OgEAzNMzM6/l4zEPme875ns/5Ms585sP3nONmGIYhAAAAwIW52zsAAAAAwN5IigEAAODySIoBAADg8kiKAQAA4PJIigEAAODySIoBAADg8kiKAQAA4PJIigEAAODySIoBAADg8kiKAQAA4PLK2DsAAHAkBw8e1Jo1a3Tw4EH98ssvysjIkKenp/z9/VW/fn09/PDDat%2B%2Bvdzc3OwdKgCgGNwMwzDsHQQAlHaGYWjy5Mn64IMPJEk%2BPj66%2B%2B67VblyZSUnJ%2Bv06dNKTU2VJLVv315z585V2bJl7RkyAKAYSIoBoAhWrlypSZMmqXz58oqKilLXrl1Vrlw58/KMjAytWrVK06dPV25uroYOHarRo0fbMWIAQHEwpxgAiuDDDz%2BUJD399NN6/PHHLRJiSSpfvrwGDhyoAQMGSJI%2B%2BOADZWRk/NVhAgD%2BJJJiACiCM2fOSJKCgoJuud4zzzyj5cuXa9OmTSpfvrwkKTIyUsHBwXrnnXeUmpqqadOmqX379goJCVHz5s01YsQIxcTEFNjnrl27NHz4cLVq1UoNGjRQ8%2BbNNWDAAH3%2B%2BefKzc3Nd5ukpCTNmTNH3bt3V1hYmOrXr6%2BWLVtq6NCh2rNnT77bREREKDg4WN98842%2B%2BuordezYUfXq1dPmzZslSW%2B99Zb5ONLS0jR58mS1adNGISEhevDBBzV37lyZTCZJ0oEDBzRo0CA1a9ZMDRs2VK9evfS///3PZrHed999Cg4O1t69e5WQkKCoqCi1bdtWDRo0UIsWLTR69GidPXu2wDEFgD8iKQaAIqhQoYIkaf/%2B/bdcz9fXVy1atJCvr6%2B5zdPTU5KUnp6uAQMGaPXq1apataqaNWum7Oxsbdq0SX369NGRI0fy9DdnzhwNGDBAmzdvlre3t8LDw%2BXr66tdu3Zp7NixGjVqlDkRveHixYvq0aOH3nvvPZ0%2BfVrBwcG67777VL58eW3btk1PPfWU1qxZU%2BAx/Pzzz/rnP/8pT09P3X///fLx8bE4DpPJpIEDB2rdunX629/%2Bprvvvlvnz5/Xu%2B%2B%2Bq%2BnTp2v37t3q37%2B/EhIS1KBBA1WoUEGHDh3S0KFDdeLECZvEeiOWy5cv64knntDGjRtVu3ZtNWzYUFevXtWXX36pfv36KTk5%2BZa/LwAwMwAAhRozZowRFBRkBAcHGzNmzDASExOLvO24ceOMoKAgIzw83HjssceMS5cumZclJiYaPXr0MIKCgoyePXtabLdp0yYjKCjIaNKkibF9%2B3aLZd9//73RsmVLIygoyFi2bJnFsldeecUICgoyIiIijIsXL5rbTSaTMW3aNHOfqampFtu1a9fOCAoKMtq3b2/Mmzcvz3HMmzfPCAoKMu6//37j6aeftth%2B4cKFRlBQkNGoUSOjXbt2xtq1a83Lrl69aj7GqKgom8batm1b46WXXjIyMjLMy3788UejQYMGRlBQkLF8%2BfI8xwEA%2BaFSDABF8MILL8jf31%2BGYWjRokVq1aqV%2BvXrp7lz5%2Bq7777TtWvXCu0jKSlJb775pvz8/MxtlStX1vjx4yVJhw8fVmxsrHnZggULJEmjRo1S27ZtLfpq1qyZxo4dK0lasWKFjJvOma5Zs6Yee%2BwxPf/88/L39ze3u7u7KzIyUu7u7rp69aoOHjyYb5xZWVkaNmxYgcdx6dIlRUVFqWLFiua2J598Uu7u7kpPT1f16tXVvXt38zJvb289/vjjkpSnUmxtrNnZ2Zo4caK5cixJtWvXNo/X4cOHCzwOALgZ1ykGgCK48847tWbNGr399tv6%2BuuvlZOTo71792rv3r2SpLJly6p58%2BZ69NFH9fDDD6tMmbxvrzVr1lTdunXztDdu3FgVK1ZUWlqaDh06pHvuuUfx8fE6fvy4JKldu3b5xvTggw/Kzc1NFy5c0NmzZ1WzZk1J0uDBgws8Di8vL/n5%2BSkhIUEJCQn5rtOyZct847%2Bhbt265n3dUKFCBfn6%2BurSpUt66KGH8mxz1113Sbr%2BxeBm1sbauXNn89ztm9WoUUOSlJiYWGD/AHAzkmIAKKKqVatq5syZevnll7VlyxZ9%2B%2B23%2BuGHH3T58mVlZ2dr586d2rlzpxYvXqx3333XnJjdUNBJeu7u7goMDNSpU6f0yy%2B/SJLFiXeTJ08u8GYgZcqUUXZ2tmJjYy0S1YyMDG3dulWHDh3SpUuXlJGRYa4mX716VZIKPEmvevXqtxyHwMDAfNtvVGurVatW4LKcnJw8y0oiVi8vL0nXK8kAUBQkxQBQTH5%2BfurVq5d69eol6fqJaXv27NHnn3%2BuAwcO6Mcff9SQIUO0bt06ixt43HbbbQX26e3tLUlKS0uTJIsTxLZu3VpoTDeSR%2Bn6lIGRI0fqt99%2BK96B/e7maRElsfxm1sZaqVKlP7UdAPwRSTEAWKlWrVqqVauW/v73v2vFihWaMmWKYmNj9eWXX6pbt27m9Tw8PArs40Zl9EZF2N39%2BikfXl5eBc6nzU96erqee%2B45JSQkqEaNGnrhhRfUrFkz%2Bfj4mKdEREREmCvS9uRIsQJwfiTFAGBDTz31lD744AOdO3dOP/30k8WyG7eBzs%2BNCvGNymflypUlSdeuXVNaWlqRq6/ffPONEhIS5O7urkWLFumee%2B4pcF/25kixAnB%2BXH0CAAqxefNmRUVFaf78%2BUVa/0ZC%2B8e73p0%2BfTrf9U0mk%2BLi4iT9/wliN88/Ls4VFM6dOyfp%2Bolt%2BSWZZ86cyXOym704UqwAnB9JMQAU4tChQ4qOjtbixYt1/vz5W64bHx9vvuxYaGioxbKYmBjznfFutm/fPqWnp0u6fiUKSfL391f9%2BvUlSR9//HG%2B%2B4qNjVW3bt20cOFCc9uNecuZmZn5bvPOO%2B%2BYf/7jTT/%2Bao4UKwDnR1IMAIV4%2BumndfvttysjI0P9%2BvXTtm3b8k3SDh48qMGDBys7O1shISG6//77LZZ7eXnppZde0pUrV8xtiYmJmjZtmiSpVatWuuOOO8zLhg4dKklav369VqxYYdHX2bNnFRkZqZMnT1r0d%2BOSb/Hx8ebbM0sy35b56NGjatKkiaTrJwjakyPFCsD5MacYAArh6%2BurJUuWKDIyUmfPntXQoUNVuXJl1ahRQ76%2BvsrMzFRsbKz5CgqNGzfW/Pnz85xY9/DDD%2BvIkSOKiIhQSEiIypYtq4MHDyotLU233XabXnnlFYv1H3roIQ0ZMkSLFi3SlClTtGLFCtWqVUuJiYk6ceKETCaTwsPDFRkZad6mYcOGat26tf73v/9p5MiRatiwocqWLavjx4/L3d1dS5Ys0VdffaV9%2B/bp3//%2Bt06cOKERI0aoadOmJT%2BQf%2BBIsQJwfiTFAFAEderU0X//%2B1%2BtX79eW7du1cmTJ/Xjjz8qKytL5cuXV9WqVfXoo4%2Bqc%2BfOateuXb7XFS5XrpxWrlypBQsWaNOmTYqPj1fFihXVpk0bjRo1Ks8NMaTrd9Jr0aKFVq5cqYMHD2r37t3y8fFRo0aN1K1bNz322GN55i7Pnj1bM2bM0JYtW3T06FH5%2BfmpQ4cOGjp0qGrWrKlq1arp2LFjOnTokGJjY295VYyS5kixAnBubsbN9wYFANjcSy%2B9pLVr16pfv36KioqydzgAgHwwpxgAAAAuj6QYAAAALo%2BkGAAAAC6PpBgAAAAl5n//%2B59atmyp0aNHF7ruihUr1K5dO4WGhuqJJ57QsWPHzMsyMzMVFRWl8PBwhYWFKTIy0uKSlNbiRDsAAACUiMWLF%2BuTTz6Rr6%2Bv7rjjDs2ePbvAdTdt2qSxY8fqvffeU8OGDbVkyRJ9%2BOGH2rhxoypUqKDJkydr9%2B7deu%2B99%2BTt7a3x48dLksUNjKxBpRgAAAAlwtPTU5988onuvvvuQtf9%2BOOP1bNnT913333y8vLS8OHD5ebmpi1btignJ0dr167VqFGjVL16dVWpUkVjx47Vtm3bFB8fb5NYuU4xAAAA8nXx4kUlJCRYtPn7%2BysgIKBI2/fv37/I%2Bzp%2B/Li6dOlifu7m5qY6dero2LFjql%2B/vlJTU1W/fn3z8lq1asnLy0vHjh1T1apVi7yfgpAUwzHlc2OEUumee6Qff5T%2B9jcpNtbe0dxaTo69Iygad3cpN9feURTKJMe5yYSDDKk8lPfW2qWWowyqO38wtjl7fj6VwL6j583T/PnzLdpGjBihkSNH2nxfiYmJqly5skWbj4%2BPrly5osTERPPzm9122202m1dMUgyUpMqVJQ%2BP6//CNhzlC5EDYUhLAINqW25uEqdA2UXv3r0VERFh0ebv718i%2B8rvTqC3ai/q8qIiKQYAAHAGJVD5DwgIKPJUCWtVqVJFSUlJFm2JiYkKCgqSn5%2BfJCkpKUkVKlSQJBmGoaSkJPMya/F3EwAAANhdSEiIjh49an5uMpl0/PhxhYaGqnr16qpcubLFJdpiYmKUlZWlBg0a2GT/JMUAAADOwN3d9o8S1qlTJ%2B3du1eS1KdPH61Zs0a7d%2B9WWlqaZs2apfLlyysiIkIeHh7q1auX5syZo/Pnz%2Bvy5cuaOnWqOnXqpNtvv90msTB9AgAAACUiJCREkpTz%2B8ncmzdvliQdOXJEkhQbG6v09HRJUps2bTR27FiNHz9ely9fVoMGDbRo0SJ5enpKkkaOHKm0tDT16NFDJpNJ7dq102uvvWazWLl5BxyTo5zEEhYm7d8vNW4sHThg72huzVGuPuHhIZlK/1UIHOnqEw4ypI519QlHGVRHufqEI51oZ8/Pp9%2BTR5vKzLR9n6UUlWIAAABn4ChfckopRg8AAAAuj0oxAACAM6BSbBVGDwAAAC6PSjEAAIAzoFJsFZJiAAAAZ0BSbBVGDwAAAC6PSjEAAIAzoFJsFUYPAAAALo9KMQAAgDOgUmwVkmIAAABnQFJsFUYPAAAALo9KMQAAgDOgUmwVRg8AAAAuj0oxAACAM6BSbBWSYgAAAGdAUmwVRg8AAAAuj0oxAACAM6BSbBWSYgAAAGdAUmwVRg8AAAAuj0oxAACAM6BSbBVGDwAAAC6PSjEAAIAzoFJsFZJiAAAAZ0BSbBVGDwAAAC6PSjEAAIAzoFJsFUYPAAAALo9KMQAAgDOgUmwVkmIAAABnQFJsFUYPAAAALo%2Bk2IX98ssvCgkJUWxsbLG3nTFjhp588skSiAoAAPwp7u62f7gQpk%2B4sMDAQB05csTeYQAAANgdSTEAAIAzcLHKrq0xei4sLi5OwcHBOn36tFq3bq2PP/5YzzzzjBo1aqSHHnpIe/bsMa%2B7detWdezYUWFhYRozZowyMjIs%2BtqwYYM6d%2B6shg0b6pFHHtEXX3whSbp06ZLCw8O1fft287ovvviihg0b9pccIwAALoPpE1ZxraNFgcqWLatly5bp%2Beef1969exUaGqopU6ZIklJSUjR69Gj94x//0J49e9S1a1d99tln5m1Pnz6tl156SVFRUdq3b5%2BioqIUFRWlQ4cO6fbbb9c///lPTZ06VVlZWdq3b5%2B2b9%2Bu1157zU5HCgAAkBfTJ2D2wAMPqEGDBpKkTp06aePGjZKknTt3ytPTU/369ZO7u7vatWunsLAwc7X4o48%2BUkREhFq0aCFJCg8PV%2BfOnfXZZ5%2BpYcOGeuKJJ7Ru3TotXbpUGzdu1JgxY1S1atUix3Xx4kUlJCRYtPnfc48CKle2xWGXrDp1LP8FAKCkuFhl19ZIimEWGBho/rlcuXLKzMyUJP3222%2B644475H7Tf7a7775bMTExkqRz585px44d5iRakgzD0P33329%2B/sYbb6hr166qV6%2Be/v73vxcrrujoaM2fP9%2BibcTzz2vk888Xqx%2B7WrXK3hE4Fw8Pe0dQqNIfoSUHGFI53Kg6xqA6Djc3e0cAJ0dSDDP3Ar5hZmVlye0Pb0Ymk8liuz59%2BigqKqrAvn/77TeVKVNG8fHxSk9PV8WKFYscV%2B/evRUREWHR5t%2B1q7RiRZH7sJs6da4nxH37SidP2juaW/vhB3tHUDQeHtJNr7/SyuRACZyDDKk85ABB3uAog%2BoolUU3N8kw7B1F0dgzeXeU32cpRVKMQgUEBOi3335Tbm6uOXE%2Bc%2BaMeXmNGjXyXNrtt99%2Bk7%2B/vzw8PJSVlaWoqCi9/vrrWr9%2BvWbPnq0JEyYUa/8BAQGWjX/i2sp2dfKkdOCAvaMAADgzkmKrMHooVIsWLZSamqoPP/xQWVlZ2rx5s44ePWpe3rNnT%2B3fv19r165Vdna2Tpw4oSeeeMI8nWLBggUKCAhQ165d9corr2jNmjU6ePCgvQ4HAAAgD5JiFKpatWqaPn26li5dqvDwcH3xxRfq27evsrOzJUn33nuvZs6cqUWLFqlx48YaPny4Bg4cqM6dO%2BvUqVNasWKFJk6cKEmqXr26Bg8erFdffdW8PQAAsAEuyWYVN8NwlEk6wE0c5YSLsDBp/36pcePSP30iJ8feERSNg8zVZE6x7TGnuAQ4StLDnOKi%2Bf0qUDa1a5ft%2ByylmFMMAADgDErhl5y4uDhNnDhR%2B/btk5eXl3r06KEXXnghz8n9AwcO1A9/OOHbZDKpW7dumjp1qsaNG6d169bJ46arutxzzz3mm4XZAkkxAACAMyhlSbFhGBoxYoRq166tHTt26PLlyxo8eLD8/Pw0cOBAi3WXLl1q8fzatWt6%2BOGH9fDDD0u6fiOxyMhIDR06tMTiLV2jBwAAAKdw5MgRxcTEaMKECfLx8VGtWrU0ZMgQRUdHF7rtggULFBISYr7nQUpKinx8fEo0XirFAAAAzqAEKsX53lXW3z/vpVLzcfz4cQUGBqryTXegrVevns6cOaPU1FR5e3vnu11cXJxWr15tMTUiJSVFW7Zs0ZIlS5ScnKzQ0FC9%2Buqrqlmz5p87sHxQKQYAAEC%2BoqOj1aNHD4tHUSq9kpSYmJinunvjeWJiYoHbLVy4UN26dbO4025gYKDuuOMOrVq1Shs3bpSPj4%2BeeeYZZWVl/Ymjyh%2BVYgAAAGdQApXifO8q6%2B9v8/3ccOXKFX3xxRdau3atRfvChQstnk%2BaNEnNmzfXDz/8oFatWtlk3yTFAAAAzqAEkuJ87ypbRH5%2BfkpKSrJou1Eh9vX1zXebLVu2qFatWrr33ntv2be3t7d8fHzyTO2wBtMnAAAAYHMhISG6cOGCxVSJw4cPq3bt2qpYsWK%2B2%2BzcuVMt/nC95dTUVE2aNEnx8fHmtsTERCUmJqp69eo2i5ekGAAAwBmUsjva1a1bV6GhoZo8ebJSUlIUExOjRYsWqV%2B/fpKkTp06ae/evRbbnDhxQrVr17Zo8/b21sGDB/Xmm28qOTlZycnJev3111W3bl2FhYVZFePNSIoBAABQIubOnaurV6%2BqdevWevrpp9WnTx/17dtXkhQbG6v09HSL9RMSEiyuVnHD/PnzlZubqw4dOqhz584yDEPvvfdenpuAWIPbPMMxcZtn2%2BM2zzbFbZ5tj9s8l4BSdrOHAnGb56Lp2NH2fW7YYPs%2BSylOtAMAAHAGjvIlp5Ri9AAAAODyqBQDAAA4AyrFVmH0AAAA4PKoFAMAADgDKsVWISkGAABwBiTFVmH0AAAA4PKoFAMAADgDKsVWISkGAABwBiTFVmH0AAAA4PKoFAMAADgDKsVWYfQAAADg8qgUAwAAOAMqxVYhKQYAAHAGJMVWYfQAAADg8qgUAwAAOAMqxVZh9AAAAODyqBQDAAA4AyrFViEpBgAAcAYkxVZh9AAAAODyqBQDAAA4AyrFVmH0AAAA4PKoFAMAADgDKsVWISkGAABwBiTFVmH0AAAA4PKoFMMx5eTYO4Li%2BeEHe0dQuDIO8HYQFibt3y81ayYdOGDvaG4tx7B3BM7H0apgjhBvRoa9Iyicm5tUvryUmSkZDvD/ysvLfvt2hNdcKcboAQAAwOU5QGkIAAAAhaJSbBWSYgAAAGdAUmwVRg8AAAAuj0oxAACAM6BSbBVGDwAAAC6PSjEAAIAzoFJsFZJiAAAAZ0BSbBVGDwAAAC6PSjEAAIAzoFJsFUYPAAAALo9KMQAAgDOgUmwVkmIAAABnQFJsFUYPAAAALo9KMQAAgDOgUmwVRg8AAAAuj6QYAADAGbi72/5hpbi4OA0aNEiNGjVSixYtNH36dOXm5uZZb82aNapTp45CQkIsHpcuXZIkZWZmKioqSuHh4QoLC1NkZKSuXLlidXw3IykGAABwBqUsKTYMQyNGjFCVKlW0Y8cOrVy5Ul999ZWWL1%2BeZ92rV6%2BqZcuWOnLkiMXj9ttvlyRNnz5d%2B/fv15o1a7R161ZlZWXp5Zdftiq%2BPyIpBgAAgM0dOXJEMTExmjBhgnx8fFSrVi0NGTJE0dHRedZNTk6Wj49Pvv3k5ORo7dq1GjVqlKpXr64qVapo7Nix2rZtm%2BLj420WLyfaAQAAOIMSONHu4sWLSkhIsGjz9/dXQEBAodseP35cgYGBqly5srmtXr16OnPmjFJTU%2BXt7W1uT0lJ0dmzZ9WjRw%2BdPXtWNWrU0KhRo9S2bVudO3dOqampql%2B/vnn9WrVqycvLS8eOHVPVqlVtcKQkxQAAAChAdHS05s%2Bfb9E2YsQIjRw5stBtExMT81R/bzxPTEy0SIorV64sX19fvfjii6pRo4Y%2B%2BugjDR8%2BXJ9//rmSkpIstr3htttus%2Bm8YpJiAAAAZ1ACleLevXsrIiLCos3f39/m%2B/ljkj1gwAD997//1RdffKE2bdoUuJ2bm5vNYiApBgAAcAYlkBQHBAQUaapEfvz8/MxV3hsSExMlSb6%2BvoVuf9dddykhIUF%2Bfn6SpKSkJFWoUEHS9ZP4kpKSzMtsgRPtAAAAYHMhISG6cOGCORGWpMOHD6t27dqqWLGixbrvv/%2B%2BvvvuO4u22NhYVa9eXdWrV1flypV17Ngx87KYmBhlZWWpQYMGNouXpBgAAMAZlLJLstWtW1ehoaGaPHmyUlJSFBMTo0WLFqlfv36SpE6dOmnv3r2SrleQJ02apDNnzigrK0vLli3TuXPn1KNHD3l4eKhXr16aM2eOzp8/r8uXL2vq1Knq1KmT%2BZJttsD0CQAAAJSIuXPnKioqSq1bt1bFihXVt29f9e3bV9L1SnB6erokacyYMcrNzdU//vEPXbt2TcHBwVq%2BfLn5yhIjR45UWlqaevToIZPJpHbt2um1116zaaxuhmEYNu0R%2BCuYTPaOoOg8PBwj3jIO8B05LEzav19q3Fg6cMDe0dySKcdx3lod5SXq4e44Yyo3N8kRPl4zMuwdQeHc3KTy5a/H6ghj6uVlv31PnWr7PsePt32fpZQDfAoCAACgUCVwop0rYfQAAADg8qgUAwAAOAMqxVYhKQYAAHAGJMVWYfQAAADg8qgUAwAAOAMqxVZh9AAAAODyqBQDAAA4AyrFViEpBgAAcAYkxVZh9AAAAODySIqdWFxcnIKDg3X69GlJUnBwsL755psS3%2B%2BECRM0duzYApf36tVL77zzTonHAQCAS3F3t/3DhTB9AjY3efJke4cAAABQLCTFDionJ0dlyvDrAwAAv3Oxyq6tkVXZwYULFzRp0iTt2bNHlSpV0gMPPKBx48bp4MGDioyM1Jw5czR58mRdvHhRzZo106xZs%2BTt7a133nlHR48eVcWKFbVx40YdPXpUmZmZmj59ujZv3qz09HQ1aNBAUVFRqlmz5i1jyMrK0rRp07R%2B/XoZhqHQ0FBFRUWpRo0at4yxYsWKhR7fSy%2B9pMzMTM2ePVuStGDBAq1evVo5OTnq379/scfr4sWLSkhIsGjz9/NTgL9/sfvCLYSF2TuCwtWpY/kvAOu4udk7gsLdiNERYrU3kmKrkBTbwZgxY9SgQQPNnj1baWlpGj16tN5%2B%2B2116dJF165d05dffqlPPvlE6enp6tatmz755BMNGDBAknTw4EHz%2BpI0a9Ysff/99/rggw/k6%2BurmTNn6umnn9bGjRtvGcOCBQt06tQpffHFF/Lx8dGcOXM0bNgwrVu3Tu7u7gXG%2BPrrrxfrWHfu3KlFixZp2bJlqlevnhYtWqRTp06pdevWRe4jOjpa8%2BfPt2gbMXy4RkZGFisWu/LwsHcEhdu/394RFN2qVfaOoFAO8Bu34AgvUcnBkiJHSOLKl7d3BEXn6WnvCODkSIr/YidPntThw4e1YsUKeXp6ysvLS5GRkRoyZIi6dOkik8mkQYMGqVKlSqpUqZIaN26s2NhY8/Zubm7q1auX3H//NrhmzRq9/vrruuuuuyRJkZGRWrVqlfbv36/AwMAC4/jwww81a9YsVa1aVdL1RH3VqlU6evSoypUrV2CMxU2KN23apJYtW6px48aSpGHDhunf//53sfro3bu3IiIiLNr8/fwkk6lY/diNh4djxNqsmb0jKFydOtcT4r59pZMn7R3NLZl%2BcJwvGY7yEvVwN%2BwdQtG5uUmGA8SbmWnvCArn5nY9Ic7MdIwxtecXDSrFViEp/oudP39eJpNJTZs2tWg3mUxKTEyUJItk1tPTU5k3vWlVq1bNnBAnJyfr6tWruvvuu83LfXx85OPjo7i4uAKT4uTkZCUlJenZZ5%2BV202VjNzcXP36669yd3cvMMYrV67I19e3yMcbHx9vTtglqWzZsrrzzjuLvL0kBQQEKCAgwLLRET7BHc2BA/aOoOhOnnSseIHSyhGSzBsMw7HihcMhKf6Lubm5qUKFCjqQzwf6nj17JMmc9OanbNmy%2BfZ5M8Mw8rTd7Eb/q1evVkhISJ7lmzdvLjDG4srKysoTi4mEFgAA26NSbBVG7y9Wo0YNpaen6/z58%2Ba21NRUc5W4OG5UhW%2BeXpGUlKTk5GTzCXP5qVSpkipXrqxTp05ZtMfFxdk8xoCAAP3666/m51lZWbpw4UKx%2BwEAAIXgOsVWca2jLQWCgoIUFhamKVOmKDExUSkpKZqyjZDjAAAgAElEQVQ4caLGjRv3p/rr2bOnFi9erF9//VWpqamaNWuWatSoobBCriTQp08fvf/%2B%2Bzp9%2BrSys7O1fPly9ezZU9euXbNpjPfff7927typQ4cO6dq1a1qwYMGfOk4AAICSRFJsBzNnzlRubq4iIiIUERGh7OxsTZs27U/1FRkZqZCQED366KNq3769Ll68qGXLlsmjkFPJn3vuObVq1Up9%2B/ZVs2bN9PXXX2vx4sXy8vKyaYwPP/ywnnzySQ0bNkwPPPCAypYtq8aNGysnJ%2BdPHS8AACgAlWKruBkGs9bhgBxpXrKjnNrvCDeDCQu7fum4xo1L/Yl2phzHeWt1lJcoV58oARkZ9o6gcG5u16/okJHhGGP6e3HJLlassH2fTz1l%2Bz5LKQf4FAQAAEChXKyya2skxSiWJUuWaM6cOQUu79atmyZPnvwXRgQAACSRFFuJpBjFMmjQIA0aNMjeYQAAANgUSTEAAIAzoFJsFUYPAAAALo9KMQAAgDOgUmwVkmIAAABnQFJsFUYPAAAALo9KMQAAgDOgUmwVRg8AAAAuj0oxAACAM6BSbBWSYgAAAGdAUmwVRg8AAAAuj0oxAACAM6BSbBVGDwAAAC6PSjEAAIAzoFJsFZJiAAAAZ0BSbBVGDwAAAC6PSjEAAIAzoFJsFUYPAAAALo%2BkGAAAwBm4u9v%2BYaW4uDgNGjRIjRo1UosWLTR9%2BnTl5ubmu%2B6qVav00EMPKSwsTF27dtXmzZvNy8aNG6d69eopJCTE/Hj00Uetju9mTJ8AAABwBqVs%2BoRhGBoxYoRq166tHTt26PLlyxo8eLD8/Pw0cOBAi3U3btyoWbNmafHixQoJCdG6des0atQoffnll6pRo4ZSUlIUGRmpoUOHlli8pWv0AAAA4BSOHDmimJgYTZgwQT4%2BPqpVq5aGDBmi6OjoPOtmZGTohRdeUFhYmMqUKaPHHntM3t7eOnTokCQpJSVFPj4%2BJRovlWIAAABnUAKV4osXLyohIcGizd/fXwEBAYVue/z4cQUGBqpy5crmtnr16unMmTNKTU2Vt7e3uf2PUyFSUlKUmpqqatWqmZ9v2bJFS5YsUXJyskJDQ/Xqq6%2BqZs2aVhydJSrFAAAAzqAE5hRHR0erR48eFo/8Kr35SUxMzFPdvfE8MTGxwO0Mw9CECRPUoEEDNW7cWJIUGBioO%2B64Q6tWrdLGjRvl4%2BOjZ555RllZWX9ysPKiUgwAAIB89e7dWxERERZt/v7%2BJba/7OxsvfTSS4qNjdXy5cvl/nv1e%2BHChRbrTZo0Sc2bN9cPP/ygVq1a2WTfJMUAAADOoASmTwQEBBRpqkR%2B/Pz8lJSUZNF2o0Ls6%2BubZ/2MjAw999xzysrK0sqVK3XbbbcV2Le3t7d8fHzyTO2wBtMnAAAAYHMhISG6cOGCxVSJw4cPq3bt2qpYsaLFuoZhaPTo0SpXrpyWLl1qkRCnpqZq0qRJio%2BPN7clJiYqMTFR1atXt1m8JMUAAADOoJRdp7hu3boKDQ3V5MmTlZKSopiYGC1atEj9%2BvWTJHXq1El79%2B6VJK1bt04xMTGaPXu2ypUrZ9GPt7e3Dh48qDfffFPJyclKTk7W66%2B/rrp16yosLMyqGG9GUgwAAOAMSllSLElz587V1atX1bp1az399NPq06eP%2BvbtK0mKjY1Venq6JGnNmjX67bffFB4ebnGDjgkTJkiS5s%2Bfr9zcXHXo0EGdO3eWYRh67733zHOObcHNMAzDZr0BfxWTyd4RFJ2Hh2PEW8YBTjEIC5P275caN5YOHLB3NLdkynGct1ZHeYl6uDvOmMrNTXKEj9eMDHtHUDg3N6l8%2BeuxOsKYennZb9%2B7dtm%2BzxYtbN9nKeUAn4IAAAAoVCm7o52jYfQAAADg8qgUAwAAOAMqxVYhKYZDMsnD3iEUmYccJF4HmQPrIcn0w357h1EojzJu9g6haH6fp%2B3RrPTP0zZyHeM1KklukgyV/tfAZ1/bcf5rEfn4SBER0tbvyis52d7RFO6xx%2By4c5JiqzB6AAAAcHlUigEAAJwBlWKrMHoAAABweVSKAQAAnAGVYquQFAMAADgDkmKrMHoAAABweVSKAQAAnAGVYqswegAAAHB5VIoBAACcAZViq5AUAwAAOAOSYqswegAAAHB5VIoBAACcAZViqzB6AAAAcHlUigEAAJwBlWKrkBQDAAA4A5JiqzB6AAAAcHlUigEAAJwBlWKrMHoAAABweVSKAQAAnAGVYquQFAMAADgDkmKrMHoAAABweVSKAQAAnAGVYqswegAAAHB5VIoBAACcAZViq5AUAwAAOAOSYqswegAAAHB5VIoBAACcAZViqzB6AAAAcHlUigEAAJwBlWKrkBQDAAA4A5JiqzB6AAAAcHlUigEAAJwBlWKrkBQDAAA4A5JiqzB6AAAAcHlUigEAAJwBlWKrMHoAAABweVSKAQAAnAGVYqvYZPR%2B%2BeUXhYSEKDY21hbd3dLo0aP10ksvleg%2B4uLiFBwcrNOnT5fofuxt4MCBmjNnzp/a9vTp0woODlZcXJyNowIAAH%2BKu7vtHy7EJkcbGBioI0eO6J577pEk7dq1S0eOHLFF1yimZcuWKScnp0jrLl26VKNGjSrhiAAAgKuKi4vToEGD1KhRI7Vo0ULTp09Xbm5uvuuuWLFC7dq1U2hoqJ544gkdO3bMvCwzM1NRUVEKDw9XWFiYIiMjdeXKFZvGWiJfAZYvX66jR4%2BWRNe4hStXruitt96SyWSydygAAOCvVsoqxYZhaMSIEapSpYp27NihlStX6quvvtLy5cvzrLtp0ybNmTNHU6dO1Z49e9S2bVs9%2B%2ByzSk9PlyRNnz5d%2B/fv15o1a7R161ZlZWXp5Zdftiq%2BPyr20Z47d04DBgxQw4YN9cADD%2Bg///mPxXSDoUOHavv27Zo8ebKeeuopPfXUU5o2bZpFH/Pnz9cTTzxRpP199NFHioiIUJMmTTRp0qQ83y5WrlypiIgIhYWFqUePHvr2228lSW%2B//baefPJJi3W3bNmipk2bKisrS1lZWZo0aZKaN2%2Bu8PBwDR48WOfOncs3huTkZI0dO1b333%2B/WrRoocjISF26dEmS9O2336pu3bratm2b2rdvryZNmigyMlKpqanm%2BLt27apVq1bpvvvuU3h4uFatWqVvvvlGHTp0UJMmTTR58mTzvm4VV3Z2toKDg7Vx40b16dNHjRo1Urdu3RQTE6NLly6pTZs2MgxDTZs21aefflro2D755JOaMWOGJGn27NkaNmyYFi9erJYtWyo8PFxvvfWWed3Lly9r8ODBCgsL0yOPPKLDhw9b9HXhwgUNHTpUYWFhatOmjaKiopSWliZJGjNmjJ5//nnzurt27VJYWJguXLhQaIwAAMAxHTlyRDExMZowYYJ8fHxUq1YtDRkyRNHR0XnW/fjjj9WzZ0/dd9998vLy0vDhw%2BXm5qYtW7YoJydHa9eu1ahRo1S9enVVqVJFY8eO1bZt2xQfH2%2BzeIt9ot2YMWPUqFEjLVy4UGfPnlXfvn1VtmxZ8/KFCxcqIiJCzzzzjP7%2B979r7dq1mjVrlsaOHSv3379xbNq0SY8//nih%2B/r5558VFRWl%2BfPnq02bNvr888/15ptvqlOnTpKuJ6Tvvvuu3n//fdWpU0ebNm3SsGHDtGHDBnXu3FnLly9XYmKiqlSpYt7vgw8%2BqHLlymn27Nk6deqUvvjiC/n4%2BGjOnDkaNmyY1q1blyeOV155RWlpafr8889VtmxZjR8/XsOHD1d0dLTKlCmj3NxcrV%2B/Xp999pnS09M1YMAAzZw5UxMnTlSZMmX0yy%2B/6PLly/rmm2/0r3/9S9OnT1fHjh312Wef6eDBgxo4cKB69eqloKAgLViwoMC4bozz0qVL9dZbb6latWoaNGiQ5s6dq3fffVdLlixR//79tXfvXnl6ehbr91qmTBkdOHBAYWFh2r59u/bs2aPBgwfr0UcfVd26dTVlyhRlZmZq%2B/btunbtml544YU8r4sGDRpo9uzZSktL0%2BjRo/X222/r9ddf1yuvvKIuXbpo9%2B7datq0qSZPnqwxY8bozjvvLFJsFy9eVEJCgkWbn5%2B//P0DinWMwF8qLMzeERRNnTqW/8Kl%2BPjYO4LCeXtb/otbKIE5wPl9Bvv7%2BysgoPDP4OPHjyswMFCVK1c2t9WrV09nzpxRamqqvG/6pR4/flxdunQxP3dzc1OdOnV07Ngx1a9fX6mpqapfv755ea1ateTl5aVjx46patWq1hzi/zOK4cSJE0ZQUJCRmJhobtu1a5fx008/GUFBQcZPP/1kGIZhtGvXzli1apVhGIaRmppqNGrUyPjuu%2B8MwzCMc%2BfOGfXq1TMuXbpU6P7ef/99o2vXrhZtXbp0McaNG2cYhmEMHz7cmDVrlsXyJ5980li8eLFhGIYRERFhfPrpp4ZhGEZ2drYRHh5u7NixwzAMwwgPDzd27txp3i4zM9MICQkxDh06ZJw/f958PImJiUZwcLBx4MCBPONw/vx5Y/fu3UZQUJBx%2BPBh8/Jly5YZ7dq1MwzDMNasWWPUrVvXuHbtmmEYhnHs2DEjKCjI%2BOGHH8zr169f39i0aVOhcRmGYQQFBRkffPCBxb46depkGIZhjiUjI6PQsTUMw/jHP/5hTJ8%2B3TAMw5g3b57RsmVLw2QymZc3adLEWL9%2BvWEYhhEaGmps3LjRvGz9%2BvXmMThx4oRRt25di/1%2B//33RqNGjczP16xZYzzyyCPG4sWLjV69elnspzDz5s0zgoKCLB5z584r8vYAALiC3FzbP/L7DJ43r2ifwe%2B%2B%2B67Ro0cPi7YzZ84YQUFBxrlz5yza69WrZ2zbts2i7YUXXjD%2B%2Bc9/Gnv37jWCgoKMtLQ0i%2BWtW7c2Pv744%2BIPVAGKVSk%2Bf/68vL29LTL%2B%2B%2B6775ZXIKhYsaIefPBBffHFF2rRooU2bNigli1bys/Pr9D9xcfHKzAw0KKtRo0a5p/PnTunbdu2aenSpTcn%2BQoKCpIkderUSZs3b9Zjjz2m77//XpLUsmVLJScnKykpSc8%2B%2B6zc3NzM2%2Bbm5urXX3%2BVr6%2Bvue3ChQsyDEN33313nhji4uLM29esWdO8PDAwUBcvXjQ/9/HxUfny5SXJXMG9%2BVtN%2BfLllZmZWWhcoaGhkqS77rrLvMzT01OZmZm3GMWiq1atmrmaf6PvjIwMJSYmKiMjw%2BJ3cfPxnj9/XiaTSU2bNrXoz2Qy6cqVK/L19VWPHj30%2Beefa86cOVq7dq3FfgrTu3dvRUREWLT5%2BfnLUaZOe3jIYWJ1BI4ynh7NGts7hKKpU0datUrq21c6edLe0dySsW%2B/vUMoMjc3yTDsHUXhtm2zdwSF8/aWwsOl77%2BXfp%2BZWKr94ePK4eX3Gezv72/z/dyc9xSlvajLi6PY0yeMP/G/vHv37oqMjNRrr72mTZs26R//%2BEeRtsvKyspzsDefRObu7q4xY8Zo0KBB%2BW7fqVMnPfnkk8rIyNDGjRvVsWNHlSlTxpyQrV69WiEhIXm2yy/Jz2/Q/5i43mAYhsqVK2cRZ1H6KyyuW21rCwUlqllZWXn2e/MVLtzc3FShQgUdOHCgwL6zsrJ08eJFlS1bVufOndPf/va3IscVEBCQ5880jpAUwcXd4v9DqXTypOPFDKslJ9s7gqJLTXWseO2hgIs6WCW/z%2BCi8vPzU1JSkkVbYmKiJFkUICWpSpUq%2Ba4bFBRkLqQmJSWpQoUKkq7nWklJSUUqshZVsSafVK9eXWlpaRZzSzZt2qTdu3ffcrsWLVqoYsWKWrt2rX788Ue1b9%2B%2BSPsLCAjQr7/%2BatF29uxZ8881atTQqVOnLJbfqOxKUkhIiG6//Xbt2rVLW7duVefOnSVJlSpVUuXKlfNsm18yfNddd8nd3d3iGsw3Yvhj1frmGP7M/JbixPVX8vX1VZkyZSxOjDtz5oz55xo1aig9PV3nz583t6Wmpppf%2BJL03nvvqVq1apo2bZomTZpkPhERAAA4p5CQEF24cMEiHzh8%2BLBq166tihUr5ln35iuXmUwmHT9%2BXKGhoapevboqV65scYm2mJgYZWVlqUGDBjaLt1hJcZ06ddSgQQPNmTNH6enpOnXqlCZMmJDnz/eenp76%2BeefzRm/u7u7unbtqhkzZqh9%2B/bmLL8w999/v44fP65t27YpKytLq1atspiW0Lt3b3311VfasWOHTCaTdu/erUceecTiGskdO3bU0qVLZTKZ1Lx5c3N7nz599P777%2Bv06dPKzs7W8uXL1bNnT127ds0ihttuu00PPfSQ3nnnHSUmJioxMVFz585V8%2BbNVa1aNfN6//rXv5SUlKT4%2BHhFR0erQ4cORR/YmxQ1rvzcmKIRExNj06SzbNmyuu%2B%2B%2B/Sf//xHV69e1YULF/Thhx%2BalwcFBSksLExTpkxRYmKiUlJSNHHiRI0bN06S9NNPP2n58uV69dVX1bFjR9WuXdt81QsAAGAbubm2f1ijbt26Cg0N1eTJk5WSkqKYmBgtWrRI/fr1k3T9L/p79%2B6VdD3/WbNmjXbv3q20tDTNmjVL5cuXV0REhDw8PNSrVy/NmTNH58%2Bf1%2BXLlzV16lR16tRJt99%2Bu7XDZlbs0xRnzpypuLg4tWjRQs8884yGDRumtm3bWqzTq1cvffzxxxo8eLC5rXv37rp69aoeffTRIu8rLCxML7/8sl577TXdd999iomJUZcuXZSdnS1JatWqlcaOHavXX39djRo10muvvaaJEyea595KUufOnfX999%2BrU6dOFtMDnnvuObVq1Up9%2B/ZVs2bN9PXXX2vx4sXy8vLKE8fEiRPl7e2tiIgIPfzww/L29tbcuXMt1unQoYMef/xxdenSRXXq1NHQoUOLfJw3K05cf1S3bl2FhYWpf//%2B%2BuSTT/7U/gvy5ptvyjAMtWnTRoMHD9aAAQMk/f80ipkzZyo3N1cRERGKiIhQdna2pk2bJsMw9Oqrr6p///7mm7tERUVp7dq12rdvn01jBADAlZW2pFiS5s6dq6tXr6p169Z6%2Bumn1adPH/Xt21eSFBsba74OcZs2bTR27FiNHz9eLVq00IEDB7Ro0SLzuVgjR45U8%2BbN1aNHD3Xo0EG333673njjDesDvImb8WcmCf8Ju3bt0vjx47V169ZinWRV2u3Zs0f9%2B/fX4cOHi30ZNPx5jjSn2FFODHMUjjKeHmVKZu6/zYWFSfv3S40bl/o5xUauA5y59jtHOdHus8/sHUHhfHyun7y2datjzCl%2B7DH77dtG591bcKXUptgn2v0Z8fHxmjJligYNGuRUCTEAAEBpURIn2rmSEk%2BKFy1apAULFqhbt27mOSTS9YnWNz//ozvvvFMbNmwo6fCc1htvvKGPPvqowOXDhg3Tc8899xdGBAAAUHr9ZdMnAFtyhD%2Bf3%2BAof%2B53FI4ynkyfsD2mT9ge0ydsz57TJ9LSbN/nHy4S4dT%2BkukTAAAAKFlMn7AOE3wBAADg8qgUAwAAOAEqxdahUgwAAACXR6UYAADACVAptg5JMQAAgBMgKbYO0ycAAADg8qgUAwAAOAEqxdahUgwAAACXR6UYAADACVAptg5JMQAAgBMgKbYO0ycAAADg8qgUAwAAOAEqxdahUgwAAACXR6UYAADACVAptg5JMQAAgBMgKbYO0ycAAADg8qgUAwAAOAEqxdahUgwAAACXR6UYAADACVAptg5JMQAAgBMgKbYO0ycAAADg8qgUAwAAOAEqxdahUgwAAACXR6UYAADACVAptg5JMQAAgBMgKbYO0ycAAADg8qgUAwAAOAEqxdYhKQYAAHACJMXWYfoEAAAAXB6VYgAAACdApdg6VIoBAADg8twMwzDsHQRQbCaTvSMoOg8Px4jX3UG%2BI7u5SQ7wtmXIzd4hFJmDDKnc3B1kTMPCpP37pcaNpQMH7B3NLZlyHOAXL8d5G5Wux2ov%2B/bZvs8mTWzfZ2nF9AkAAAAnwPQJ6zhIaQgAAAAoOVSKAQAAnACVYutQKQYAAIDLo1IMAADgBKgUW4ekGAAAwAmQFFuH6RMAAAD4yyUmJmr06NFq3LixmjVrpldeeUUZGRkFrv/111%2Bra9euCgsL00MPPaTo6Gjzsnnz5qlu3boKCQkxP5o2bVqseKgUAwAAOAFHqxS//PLLSktL08aNG2UymfTcc89p%2BvTpevXVV/Ose/jwYY0dO1Zz5sxR27ZttXv3bj377LO699571bRpU6WkpKhnz5564403/nQ8VIoBAADwl7p8%2BbK2bdum8ePH6/bbb1fVqlU1atQoffrpp8rKysqzflJSkoYOHaqIiAh5eHioVatWCg4O1t69eyVJKSkp8vHxsSomKsUAAABOoCQqxRcvXlRCQoJFm7%2B/vwICAqzq9/jx4ypTpoyCg4PNbfXq1VN6erpiY2Mt2iWpTZs2atOmjfl5Tk6OLl68qGrVqkm6nhT/%2BuuvevjhhxUfH6%2B//e1vGj9%2BvEJDQ4scE0kxAACAEyiJpDg6Olrz58%2B3aBsxYoRGjhxpVb%2BJiYny9vaWu/v/T1q4Uem9cuVKodvPmDFDnp6e6tChg6Tribqnp6fefPNN%2Bfr6asGCBRo0aJA2bNggX1/fIsVEUgwAAIB89e7dWxERERZt/v7%2BRdr2s88%2B08svv5zvsjfffLPA7dzc3ApcZhiGZsyYoS%2B//FIrVqxQhQoVJCnPXOIXX3xR69at0%2BbNm9WrV68ixUtSDAAA4ARKolIcEBDwp6dKdO/eXd27d8932bfffqurV6/KZDLJw8ND0vXqsST5%2Bfnlu01ubq7Gjx%2BvY8eOKTo62jx1Ij8eHh6qVq1anqkft8KJdgAAAPhL1atXT7m5uYqJiTG3HT58WJUqVVLNmjXz3WbKlCn6%2BeeftXLlSouE2DAMvfXWWzpx4oS5LTs7W%2BfPn1f16tWLHBNJMQAAgBPIzbX9o6RUqVJFnTt31tSpU3Xp0iX98ssvmj17tnr37q2yZctKkp566il9%2BeWXkqR9%2B/bp888/14IFC/JcZcLNzU1xcXF64403FB8fr7S0NM2YMUPlypXTgw8%2BWOSYmD4BAADgBBztOsWvv/66XnvtNXXo0EFly5ZV165d9fzzz5uXnz9/XsnJyZKkNWvWKDU1Ve3bt7foo1mzZlq6dKkmT56sqVOnqnv37jKZTAoJCdHy5cvNc46Lws0wDMM2hwb8hUwme0dQdB4ejhGvu4P84cjNTXKAty1DBZ8oUto4yJDKzd1BxjQsTNq/X2rcWDpwwN7R3JIpxwF%2B8XKct1Hpeqz2smGD7fvs2NH2fZZWVIoBAACcgKNViksbBykNAQAAACWHSjEAAIAToFJsHZJiAAAAJ0BSbB2mTwAAAMDlUSkGAABwAlSKrUOlGAAAAC6PSjEAAIAToFJsHZJiAAAAJ0BSbB2mTwAAAMDlUSkGAABwAlSKrUOlGAAAAC6PSjEAAIAToFJsHZJiAAAAJ0BSbB2mTwAAAMDlUSkGAABwAlSKrUOlGAAAAC6PSjEAAIAToFJsHZJiAAAAJ0BSbB2mT5SggQMHas6cOUVat2PHjvr4449LOCLp008/VatWrUp8PwAAAI6ESnEhNm7cqODgYN19993F3nbp0qVFXnfDhg3F7h8AAOAGKsXWoVJciHnz5uns2bN52nNycuwQjWNhjAAA%2BOvk5tr%2B4UpIim/h0Ucf1Y8//qjnnntO/fv3V3BwsD788EOFh4friy%2B%2BkCQtW7ZMERERatSokTp37qzNmzebt3/yySc1Y8YMSdLs2bM1bNgwLV68WC1btlR4eLjeeust87oRERFavXq1JOmFF17Q5MmTNWXKFDVr1kwtWrTQ8uXLzev%2B/PPP6tOnj8LCwtSvXz99%2BeWXCg4OVnZ2dpGPbdOmTYqIiFDjxo314osvymQySZJyc3O1YMECdejQQU2aNFGfPn10%2BPBh83bBwcH65ptvzM9Xr16tiIgISVJcXFyeMUpISNCwYcMUHh6uJk2aaODAgfrll1%2BKHCcAAMBfgaT4Fm4kvu%2B%2B%2B66mTJkiSdqzZ4%2B2bdum7t276/vvv9fMmTM1b9487d%2B/X0899ZRefPFFpaSk5OmrTJkyOnDggAzD0Pbt2zVz5kwtXbpUJ06cyLNu2bJltX79etWvX1%2B7d%2B/W888/r%2BnTp%2BvKlSuSpOeff15Vq1bVzp07NX78ePO85bJlyxbpuNLS0rR//36tX79ey5cv14YNG7Rt2zZJ0gcffKCPP/5Y77zzjr777jtFRERowIAB5n0Xxc1jNHfuXOXk5Gjbtm367rvvVLt2bYsvAwAAwDaoFFuHOcXF1LVrV1WsWFGS1LRpU3333Xe67bbbJEmPPPKIJk6cqNOnTyssLCzPth4eHho8eLDc3d3VunVrVapUSbGxsapbt26edQMDA9WtWzdJUpcuXTRx4kSdP39eGRkZOnXqlKZNm6aKFSuqQYMGevDBB7VkyZIiH0NmZqZGjBghLy8vhYaG6t5779XPP/8sSVqzZo369u2rOnXqSJIGDRqkpUuXavv27erRo0exxygtLU0eHh7y9PRUmTJlNH78eLm5uRU5Vkm6ePGiEhISLNr8/fwU4O9frH4AOLh83ldLpd/fP83/AnAIJMXFdOedd5p/zsrK0uzZs7V9%2B3ZdunTJoj0/1apVk7v7/xfnPT09lZGRke%2B6gYGBFutJUkZGhn777TdJ0l133WVeHhQUVKxjqFKlijlplaRy5copMzNT0vUpEDefVOjh4aHAwEDFxcUVuf%2Bbx2jIkCF65pln1LZtWz3wwAPq2LGj2rRpU6x4o6OjNX/%2BfIu2EcOHa2RkZLH6sSsPD3tH4FyK%2BcXKHkp/hJYcYEil/fvtHUHxrFpl7wgK5UjvTLyNFs7VKru2RlJcTDdPUVi0aJG2bt2q999/X8HBwcrIyFCjRo0K3PbmhLgwBa1rGIYkWVRbb05wi6KwSu0flxuGUeA2N%2BK52c1jVLduXW3ZskXffPONduzYoSLFobUAACAASURBVJEjR6pv374aN25ckePt3bu3ed7yDf5%2BftLv86BLPQ8Px4i1GK9Pu3Jzk/J53ZU2hgOlxQ4ypHJr0tjeIRRNnTrXE%2BK%2BfaWTJ%2B0dzS2ZfnCMLxqO8jYq2Td5Jym2DkmxFY4ePap27dqZpxqc/Ave/Px/nzLw66%2B/mqdtHD161Gb916hRQ7GxsebnJpNJv/zyi6pXry7petX65hP6blSuC5KSkqIKFSqoQ4cO6tChg5o1a6ZJkyYVKykOCAhQQECAZaOjvDsCsJ0DB%2BwdQfGcPOl4MQMuzEFKQ/bj6empn376SVevXs2z7I477tDJkyd17do1nTlzRosWLZKXl5fi4%2BNLLJ4aNWrorrvu0vLly3Xt2jUdP35cmzZtsln/PXv21OrVq/Xjjz8qIyNDCxculGEY5kptzZo19e2330q6nhAXtu8nnnhCCxYsUGZmprKysnTixAlzgg0AAGyHE%2B2sQ1JciD59%2Bmju3Ll677338ix79tlnlZub%2B3/t3Xl8jPfe//H3lUSSEg1BLCGlTlG1RUVqbak1QdP7Rmj10Kbaqq1oKVpLbS3CEdJq6zjculCl1FKtrWrrweGHIEptEREO2aRkmczvD7fczUmQyHJlZl7PxyOPZr7XNZN3R4zPfOZ7fb9q0aKFRo8erbfffls9evTQpEmTtGPHjiLLNG/ePB0/flwtWrRQWFiYBg4cmO%2BL1%2B6mT58%2B6tatm/7617%2BqVatW%2BvXXX/U///M/WV3psWPHateuXWrfvr3Gjx%2Bvfv363XM94nnz5unAgQNq0aKFWrZsqaioqKxl6gAAAEoKw5rbpFCUaFarVRkZGVlzd1etWqXw8PAiLcRLHFuaPmErk%2BGYU1yomFNc%2BAwnG3lO/fxuXxTYtGmJnz5hybCBP3jZzsuoZO6c4vnzC/8xhw4t/McsqZhTbIMGDBigSpUqacqUKUpOTtaXX36pZ555xuxYAADARI423aGwURTboClTpmjChAlq1aqV3N3d9fTTT%2Bvtt9/WDz/8oNGjR9/1fv7%2B/lq8eHExJgUAALANFMU2yNfXN9u2z3d07dpVXbt2Lf5AAADAdHSKC8ZGJhECAAAARYdOMQAAgB2gU1wwFMUAAAB2gKK4YJg%2BAQAAAIdHpxgAAMAO0CkuGDrFAAAAcHh0igEAAOwAneKCoVMMAABgBzIzC/%2BrKMXHx2vEiBFq2rSp/P39NX78eN26dSvXc3/99VfVrVtXDRs2zPZ15MgRSZLVatXcuXPVqlUrNW7cWAMGDFB0dHS%2B8lAUAwAAoNiNGzdO165d008//aT169crKipKs2bNyvXc5ORk1axZU0ePHs321ahRI0nS0qVLtWrVKi1atEi7d%2B%2BWr6%2BvBg8eLKvVmuc8FMUAAAB2wJY6xdeuXdP27ds1duxYVaxYUZUrV9Zbb72l1atXKy0tLcf5iYmJ8vT0vOvjrVy5Uq%2B%2B%2Bqoef/xxeXh4aMyYMTpz5owOHTqU50wUxQAAAChWx48fl4uLi%2BrWrZs1Vr9%2Bff3xxx86e/ZsjvOTkpKUmJiofv366cknn1RQUJDWrFkjSUpNTdXvv/%2BuBg0aZJ1fpkwZ%2Bfr66tixY3nOxIV2AAAAdqAoOrtXrlzR1atXs41VqlRJ3t7eBXrc%2BPh4eXh4yMnp//qzdzrB169fz3F%2B6dKl5e3treHDh6tBgwbaunWr3nnnHXl7e6t27dqyWq05Osmenp65PtbdUBQDAADYgaIoilesWKEFCxZkGxsyZIiGDh163/uuWbNG48aNy/XYtGnT7no/wzByjPXp00d9%2BvTJuh0UFKSffvpJq1at0ujRo/P1WHdDUQwAAIBchYSEqH379tnGKlWqlKf7BgcHKzg4ONdju3fvVnJysiwWi5ydnSXd7h5LUoUKFfL0%2BNWrV1dkZKTKly8vJycnJSQkZDseHx%2Bf58eSKIoBAADsQlF0ir29vQs8VSI39evXV2Zmpk6ePKn69etLko4cOaKyZcuqZs2aOc7/5ptv5OHhocDAwKyxM2fOqEaNGnJ1dVWdOnV07Ngx%2Bfv7S5ISEhJ04cIFNWzYMM%2BZuNAOAAAAxap8%2BfLq2rWrZsyYoX//%2B9%2BKiYnR3LlzFRISolKlSkmS%2Bvfvr40bN0q6fTHd1KlTFRkZqfT0dG3YsEE7d%2B5U3759JUl9%2B/bVokWLFBUVpeTkZE2dOlUNGjTIWrItL%2BgUAwAA2AFb29Fu8uTJmjRpkjp27KhSpUqpe/fuGj58eNbx6OhoJSYmSpL69eun5ORkDRs2TPHx8apVq5YiIiL0xBNPSLo95/jq1at65ZVXlJKSooCAAIWHh%2Bcrj2HNz6rGQElhsZidIO%2BcnW0jr5ONfHBkGJINvGxZlfeLO8xmI0%2BpDCcbeU79/KSDB6WmTaV8rJFqBkuGDfzBy3ZeRqXbWc0ydmzhP%2BaMGYX/mCWVjfwrCAAAABQdpk8AAADYAVubPlHS0CkGAACAw6NTDAAAYAfoFBcMRTEAAIAdoCguGKZPAAAAwOHRKQYAALADdIoLhk4xAAAAHB6dYgAAADtAp7hgKIoBAADsAEVxwTB9AgAAAA6PTjEAAIAdoFNcMBTFAAAAdoCiuGCYPgEAAACHR6cYAADADtApLhiKYtgmJxv7kMMW8t66ZXaC%2BzMMyd1dSk2VrFaz09zTmk0PmR0hTzw9pfbtpe3bpcREs9PcW4%2BMkv1n/mfOkiz7D5od476cXQyzI9yfn5908KCc/ZtKhw6Zneb%2BSvhrE%2B6OohgAAMAO0CkuGIpiAAAAO0BRXDA28JkuAAAAULToFAMAANgBOsUFQ6cYAAAADo9OMQAAgB2gU1wwFMUAAAB2gKK4YJg%2BAQAAAIdHpxgAAMAO0CkuGDrFAAAAcHh0igEAAOwAneKCoSgGAACwAxTFBcP0CQAAADg8OsUAAAB2gE5xwdApBgAAgMOjUwwAAGAH6BQXDEUxAACAHaAoLhimTwAAAMDh0SkGAACwA3SKC4ZOMQAAABwenWIAAAA7QKe4YCiKAQAA7ABFccEwfQIAAAAOj04xAACAHaBTXDB0igEAAODw6BQDAADYATrFBUNRDAAAYAdsrSiOj4/XBx98oB07dsjZ2VmdOnXS%2B%2B%2B/L3d39xznvvfee1q7dm22sczMTDVt2lTLli1TeHi4PvnkE7m4/F9p6%2BbmpgMHDuQ5D9MnAAAAUOzGjRuna9eu6aefftL69esVFRWlWbNm5Xru1KlTdfTo0ayvw4cPq0GDBurevbskKSkpST179sx2Tn4KYomiGAAAwC5kZhb%2BV1G5du2atm/frrFjx6pixYqqXLmy3nrrLa1evVppaWn3vf%2BKFStktVrVq1cvSbeLYk9PzwJloigGAABAsTp%2B/LhcXFxUt27drLH69evrjz/%2B0NmzZ%2B953xs3big8PFxjx46VYRiSbhfFhw8fVlBQkJo1a6a%2BffvqyJEj%2BcrEnGIAAAA7UBSd3StXrujq1avZxipVqiRvb%2B8CPW58fLw8PDzk5PR//dk7nd7r16/f877Lli1To0aN5Ofnly2Tm5ubpk2bJi8vL0VERCg0NFQ//vijvLy88pSJohgAAMAOFEVRvGLFCi1YsCDb2JAhQzR06ND73nfNmjUaN25crsemTZt21/vd6f7mJj09XV9%2B%2BaVmzJiRbXzKlCnZbr/99ttat26dtmzZot69e983q0RRDAAAgLsICQlR%2B/bts41VqlQpT/cNDg5WcHBwrsd2796t5ORkWSwWOTs7S7rdPZakChUq3PUxDxw4oPT0dLVq1eqeP9vZ2VlVq1bN0eW%2BF4piAAAAO1AUnWJvb%2B8CT5XITf369ZWZmamTJ0%2Bqfv36kqQjR46obNmyqlmz5l3vt3PnTgUEBGSbdmG1WjVz5kz16NFDjz/%2BuKTbHeXo6GjVqFEjz5m40A4AAADFqnz58uratatmzJihf//734qJidHcuXMVEhKiUqVKSZL69%2B%2BvjRs3ZrvfiRMn9Je//CXbmGEYunjxoqZMmaK4uDilpKRo9uzZcnV1VYcOHfKciaIYAADADtjSkmySNHnyZHl7e6tjx456/vnnFRAQoOHDh2cdj46OVmJiYrb7XL16VeXKlcvxWFOnTpWvr6%2BCg4PVrl07nT59WkuWLFHp0qXznIfpEwAAAHbA1na0K1u2rMLCwu56fNu2bTnG1q9fn%2Bu5np6e%2BvDDDwuUh06xA/rpp590/vx5U372t99%2Be9%2BlVgAAAIobRbEDCg8Pz3dRnJmZqcwCvgW1WCyaMWNG1tWlAACg8Nja9ImShqLYwfTo0UOnTp3Sm2%2B%2BqbFjx2rnzp0KDg6Wn5%2Bf2rRpk20twtWrV6tbt26aOXOmGjdurEuXLunGjRsaOXKkmjVrps6dO2vv3r1q0KCBdu/eLen2jjKjRo1Ss2bN1KJFC7311lu6du2aJKl58%2Ba6ceOGnnvuuRxrHgIAgIKhKC4Y5hQ7mO%2B//15169bVxx9/rGbNmqlVq1YaNWqUXnjhBUVFRalPnz5q0qSJWrduLen2TjZubm46ePCgXFxcNHXqVB07dkzr1q1TqVKl9O677yo9PV0uLrd/lSZPnqyMjAxt3bpVTk5OmjhxosaMGaNFixZp7dq1evbZZ7V27VrVrl07z5lz3U2nYsUiWSLGod1jsfQS405GG8j6vxszlXgeHtn/Cwfzpx3BSqx69bL/FygiFMUOrHTp0vrll19UunRpOTk5qX79%2Bqpdu7aOHTuWVRQnJSUpNDQ0a3mUn3/%2BWf369VPVqlUlSS%2B99JJ27tyZde7GjRv1ww8/ZG3V%2BPbbb6tdu3YFmkec6246gwdr6LBhD/yYxc4Giji5u5udIO/c3MxOcF//sdZ9ide8udkJ7M//7kdQsh08aHaCvPvqK7MTlHiO1tktbBTFDm7t2rX64osvdPnyZVksFqWnp2fbuebhhx%2BWx59aSHFxcapevXrW7Tp16mR9f/HiRWVmZqp79%2B7Zfoazs7NiYmJUvnz5B8qY6246FStKVusDPV6xMwzbyJqaanaC%2BzOM2wVxamqJf0637bGNNxkeHrcL4n37pBs3zE5zb08/bXaCvHN2liwWs1Pcn7N/U7Mj3F%2B9ercL4hdekKKizE5zf7b0RgPZUBQ7sF9//VXTpk3TvHnz1L59e7m4uKhnz57ZzrnTIb7DarVm25P8z%2Bv/3dldZseOHfLy8srx8y5evPhAOXPdTaeEF0Q2yZaeU6u1xOf9j6U1S7wbN2wvMwrBoUNmJ8i7qCjbymsCOsUFw4V2DiwyMlK1atVSp06d5OLiolu3bt13VYqKFSsqNjY26/axY8eyvvfx8ZGTk5N%2B%2B%2B23rLH09HTFxcUVfngAAJANF9oVDEWxA3Jzc9Pp06dVtWpVxcXFKSYmRomJiRo3bpwqV658zyK2ZcuWWrlypa5cuaJr165p2bJlWcfKli2rwMBAzZ07V5cvX9atW7c0Z84chYaGymq1yv1/56yeOnVKycnJRf7/CQAAkFcUxQ6oT58%2BmjdvnjZt2qS2bduqW7du6tmzpwIDA/Xqq69qw4YNmjdvXq73feedd1SlShV17txZAwYM0IABAyT939SJ999/X9WrV1dQUJBatmyp3377TR9//LEMw1DFihXVqVMnjRkzRvPnzy%2Bu/10AABwCneKCMazWEj4xDyVOWlqaXF1dJd3el7xDhw7avHmzfH19iy%2BELf3a2sqFdrdumZ3g/gzj9ioZt26V%2BOf0u00PmR0hTzw9b6%2BUsW1byZ9T3KOH2QnyzmYutHOxgZVx/PxuX7zWtKltzCk28bWpYcPCf8yjRwv/MUsqOsXIl4iICD3//PO6cuWKbt26pYULF%2Bovf/lLthUpAABA8aNTXDCsPoF8CQ0NVUxMjLp37y6LxaIGDRooPDw8a/oEAAAwh6MVsYWNohj54u7urunTp5sdAwAAoFBRFAMAANgBOsUFw2feAAAAcHh0igEAAOwAneKCoSgGAACwAxTFBcP0CQAAADg8OsUAAAB2gE5xwdApBgAAgMOjUwwAAGAH6BQXDEUxAACAHaAoLhimTwAAAMDh0SkGAACwA3SKC4ZOMQAAABwenWIAAAA7QKe4YCiKAQAA7ABFccEwfQIAAAAOj04xAACAHaBTXDB0igEAAODw6BQDAADYATrFBUNRDAAAYAcoiguG6RMAAABweHSKAQAA7ACd4oKhUwwAAACHR6cYAADADtApLhiKYgAAADtAUVwwTJ8AAACAw6NTDAAAYAfoFBcMnWIAAAA4PDrFAAAAdoBOccHQKQYAALADmZmF/1XUjh49qo4dO6p37973PXfDhg3q3LmzGjZsqG7dumn37t1Zx6xWq%2BbOnatWrVqpcePGGjBggKKjo/OVhaIYAAAAxe7777/X0KFD9cgjj9z33MjISI0ZM0bDhw/X/v37NWDAAA0ePFixsbGSpKVLl2rVqlVatGiRdu/eLV9fXw0ePFhWqzXPeSiKAQAA7ICtdYpTU1O1YsUKNW7c%2BL7nrlq1Sm3btlVgYKDc3d3Vs2dP1a1bV2vXrpUkrVy5Uq%2B%2B%2Bqoef/xxeXh4aMyYMTpz5owOHTqU5zwUxQAAACh2vXr1UuXKlfN07vHjx/XEE09kG3v88cd17Ngxpaam6vfff1eDBg2yjpUpU0a%2Bvr46duxYnvNwoR0AAIAdKIrO7pUrV3T16tVsY5UqVZK3t3fh/7B7iI%2BPV7ly5bKNeXp66tSpU0pISJDVapWnp2eO49evX8/zz6Aohm0yDLMT5MmVK1e0YsUKhYSEFPsLSL499JDZCe7rypUrWvH55zbxfD7/vNkJ8ubKlSuaP99GfkdthE39vc/HfEuzXLlyRSvmz1fIpk0l//k0WVH8cc6fv0ILFizINjZkyBANHTr0vvdds2aNxo0bl%2Bux6dOnKzg4uMD5jPvUA/c7/mcUxUARunr1qhYsWKD27dvzYl4IeD4LH89p4eM5LVw8n%2BYKCQlR%2B/bts41VqlQpT/cNDg4ulMJXkry8vBQfH59tLD4%2BXl5eXipfvrycnJyUkJCQ43iFChXy/DMoigEAAJArb2/vEvFmpGHDhjnmBx89elRBQUFydXVVnTp1dOzYMfn7%2B0uSEhISdOHCBTVs2DDPP4ML7QAAAFDi9O/fXxs3bpR0%2B6K83bt3a%2BPGjbp165aWLVumCxcuZHWi%2B/btq0WLFikqKkrJycmaOnWqGjRooEaNGuX559EpBgAAQLHr3LmzLl26JIvFoszMzKyu7qZNm%2BTj46Po6GglJiZKkurUqaPZs2crLCxMY8aMUe3atfXpp5%2BqYsWKkqQ%2Bffro6tWreuWVV5SSkqKAgACFh4fnK49hzc%2BqxgDyxaYuuLEBPJ%2BFj%2Be08PGcFi6eTxQXimIAAAA4POYUAwAAwOFRFAMAAMDhURQDAADA4VEUAwAAwOFRFAMAAMDhURQDAADA4VEUAwAAwOFRFAMAAMDhURQDAADA4VEUA8XIYrGYHQHQ5cuX73rs0KFDxZgEyF1ERESu4zdu3NCHH35YzGngKNjmGShkgwcP1qRJk1SpUqVs40eOHNF7772n77//3qRktmXBggV5Oi8jI0NvvfVWEaexL02bNtWoUaP04osvZo2lpKRo9uzZWrNmDYVxPl26dEkzZ87U3/72N0nSzJkztXLlStWoUUOzZs1S7dq1TU5oOxISEnT9%2BnUFBwfr%2B%2B%2B/13%2BWKKdOndKYMWP4HUWRcDE7AGBvHnroIQUFBWnUqFEKCQnRzZs3FRYWplWrVmngwIFmx7MZO3fuzHb7t99%2Bk4uLi6pVqyaLxaJLly7JMAz5%2BfmZlNB2RUREaNq0aVq3bp2mTZumCxcuaPLkyXrssce0du1as%2BPZnPfff1%2BPPfaYpNu/t19//bUmT56s48ePa9q0aVq8eLHJCW3H1q1bNWPGDKWnp6tr165ZRbFhGFnfd%2BrUycyIsGN0ioEi8K9//UvTpk2Tm5ub4uLiVLduXY0fP17Vq1c3O5pN%2BuSTT5SRkaFBgwbJxeX2e/m0tDRFRETI1dVVgwcPNjmh7bFYLFqyZIn%2B9re/ydXVVR9%2B%2BKE6duxodiyb5O/vr927d8vV1VXvvfeenJyc9MEHHygtLU2tW7fWvn37zI5oUywWiwICAnJ9g%2Bbu7q4KFSqYkAqOgDnFQBFo3LixOnfurOPHjysxMVHdunWjIC6AZcuW6fXXX88qiCXJ1dVVgwYN0rJly0xMZrv%2B9a9/ac2aNXryySdVuXJlLV%2B%2BXBcuXDA7lk1ycnJSZmamLBaLfv75Z7Vt2zbrGNcR5J%2Bzs7MOHDggHx8flS5dWgkJCfLx8ZGPjw8FMYoURTFQyHbs2KGgoCDt3btX69at08cff6z58%2Berf//%2BOnPmjNnxbJKTk5NOnDiRY/y3336Ts7OzCYls21tvvaXhw4crNDRUS5Ys0Zo1a9SoUSMFBwdr3rx5ZsezOU8%2B%2BaSGDx%2BuIUOGSJLatm0ri8WiTz/9VPXr1zc5nW26fv26Bg4cqBYtWigkJESSdOXKFXXv3l3R0dEmp4O9Yk4xUMhGjx6td955Rz179pQk%2Bfr66vvvv1dERIT%2B%2B7//mwtEHkDfvn3Vv39/tWrVSj4%2BPjIMQ7Gxsdq5c6f%2B%2Bte/mh3P5jg7O2vDhg3y8vKSdLvrPnz4cAUFBWnChAkmp7M9H3zwgebNm6eUlBQtWrRIrq6uSk5O1oYNG3iT8YCmTJmihx9%2BWNu2bVOXLl0kSV5eXmrdurUmT56sRYsWmZwQ9og5xUAhu3bt2l0/4jt16lTWBTnIn127dmnLli26fPmy0tPT5e3trdatWysoKMjsaDYtISFB5cqVMzuGzbJYLFq3bp2ee%2B45GYZhdhy70apVK/3444/y8PBQ48aNdfjwYUnSrVu31Lp1ax04cMDkhLBHdIqBQlahQgUdOXJEa9eu1eXLlxUREaHMzExt3rxZnTt3NjuezWrdurVat25tdgy7cPPmTc2cOVNr1qxRenq6IiMjlZCQoHfffVcffvghRXI%2BODs7a8aMGerSpYvc3d3NjmM30tLSch1PTEws5iRwJBTFQCFbt26dJkyYoK5du%2BqXX36RJF29elXTpk3T5cuX1b9/f5MT2oY7BZokjRo16p7nhoWFFUckuzFjxgydP39en332mUJDQyVJpUqVUpkyZTRp0qSs9XaRNyNHjtT48ePVo0cPVa1aVaVKlcp2vFatWiYls11t27bVhAkTstYgT0xM1MmTJzVnzhw988wz5oaD3aIoBgrZZ599ps8//1zNmjXT%2BvXrJUmVK1fWp59%2BqiFDhlAU59GfCwtXV1cTk9ifX375RatXr5aXl1fWR/5lypTRxIkT1aFDB5PT2Z6JEydKkjZs2JA1dmddXcMwcr1IFPc2adIkTZo0SV26dFFmZqaeeuopGYahwMBAvf/%2B%2B2bHg51iTjFQyJo0aaKDBw/Kyckp21y4jIwMPfnkk1m3UfgmTJigDz74wOwYJZ6fn5/%2B%2Bc9/ytXVNdvvaEJCgtq1a8fFoPkUExNzz%2BM%2BPj7FlMT%2BJCcn6%2BLFizIMQ9WrV5eHh4fZkWDH6BQDhaxatWrav3%2B/AgICso2vX7%2BefxyL2Nq1aymK8yAgIEBhYWHZpqXExMRo%2BvTpOX5vcX/8vS58e/fuzbYuuaSsjrthGKpcubJq1KhhRjTYMTrFQCH78ccfNXbsWD377LPauHGj%2Bvbtq5MnT%2BrQoUMKCwvjYrsi1KhRIx05csTsGCVebGysRo4cqaNHjyojI0OlS5fWzZs31aRJE82ZM0dVq1Y1O6JNad%2B%2B/V1XnrizoQfyp2HDhsrIyJCkbFs937ltGIb%2B8pe/aN68eXr00UdNywn7QlEMFIHff/9dK1eu1IULF%2BTk5KQaNWqoV69evHgXsT9PBcD9RUVFZX007evry3KBD2j58uXZblutVsXGxmrLli3q16%2BfXnjhBZOS2a69e/dq8eLF6tevn%2BrWravSpUsrMjJSX3zxhV5%2B%2BWVVqVJFCxcuVGxsrBYvXmx2XNgJimIAdoOi%2BO4uXbqUp/MyMjLk6%2BtbxGkcw%2BXLl/Xee%2B%2Bx0cQD6Nq1q7788susDWbuuHbtml555RWtXbtWt27dUtu2bbVv3z6TUsLeMKcYKAQvvfRSnhbuz8jI0FdffVUMiYDs7vUR/39itYTCUaVKFZ07d87sGDbp3//%2Bt9LT03OMZ2ZmZm3znJyczIYpKFQUxUAhaNKkSdb3N2/e1Nq1a%2BXn56dHHnlEFotF586dU2RkpF588UUTU8KRbdy4Mev7I0eO6Ntvv9WLL76omjVrKiMjQ2fPntWKFSv08ssvm5jSNu3atSvHWHp6unbv3i1nZ2cTEtm%2BNm3aaMCAAQoJCVH16tVlGIYuX76slStXqnnz5kpLS9PLL7%2Bsjh07mh0VdoTpE0AhGzVqlLp3755jgfktW7Zo/fr1bIxQhLjQLm%2B6d%2B%2BuRYsWqXLlytnGL126pNdeey1rfW3kTb169XKMubm5qWbNmnr33XfVokULE1LZtpSUFM2ZM0c7duzQ5cuXJUkVK1ZUixYtNGbMGJUrV04ff/yxXn31VdYxR6GhKAYKWdOmTfXPf/4zx65W6enpat68OWvAFlBCQsJdtyFevHixXnnllWJOZHuaNm2qX375Jcearzdu3FCbNm34HYWp7lyoWK1aNbOjwME4mR0AsDfe3t765ptvcoyvWrVKFStWNCGR7bt586YmT54sPz8/tW7dWtLt4viNN95QfHx81nkUxHnTtGlTvfnmm9q6dauioqIUFRWl7du3a9iwYdmmAiHvEhIStGbNGi1YsEALFizQunXrdOPGDbNj2ayuXbsqMzPT7BhwMHSKgUK2bds2jRw5Um5ubqpatWrWXLjk5GTNnj1bXbp0MTuizZkwYYLOnz%2BvIUOGKDQ0VEeOHFFKSoomTJigzMxMzZ071%2ByINuX69euaNm2atm7dqlu3bkmSXFxcFBAQoOnTp%2BeYVoF7O3r0qAYMGCBXV1f5%2BPjIarUqINPGLAAAGLtJREFUJiZGVqtVX3zxBUvdPYBZs2bJ3d1dr7zyisqUKWN2HDgIimKgCCQnJ2vnzp2Ki4tTWlqavL291aJFC1WpUsXsaDbpmWee0erVq%2BXl5ZVt2bWkpCR16NCBJZkKICEhQWlpafLy8sqxgxjy5oUXXlC7du0UGhoqJ6fbH8BmZmbqk08%2B0b59%2B7R06VKTE9qe7t2768qVK0pOTlbZsmVzTEfL7eJGoKB4BQSKQNmyZRUYGGh2DLuRmJiYY/6rdLvwyG3ZJtxfVFSUzp49q9TU1BzHgoODTUhku06dOqUlS5ZkFcSS5OTkpFdffVVLliwxL5gNYyoUzEBRDBSy/fv3a/r06XctOFgDNv8CAgIUFhamUaNGZY3FxMRo%2BvTpCggIMDGZbZo5c6YWL16ssmXLys3NLcdxiuL8KV%2B%2BvM6fP59jmkR0dHSODify5vnnn7/rsfnz5xdjEjgSpk8Ahaxz585q1KiROnfunGvB0aZNGxNS2bbY2FiNHDlSR48eVUZGhkqXLq2bN2/Kz89PYWFhqlq1qtkRbcqdNxl3LlpEwURERGjVqlXq27evatasKcMwdObMGS1fvlzdunXTyJEjzY5ok/bs2aPIyEilpaVljV25ckXr16/XwYMHTUwGe0VRDBQyPz8//etf/8r2USoKx8mTJxUdHS3DMOTr68sFTA%2BoVatW2rFjB3OIC4nVatWyZcu0evVqXbx4UZLk6%2Burnj17qk%2BfPrwWPICIiAh99tlnql27tqKiovTEE0/o/Pnzqly5skJDQ/k0A0WCohgoZK%2B99ppGjBihxx9/3OwodicyMlKxsbFZu1ilpqbm2o3HvS1atEhWq1UDBw40OwqQq6efflqffvqp6tWrl7Upz61btzR%2B/HgFBgbq2WefNTsi7BBFMVDIVq5cqaVLl%2BqZZ56Rj49Pji5RSEiISclsV3R0tAYNGqTo6GhlZmbq6NGjiomJUa9evbRo0SLVr1/f7Ig25c0339ShQ4fk7OysatWq5fgdXb58uUnJbJPVatW2bdt09uzZrCXu/mzIkCEmpLJtfn5%2BWZvI/PnTt8TERPXu3Vs//vijyQlhj/jsDChk8%2BfPl4uLizZu3JjjmGEYFMUPYMqUKWrTpo1GjBihZs2aSZJ8fHz02muvaerUqfrqq69MTmhbHnvsMd5IFKLRo0frxx9/VO3atXNsOWwYBkXxA6hZs6a%2B%2Buor9enTR1WqVNG2bdvUoUMHpaSk6OrVq2bHg52iUwwUgvPnz%2BuRRx6RJJ05c0aGYdz13Fq1ahVXLLsREBCgnTt3ytXVNds6xRkZGfL392dbYpjqySef1JIlS9SwYUOzo9iNXbt2aejQodq5c6fWrFmj6dOn69FHH1VcXJzatm2rsLAwsyPCDtEpBgpB9%2B7ddeTIEUlSYGBgrkWx1WqVYRgsyfYADMNQUlJSjm2yL1y4wJziPAoPD9ewYcMkSXPmzLnnuayWkD%2Benp6qU6eO2THsyg8//KA9e/booYceUr9%2B/fTYY48pMjJSVatW1aZNm8yOBztFUQwUgj%2B/SG/dutXEJPYpMDBQI0aM0Jtvvimr1arjx4/r5MmTWrhwoYKCgsyOZxPudNcl3bOzfq9POZC7cePGKTw8XEOHDpW7u7vZcWxadHS0zp07p%2B%2B//16BgYH684fZdevW1enTp7Vz504TE8KeMX0CQImXlpamiIgILV%2B%2BXImJiZKkcuXKKSQkRIMHD84xjxOFY%2BHChXrjjTfMjlEi/ecazykpKUpLS1P58uVznMuWxHm3efNmhYeH69SpU7ked3NzU58%2BfTR27NhiTgZHQFEMwKYkJSXJyckp122fUbj%2BPH8b2X333Xd5Pvdeu7Mhd88995zWrl1rdgw4GIpiACVSfrpr7MxWNO6sD4vCERoaqr///e9mxwBwF8wpBlAivfrqq3k6j4sXiw7ziwvXgQMHzI4A4B4oigGUSFFRUWZHAAA4EIpiACXS2bNn83SeYRiqWbNm0YYBANg9imIAJVLXrl1lGIbud9kD0ycAAIWBohhAicR6z%2BbjOmwAjsTJ7AAAkBsfH59sX1WqVNGlS5e0b98%2B7d%2B/X3FxcapWrZp8fHzMjmpz1qxZk%2Bt4SkqKli5dmnW7d%2B/exRUJAEzHkmwASrzz58/r5Zdf1uXLl%2BXp6Smr1arExET5%2BvpqyZIlqlq1qtkRbUJmZqYyMjLk7%2B%2BvAwcO5OgER0VFqX///vfc8Q4PjiXugJKNohhAiRcaGqpatWpp2LBhevjhhyVJCQkJmjNnjq5evapPPvnE5IS2YcmSJfroo4/ueU6TJk309ddfF1Mi%2B2CxWOTs7Hzf8zZt2qQuXboUQyIAD4KiGECJFxAQoB07dsjd3T3b%2BI0bN9ShQwf9%2BuuvJiWzPdevX1fbtm21ePHiHMfc3d31%2BOOPq1SpUiYks1316tW765rOhmGocuXKateunUaOHMlOjEAJxoV2AEq80qVLKz4%2BPsc0iRs3bigzM9OkVLbJy8tLO3bsUIUKFcyOYjfmzJmjefPmqUOHDqpTp47KlCmjo0ePasuWLRo4cKAsFou%2B%2BuorzZgxQ9OmTTM7LoC7oCgGUOI9%2B%2ByzGjRokF5//XU98sgjMgxDZ8%2Be1eeff87H0Q/g%2BvXrmjhxos6ePatbt27lOM7KH/nz9ddfa%2B7cuapfv37WWIcOHdS5c2fNnTtXn3/%2Budq0aaP/%2Bq//MjElgPuhKAZQ4o0ePVphYWGaMGGCkpOTJUmenp7q2bOnhg0bZnI62/POO%2B/o4YcfVu/eveXm5mZ2HJt37NgxPfrooznGH3300aytnR9%2B%2BGHdvHmzuKMByAfmFAOwKUlJSZKUdcEd8s/Pz0/79u1j7nAh6du3r6pWrarXXntNPj4%2BMgxDsbGx%2Bsc//qETJ07o22%2B/1bvvvqtr167lOpcbQMlApxhAiWaxWNSkSRMdPnxYTk5OFMOFoG7durp8%2BbJq1KhhdhS7MH36dA0bNkzBwcFZF9xZrVZVr15d4eHhcnZ21tWrVzVlyhSTkwK4FzrFAEq8UaNG6amnnlKvXr3MjmIXNm/erMWLF%2Bu5555TtWrV5OSUfR%2Bn1q1bm5TMtsXGxury5cuyWq2qVKkSbzoAG0NRDKDEe%2BONN3T48GEZhqEqVarI1dU12/Hly5eblMw21atX767HDMPQiRMnijGNfUhISNCFCxeUmpqa45i/v78JiQDkF9MnAJR4DRo0UIMGDcyOYTciIyPl4sLLf2FZunSpZs2apYyMjBzHeJMB2A46xQDgoCIjIxUbG6uOHTtKklJTU1mN4gG0atVKw4YNU2BgYK7P339%2BsgGgZKJVAKDES0lJ0apVq%2B66ru6MGTNMSGW7oqOjNWjQIEVHR8tisSgyMlIxMTHq1auXFi1alG29Xdxfenq6evfufddd7QDYBqf7nwIA5ho5cqQ%2B%2BeQTXblyRampqTm%2BkD9TpkxRmzZttH///qyL7Hx8fPTaa69p6tSpJqezPc8//7w2bNhgdgwABcT0CQAlXtOmTbVp0yZ5e3ubHcUuBAQEaOfOnXJ1dVXjxo11%2BPBhSVJGRob8/f116NAhkxPalqlTp%2BqHH36Qj4%2BPfHx8cqzmERYWZlIyAPnB9AkAJV6lSpVUpkwZs2PYDcMwlJSUpIoVK2Ybv3DhAnOKH0BCQoLatm1rdgwABURRDKDEe//99zV9%2BnSFhoZm7Rj2Z1zIlD%2BBgYEaMWKE3nzzTVmtVh0/flwnT57UwoULFRQUZHY8mzN79myzIwAoBEyfAFDiNWvWTDdv3pTFYslWEFutVpa8egBpaWmKiIjQ8uXLlZiYKEkqV66cQkJCNHjwYN5k5MG3336rnj17SpJWrFhx1/MMw1Dv3r2LKxaAAqAoBlDi7dmzJ2td3fj4eJUvXz7b8ebNm5sRyy4kJSXJyclJHh4eZkexKV26dNGmTZskSe3bt7/reYZhaOvWrcUVC0ABUBQDKPH%2B%2BOMPzZo1S2vWrFF6eroiIyOVkJCgd999VzNmzMhRJOP%2BTp8%2BrfPnz%2Be6ekdgYKAJiQDAXMwpBlDiffjhhzp//rw%2B%2B%2BwzhYaGSpJKlSqlMmXK6IMPPtDcuXNNTmhbpk6dqi%2B%2B%2BEKlSpWSu7t7tmOGYVAUP4CoqCidPXs21zcZwcHBJiQCkF90igGUeM8884xWr14tLy%2BvbEuIJSUlqUOHDtq3b5/JCW1Ls2bNFB4erpYtW5odxS7MnDlTixcvVtmyZXNdvWPXrl0mpAKQX3SKAZR4iYmJuc55zczMVHp6ugmJbJuXl5f8/PzMjmE3Vq1apUWLFql169ZmRwFQAOxoB6DECwgIUFhYmNLS0rLGYmJiNH78eAUEBJiYzDa9//77%2BuCDD3Tw4EFdvHhRly5dyvaF/HFxcdFTTz1ldgwABcT0CQAlXmxsrEaOHKmjR48qIyNDpUuX1s2bN%2BXn56ewsDBVrVrV7Ig25euvv9asWbN08%2BbNbOMscfdgFi1aJKvVqoEDB5odBUABUBQDsBknT55UdHS0DMOQr6%2BvHnvsMbMj2aSAgAANGDBAzzzzTK5zYB999FETUtmuN998U4cOHZKzs7OqVauWY5vn5cuXm5QMQH4wpxiAzahbt67q1q1rdgyb5%2BTkpIEDB2at/YyCeeyxx1S/fn2zYwAoIDrFAOBgvv76a12/fl0DBw5k9zoA%2BF8UxQDgYHr06KGYmBilpqbK09Mz29bZEkuI5UV4eLiGDRsmSZozZ849zx05cmRxRAJQQHx2BgAO5qWXXmLqRAHdWStbkg4dOnTX8/7zDQeAkotOMQAARWTnzp1q06aN2TEA5AGtAgBwMCkpKZozZ4527NihuLg4ubm5qXLlyurYsaPeeOONHFs/4/5u3Lih33//Pdta2nFxcZo0aZIOHDhgYjIAeUVRDAAOZty4cTp16pReeukl%2Bfj4yGq1KiYmRt98842io6MVFhZmdkSbsnXrVr399tu6efOmDMPQnQ9gH3roIfXo0cPkdADyiukTAOBg/P39tWHDBnl7e2cbj4uLU7du3bR//36TktmmoKAg9e/fX4GBgWrZsqX27dunEydO6PPPP9c777yjWrVqmR0RQB6wzTMAOBhPT0%2BVKVMmx7i7u7s8PT1NSGTbLl26pN69e8vDw0OGYcjd3V1%2Bfn4aPXq0xo4da3Y8AHlEUQwADua9997T5MmTdfz4cd24cUPJyck6duyYJk2apJEjRyotLS3rC/fn5eWVtTV2hQoVdOrUKUlSlSpVdPLkSTOjAcgHpk8AgIOpX7%2B%2BMjMzcywXZrVac4zdKfZwd//4xz80Z84c7d27V2FhYfr555/Vrl07nThxQlarlW2eARtBUQwADmbPnj15Xqe4efPmRZzGPuzfv1/%2B/v5KTU3Vp59%2BqmPHjqlKlSp6/fXXVa1aNbPjAcgDimIAcFCXLl3SxYsXZRiGfH19VblyZbMj2RyLxaJ169YpODjY7CgACoiiGAAczLVr1zR48GAdPnw4a/kwwzD01FNP6W9/%2BxsX2%2BVTQECAduzYwfrOgI2jKAYABzNs2DBlZmZq6NCh8vX1lSSdO3dO8%2BbNk6enpz766COTE9qWFStWaN%2B%2BferRo4eqVq2qUqVKZTvOkmyAbaAoBgAH06pVK/3444/y8PDINh4fH6/u3btr165dJiWzTfXq1bvrMcMwuFgRsBHsaAcADsYwDKWnp%2Bc6/scff5iQyLYFBARo%2BvTpOcaTkpK0cOFCExIBeBAUxQDgYFq2bKm3335bw4cP1yOPPCLDMHT27FmFh4erdevWZsezGdHR0Tp37pwOHjyoc%2BfO6T8/eD19%2BrR%2B%2BeUXk9IByC%2BmTwCAg0lKStK4ceO0devWrDHDMNSpUydNnDhR5cuXNzGd7di8ebPCw8OzNuv4T25uburTpw%2B72gE2gqIYABxUYmKiLl26JEmqXr26ypYta3Ii2/Tcc89p7dq1ZscAUEAUxQDgAM6ePZvnc1ktAYAjoigGAAdQr149GYaRY96rpKytne9s88xqCQAcEUUxADiAmJiYPJ/r4%2BNThEkAoGSiKAYABxUZGanY2Fh17NhRkpSamio3NzeTUwGAOZzMDgAAKF7R0dHq1q2bXnzxRY0YMULS7U5yu3btdPz4cZPTAYA5KIoBwMFMmTJFbdq00f79%2B%2BXkdPufAR8fH7322muaOnWqyekAwBwUxQDgYA4fPqwRI0bI1dU16yI7SerXrx8X2QFwWBTFAOBgDMNQUlJSjvELFy4wpxiAw6IoBgAHExgYqBEjRmjv3r2yWq06fvy4vvvuOw0aNEhBQUFmxwMAU7D6BAA4mLS0NEVERGj58uVKTEyUJJUrV04hISEaPHiwXF1dTU4IAMWPohgAHEx6erpKlSolSUpKSpKTk5M8PDxMTgUA5qIoBgAH4%2B/vr44dOyooKEgtWrTIWoECABwZRTEAOJitW7dqy5Yt2rZtm5ycnNSpUycFBgYqICDA7GgAYBqKYgBwUBaLRf/85z%2B1efNmbdu2TRaLRV27dtX48ePNjgYAxY6iGAAcXFpamvbs2aO///3vOnDgAGsVA3BIFMUA4IASExO1fft2bd26Vbt27VKlSpXUqVMnde3aVU888YTZ8QCg2FEUA4CD%2Betf/6qDBw%2BqSpUq6tKli7p06aIGDRqYHQsATOVidgAAQPFq2LChRo8eTSEMAH9CpxgAHFBcXJw2bNigy5cva9y4cZKkyMhICmUADovFKQHAwezZs0edO3fWjh079PXXX0uSYmNj1b9/f61fv97kdABgDopiAHAwc%2BbM0UcffaSlS5fKMAxJUtWqVRUREaGPP/7Y5HQAYA6KYgBwMGfOnFHHjh0lKasolqTmzZsrJibGrFgAYCqKYgBwMOXLl9fJkydzjO/atUsVK1Y0IREAmI/VJwDAwbzyyisaOHCgevbsKYvFon/84x/67bff9MMPP%2Bidd94xOx4AmILVJwDAAe3evVvLly/XhQsX5OTkpBo1aqhPnz5q2bKl2dEAwBQUxQAAAHB4TJ8AAAcwduzYPJ2XkZGhWbNmFXEaACh5KIoBwAGkpqZmfZ%2BZmakdO3bIx8dHvr6%2BslgsOnfunK5evaqgoCATUwKAeZg%2BAQAOZsqUKapXr5569eqVbfyrr77SqVOnNHHiRJOSAYB5KIoBwMH4%2B/trz549KlWqVLbxtLQ0tWzZUgcOHDApGQCYh3WKAcDBlC1bVjt37swxvnfvXnl4eJiQCADMx5xiAHAwb7zxhgYPHqy6devKx8dHhmHo0qVLOnHihMaNG2d2PAAwBdMnAMABnTlzRlu3blVcXJzS0tLk7e2t1q1bq0mTJmZHAwBTUBQDAHLVtWtX/fDDD2bHAIBiwZxiAECuYmJizI4AAMWGohgAkCvDMMyOAADFhqIYAAAADo%2BiGAAAAA6PohgAAAAOj6IYAAAADo%2BiGACQK1bsBOBIKIoBwMGEhIToyy%2B/1PXr1%2B953hdffFFMiQDAfGzeAQAOZsGCBdqyZYtOnz6tVq1aqUePHnr22Wfl7u5udjQAMA1FMQA4qOjoaP3000/avHmzTp8%2BrQ4dOqhHjx5q2bKl2dEAoNhRFAOAg0tLS9N3332n2bNnKzk5WdWqVVNoaKhefPFFs6MBQLFxMTsAAMAcv/76q9atW6effvpJZcqUUUhIiIKDg3X16lXNmDFDp0%2Bf1sSJE82OCQDFgk4xADiYjz76SBs3blRycrI6dOig4OBgtWjRItu2znFxcercubP%2B3//7fyYmBYDiQ6cYABzMiRMnNGLECHXq1EmlS5fO9ZzKlStr8ODBxZwMAMzDkmwA4GAMw1BwcHCOgjgxMVG9e/fOuj1w4MDijgYApqFTDAAO4tixYzp69Kj279%2Bvb775JsfmHGfOnNGpU6dMSgcA5qIoBgAHkZycrJ9//lkZGRlauHBhjuPu7u4aPny4CckAwHxcaAcADmbQoEH65JNPzI4BACUKRTEAOIDz58/rkUcekSSdPXv2nufWqlWrOCIBQIlCUQwADqBRo0Y6cuSIJKlevXoyDCPbnOI7tw3D0IkTJ8yKCQCmoSgGAAdw6dIlVatWTZIUExOjXbt2qVmzZnJ3d5d0eyOP1NRUPf300/Lx8TEzKgCYgiXZAMAB3CmIJWn79u2aPXu2rl27Jh8fH/n4%2BMjT01Pz5s3Ttm3bTEwJAOahUwwADqZ9%2B/ZauHCh6tSpk238t99%2B0%2Buvv67t27eblAwAzEOnGAAczPXr11WzZs0c4zVq1FB8fHzxBwKAEoCiGAAcjJ%2Bfn8LCwpScnJw1du3aNU2fPl1NmjQxMRkAmIfpEwDgYKKjozVy5EhFRkbKw8NDVqtVKSkpatCggcLCwuTr62t2RAAodhTFAOCgTp48qejoaElS9erVVa9ePZMTAYB5KIoBAADg8JhTDAAAAIdHUQwAAACHR1EMAAAAh0dRDAAAAIdHUQwAAACHR1EMAAAAh0dRDAAAAIdHUQwAAACH9/8BjzBMZXI3FcMAAAAASUVORK5CYII%3D\" class=\"center-img\">\n</div>\n    <div class=\"row headerrow highlight\">\n        <h1>Sample</h1>\n    </div>\n    <div class=\"row variablerow\">\n    <div class=\"col-md-12\" style=\"overflow:scroll; width: 100%%; overflow-y: hidden;\">\n        <table border=\"1\" class=\"dataframe sample\">\n  <thead>\n    <tr style=\"text-align: right;\">\n      <th></th>\n      <th>enrollee_id</th>\n      <th>city</th>\n      <th>city_development_index</th>\n      <th>gender</th>\n      <th>relevent_experience</th>\n      <th>enrolled_university</th>\n      <th>education_level</th>\n      <th>major_discipline</th>\n      <th>experience</th>\n      <th>company_size</th>\n      <th>company_type</th>\n      <th>last_new_job</th>\n      <th>training_hours</th>\n      <th>target</th>\n    </tr>\n  </thead>\n  <tbody>\n    <tr>\n      <th>1</th>\n      <td>29725</td>\n      <td>city_40</td>\n      <td>0.776</td>\n      <td>Male</td>\n      <td>No relevent experience</td>\n      <td>no_enrollment</td>\n      <td>Graduate</td>\n      <td>STEM</td>\n      <td>15</td>\n      <td>50-99</td>\n      <td>Pvt Ltd</td>\n      <td>&gt;4</td>\n      <td>47</td>\n      <td>0.0</td>\n    </tr>\n    <tr>\n      <th>4</th>\n      <td>666</td>\n      <td>city_162</td>\n      <td>0.767</td>\n      <td>Male</td>\n      <td>Has relevent experience</td>\n      <td>no_enrollment</td>\n      <td>Masters</td>\n      <td>STEM</td>\n      <td>&gt;20</td>\n      <td>50-99</td>\n      <td>Funded Startup</td>\n      <td>4</td>\n      <td>8</td>\n      <td>0.0</td>\n    </tr>\n    <tr>\n      <th>7</th>\n      <td>402</td>\n      <td>city_46</td>\n      <td>0.762</td>\n      <td>Male</td>\n      <td>Has relevent experience</td>\n      <td>no_enrollment</td>\n      <td>Graduate</td>\n      <td>STEM</td>\n      <td>13</td>\n      <td>&lt;10</td>\n      <td>Pvt Ltd</td>\n      <td>&gt;4</td>\n      <td>18</td>\n      <td>1.0</td>\n    </tr>\n    <tr>\n      <th>8</th>\n      <td>27107</td>\n      <td>city_103</td>\n      <td>0.920</td>\n      <td>Male</td>\n      <td>Has relevent experience</td>\n      <td>no_enrollment</td>\n      <td>Graduate</td>\n      <td>STEM</td>\n      <td>7</td>\n      <td>50-99</td>\n      <td>Pvt Ltd</td>\n      <td>1</td>\n      <td>46</td>\n      <td>1.0</td>\n    </tr>\n    <tr>\n      <th>11</th>\n      <td>23853</td>\n      <td>city_103</td>\n      <td>0.920</td>\n      <td>Male</td>\n      <td>Has relevent experience</td>\n      <td>no_enrollment</td>\n      <td>Graduate</td>\n      <td>STEM</td>\n      <td>5</td>\n      <td>5000-9999</td>\n      <td>Pvt Ltd</td>\n      <td>1</td>\n      <td>108</td>\n      <td>0.0</td>\n    </tr>\n  </tbody>\n</table>\n    </div>\n</div>\n</div>"
     },
     "execution_count": 21,
     "metadata": {},
     "output_type": "execute_result"
    }
   ],
   "source": [
    "import pandas_profiling as pp\n",
    "pp.ProfileReport(train)"
   ],
   "metadata": {
    "collapsed": false,
    "pycharm": {
     "name": "#%%\n"
    }
   }
  },
  {
   "cell_type": "markdown",
   "source": [
    "Balance in data"
   ],
   "metadata": {
    "collapsed": false,
    "pycharm": {
     "name": "#%% md\n"
    }
   }
  },
  {
   "cell_type": "code",
   "execution_count": 18,
   "outputs": [
    {
     "data": {
      "text/plain": "0.0    7472\n1.0    1483\nName: target, dtype: int64"
     },
     "execution_count": 18,
     "metadata": {},
     "output_type": "execute_result"
    }
   ],
   "source": [
    "train['target'].value_counts()"
   ],
   "metadata": {
    "collapsed": false,
    "pycharm": {
     "name": "#%%\n"
    }
   }
  },
  {
   "cell_type": "markdown",
   "source": [
    "Let's look at how the number of Data Scientists who change the job varies across features."
   ],
   "metadata": {
    "collapsed": false,
    "pycharm": {
     "name": "#%% md\n"
    }
   }
  },
  {
   "cell_type": "code",
   "execution_count": 19,
   "outputs": [
    {
     "name": "stdout",
     "output_type": "stream",
     "text": [
      "                         target\n",
      "relevent_experience            \n",
      "Has relevent experience  1260.0\n",
      "No relevent experience    223.0\n",
      "                 target\n",
      "education_level        \n",
      "Graduate         1092.0\n",
      "Masters           357.0\n",
      "Phd                34.0\n",
      "                     target\n",
      "enrolled_university        \n",
      "no_enrollment        1169.0\n",
      "Full time course      232.0\n",
      "Part time course       82.0\n",
      "        target\n",
      "gender        \n",
      "Male    1340.0\n",
      "Female   131.0\n",
      "Other     12.0\n",
      "                  target\n",
      "major_discipline        \n",
      "STEM              1379.0\n",
      "Humanities          40.0\n",
      "Business Degree     21.0\n",
      "Other               19.0\n",
      "No Major            15.0\n",
      "Arts                 9.0\n",
      "                     target\n",
      "company_type               \n",
      "Pvt Ltd              1133.0\n",
      "Funded Startup        108.0\n",
      "Public Sector          94.0\n",
      "Early Stage Startup    78.0\n",
      "NGO                    55.0\n",
      "Other                  15.0\n"
     ]
    }
   ],
   "source": [
    "print(pd.pivot_table(train, values='target',\n",
    "                    columns=['relevent_experience'], aggfunc=np.sum).T.sort_values('target', ascending=False))\n",
    "\n",
    "print(pd.pivot_table(train, values='target',\n",
    "                    columns=['education_level'], aggfunc=np.sum).T.sort_values('target', ascending=False))\n",
    "\n",
    "print(pd.pivot_table(train, values='target',\n",
    "                    columns=['enrolled_university'], aggfunc=np.sum).T.sort_values('target', ascending=False))\n",
    "\n",
    "print(pd.pivot_table(train, values='target',\n",
    "                    columns=['gender'], aggfunc=np.sum).T.sort_values('target', ascending=False))\n",
    "\n",
    "print(pd.pivot_table(train, values='target',\n",
    "                    columns=['major_discipline'], aggfunc=np.sum).T.sort_values('target', ascending=False))\n",
    "\n",
    "print(pd.pivot_table(train, values='target',\n",
    "                    columns=['company_type'], aggfunc=np.sum).T.sort_values('target', ascending=False))"
   ],
   "metadata": {
    "collapsed": false,
    "pycharm": {
     "name": "#%%\n"
    }
   }
  },
  {
   "cell_type": "markdown",
   "source": [
    "The number of people who change the job vary significantly and inconsistenly.\n",
    "We will need to encode them manually to improve the model."
   ],
   "metadata": {
    "collapsed": false
   }
  },
  {
   "cell_type": "code",
   "execution_count": 22,
   "outputs": [],
   "source": [
    "from sklearn.preprocessing import LabelEncoder\n",
    "\n",
    "# I do this manually to explicitly tell the model that a better education & experience serves well as a trustworthy input.\n",
    "\n",
    "# However, later we wil see the feature importanes report in SHAP and notice interesting results.\n",
    "experience_dict = {'Has relevent experience' : 1,\n",
    "             'No relevent experience': 0}\n",
    "\n",
    "education_dict = {'Graduate' : 2,\n",
    "             'Masters' : 1,\n",
    "             'Phd' : 0}\n",
    "\n",
    "enrollment_dict = {'no_enrollment' : 2,\n",
    "             'Full time course' : 1,\n",
    "             'Part time course' : 0}\n",
    "\n",
    "gender_dict = {'Male' : 2,\n",
    "             'Female' : 1,\n",
    "             'Other' : 0}\n",
    "\n",
    "discipline_dict = {'STEM' : 5,\n",
    "             'Humanities' : 4,\n",
    "             'Business Degree' : 3,\n",
    "             'Other' : 2,\n",
    "             'No Major' : 1,\n",
    "             'Arts' : 0 }\n",
    "\n",
    "company_dict = {'Pvt Ltd' : 5,\n",
    "             'Funded Startup' : 4,\n",
    "             'Public Sector' : 3,\n",
    "             'Early Stage Startup' : 2,\n",
    "             'NGO' : 1,\n",
    "             'Other' : 0 }\n",
    "\n",
    "\n",
    "# Train encoding\n",
    "le = LabelEncoder()\n",
    "train['gender'] = train['gender'].map(gender_dict)\n",
    "train['relevent_experience'] = train['relevent_experience'].map(experience_dict)\n",
    "train['education_level'] = train['education_level'].map(education_dict)\n",
    "train['enrolled_university'] = train['enrolled_university'].map(enrollment_dict)\n",
    "train['major_discipline'] = train['major_discipline'].map(discipline_dict)\n",
    "train['experience'] = le.fit_transform(train['experience'].astype(str))\n",
    "train['company_size'] = le.fit_transform(train['company_size'].astype(str))\n",
    "train['company_type'] = train['company_type'].map(company_dict)\n",
    "train['last_new_job'] = le.fit_transform(train['last_new_job'].astype(str))\n",
    "#train['city'] = le.fit_transform(train['city'].astype(str))\n",
    "\n",
    "train = pd.get_dummies(train, columns=['city']) # I do one-hot encoding here, since a higher value of the encoded feature is not related to the 'importance' of a feature.\n",
    "\n",
    "# Test encoding\n",
    "test['gender'] = le.fit_transform(test['gender'].astype(str))\n",
    "test['relevent_experience'] = test['relevent_experience'].map(experience_dict)\n",
    "test['education_level'] = test['education_level'].map(education_dict)\n",
    "test['enrolled_university'] = test['enrolled_university'].map(enrollment_dict)\n",
    "test['major_discipline'] = test['major_discipline'].map(discipline_dict)\n",
    "test['experience'] = le.fit_transform(test['experience'].astype(str))\n",
    "test['company_size'] = le.fit_transform(test['company_size'].astype(str))\n",
    "test['company_type'] = test['company_type'].map(company_dict)\n",
    "test['last_new_job'] = le.fit_transform(test['last_new_job'].astype(str))\n",
    "#test['city'] = le.fit_transform(test['city'].astype(str))\n",
    "\n",
    "\n",
    "test = pd.get_dummies(test, columns=['city'])"
   ],
   "metadata": {
    "collapsed": false,
    "pycharm": {
     "name": "#%%\n"
    }
   }
  },
  {
   "cell_type": "code",
   "execution_count": 23,
   "outputs": [],
   "source": [
    "X = train.drop('target', axis=1)\n",
    "y = train['target']\n",
    "\n",
    "X_train, X_val, y_train, y_val = train_test_split(X, y, test_size=0.33)\n",
    "# Further in this notebook we will use 'val' for validation dataset, since we have all the corresponding data and columns unlike in the 'test' dataset.\n",
    "# Test dataset does not contain the target and thus we will not be able to measure the performance of the model."
   ],
   "metadata": {
    "collapsed": false,
    "pycharm": {
     "name": "#%%\n"
    }
   }
  },
  {
   "cell_type": "markdown",
   "source": [
    "Model building"
   ],
   "metadata": {
    "collapsed": false,
    "pycharm": {
     "name": "#%% md\n"
    }
   }
  },
  {
   "cell_type": "code",
   "execution_count": null,
   "outputs": [],
   "source": [
    "from lightgbm import LGBMClassifier"
   ],
   "metadata": {
    "collapsed": false,
    "pycharm": {
     "name": "#%%\n"
    }
   }
  },
  {
   "cell_type": "code",
   "execution_count": null,
   "outputs": [],
   "source": [
    "data = []\n",
    "index = []\n",
    "\n",
    "attributions = dict()\n",
    "\n",
    "n_1_class = np.count_nonzero(preds)\n",
    "n_0_class = len(preds)-n_1_class\n",
    "n_explanations = X.shape[0]\n",
    "\n",
    "eX_1_lrp = np.zeros((n_1_class,8))\n",
    "eX_0_lrp = np.zeros((n_0_class,8))\n",
    "eX_1_ig = np.zeros((n_1_class,8))\n",
    "eX_0_ig = np.zeros((n_0_class,8))\n",
    "\n",
    "\n",
    "method_attribution_dict = {'ig_1': (\"ig_attributtions_1.txt\", eX_1_ig),\n",
    "                                      'lrp_1': ('lrp_attributions_1.txt', eX_1_lrp),\n",
    "                                      'ig_0': (\"ig_attributtions_0.txt\", eX_0_ig),\n",
    "                                      'lrp_0': ('lrp_attributions_0.txt', eX_0_lrp)}"
   ],
   "metadata": {
    "collapsed": false,
    "pycharm": {
     "name": "#%%\n"
    }
   }
  },
  {
   "cell_type": "code",
   "execution_count": null,
   "outputs": [],
   "source": [
    "# # Statistics\n",
    "# times_lrp = np.ndarray((n_explanations,))\n",
    "# times_ig = np.ndarray((n_explanations,))\n",
    "#\n",
    "# # Counters of explanations per class\n",
    "# j_0 = 0\n",
    "# j_1 = 0\n",
    "#\n",
    "# for i in range(n_explanations):\n",
    "#\n",
    "#     # input to explain\n",
    "#     xs = X[[i]]\n",
    "#\n",
    "#     # For dividing explanations for SpRAy\n",
    "#     x_class = preds[i]\n",
    "#\n",
    "#     # Explanations\n",
    "#     with DeepExplain(session=K.get_session()) as de:\n",
    "#\n",
    "#         # Need to reconstruct the graph in DeepExplain context, using the same weights.\n",
    "#         # With Keras this is very easy:\n",
    "#         # 1. Get the input tensor to the original model\n",
    "#         input_tensor = model.layers[0].input\n",
    "#\n",
    "#         # 2. We now target the output of the last dense layer (pre-softmax)\n",
    "#         # To do so, create a new model sharing the same layers untill the last dense (index -2)\n",
    "#         fModel = Model(inputs=input_tensor, outputs = model.layers[-2].output)\n",
    "#         target_tensor = fModel(input_tensor)\n",
    "#\n",
    "#         # method 1\n",
    "#\n",
    "#         # parameters\n",
    "#         arg = 100\n",
    "#         method_name = 'IG'\n",
    "#\n",
    "#         # explanations\n",
    "#         begin = time.time()\n",
    "#         explanation = de.explain('intgrad', target_tensor, input_tensor, xs, steps=arg)\n",
    "#         time.sleep(1)\n",
    "#         end = time.time()\n",
    "#\n",
    "#         # records\n",
    "#         attributions[method_name] = explanation\n",
    "#         times_ig[i] = end - begin\n",
    "#\n",
    "#         if x_class == 0:\n",
    "#             eX_0_ig[j_0] = explanation\n",
    "#         else:\n",
    "#             eX_1_ig[j_1] = explanation\n",
    "#\n",
    "#\n",
    "#         # method 2\n",
    "#\n",
    "#         # parameters\n",
    "#         arg = 0.0001\n",
    "#         method_name = 'LRP'\n",
    "#\n",
    "#         # explanation\n",
    "#         begin = time.time()\n",
    "#         explanation = de.explain('elrp', target_tensor, input_tensor, xs, epsilon=arg)\n",
    "#         time.sleep(1)\n",
    "#         end = time.time()\n",
    "#\n",
    "#         # record\n",
    "#         if x_class == 0:\n",
    "#             eX_0_lrp[j_0] = explanation\n",
    "#             j_0 += 1\n",
    "#         else:\n",
    "#             eX_1_lrp[j_1] = explanation\n",
    "#             j_1 += 1\n",
    "#\n",
    "#         attributions[method_name] = explanation\n",
    "#         times_lrp[i] = end - begin"
   ],
   "metadata": {
    "collapsed": false,
    "pycharm": {
     "name": "#%%\n"
    }
   }
  },
  {
   "cell_type": "markdown",
   "source": [
    "Save explanations and report running time"
   ],
   "metadata": {
    "collapsed": false
   }
  },
  {
   "cell_type": "code",
   "execution_count": null,
   "outputs": [],
   "source": [
    "# method_name = 'IG'\n",
    "# method_dict = {\"Mean time\": times_ig.mean()}\n",
    "# data.append(method_dict)\n",
    "# index.append(method_name)\n",
    "#\n",
    "# method_name = 'LRP'\n",
    "# method_dict = {\"Mean time\": times_lrp.mean()}\n",
    "# data.append(method_dict)\n",
    "# index.append(method_name)\n",
    "#\n",
    "# time_table = pd.DataFrame(data, index=index)\n",
    "# print(time_table)\n",
    "#\n",
    "# for (filename, mat) in method_attribution_dict.values():\n",
    "#     mat = np.matrix(mat)\n",
    "#     with open(filename,'wb') as f:\n",
    "#         for line in mat:\n",
    "#             np.savetxt(f, line, fmt='%.2f')\n",
    "#\n"
   ],
   "metadata": {
    "collapsed": false,
    "pycharm": {
     "name": "#%%\n"
    }
   }
  },
  {
   "cell_type": "markdown",
   "source": [
    "Show some examples of explanations"
   ],
   "metadata": {
    "collapsed": false
   }
  },
  {
   "cell_type": "code",
   "execution_count": null,
   "outputs": [],
   "source": [
    "# labels = ['Pregnancies', 'Glucose', 'BloodPressure', 'SkinThickness', 'Insulin',\n",
    "#            'BMI', 'DiabetesPedigreeFunction', 'Age']\n",
    "# colors = [\"blue\", \"pink\", \"red\", \"yellow\", \"green\", \"brown\", \"teal\", \"goldenrod\"]\n",
    "#\n",
    "# fig     = plt.figure(figsize = (15, 15))\n",
    "# rows    = 1\n",
    "# columns = len(attributions)\n",
    "#\n",
    "# for i, method in enumerate(attributions.keys()):\n",
    "#\n",
    "#     ax1 = fig.add_subplot(rows, columns, i+1)\n",
    "#     ax1.set_title(method)\n",
    "#     ax1.set_xlabel(\"Input features\")\n",
    "#     ax1.set_ylabel(\"Attributions\")\n",
    "#     plt.setp(ax1.get_xticklabels(), rotation=45, ha=\"right\",\n",
    "#          rotation_mode=\"anchor\")\n",
    "#     barlist = plt.bar(labels, attributions[method].reshape(-1,), color ='black', width = 0.4)\n",
    "#     for j in range(len(labels)):\n",
    "#         barlist[j].set_color(colors[j])\n",
    "#\n",
    "# plt.show()"
   ],
   "metadata": {
    "collapsed": false,
    "pycharm": {
     "name": "#%%\n"
    }
   }
  },
  {
   "cell_type": "markdown",
   "source": [
    "### Spectral relevance analysis (SpRAy)\n",
    "\n",
    "Explanation techniques enable inspection of the decision process on a single instance\n",
    "basis. SpRAy offers an alternative to efficiently investigate classifier behavior on large datasets, instead of\n",
    "screening through many individual explanations.\n",
    "SpRAy applies (spectral) clustering on a dataset of explanations in order to identify typical, as well as\n",
    "atypical decision behaviors/prediction strategies of the model, and presents them to the user in a\n",
    "concise and interpretable manner.\n",
    "\n",
    "It consists of the next steps:\n",
    "\n",
    "- Step 1: Computation of the explanations for the samples of interest.\n",
    "\n",
    "- Step 2: Downsizing/normalizing of the explanations, and make them uniform in shape and size.\n",
    "\n",
    "- Step 3: Cluster analysis on the explanations.A clustering algorithm is applied to the normalized\n",
    "  explanation.\n",
    "\n",
    "  For example, in eigengap analysis, the eigenvalue spectrum of spectral cluster encodes information about the cluster structure of\n",
    "  the relevance maps. A strong increase in the difference between two successive eigenvalues (eigengap) indicates\n",
    "  well-separated clusters, including atypical classification strategies. The few detected clusters are then presented to\n",
    "  the user for inspection.\n",
    "\n",
    "\n",
    "  **Alternately, the clustering step can be replaced by a low-dimensional embedding step to produce a visual map of the\n",
    "  overall decision structure of the ML model.**\n",
    "\n",
    "- Step 4: Identification of interesting clusters. Examples with the same cluster index can be understood as being\n",
    " associated with some prototypical decision strategy.\n",
    "\n",
    "\n",
    "- Step 5 (Optional): Visualization by t-stochastic neighborhood embedding (t-SNE). This last step is not part of the\n",
    "  analysis strictly speaking, but it's usefull to visualize how SpRAy works."
   ],
   "metadata": {
    "collapsed": false
   }
  },
  {
   "cell_type": "markdown",
   "source": [
    "\n",
    "### SpRAy (with k-means)"
   ],
   "metadata": {
    "collapsed": false
   }
  },
  {
   "cell_type": "markdown",
   "source": [
    "### Load explanations\n",
    "\n",
    "Besides explanations made by LRP and IG, we load explanations of LIME computed in other notebook."
   ],
   "metadata": {
    "collapsed": false
   }
  },
  {
   "cell_type": "code",
   "execution_count": null,
   "outputs": [],
   "source": [
    "method_attribution_dict = {'ig_1': (\"ig_attributtions_1.txt\", 0),\n",
    "                                      'lrp_1': ('lrp_attributions_1.txt', 0),\n",
    "                                      'ig_0': (\"ig_attributtions_0.txt\", 0),\n",
    "                                      'lrp_0': ('lrp_attributions_0.txt', 0),\n",
    "                                      'lime_1': (\"lime_attributtions_1.txt\", 0),\n",
    "                                      'lime_0': ('lime_attributtions_0.txt', 0)}"
   ],
   "metadata": {
    "collapsed": false,
    "pycharm": {
     "name": "#%%\n"
    }
   }
  },
  {
   "cell_type": "code",
   "execution_count": null,
   "outputs": [],
   "source": [
    "for method, (filename, mat) in method_attribution_dict.items():\n",
    "    # Read attribution matrix of method\n",
    "    mat = np.loadtxt(filename, dtype=float)\n",
    "    print(filename + \" dims = \", mat.shape)\n",
    "    method_attribution_dict[method] = (filename, mat)\n"
   ],
   "metadata": {
    "collapsed": false,
    "pycharm": {
     "name": "#%%\n"
    }
   }
  },
  {
   "cell_type": "markdown",
   "source": [
    "Normalize explanations\n",
    "\n",
    "**Note that this above interpretations require that our input data is normalized. Without that, we can’t claim that\n",
    "importance is proportional to weights.**"
   ],
   "metadata": {
    "collapsed": false
   }
  },
  {
   "cell_type": "code",
   "execution_count": null,
   "outputs": [],
   "source": [
    "from sklearn import preprocessing"
   ],
   "metadata": {
    "collapsed": false,
    "pycharm": {
     "name": "#%%\n"
    }
   }
  },
  {
   "cell_type": "code",
   "execution_count": null,
   "outputs": [],
   "source": [
    "for method, (filename, mat) in method_attribution_dict.items():\n",
    "    # Normalize attributions\n",
    "    scaler = preprocessing.StandardScaler().fit(mat)\n",
    "    method_attribution_dict[method] = (filename, scaler.transform(mat))\n"
   ],
   "metadata": {
    "collapsed": false,
    "pycharm": {
     "name": "#%%\n"
    }
   }
  },
  {
   "cell_type": "markdown",
   "source": [
    "Selection of number of clusters by elbow criteria.\n",
    "\n"
   ],
   "metadata": {
    "collapsed": false
   }
  },
  {
   "cell_type": "code",
   "execution_count": null,
   "outputs": [],
   "source": [
    "method_elbow_dict = dict()\n",
    "method_elbow_dict['ig_1'] = 2\n",
    "method_elbow_dict['ig_0'] = 2\n",
    "method_elbow_dict['lrp_1'] = 2\n",
    "method_elbow_dict['lrp_0'] = 2\n",
    "method_elbow_dict['lime_1'] = 2\n",
    "method_elbow_dict['lime_0'] = 2\n",
    "\n",
    "\n",
    "fig     = plt.figure(figsize = (15, 15))\n",
    "rows    = len(method_attribution_dict)\n",
    "columns = 2\n",
    "i = 0\n",
    "\n",
    "for method, (filename, mat) in method_attribution_dict.items():\n",
    "\n",
    "    # Calcule number of clusters using k-means\n",
    "\n",
    "    inertias = []\n",
    "\n",
    "    k_candidates = range(1, 10)\n",
    "\n",
    "    for k in k_candidates:\n",
    "        k_means = KMeans(random_state=42, n_clusters=k)\n",
    "        k_means.fit(mat)\n",
    "        inertias.append(k_means.inertia_)\n",
    "\n",
    "    ax = fig.add_subplot(rows, columns, i+1)\n",
    "\n",
    "    sns.scatterplot(x=k_candidates, y = inertias, s=80, ax=ax)\n",
    "    e = method_elbow_dict[method] - 1\n",
    "    sns.scatterplot(x=[k_candidates[e]], y = [inertias[e]], color=sns_c[3], s=150, ax=ax)\n",
    "    sns.lineplot(x=k_candidates, y = inertias, alpha=0.5, ax=ax)\n",
    "\n",
    "    ax.set(title='Inertia K-Means '+method, ylabel='inertia', xlabel='k')\n",
    "\n",
    "    i += 1\n"
   ],
   "metadata": {
    "collapsed": false,
    "pycharm": {
     "name": "#%%\n"
    }
   }
  },
  {
   "cell_type": "markdown",
   "source": [
    "### Visualization of explanations (PCA + k-means)\n",
    "\n",
    "All the scatterplots show PCA projections of explanations onto firts two principal components.\n",
    "The explanations in a scatterplot correspond only to one method and to one predicted class, e.g.\n",
    "\"ig_1\" is the shorthand for explanations of Integrated gradient (IG), classified as members of class 1\n",
    "by the model.\n",
    "\n",
    "Scatterplots at left are colored by their true class, and the ones at right are colored by k-means\n",
    "cluster.\n",
    "\n",
    "Barplots below are examples of explanations grouped by cluster.\n"
   ],
   "metadata": {
    "collapsed": false
   }
  },
  {
   "cell_type": "code",
   "execution_count": null,
   "outputs": [],
   "source": [
    "sns.set_style('darkgrid')\n",
    "sns.set_palette('muted')\n",
    "sns.set_context(\"notebook\", font_scale=1.5,\n",
    "                rc={\"lines.linewidth\": 2.5})\n",
    "\n",
    "\n",
    "\n",
    "\n",
    "# Utility function to visualize the outputs with t-SNE or PCA\n",
    "\n",
    "# In order to visualize the results of clustering algorithms, fashion_scatter()\n",
    "# function takes two arguments: 1. x, which is a 2-D numpy array containing the output of the\n",
    "# algorithm and 2. colors, which is 1-D numpy array containing the labels of the dataset. The function\n",
    "# will render a scatter plot with as many unique colors as the number of classes in the variable colors.\n",
    "\n",
    "# Utility function to visualize the outputs of PCA and t-SNE\n",
    "\n",
    "def fashion_scatter(x, colors, method):\n",
    "    # choose a color palette with seaborn.\n",
    "    num_classes = len(np.unique(colors))\n",
    "    palette = np.array(sns.color_palette(\"hls\", num_classes))\n",
    "\n",
    "    # create a scatter plot.\n",
    "    f = plt.figure(figsize=(6, 6))\n",
    "    ax = plt.subplot(aspect='equal')\n",
    "    sc = ax.scatter(x[:,0], x[:,1], lw=0, s=40, c=palette[colors.astype(np.int)])\n",
    "    plt.title(method)\n",
    "\n",
    "    # add the labels for each digit corresponding to the label\n",
    "    txts = []\n",
    "\n",
    "    for i in range(num_classes):\n",
    "\n",
    "        # Position of each label at median of data points.\n",
    "        xtext, ytext = np.median(x[colors == i, :], axis=0)\n",
    "        txt = ax.text(xtext, ytext, str(i), fontsize=24)\n",
    "        txt.set_path_effects([\n",
    "            PathEffects.Stroke(linewidth=5, foreground=\"w\"),\n",
    "            PathEffects.Normal()])\n",
    "        txts.append(txt)\n",
    "\n",
    "    return f, ax, sc, txts\n",
    "\n",
    "def get_pca_proj(mat):\n",
    "    \"\"\"Return PCA projection and prints a report of de explained variance\"\"\"\n",
    "    pca = PCA(n_components=4)\n",
    "    pca_result = pca.fit_transform(mat)\n",
    "    pca_df = pd.DataFrame(columns = ['pca1','pca2','pca3','pca4'])\n",
    "\n",
    "    pca_df['pca1'] = pca_result[:,0]\n",
    "    pca_df['pca2'] = pca_result[:,1]\n",
    "    pca_df['pca3'] = pca_result[:,2]\n",
    "    pca_df['pca4'] = pca_result[:,3]\n",
    "\n",
    "    print('Variance explained per principal component: {}'.format(pca.explained_variance_ratio_))\n",
    "\n",
    "    top_two_comp = pca_df[['pca1','pca2']]\n",
    "\n",
    "    return top_two_comp.values\n",
    "\n",
    "def cluster_by_kmeans(mat, n_clusters):\n",
    "    # Clustering\n",
    "    data_df = pd.DataFrame(mat)\n",
    "    k_means = KMeans(random_state=RANDOM_SEED, n_clusters=n_clusters)\n",
    "    k_means.fit(data_df)\n",
    "    clusters = np.array(k_means.predict(data_df))\n",
    "    return clusters"
   ],
   "metadata": {
    "collapsed": false,
    "pycharm": {
     "name": "#%%\n"
    }
   }
  },
  {
   "cell_type": "code",
   "execution_count": null,
   "outputs": [],
   "source": [
    "def add_colored_scatter_plot_to_fig(x, y, colors, rows, columns, n_sub_fig, fig, title):\n",
    "    ax = fig.add_subplot(rows, columns, n_sub_fig)\n",
    "    ax.set_title(title)\n",
    "    sns.scatterplot(x=x, y = y, c=colors, s=80, ax=ax)\n",
    "\n",
    "def clusters_to_colors(clusters):\n",
    "    # choose a color palette with seaborn.\n",
    "    num_classes = len(np.unique(clusters))\n",
    "    palette = np.array(sns.color_palette(\"hls\", num_classes))\n",
    "    return palette[clusters.astype(np.int)]\n",
    "\n",
    "labels = ['Pregnancies', 'Glucose', 'BloodPressure', 'SkinThickness', 'Insulin',\n",
    "               'BMI', 'DiabetesPedigreeFunction', 'Age']\n",
    "bar_colors = [\"blue\", \"pink\", \"red\", \"yellow\", \"green\", \"brown\", \"teal\", \"goldenrod\"]\n",
    "\n",
    "def visualize_some_explanations_by_cluster(method_class, exp, clusters):\n",
    "    \"\"\" for each method -restricted to one prediction class-\n",
    "    and for each cluster in that method-prediction-class\n",
    "    a sample of explanations are presented \"\"\"\n",
    "    colors = clusters_to_colors(clusters)\n",
    "\n",
    "    for i in range(len(np.unique(clusters))):\n",
    "\n",
    "        # get explanations in cluster of interest\n",
    "        idx_interest = np.where(clusters==i)[0]\n",
    "        explanations_in_cluster = exp[idx_interest,:]\n",
    "        colors_of_interest = colors[idx_interest]\n",
    "\n",
    "        # select number of explanations to visualize\n",
    "        n_exp_clus = explanations_in_cluster.shape[0]\n",
    "        n_explanations = min(n_exp_clus, 10)\n",
    "\n",
    "        # select sample of explanations to visualize\n",
    "        idx_interest = np.random.choice(n_exp_clus, n_explanations, replace=False)\n",
    "        explanations_to_visualize = explanations_in_cluster[idx_interest,:]\n",
    "        colors_to_visualize = colors_of_interest[idx_interest]\n",
    "\n",
    "        # Visualization\n",
    "        rows = n_explanations/2 + 1\n",
    "        columns = 2\n",
    "        fig  = plt.figure(figsize = (20, 20))\n",
    "        title_obj = plt.title(method_class+\": examples of explanations in cluster \"+str(i))\n",
    "        plt.setp(title_obj, color=colors_to_visualize[0])\n",
    "\n",
    "        for j in range(n_explanations):\n",
    "            ax1 = fig.add_subplot(rows, columns, j+1)\n",
    "            ax1.set_xlabel(\"Input features\")\n",
    "            ax1.set_ylabel(\"Attributions\")\n",
    "            plt.setp(ax1.get_xticklabels(), rotation=15, ha=\"right\",\n",
    "                 rotation_mode=\"anchor\", fontsize=10)\n",
    "            barlist = plt.bar(labels, explanations_to_visualize[j].reshape(-1,), color ='black', width = 0.4)\n",
    "            for k in range(len(labels)):\n",
    "                barlist[k].set_color(bar_colors[k])\n",
    "    plt.show()\n"
   ],
   "metadata": {
    "collapsed": false,
    "pycharm": {
     "name": "#%%\n"
    }
   }
  },
  {
   "cell_type": "code",
   "execution_count": null,
   "outputs": [],
   "source": [
    "for method, (filename, mat) in method_attribution_dict.items():\n",
    "\n",
    "    rows = 1\n",
    "    cols = 2\n",
    "    fig  = plt.figure(figsize = (30, 10))\n",
    "\n",
    "    proy = get_pca_proj(mat)\n",
    "\n",
    "    if method[-1] == str(0): clusters = real_y_of_0_preds\n",
    "    else:\n",
    "        clusters = real_y_of_1_preds\n",
    "\n",
    "    colors = clusters_to_colors(clusters)\n",
    "\n",
    "\n",
    "    add_colored_scatter_plot_to_fig(proy[:,0], proy[:,1], colors, rows, columns, 1, fig,\n",
    "                                    \" PCA true labels\")\n",
    "    # Clustering\n",
    "    clusters = cluster_by_kmeans(mat, method_elbow_dict[method])\n",
    "\n",
    "    # Clustering visualization\n",
    "    colors = clusters_to_colors(clusters)\n",
    "    add_colored_scatter_plot_to_fig(proy[:,0], proy[:,1], colors, rows, columns, 2, fig,\n",
    "                                    method+\" PCA K-means\")\n",
    "\n",
    "    visualize_some_explanations_by_cluster(method, mat, clusters)\n",
    "\n"
   ],
   "metadata": {
    "collapsed": false,
    "pycharm": {
     "name": "#%%\n"
    }
   }
  },
  {
   "cell_type": "markdown",
   "source": [
    "#### SpRAy with Spectral Clustering (SC)"
   ],
   "metadata": {
    "collapsed": false
   }
  },
  {
   "cell_type": "code",
   "execution_count": null,
   "outputs": [],
   "source": [
    "def generate_graph_laplacian(df, nn):\n",
    "    \"\"\"Generate graph Laplacian from data.\"\"\"\n",
    "    # Adjacency Matrix.\n",
    "    connectivity = kneighbors_graph(X=df, n_neighbors=nn, mode='connectivity')\n",
    "    adjacency_matrix_s = (1/2)*(connectivity + connectivity.T)\n",
    "    # Graph Laplacian.\n",
    "    graph_laplacian_s = sparse.csgraph.laplacian(csgraph=adjacency_matrix_s, normed=False)\n",
    "    graph_laplacian = graph_laplacian_s.toarray()\n",
    "    return graph_laplacian\n",
    "\n",
    "def compute_spectrum_graph_laplacian(graph_laplacian):\n",
    "    \"\"\"Compute eigenvalues and eigenvectors and project\n",
    "    them onto the real numbers.\n",
    "    \"\"\"\n",
    "    eigenvals, eigenvcts = linalg.eig(graph_laplacian)\n",
    "\n",
    "    # Verify eigenvalues are real\n",
    "    print(\"Imaginary values \", np.unique(np.imag(eigenvals)))\n",
    "\n",
    "    eigenvals = np.real(eigenvals)\n",
    "    eigenvcts = np.real(eigenvcts)\n",
    "    return eigenvals, eigenvcts\n",
    "\n",
    "def project_and_transpose(eigenvals, eigenvcts, num_ev):\n",
    "    \"\"\"Select the eigenvectors corresponding to the first\n",
    "    (sorted) num_ev eigenvalues as columns in a data frame.\n",
    "    \"\"\"\n",
    "    eigenvals_sorted_indices = np.argsort(eigenvals)\n",
    "    indices = eigenvals_sorted_indices[: num_ev]\n",
    "\n",
    "    proj_df = pd.DataFrame(eigenvcts[:, indices.squeeze()])\n",
    "    proj_df.columns = ['v_' + str(c) for c in proj_df.columns]\n",
    "    return proj_df\n",
    "\n",
    "def run_k_means(df, n_clusters):\n",
    "    \"\"\"K-means clustering.\"\"\"\n",
    "    k_means = KMeans(random_state=25, n_clusters=n_clusters)\n",
    "    k_means.fit(df)\n",
    "    cluster = k_means.predict(df)\n",
    "    return cluster\n",
    "\n",
    "\n",
    "def clusters_by_spectral_clustering(mat, n_neighbors, n_clusters):\n",
    "    \"\"\"Spectral Clustering Algorithm.\"\"\"\n",
    "    df = pd.DataFrame(mat)\n",
    "    graph_laplacian = generate_graph_laplacian(df, n_neighbors)\n",
    "    eigenvals, eigenvcts = compute_spectrum_graph_laplacian(graph_laplacian)\n",
    "    proj_df = project_and_transpose(eigenvals, eigenvcts, n_clusters)\n",
    "    cluster = run_k_means(proj_df, proj_df.columns.size)\n",
    "\n",
    "    return np.array(cluster)"
   ],
   "metadata": {
    "collapsed": false,
    "pycharm": {
     "name": "#%%\n"
    }
   }
  },
  {
   "cell_type": "markdown",
   "source": [
    "First, we decide perplexity for T-SNE in each set of explanations (associated to LRP, LIME or IG and one predicted class),\n",
    "and the number of clusters for Spectral Clustering.\n"
   ],
   "metadata": {
    "collapsed": false
   }
  },
  {
   "cell_type": "code",
   "execution_count": null,
   "outputs": [],
   "source": [
    "\n",
    "for method, (filename, mat) in method_attribution_dict.items():\n",
    "\n",
    "    perplexitys = [20, 30, 40, 50, 60, 70]\n",
    "    rows = 2\n",
    "    columns = (len(perplexitys)+1)/2\n",
    "    fig  = plt.figure(figsize = (20, 10))\n",
    "\n",
    "    if method[-1] == str(0):\n",
    "        clusters = real_y_of_0_preds\n",
    "    else:\n",
    "        clusters = real_y_of_1_preds\n",
    "\n",
    "    colors = clusters_to_colors(clusters)\n",
    "    plt.title(\"T-SNE on classified as \"+str(method)+\" colored by True label \", y=1.2)\n",
    "    for k, perplexity in enumerate(perplexitys):\n",
    "        proy = TSNE(random_state=RANDOM_SEED, perplexity=perplexity).fit_transform(mat)\n",
    "        add_colored_scatter_plot_to_fig(proy[:,0], proy[:,1], colors, rows, columns, k+1, fig,\n",
    "                                    \" perplexity = \"+str(perplexity))\n",
    "\n"
   ],
   "metadata": {
    "collapsed": false,
    "pycharm": {
     "name": "#%%\n"
    }
   }
  },
  {
   "cell_type": "code",
   "execution_count": null,
   "outputs": [],
   "source": [
    "method_class_perplexitys_clusters_dict = dict()\n",
    "\n",
    "method_class_perplexitys_clusters_dict['lrp_0'] = (30, 2)\n",
    "method_class_perplexitys_clusters_dict['lrp_1'] = (30, 2)\n",
    "\n",
    "method_class_perplexitys_clusters_dict['ig_1'] = (20, 3)\n",
    "method_class_perplexitys_clusters_dict['ig_0'] = (30, 2)\n",
    "\n",
    "method_class_perplexitys_clusters_dict['lime_0'] = (50, 2)\n",
    "method_class_perplexitys_clusters_dict['lime_1'] = (60, 2)\n",
    "\n",
    "\n",
    "method_proy_attribution_labels = dict()\n",
    "for method, (filename, mat) in method_attribution_dict.items():\n",
    "\n",
    "    perplexity = method_class_perplexitys_clusters_dict[method][0]\n",
    "\n",
    "    proy = TSNE(random_state=RANDOM_SEED, perplexity=perplexity).fit_transform(mat)\n",
    "\n",
    "    if method[-1] == str(0): real_labels = real_y_of_0_preds\n",
    "    else:\n",
    "        real_labels = real_y_of_1_preds\n",
    "\n",
    "    method_proy_attribution_labels[method] = (proy, mat, real_labels)"
   ],
   "metadata": {
    "collapsed": false,
    "pycharm": {
     "name": "#%%\n"
    }
   }
  },
  {
   "cell_type": "markdown",
   "source": [
    "Election of number of neighbours for Laplacian graph."
   ],
   "metadata": {
    "collapsed": false
   }
  },
  {
   "cell_type": "code",
   "execution_count": null,
   "outputs": [],
   "source": [
    "for method, (proy, mat, real_labels) in method_proy_attribution_labels.items():\n",
    "\n",
    "    neighbors_opt = [5, 10, 20, 30, 40, 50]\n",
    "    rows = 2\n",
    "    columns = (len(neighbors_opt)+1)/2\n",
    "    fig  = plt.figure(figsize = (20, 10))\n",
    "    plt.title(\"T-SNE on \"+str(method)+\" explanations colored by SC cluster \", y=1.2)\n",
    "\n",
    "    # Clustering\n",
    "    n_clusters = method_class_perplexitys_clusters_dict[method][1]\n",
    "\n",
    "    # Clustering visualization\n",
    "    for k, n_neighbors in enumerate(neighbors_opt):\n",
    "        clusters = clusters_by_spectral_clustering(mat, n_neighbors, n_clusters)\n",
    "        colors = clusters_to_colors(clusters)\n",
    "        add_colored_scatter_plot_to_fig(proy[:,0], proy[:,1], colors, rows, columns, k+1, fig,\n",
    "                                        \"number of neighbors = \"+str(n_neighbors))"
   ],
   "metadata": {
    "collapsed": false,
    "pycharm": {
     "name": "#%%\n"
    }
   }
  },
  {
   "cell_type": "code",
   "execution_count": null,
   "outputs": [],
   "source": [
    "method_class_nneighbors = dict()\n",
    "\n",
    "method_class_nneighbors['lrp_0'] = 30\n",
    "method_class_nneighbors['lrp_1'] = 30\n",
    "\n",
    "method_class_nneighbors['ig_1'] = 30\n",
    "method_class_nneighbors['ig_0'] = 30\n",
    "\n",
    "method_class_nneighbors['lime_0'] = 10\n",
    "method_class_nneighbors['lime_1'] = 5\n"
   ],
   "metadata": {
    "collapsed": false,
    "pycharm": {
     "name": "#%%\n"
    }
   }
  },
  {
   "cell_type": "markdown",
   "source": [
    "### Visualization of explanations (t-SNE + SC)\n",
    "\n",
    "All the scatterplots show T-SNE projections of explanations onto firts two principal components.\n",
    "The explanations in a scatterplot correspond only to one method and to one predicted class, e.g.\n",
    "\"ig_1\" is the shorthand for explanations of Integrated gradient (IG), classified as members of class 1\n",
    "by the model.\n",
    "\n",
    "Scatterplots at left are colored by their true class, and the ones at right are colored by Spectral clustering (SC)\n",
    "cluster.\n",
    "\n",
    "Barplots below are examples of explanations grouped by cluster."
   ],
   "metadata": {
    "collapsed": false
   }
  },
  {
   "cell_type": "code",
   "execution_count": null,
   "outputs": [],
   "source": [
    "for method, (proy, mat, real_labels) in method_proy_attribution_labels.items():\n",
    "\n",
    "    rows = 1\n",
    "    cols = 2\n",
    "    fig  = plt.figure(figsize = (30, 10))\n",
    "\n",
    "    colors = clusters_to_colors(real_labels)\n",
    "    add_colored_scatter_plot_to_fig(proy[:,0], proy[:,1], colors, rows, columns, 1, fig,\n",
    "                                    \"T-SNE on \"+str(method)+\" explanations colored by real labels\")\n",
    "    # Clustering\n",
    "    n_clusters = method_class_perplexitys_clusters_dict[method][1]\n",
    "    n_neighbors = method_class_nneighbors[method]\n",
    "    clusters = clusters_by_spectral_clustering(mat, n_neighbors, n_clusters)\n",
    "\n",
    "    # Clustering visualization\n",
    "    colors = clusters_to_colors(clusters)\n",
    "    add_colored_scatter_plot_to_fig(proy[:,0], proy[:,1], colors, rows, columns, 2, fig,\n",
    "                                    method+\" explanations colored by SC cluster\")\n",
    "\n",
    "    visualize_some_explanations_by_cluster(method, mat, clusters)"
   ],
   "metadata": {
    "collapsed": false,
    "pycharm": {
     "name": "#%%\n"
    }
   }
  },
  {
   "cell_type": "markdown",
   "source": [
    "### Assesing faithfulness\n",
    "\n",
    "It's crucial that the explanations methods we just revised are **faithfull**, i.e:\n",
    "\n",
    "\"The explainer model sufficiently captures the relationship between the complex model predictions and the features in\n",
    "the local region around a prediction of interest to produce explanations that are faithful to the complex model.\"\n",
    "\n",
    "Towards assesing this, we are going to apply XAI methods in a Logistic regression model, which is already\n",
    "interpretable.\n"
   ],
   "metadata": {
    "collapsed": false
   }
  },
  {
   "cell_type": "code",
   "execution_count": null,
   "outputs": [],
   "source": [
    "dataset = loadtxt('pima-indians-diabetes.csv', delimiter=',')\n",
    "# split into input (X) and output (y) variables\n",
    "X = dataset[:,0:8]\n",
    "y = dataset[:,8]\n",
    "\n",
    "means = np.mean(X, axis=0)\n",
    "stds = np.std(X, axis=0)\n",
    "X = (X - means)/stds\n"
   ],
   "metadata": {
    "collapsed": false,
    "pycharm": {
     "name": "#%%\n"
    }
   }
  },
  {
   "cell_type": "code",
   "execution_count": null,
   "outputs": [],
   "source": [
    "# contruct model\n",
    "model = Sequential()\n",
    "model.add(Dense(1, input_dim=8, activation='sigmoid'))\n",
    "model.compile(loss='binary_crossentropy', optimizer='adam', metrics=['accuracy'])\n",
    "model.fit(X, y, epochs=100, batch_size=10)\n",
    "score = model.evaluate(X, y, verbose=0)\n",
    "print('Test loss:', score[0])\n",
    "print('Test accuracy:', score[1])\n",
    "# save model and architecture to single file\n",
    "model.save(\"model_logistic_regression.h5\")\n",
    "print(\"Saved model to disk\")"
   ],
   "metadata": {
    "collapsed": false,
    "pycharm": {
     "name": "#%%\n"
    }
   }
  },
  {
   "cell_type": "code",
   "execution_count": null,
   "outputs": [],
   "source": [
    "# load model\n",
    "model = load_model('model_logistic_regression.h5')\n",
    "model.summary()\n",
    "score = model.evaluate(X, y, verbose=0)\n",
    "print('Test loss:', score[0])\n",
    "print('Test accuracy:', score[1])"
   ],
   "metadata": {
    "collapsed": false,
    "pycharm": {
     "name": "#%%\n"
    }
   }
  },
  {
   "cell_type": "code",
   "execution_count": null,
   "outputs": [],
   "source": [
    "preds = model.predict(X) > 0.5\n",
    "preds = preds.astype(int)\n",
    "real_y_of_0_preds = y[np.where(preds==0)[0]]\n",
    "real_y_of_1_preds = y[np.where(preds==1)[0]]"
   ],
   "metadata": {
    "collapsed": false,
    "pycharm": {
     "name": "#%%\n"
    }
   }
  },
  {
   "cell_type": "markdown",
   "source": [
    "Interpreting the Logistic Model"
   ],
   "metadata": {
    "collapsed": false
   }
  },
  {
   "cell_type": "code",
   "execution_count": null,
   "outputs": [],
   "source": [
    "# Visualization\n",
    "rows = 1\n",
    "columns = 1\n",
    "fig  = plt.figure(figsize = (10, 10))\n",
    "title_obj = plt.title(\"Weight of features in cluster Logistic Regression\")\n",
    "w = model.layers[0].get_weights()\n",
    "coeff = np.array([item.sum() for sublist in w for item in sublist][:-1])\n",
    "\n",
    "ax1 = fig.add_subplot(rows, columns, 1)\n",
    "ax1.set_xlabel(\"Input features\")\n",
    "ax1.set_ylabel(\"Attributions\")\n",
    "plt.setp(ax1.get_xticklabels(), rotation=15, ha=\"right\",\n",
    "     rotation_mode=\"anchor\", fontsize=10)\n",
    "barlist = plt.bar(labels, coeff.reshape(-1,), color ='black', width = 0.4)\n",
    "for k in range(len(labels)):\n",
    "    barlist[k].set_color(bar_colors[k])\n",
    "plt.show()"
   ],
   "metadata": {
    "collapsed": false,
    "pycharm": {
     "name": "#%%\n"
    }
   }
  },
  {
   "cell_type": "code",
   "execution_count": null,
   "outputs": [],
   "source": [
    "data = []\n",
    "index = []\n",
    "\n",
    "\n",
    "n_1_class = np.count_nonzero(preds)\n",
    "n_0_class = len(preds)-n_1_class\n",
    "n_explanations = X.shape[0]\n",
    "\n",
    "eX_1_lrp = np.zeros((n_1_class,8))\n",
    "eX_0_lrp = np.zeros((n_0_class,8))\n",
    "eX_1_ig = np.zeros((n_1_class,8))\n",
    "eX_0_ig = np.zeros((n_0_class,8))\n",
    "\n",
    "\n",
    "method_attribution_dict = {'ig_1': (\"lr_ig_attributtions_1.txt\", eX_1_ig),\n",
    "                                      'lrp_1': ('lr_lrp_attributions_1.txt', eX_1_lrp),\n",
    "                                      'ig_0': (\"lr_ig_attributtions_0.txt\", eX_0_ig),\n",
    "                                      'lrp_0': ('lr_lrp_attributions_0.txt', eX_0_lrp)}"
   ],
   "metadata": {
    "collapsed": false,
    "pycharm": {
     "name": "#%%\n"
    }
   }
  },
  {
   "cell_type": "code",
   "execution_count": null,
   "outputs": [],
   "source": [
    "# Statistics\n",
    "times_lrp = np.ndarray((n_explanations,))\n",
    "times_ig = np.ndarray((n_explanations,))\n",
    "\n",
    "# Counters of explanations per class\n",
    "j_0 = 0\n",
    "j_1 = 0\n",
    "\n",
    "for i in range(n_explanations):\n",
    "\n",
    "    # input to explain\n",
    "    xs = X[[i]]\n",
    "\n",
    "    # For dividing explanations for SpRAy\n",
    "    x_class = preds[i]\n",
    "\n",
    "    # Explanations\n",
    "    with DeepExplain(session=K.get_session()) as de:\n",
    "\n",
    "        # Need to reconstruct the graph in DeepExplain context, using the same weights.\n",
    "        # With Keras this is very easy:\n",
    "        # 1. Get the input tensor to the original model\n",
    "        input_tensor = model.layers[0].input\n",
    "\n",
    "        # 2. We now target the output of the last dense layer (pre-softmax)\n",
    "        # To do so, create a new model sharing the same layers untill the last dense (index -2)\n",
    "        fModel = Model(inputs=input_tensor, outputs = model.layers[-1].output)\n",
    "        target_tensor = fModel(input_tensor)\n",
    "\n",
    "        # method 1\n",
    "\n",
    "        # parameters\n",
    "        arg = 100\n",
    "        method_name = 'IG'\n",
    "\n",
    "        # explanations\n",
    "        begin = time.time()\n",
    "        explanation = de.explain('intgrad', target_tensor, input_tensor, xs, steps=arg)\n",
    "        time.sleep(1)\n",
    "        end = time.time()\n",
    "\n",
    "        # records\n",
    "        times_ig[i] = end - begin\n",
    "\n",
    "        if x_class == 0:\n",
    "            eX_0_ig[j_0] = explanation\n",
    "        else:\n",
    "            eX_1_ig[j_1] = explanation\n",
    "\n",
    "\n",
    "        # method 2\n",
    "\n",
    "        # parameters\n",
    "        arg = 0.0001\n",
    "        method_name = 'LRP'\n",
    "\n",
    "        # explanation\n",
    "        begin = time.time()\n",
    "        explanation = de.explain('elrp', target_tensor, input_tensor, xs, epsilon=arg)\n",
    "        time.sleep(1)\n",
    "        end = time.time()\n",
    "\n",
    "        # record\n",
    "        if x_class == 0:\n",
    "            eX_0_lrp[j_0] = explanation\n",
    "            j_0 += 1\n",
    "        else:\n",
    "            eX_1_lrp[j_1] = explanation\n",
    "            j_1 += 1\n",
    "\n",
    "        times_lrp[i] = end - begin"
   ],
   "metadata": {
    "collapsed": false,
    "pycharm": {
     "name": "#%%\n"
    }
   }
  },
  {
   "cell_type": "markdown",
   "source": [
    "Save explanations and report running time"
   ],
   "metadata": {
    "collapsed": false
   }
  },
  {
   "cell_type": "code",
   "execution_count": null,
   "outputs": [],
   "source": [
    "method_name = 'IG'\n",
    "method_dict = {\"Mean time\": times_ig.mean()}\n",
    "data.append(method_dict)\n",
    "index.append(method_name)\n",
    "\n",
    "method_name = 'LRP'\n",
    "method_dict = {\"Mean time\": times_lrp.mean()}\n",
    "data.append(method_dict)\n",
    "index.append(method_name)\n",
    "\n",
    "time_table = pd.DataFrame(data, index=index)\n",
    "print(time_table)\n",
    "\n",
    "for (filename, mat) in method_attribution_dict.values():\n",
    "    mat = np.matrix(mat)\n",
    "    with open(filename,'wb') as f:\n",
    "        for line in mat:\n",
    "            np.savetxt(f, line, fmt='%.2f')"
   ],
   "metadata": {
    "collapsed": false,
    "pycharm": {
     "name": "#%%\n"
    }
   }
  },
  {
   "cell_type": "markdown",
   "source": [
    "### SpRAy"
   ],
   "metadata": {
    "collapsed": false
   }
  },
  {
   "cell_type": "code",
   "execution_count": null,
   "outputs": [],
   "source": [
    "\n",
    "for method, (filename, mat) in method_attribution_dict.items():\n",
    "\n",
    "    perplexitys = [10, 20, 30, 40, 50, 60, 80]\n",
    "    rows = 2\n",
    "    columns = (len(perplexitys)+1)/2\n",
    "    fig  = plt.figure(figsize = (20, 10))\n",
    "\n",
    "    if method[-1] == str(0):\n",
    "        clusters = real_y_of_0_preds\n",
    "    else:\n",
    "        clusters = real_y_of_1_preds\n",
    "\n",
    "    colors = clusters_to_colors(clusters)\n",
    "    plt.title(\"T-SNE on classified as \"+str(method)+\" colored by True label \", y=1.2)\n",
    "    for k, perplexity in enumerate(perplexitys):\n",
    "        proy = TSNE(random_state=RANDOM_SEED, perplexity=perplexity).fit_transform(mat)\n",
    "        add_colored_scatter_plot_to_fig(proy[:,0], proy[:,1], colors, rows, columns, k+1, fig,\n",
    "                                    \" perplexity = \"+str(perplexity))\n",
    "\n"
   ],
   "metadata": {
    "collapsed": false,
    "pycharm": {
     "name": "#%%\n"
    }
   }
  },
  {
   "cell_type": "code",
   "execution_count": null,
   "outputs": [],
   "source": [
    "method_class_perplexitys_clusters_dict = dict()\n",
    "\n",
    "method_class_perplexitys_clusters_dict['lrp_0'] = (80, 2)\n",
    "method_class_perplexitys_clusters_dict['lrp_1'] = (90, 2)\n",
    "\n",
    "method_class_perplexitys_clusters_dict['ig_1'] = (50, 2)\n",
    "method_class_perplexitys_clusters_dict['ig_0'] = (80, 2)\n",
    "\n",
    "# method_class_perplexitys_clusters_dict['lime_0'] = (50, 2)\n",
    "# method_class_perplexitys_clusters_dict['lime_1'] = (60, 2)\n",
    "\n",
    "\n",
    "method_proy_attribution_labels = dict()\n",
    "for method, (filename, mat) in method_attribution_dict.items():\n",
    "\n",
    "    perplexity = method_class_perplexitys_clusters_dict[method][0]\n",
    "\n",
    "    proy = TSNE(random_state=RANDOM_SEED, perplexity=perplexity).fit_transform(mat)\n",
    "\n",
    "    if method[-1] == str(0): real_labels = real_y_of_0_preds\n",
    "    else:\n",
    "        real_labels = real_y_of_1_preds\n",
    "\n",
    "    method_proy_attribution_labels[method] = (proy, mat, real_labels)"
   ],
   "metadata": {
    "collapsed": false,
    "pycharm": {
     "name": "#%%\n"
    }
   }
  },
  {
   "cell_type": "markdown",
   "source": [
    "Election of number of neighbours for Laplacian graph."
   ],
   "metadata": {
    "collapsed": false
   }
  },
  {
   "cell_type": "code",
   "execution_count": null,
   "outputs": [],
   "source": [
    "for method, (proy, mat, real_labels) in method_proy_attribution_labels.items():\n",
    "\n",
    "    neighbors_opt = [5, 10, 20, 30, 40, 50]\n",
    "    rows = 2\n",
    "    columns = (len(neighbors_opt)+1)/2\n",
    "    fig  = plt.figure(figsize = (20, 10))\n",
    "    plt.title(\"T-SNE on \"+str(method)+\" explanations colored by SC cluster \", y=1.2)\n",
    "\n",
    "    # Clustering\n",
    "    n_clusters = method_class_perplexitys_clusters_dict[method][1]\n",
    "\n",
    "    # Clustering visualization\n",
    "    for k, n_neighbors in enumerate(neighbors_opt):\n",
    "        clusters = clusters_by_spectral_clustering(mat, n_neighbors, n_clusters)\n",
    "        colors = clusters_to_colors(clusters)\n",
    "        add_colored_scatter_plot_to_fig(proy[:,0], proy[:,1], colors, rows, columns, k+1, fig,\n",
    "                                        \"number of neighbors = \"+str(n_neighbors))"
   ],
   "metadata": {
    "collapsed": false,
    "pycharm": {
     "name": "#%%\n"
    }
   }
  },
  {
   "cell_type": "code",
   "execution_count": null,
   "outputs": [],
   "source": [
    "method_class_nneighbors = dict()\n",
    "\n",
    "method_class_nneighbors['lrp_0'] = 30\n",
    "method_class_nneighbors['lrp_1'] = 10\n",
    "\n",
    "method_class_nneighbors['ig_1'] = 20\n",
    "method_class_nneighbors['ig_0'] = 10\n",
    "\n",
    "# method_class_nneighbors['lime_0'] = 10\n",
    "# method_class_nneighbors['lime_1'] = 5\n"
   ],
   "metadata": {
    "collapsed": false,
    "pycharm": {
     "name": "#%%\n"
    }
   }
  },
  {
   "cell_type": "markdown",
   "source": [
    "### Visualization of explanations (t-SNE + SC)\n",
    "\n",
    "All the scatterplots show T-SNE projections of explanations onto firts two principal components.\n",
    "The explanations in a scatterplot correspond only to one method and to one predicted class, e.g.\n",
    "\"ig_1\" is the shorthand for explanations of Integrated gradient (IG), classified as members of class 1\n",
    "by the model.\n",
    "\n",
    "Scatterplots at left are colored by their true class, and the ones at right are colored by Spectral clustering (SC)\n",
    "cluster.\n",
    "\n",
    "Barplots below are examples of explanations grouped by cluster."
   ],
   "metadata": {
    "collapsed": false
   }
  },
  {
   "cell_type": "code",
   "execution_count": null,
   "outputs": [],
   "source": [
    "for method, (proy, mat, real_labels) in method_proy_attribution_labels.items():\n",
    "\n",
    "    rows = 1\n",
    "    cols = 2\n",
    "    fig  = plt.figure(figsize = (30, 10))\n",
    "\n",
    "    colors = clusters_to_colors(real_labels)\n",
    "    add_colored_scatter_plot_to_fig(proy[:,0], proy[:,1], colors, rows, columns, 1, fig,\n",
    "                                    \"T-SNE on \"+str(method)+\" explanations colored by real labels\")\n",
    "    # Clustering\n",
    "    n_clusters = method_class_perplexitys_clusters_dict[method][1]\n",
    "    n_neighbors = method_class_nneighbors[method]\n",
    "    clusters = clusters_by_spectral_clustering(mat, n_neighbors, n_clusters)\n",
    "\n",
    "    # Clustering visualization\n",
    "    colors = clusters_to_colors(clusters)\n",
    "    add_colored_scatter_plot_to_fig(proy[:,0], proy[:,1], colors, rows, columns, 2, fig,\n",
    "                                    method+\" explanations colored by SC cluster\")\n",
    "\n",
    "    visualize_some_explanations_by_cluster(method, mat, clusters)\n",
    "\n"
   ],
   "metadata": {
    "collapsed": false,
    "pycharm": {
     "name": "#%%\n"
    }
   }
  }
 ],
 "metadata": {
  "kernelspec": {
   "name": "xai",
   "language": "python",
   "display_name": "xai"
  },
  "language_info": {
   "codemirror_mode": {
    "name": "ipython",
    "version": 2
   },
   "file_extension": ".py",
   "mimetype": "text/x-python",
   "name": "python",
   "nbconvert_exporter": "python",
   "pygments_lexer": "ipython2",
   "version": "2.7.6"
  }
 },
 "nbformat": 4,
 "nbformat_minor": 0
}