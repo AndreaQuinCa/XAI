﻿{
 "cells": [
  {
   "cell_type": "markdown",
   "metadata": {
    "collapsed": true
   },
   "source": [
    "## DeepExplain - Tensorflow example\n",
    "### MNIST with a 2-layers MLP"
   ]
  },
  {
   "cell_type": "code",
   "execution_count": 2,
   "metadata": {
    "collapsed": false
   },
   "outputs": [
    {
     "name": "stdout",
     "output_type": "stream",
     "text": [
      "Extracting /tmp/train-images-idx3-ubyte.gz\n",
      "Extracting /tmp/train-labels-idx1-ubyte.gz\n",
      "Extracting /tmp/t10k-images-idx3-ubyte.gz\n",
      "Extracting /tmp/t10k-labels-idx1-ubyte.gz\n"
     ]
    }
   ],
   "source": [
    "from __future__ import absolute_import\n",
    "from __future__ import division\n",
    "from __future__ import print_function\n",
    "\n",
    "import tempfile, sys, os\n",
    "sys.path.insert(0, os.path.abspath('..'))\n",
    "import time\n",
    "import numpy as np\n",
    "import pandas as pd\n",
    "import tensorflow as tf\n",
    "from tensorflow.examples.tutorials.mnist import input_data\n",
    "\n",
    "\n",
    "# Download and import MNIST data\n",
    "tmp_dir = tempfile.gettempdir()\n",
    "mnist = input_data.read_data_sets(tmp_dir, one_hot=True)\n",
    "\n",
    "\n",
    "# seeds\n",
    "seed = 111\n",
    "np.random.seed(seed)\n",
    "\n",
    "# Parameters\n",
    "learning_rate = 0.005\n",
    "num_steps = 2000\n",
    "batch_size = 128\n",
    "\n",
    "# Network Parameters\n",
    "n_hidden_1 = 256 # 1st layer number of neurons\n",
    "n_hidden_2 = 256 # 2nd layer number of neurons\n",
    "num_input = 784 # MNIST data input (img shape: 28*28)\n",
    "num_classes = 10 # MNIST total classes (0-9 digits)\n",
    "\n",
    "# tf Graph input\n",
    "X = tf.placeholder(\"float\", [None, num_input])\n",
    "Y = tf.placeholder(\"float\", [None, num_classes])\n",
    "\n",
    "# Store layers weight & bias\n",
    "weights = {\n",
    "    'h1': tf.Variable(tf.random_normal([num_input, n_hidden_1], mean=0.0, stddev=0.05)),\n",
    "    'h2': tf.Variable(tf.random_normal([n_hidden_1, n_hidden_2], mean=0.0, stddev=0.05)),\n",
    "    'out': tf.Variable(tf.random_normal([n_hidden_2, num_classes], mean=0.0, stddev=0.05))\n",
    "}\n",
    "biases = {\n",
    "    'b1': tf.Variable(tf.zeros([n_hidden_1])),\n",
    "    'b2': tf.Variable(tf.zeros([n_hidden_2])),\n",
    "    'out': tf.Variable(tf.zeros([num_classes]))\n",
    "}"
   ]
  },
  {
   "cell_type": "code",
   "execution_count": 3,
   "metadata": {
    "collapsed": false
   },
   "outputs": [
    {
     "name": "stdout",
     "output_type": "stream",
     "text": [
      "Step 1, Minibatch Loss= 3.7481, Training Accuracy= 0.164\n",
      "Step 100, Minibatch Loss= 0.3006, Training Accuracy= 0.906\n",
      "Step 200, Minibatch Loss= 0.2352, Training Accuracy= 0.922\n",
      "Step 300, Minibatch Loss= 0.1747, Training Accuracy= 0.930\n",
      "Step 400, Minibatch Loss= 0.1552, Training Accuracy= 0.945\n",
      "Step 500, Minibatch Loss= 0.2087, Training Accuracy= 0.945\n",
      "Step 600, Minibatch Loss= 0.1349, Training Accuracy= 0.969\n",
      "Step 700, Minibatch Loss= 0.2563, Training Accuracy= 0.953\n",
      "Step 800, Minibatch Loss= 0.0776, Training Accuracy= 0.977\n",
      "Step 900, Minibatch Loss= 0.1064, Training Accuracy= 0.977\n",
      "Step 1000, Minibatch Loss= 0.2015, Training Accuracy= 0.945\n",
      "Step 1100, Minibatch Loss= 0.1276, Training Accuracy= 0.977\n",
      "Step 1200, Minibatch Loss= 0.1072, Training Accuracy= 0.953\n",
      "Step 1300, Minibatch Loss= 0.0501, Training Accuracy= 0.984\n",
      "Step 1400, Minibatch Loss= 0.0811, Training Accuracy= 0.969\n",
      "Step 1500, Minibatch Loss= 0.1193, Training Accuracy= 0.969\n",
      "Step 1600, Minibatch Loss= 0.0683, Training Accuracy= 0.984\n",
      "Step 1700, Minibatch Loss= 0.1105, Training Accuracy= 0.961\n",
      "Step 1800, Minibatch Loss= 0.0509, Training Accuracy= 0.977\n",
      "Step 1900, Minibatch Loss= 0.1160, Training Accuracy= 0.969\n",
      "Step 2000, Minibatch Loss= 0.1076, Training Accuracy= 0.953\n",
      "Done\n",
      "Test accuracy: 0.9586\n"
     ]
    }
   ],
   "source": [
    "# Create and train model\n",
    "def model(x, act=tf.nn.relu):  # < different activation functions lead to different explanations\n",
    "    layer_1 = act(tf.add(tf.matmul(x, weights['h1']), biases['b1']))\n",
    "    layer_2 = act(tf.add(tf.matmul(layer_1, weights['h2']), biases['b2']))\n",
    "    out_layer = tf.matmul(layer_2, weights['out']) + biases['out']\n",
    "    return out_layer\n",
    "\n",
    "# Construct model\n",
    "logits = model(X)\n",
    "\n",
    "# Define loss and optimizer\n",
    "loss_op = tf.reduce_mean(tf.nn.softmax_cross_entropy_with_logits(\n",
    "    logits=logits, labels=Y))\n",
    "optimizer = tf.train.AdamOptimizer(learning_rate=learning_rate)\n",
    "train_op = optimizer.minimize(loss_op)\n",
    "\n",
    "# Evaluate model (with test logits, for dropout to be disabled)\n",
    "correct_pred = tf.equal(tf.argmax(logits, 1), tf.argmax(Y, 1))\n",
    "accuracy = tf.reduce_mean(tf.cast(correct_pred, tf.float32))\n",
    "\n",
    "# Initialize the variables (i.e. assign their default value)\n",
    "init = tf.global_variables_initializer()\n",
    "\n",
    "# Train\n",
    "def input_transform (x): \n",
    "    return (x - 0.5) *  2\n",
    "\n",
    "sess = tf.Session()\n",
    "\n",
    "# Run the initializer\n",
    "sess.run(init)\n",
    "\n",
    "for step in range(1, num_steps+1):\n",
    "    batch_x, batch_y = mnist.train.next_batch(batch_size)\n",
    "    batch_x = input_transform(batch_x)\n",
    "    # Run optimization op (backprop)\n",
    "    sess.run(train_op, feed_dict={X: batch_x, Y: batch_y})\n",
    "    if step % 100 == 0 or step == 1:\n",
    "        # Calculate batch loss and accuracy\n",
    "        loss, acc = sess.run([loss_op, accuracy], feed_dict={X: batch_x,\n",
    "                                                             Y: batch_y})\n",
    "        print(\"Step \" + str(step) + \", Minibatch Loss= \" + \\\n",
    "              \"{:.4f}\".format(loss) + \", Training Accuracy= \" + \\\n",
    "              \"{:.3f}\".format(acc))\n",
    "\n",
    "print(\"Done\")\n",
    "\n",
    "# Calculate accuracy for MNIST test images\n",
    "test_x = input_transform(mnist.test.images)\n",
    "test_y = mnist.test.labels\n",
    "\n",
    "print(\"Test accuracy:\", \\\n",
    "    sess.run(accuracy, feed_dict={X: test_x, Y: test_y}))"
   ]
  },
  {
   "cell_type": "markdown",
   "metadata": {},
   "source": [
    "### Use DeepExplain to find attributions for each input pixel"
   ]
  },
  {
   "cell_type": "code",
   "execution_count": 5,
   "metadata": {
    "collapsed": false
   },
   "outputs": [],
   "source": [
    "# Import DeepExplain\n",
    "from deepexplain.tensorflow import DeepExplain\n",
    "from utils import plot, plt\n",
    "%matplotlib inline"
   ]
  },
  {
   "cell_type": "markdown",
   "source": [
    "### Integrated gradient\n",
    "\n",
    "#### Description\n",
    "Suppose we have a function $F:$ $\\mathrm{R}^{n} \\rightarrow[0,1]$ that represents a deep network,\n",
    "and an input $x=\\left(x_{1}, \\ldots, x_{n}\\right) \\in \\mathrm{R}^{n} .$\n",
    "An attribution of the prediction at input $x$ relative to a baseline input $x^{\\prime}$\n",
    "\n",
    "is a vector $A_{F}\\left(x, x^{\\prime}\\right)=\\left(a_{1}, \\ldots, a_{n}\\right) \\in \\mathrm{R}^{n}$\n",
    "\n",
    "where $a_{i}$ is the contribution of $x_{i}$ to the prediction $F(x)$.\n",
    "\n",
    "$a_{i}(x)::=\\left(x_{i}-x_{i}^{\\prime}\\right) \\times \\int_{\\alpha=0}^{1}\n",
    "\\frac{\\partial F\\left(x^{\\prime}+\\alpha \\times\\left(x-x^{\\prime}\\right)\\right)}{\\partial x_{i}} d \\alpha$\n",
    "\n",
    "#### Baselines\n",
    "The need for the baseline stems because when we assign blame to a certain cause we implicitly consider\n",
    "the absence of the cause as a baseline for comparing outcomes. In a deep network, we model the absence using a single\n",
    "baseline input.\n",
    "\n",
    "For most deep networks, it is possible to choose a baseline such that the prediction at the baseline is near\n",
    "zero $\\left(F\\left(x^{\\prime}\\right) \\approx 0\\right)$.\n",
    "(For image models, the black image baseline indeed satisfies this property.)\n",
    "In such cases, there is an intepretation of the resulting attributions that ignores the baseline and amounts\n",
    "to distributing the output to the individual input features.\n",
    "\n",
    "#### Some properties\n",
    "This method satisfies:\n",
    " - Sensitivity: if for every input and baseline that differ in one feature but have different predictions\n",
    " then the differing feature should be given a non-zero attribution.\n",
    " - Implementation Invariance: the attributions are always identical for two functionally equivalent networks.\n",
    " Two networks are functionally equivalent if their outputs are equal for all inputs, despite having very\n",
    " different implementations.\n",
    " - Completeness: attributions add up to the difference between the output of $F$ at the input\n",
    " $x$ and the baseline $x^{\\prime}$.\n",
    " - Integrated gradients produce very fine pixelwise explanations containing\n",
    " both substantial amounts of evidence in favor and against.\n",
    "\n",
    "The integral of integrated gradients can be efficiently approximated via a summation.\n",
    "We simply sum the gradients at points occurring at sufficiently small intervals along the straightline path\n",
    "from the baseline $x^{\\prime}$ to the input $x$.\n",
    "$a_{i}^{\\text {approx }}(x)::= \\left(x_{i}-x_{i}^{\\prime}\\right) \\times\n",
    "\\Sigma_{k=1}^{m} \\frac{\\left.\\partial F\\left(x^{\\prime}+\\frac{k}{m}\n",
    "\\times\\left(x-x^{\\prime}\\right)\\right)\\right)}{\\partial x_{i}} \\times \\frac{1}{m}$\n",
    "\n",
    "Whilst the number of steps increase, the approximations get better, but the computational cost aso increase.\n",
    "In practice, it has been found that somewhere between 20 and 300 steps are enough to approximate it.\n"
   ],
   "metadata": {
    "collapsed": false
   }
  },
  {
   "cell_type": "code",
   "execution_count": 6,
   "outputs": [
    {
     "name": "stderr",
     "output_type": "stream",
     "text": [
      "/home/andrea/anaconda3/envs/xai/lib/python2.7/site-packages/skimage/transform/_warps.py:24: UserWarning: The default multichannel argument (None) is deprecated.  Please specify either True or False explicitly.  multichannel will default to False starting with release 0.16.\n",
      "  warn('The default multichannel argument (None) is deprecated.  Please '\n",
      "/home/andrea/anaconda3/envs/xai/lib/python2.7/site-packages/skimage/transform/_warps.py:110: UserWarning: Anti-aliasing will be enabled by default in skimage 0.15 to avoid aliasing artifacts when down-sampling images.\n",
      "  warn(\"Anti-aliasing will be enabled by default in skimage 0.15 to \"\n"
     ]
    },
    {
     "data": {
      "text/plain": "                       Time\nIG stepsize = 10   1.038134\nIG stepsize = 100  1.116985\nIG stepsize = 300  1.185889",
      "text/html": "<div>\n<style scoped>\n    .dataframe tbody tr th:only-of-type {\n        vertical-align: middle;\n    }\n\n    .dataframe tbody tr th {\n        vertical-align: top;\n    }\n\n    .dataframe thead th {\n        text-align: right;\n    }\n</style>\n<table border=\"1\" class=\"dataframe\">\n  <thead>\n    <tr style=\"text-align: right;\">\n      <th></th>\n      <th>Time</th>\n    </tr>\n  </thead>\n  <tbody>\n    <tr>\n      <th>IG stepsize = 10</th>\n      <td>1.038134</td>\n    </tr>\n    <tr>\n      <th>IG stepsize = 100</th>\n      <td>1.116985</td>\n    </tr>\n    <tr>\n      <th>IG stepsize = 300</th>\n      <td>1.185889</td>\n    </tr>\n  </tbody>\n</table>\n</div>"
     },
     "execution_count": 6,
     "metadata": {},
     "output_type": "execute_result"
    },
    {
     "data": {
      "image/png": "[encoded data removed]",
      "text/plain": "<Figure size 864x216 with 4 Axes>"
     },
     "metadata": {
      "needs_background": "light"
     },
     "output_type": "display_data"
    }
   ],
   "source": [
    "# Define the input to be tested\n",
    "test_idx = 0\n",
    "xi = test_x[[test_idx]]\n",
    "yi = test_y[test_idx]\n",
    "\n",
    "data = []\n",
    "index = []\n",
    "with DeepExplain(session=sess) as de:\n",
    "    logits = model(X)\n",
    "    # We run `explain()` several time to compare different attribution methods\n",
    "    attributions = dict()\n",
    "\n",
    "    # method 1\n",
    "    method_name = 'IG stepsize = 10'\n",
    "    begin = time.time()\n",
    "    explanation = de.explain('intgrad', logits * yi, X, xi, steps=10)\n",
    "    time.sleep(1)\n",
    "    end = time.time()\n",
    "    method_dict = {\"Time\": end - begin}\n",
    "    data.append(method_dict)\n",
    "    index.append(method_name)\n",
    "    attributions[method_name] = explanation\n",
    "\n",
    "    # method 2\n",
    "    method_name = 'IG stepsize = 100'\n",
    "    begin = time.time()\n",
    "    explanation = de.explain('intgrad', logits * yi, X, xi, steps=100)\n",
    "    time.sleep(1)\n",
    "    end = time.time()\n",
    "    method_dict = {\"Time\": end - begin}\n",
    "    data.append(method_dict)\n",
    "    index.append(method_name)\n",
    "    attributions[method_name] = explanation\n",
    "\n",
    "    # method 3\n",
    "    method_name = 'IG stepsize = 300'\n",
    "    begin = time.time()\n",
    "    explanation = de.explain('intgrad', logits * yi, X, xi, steps=300)\n",
    "    time.sleep(1)\n",
    "    end = time.time()\n",
    "    method_dict = {\"Time\": end - begin}\n",
    "    data.append(method_dict)\n",
    "    index.append(method_name)\n",
    "    attributions[method_name] = explanation\n",
    "\n",
    "# Plot attributions\n",
    "n_cols = len(attributions) + 1\n",
    "fig, axes = plt.subplots(nrows=1, ncols=n_cols, figsize=(3*n_cols, 3))\n",
    "plot(xi.reshape(28, 28), cmap='Greys', axis=axes[0]).set_title('Original')\n",
    "for i, method_name in enumerate(sorted(attributions.keys())):\n",
    "    plot(attributions[method_name].reshape(28,28), xi = xi.reshape(28, 28), axis=axes[1+i]).set_title(method_name)"
   ],
   "metadata": {
    "collapsed": false,
    "pycharm": {
     "name": "#%%\n"
    }
   }
  },
  {
   "cell_type": "code",
   "execution_count": null,
   "outputs": [],
   "source": [
    "time_table = pd.DataFrame(data, index=index)\n",
    "time_table"
   ],
   "metadata": {
    "collapsed": false,
    "pycharm": {
     "name": "#%%\n"
    }
   }
  },
  {
   "cell_type": "markdown",
   "source": [
    "### Occlusion\n",
    "\n",
    "#### Description\n",
    "It is a pertubration-based attribution method. Attempts to check if a classification model is truly identifying\n",
    "the location of the object in the image by systematically occluding different portions of the input image with a\n",
    "grey square, and monitoring the output of the classifier.\n",
    "\n",
    "\n",
    "#### Some properties\n",
    "- Occlusion-based explanations are the easiest to implement.\n",
    "\n",
    "- These explanations can be obtained for any neural network, even those that are not differentiable.\n",
    "This also includes networks for which we do not have the source code and where we can only access their prediction.\n",
    "\n",
    "- Are coarse and indicate relevant regions rather than the relevant pixel features.\n",
    "\n",
    "TODO: revisar su conexión con Shapley values y si es el mecanismo ideal, pero no es viable en varios ejemplos\n",
    "por su costo computacional.\n"
   ],
   "metadata": {
    "collapsed": false
   }
  },
  {
   "cell_type": "code",
   "execution_count": 18,
   "outputs": [
    {
     "data": {
      "image/png": "[encoded data removed]",
      "text/plain": "<Figure size 864x216 with 4 Axes>"
     },
     "metadata": {
      "needs_background": "light"
     },
     "output_type": "display_data"
    }
   ],
   "source": [
    "\n",
    "# Define the input to be tested\n",
    "test_idx = 0\n",
    "xi = test_x[[test_idx]]\n",
    "yi = test_y[test_idx]\n",
    "\n",
    "# For time statistics\n",
    "data = []\n",
    "index = []\n",
    "\n",
    "with DeepExplain(session=sess) as de:\n",
    "    logits = model(X)\n",
    "    attributions = dict()\n",
    "\n",
    "    # method 1\n",
    "    method_name = 'Occlusion [1x1]'\n",
    "    begin = time.time()\n",
    "    explanation = de.explain('occlusion', logits * yi, X, xi)\n",
    "    time.sleep(1)\n",
    "    end = time.time()\n",
    "    method_dict = {\"Time\": end - begin}\n",
    "    data.append(method_dict)\n",
    "    index.append(method_name)\n",
    "    attributions[method_name] = explanation\n",
    "\n",
    "    # method 2\n",
    "    method_name = 'Occlusion [3x3]'\n",
    "    begin = time.time()\n",
    "    explanation = de.explain('occlusion', logits * yi, X, xi, window_shape=(3,))\n",
    "    time.sleep(1)\n",
    "    end = time.time()\n",
    "    method_dict = {\"Time\": end - begin}\n",
    "    data.append(method_dict)\n",
    "    index.append(method_name)\n",
    "    attributions[method_name] = explanation\n",
    "\n",
    "    # method 3\n",
    "    method_name = 'Occlusion [9x9]'\n",
    "    begin = time.time()\n",
    "    explanation = de.explain('occlusion', logits * yi, X, xi, window_shape=(9,))\n",
    "    time.sleep(1)\n",
    "    end = time.time()\n",
    "    method_dict = {\"Time\": end - begin}\n",
    "    data.append(method_dict)\n",
    "    index.append(method_name)\n",
    "    attributions[method_name] = explanation\n",
    "\n",
    "# Plot attributions\n",
    "n_cols = len(attributions) + 1\n",
    "fig, axes = plt.subplots(nrows=1, ncols=n_cols, figsize=(3*n_cols, 3))\n",
    "plot(xi.reshape(28, 28), cmap='Greys', axis=axes[0]).set_title('Original')\n",
    "for i, method_name in enumerate(sorted(attributions.keys())):\n",
    "    plot(attributions[method_name].reshape(28,28), xi = xi.reshape(28, 28), axis=axes[1+i]).set_title(method_name)"
   ],
   "metadata": {
    "collapsed": false,
    "pycharm": {
     "name": "#%%\n"
    }
   }
  },
  {
   "cell_type": "code",
   "execution_count": 11,
   "outputs": [
    {
     "data": {
      "text/plain": "                      Time\n_Occlusion [1x1]  1.390932\n_Occlusion [3x3]  1.345611\n_Occlusion [9x9]  1.361957",
      "text/html": "<div>\n<style scoped>\n    .dataframe tbody tr th:only-of-type {\n        vertical-align: middle;\n    }\n\n    .dataframe tbody tr th {\n        vertical-align: top;\n    }\n\n    .dataframe thead th {\n        text-align: right;\n    }\n</style>\n<table border=\"1\" class=\"dataframe\">\n  <thead>\n    <tr style=\"text-align: right;\">\n      <th></th>\n      <th>Time</th>\n    </tr>\n  </thead>\n  <tbody>\n    <tr>\n      <th>_Occlusion [1x1]</th>\n      <td>1.390932</td>\n    </tr>\n    <tr>\n      <th>_Occlusion [3x3]</th>\n      <td>1.345611</td>\n    </tr>\n    <tr>\n      <th>_Occlusion [9x9]</th>\n      <td>1.361957</td>\n    </tr>\n  </tbody>\n</table>\n</div>"
     },
     "execution_count": 11,
     "metadata": {},
     "output_type": "execute_result"
    }
   ],
   "source": [
    "time_table = pd.DataFrame(data, index=index)\n",
    "time_table"
   ],
   "metadata": {
    "collapsed": false,
    "pycharm": {
     "name": "#%%\n"
    }
   }
  },
  {
   "cell_type": "markdown",
   "source": [
    "### Layerwise relevance propagation (LRP)\n",
    "\n",
    "#### Description\n",
    "To decompose de DNN prediction as a sum of terms of the separate input dimensions $x_{d}$ respectively pixels::\n",
    "\n",
    "$f(x) \\approx \\sum_{d=1}^{V} R_{d}$\n",
    "\n",
    "With the qualitative interpretation: $R_{d}<0$ contributes evidence against the presence of a structure\n",
    "which is to be classified, while $R_{d}>0$ contributes evidence for its presence.\n",
    "\n",
    "They propose that a reverse propagation pass is applied, where the output score is progressively redistributed,\n",
    "layer after layer, until the input variables are reached:\n",
    "\n",
    "$R_{i}^{(l)}=\\sum_{k: i \\text { is input for neuron } k} R_{i \\leftarrow k}^{(l, l+1)}$\n",
    "\n",
    "Where $R_{d}^{(l)}$ is the relevance of dimension $d$ in layer $l$, and  $R_{i \\leftarrow j}^{(l, l+1)}$  express\n",
    "the layer-wise relevance in terms of messages between neurons $i$ and $j$ which can be sent along each connection.\n",
    "\n",
    "Various relevance decomposition have been proposed, a simple one is based on the ratio of local and global\n",
    "preactivations and is given by:\n",
    "\n",
    "$\n",
    "R_{i \\leftarrow j}^{(l, l+1)}=\\frac{z_{i j}}{z_{j}} \\cdot R_{j}^{(l+1)}\n",
    "$\n",
    "\n",
    "Hence:\n",
    "\n",
    "$\\sum_{i} R_{i \\leftarrow j}^{(l, l+1)}=R_{j}^{(l+1)} \\cdot\\left(1-\\frac{b_{j}}{z_{j}}\\right)$\n",
    "\n",
    "where the multiplier accounts for the relevance that is absorbed (or injected) by the bias term.\n",
    "A drawback of the previous rule is that for small values $z_{j}$, relevances $R_{i \\leftarrow j}$ can take unbounded\n",
    "values. Unboundedness can be overcome by introducing a predefined stabilizer $\\varepsilon \\geq 0$:\n",
    "\n",
    "$R_{i \\leftarrow j}^{(l, l+1)}= \\frac{z_{i j}}{z_{j}+\\varepsilon} \\cdot R_{j}^{(l+1)}\\text{ for }z_{j} \\geq 0$\n",
    "\n",
    "$R_{i \\leftarrow j}^{(l, l+1)}= \\frac{z_{i j}}{z_{j}-\\varepsilon} \\cdot R_{j}^{(l+1)}\\text{ for }z_{j}< 0$\n",
    "\n",
    "The conservation law then becomes:\n",
    "\n",
    "$\\sum_{i} R_{i \\leftarrow j}^{(l, l+1)}= R_{j}^{(l+1)} \\cdot\\left(1-\\frac{b_{j}+\\varepsilon}{z_{j}+\\varepsilon}\\right)$\n",
    "\n",
    "for $z_{j} \\geq 0$; and:\n",
    "\n",
    "$\\sum_{i} R_{i \\leftarrow j}^{(l, l+1)}= R_{j}^{(l+1)} \\cdot\\left(1-\\frac{b_{j}-\\varepsilon}{z_{j}-\\varepsilon}\\right)$\n",
    "\n",
    "\n",
    "for  $z_{j}<0$.\n",
    "\n",
    "where we can observe that some further relevance is absorbed by the stabilizer. In particular, relevance is fully\n",
    "absorbed if the stabilizer $\\varepsilon$ becomes very large.\n",
    "\n",
    "#### Some properties\n",
    "\n",
    "- LRP preserves the fine explanation structure but tends to produce less negative\n",
    "scores and attributes relevance to whole features rather than individual pixels.\n",
    "\n",
    "- Makes explicit use of the layered structure of the neural network.\n",
    "\n",
    "- Modified rules can be made to chieve some gradient smoothing."
   ],
   "metadata": {
    "collapsed": false
   }
  },
  {
   "cell_type": "code",
   "execution_count": 15,
   "outputs": [
    {
     "data": {
      "image/png": "[encoded data removed]",
      "text/plain": "<Figure size 864x216 with 4 Axes>"
     },
     "metadata": {
      "needs_background": "light"
     },
     "output_type": "display_data"
    }
   ],
   "source": [
    "# Define the input to be tested\n",
    "test_idx = 0\n",
    "xi = test_x[[test_idx]]\n",
    "yi = test_y[test_idx]\n",
    "\n",
    "# For time statistics\n",
    "data = []\n",
    "index = []\n",
    "\n",
    "with DeepExplain(session=sess) as de:\n",
    "    logits = model(X)\n",
    "    attributions = dict()\n",
    "\n",
    "    # method 1\n",
    "    arg = 0.00001\n",
    "    method_name = 'LRP Epsilon='+str(arg)\n",
    "    begin = time.time()\n",
    "    explanation = de.explain('elrp', logits * yi, X, xi, epsilon=arg)\n",
    "    time.sleep(1)\n",
    "    end = time.time()\n",
    "    method_dict = {\"Time\": end - begin}\n",
    "    data.append(method_dict)\n",
    "    index.append(method_name)\n",
    "    attributions[method_name] = explanation\n",
    "\n",
    "    # method 2\n",
    "    method_name = 'LRP Epsilon=0.001'\n",
    "    begin = time.time()\n",
    "    explanation = de.explain('elrp', logits * yi, X, xi, epsilon=0.001)\n",
    "    time.sleep(1)\n",
    "    end = time.time()\n",
    "    method_dict = {\"Time\": end - begin}\n",
    "    data.append(method_dict)\n",
    "    index.append(method_name)\n",
    "    attributions[method_name] = explanation\n",
    "\n",
    "    # method 3\n",
    "    arg = 20\n",
    "    method_name = 'LRP Epsilon='+str(arg)\n",
    "    begin = time.time()\n",
    "    explanation = de.explain('elrp', logits * yi, X, xi, epsilon=arg)\n",
    "    time.sleep(1)\n",
    "    end = time.time()\n",
    "    method_dict = {\"Time\": end - begin}\n",
    "    data.append(method_dict)\n",
    "    index.append(method_name)\n",
    "    attributions[method_name] = explanation\n",
    "\n",
    "# Plot attributions\n",
    "n_cols = len(attributions) + 1\n",
    "fig, axes = plt.subplots(nrows=1, ncols=n_cols, figsize=(3*n_cols, 3))\n",
    "plot(xi.reshape(28, 28), cmap='Greys', axis=axes[0]).set_title('Original')\n",
    "for i, method_name in enumerate(sorted(attributions.keys())):\n",
    "    plot(attributions[method_name].reshape(28,28), xi = xi.reshape(28, 28), axis=axes[1+i]).set_title(method_name)"
   ],
   "metadata": {
    "collapsed": false,
    "pycharm": {
     "name": "#%%\n"
    }
   }
  },
  {
   "cell_type": "code",
   "execution_count": 16,
   "outputs": [
    {
     "data": {
      "text/plain": "                       Time\nLRP Epsilon=1e-05  1.059580\nLRP Epsilon=0.001  1.087776\nLRP Epsilon=20     1.067145",
      "text/html": "<div>\n<style scoped>\n    .dataframe tbody tr th:only-of-type {\n        vertical-align: middle;\n    }\n\n    .dataframe tbody tr th {\n        vertical-align: top;\n    }\n\n    .dataframe thead th {\n        text-align: right;\n    }\n</style>\n<table border=\"1\" class=\"dataframe\">\n  <thead>\n    <tr style=\"text-align: right;\">\n      <th></th>\n      <th>Time</th>\n    </tr>\n  </thead>\n  <tbody>\n    <tr>\n      <th>LRP Epsilon=1e-05</th>\n      <td>1.059580</td>\n    </tr>\n    <tr>\n      <th>LRP Epsilon=0.001</th>\n      <td>1.087776</td>\n    </tr>\n    <tr>\n      <th>LRP Epsilon=20</th>\n      <td>1.067145</td>\n    </tr>\n  </tbody>\n</table>\n</div>"
     },
     "execution_count": 16,
     "metadata": {},
     "output_type": "execute_result"
    }
   ],
   "source": [
    "time_table = pd.DataFrame(data, index=index)\n",
    "time_table"
   ],
   "metadata": {
    "collapsed": false,
    "pycharm": {
     "name": "#%%\n"
    }
   }
  },
  {
   "cell_type": "markdown",
   "source": [
    "### Local Interpretable Modelagnostic Explanations (LIME)\n",
    "\n",
    "#### Description\n",
    "\n",
    "LIME fits a simple (interpretable) model $g$, the explainer model, to approximate\n",
    "the complex model $f:\\mathbb{R}^d\\rightarrow \\mathbb{R}$ in a local region\n",
    "around a prediction of interest $x\\in \\mathbb{R}^d$.\n",
    "\n",
    "It can be divided into the next steps:\n",
    "\n",
    "1. To ensure interpretability, apply a transformation to the domain $\\mathbb{R}^d$ of the complex model into some\n",
    "domain $\\mathbb{R}^{d'}$. For example, if the original features represent pixels of an image, a\n",
    "simplified representation of $z'$ of a $z$ in the vecinity of $x$ could be $z'\\in \\mathbb{R}^{d'}$\n",
    "with indicator variables as components, identifying whether the variable value of $z$ falls in the same quantile bin as\n",
    "the prediction of interest $x$ or not.\n",
    "Additionaly, as $g\\in G$ where G is just a class of potentially interpretable models, to satisfy interpretability\n",
    "of the explainer, make a **feature selection** and restrict the **complexity** of the explanation with some measure $\\Omega$.\n",
    "\n",
    "2. Towards fidelity, the model G is fitted using a **sample** $Z$ conformed by perturbations $z'$ around $x'$.\n",
    "Labels of the elements in $z'\\in Z$ are $f(z)$ where $z$ is a representation of $z'$ in the original domain.\n",
    "\n",
    "\n",
    "I.e., an explanation $\\xi(x)$ of $x$ is obtained by the following:\n",
    "\n",
    "$\\xi(x)=\\underset{g \\in G}{\\operatorname{argmin}} \\mathcal{L}\\left(f, g, \\pi_{x}\\right)+\\Omega(g)$\n",
    "\n",
    "Where $\\mathcal{L}$ is a fidelity/cost function and $\\pi_{x}$ is a\n",
    "**proximity measure** to define locality around $x$.\n",
    "\n",
    "#### Implementation details\n",
    "In the next implementation a ridge regression model is used as the explainer model, we enlist\n",
    "the tuning parameter options:\n",
    "\n",
    "- Data simulation methods:\n",
    "    - Equally spaced bins: observations are uniformly sampled from equally spaced bins (number of bins may be specified)\n",
    "    - Quantile bins: observations are uniformly sampled from quantile bins (number of bins may be specified)\n",
    "    - Normal density approximation: observations are sampled from a normal distribution with mean and standard deviation\n",
    "     computed from the corresponding\n",
    "    - Kernel density approximation: observations are sampled from an kernel density approximation of the corresponding\n",
    "    feature\n",
    "- Number of observations to simulate\n",
    "- Distance metric for determining proximity to the prediction of interest:\n",
    "Gower distance (where the power may be specified) or exponential kernel (where the kernel width may be specified)\n",
    "- Number of features to return in an explanation \n",
    "- Feature selection method for determining the features to return in an explanation: forward selection applied\n",
    "to a ridge regression, features with the largest magni- tude coefficients in ridge regression, LASSO, \n",
    "classification/regression tree splits."
   ],
   "metadata": {
    "collapsed": false,
    "pycharm": {
     "name": "#%% md\n"
    }
   }
  },
  {
   "cell_type": "code",
   "execution_count": 4,
   "outputs": [
    {
     "ename": "ImportError",
     "evalue": "No module named lime",
     "output_type": "error",
     "traceback": [
      "\u001B[0;31m\u001B[0m",
      "\u001B[0;31mImportError\u001B[0mTraceback (most recent call last)",
      "\u001B[0;32m<ipython-input-4-bb160a24191f>\u001B[0m in \u001B[0;36m<module>\u001B[0;34m()\u001B[0m\n\u001B[1;32m      6\u001B[0m \u001B[0;32mexcept\u001B[0m\u001B[0;34m:\u001B[0m\u001B[0;34m\u001B[0m\u001B[0m\n\u001B[1;32m      7\u001B[0m     \u001B[0msys\u001B[0m\u001B[0;34m.\u001B[0m\u001B[0mpath\u001B[0m\u001B[0;34m.\u001B[0m\u001B[0mappend\u001B[0m\u001B[0;34m(\u001B[0m\u001B[0mos\u001B[0m\u001B[0;34m.\u001B[0m\u001B[0mpath\u001B[0m\u001B[0;34m.\u001B[0m\u001B[0mjoin\u001B[0m\u001B[0;34m(\u001B[0m\u001B[0;34m'..'\u001B[0m\u001B[0;34m,\u001B[0m \u001B[0;34m'..'\u001B[0m\u001B[0;34m)\u001B[0m\u001B[0;34m)\u001B[0m \u001B[0;31m# add the current directory\u001B[0m\u001B[0;34m\u001B[0m\u001B[0m\n\u001B[0;32m----> 8\u001B[0;31m     \u001B[0;32mimport\u001B[0m \u001B[0mlime\u001B[0m\u001B[0;34m\u001B[0m\u001B[0m\n\u001B[0m\u001B[1;32m      9\u001B[0m \u001B[0;34m\u001B[0m\u001B[0m\n",
      "\u001B[0;31mImportError\u001B[0m: No module named lime"
     ]
    }
   ],
   "source": [
    "%load_ext autoreload\n",
    "%autoreload 2\n",
    "import os,sys\n",
    "try:\n",
    "    import lime\n",
    "except:\n",
    "    sys.path.append(os.path.join('..', '..')) # add the current directory\n",
    "    import lime"
   ],
   "metadata": {
    "collapsed": false,
    "pycharm": {
     "name": "#%%\n"
    }
   }
  },
  {
   "cell_type": "markdown",
   "source": [
    "### Comparison\n",
    "\n",
    "Occlusion is the slowest method as it requires reevaluating the function for each occluded patch.\n",
    "\n",
    "Integrated gradients require, instead for each prediction, access to the neural network gradient.\n",
    "Given that most ML models are differentiable, this method is widely applicable. Integrated gradients\n",
    "inherit pixelwise resolution from the gradient computation, which is $O(1)$, but require multiple iterations\n",
    "for the integration.\n",
    "\n",
    "LRP is the fastest method in our benchmark by an order of magnitude. The LRP runtime is only approximately three\n",
    "times higher than that of computing a single forward pass. This makes LRP particularly convenient for the largescale\n",
    "analyses where an explanation needs to be produced for every single example."
   ],
   "metadata": {
    "collapsed": false,
    "pycharm": {
     "name": "#%% md\n"
    }
   }
  },
  {
   "cell_type": "code",
   "execution_count": 20,
   "outputs": [
    {
     "data": {
      "image/png": "[encoded data removed]",
      "text/plain": "<Figure size 864x216 with 4 Axes>"
     },
     "metadata": {
      "needs_background": "light"
     },
     "output_type": "display_data"
    }
   ],
   "source": [
    "# Define the input to be tested\n",
    "test_idx = 0\n",
    "xi = test_x[[test_idx]]\n",
    "yi = test_y[test_idx]\n",
    "\n",
    "# For time statistics\n",
    "data = []\n",
    "index = []\n",
    "\n",
    "with DeepExplain(session=sess) as de:\n",
    "    logits = model(X)\n",
    "    attributions = dict()\n",
    "\n",
    "    # method 1\n",
    "    arg = 100\n",
    "    method_name = 'Integrated Gradients steps='+str(arg)\n",
    "    begin = time.time()\n",
    "    explanation = de.explain('intgrad', logits * yi, X, xi, steps=arg)\n",
    "    time.sleep(1)\n",
    "    end = time.time()\n",
    "    method_dict = {\"Time\": end - begin}\n",
    "    data.append(method_dict)\n",
    "    index.append(method_name)\n",
    "    attributions[method_name] = explanation\n",
    "\n",
    "    # method 2\n",
    "    arg = 0.0001\n",
    "    method_name = 'LRP Epsilon='+str(arg)\n",
    "    begin = time.time()\n",
    "    explanation = de.explain('elrp', logits * yi, X, xi, epsilon=arg)\n",
    "    time.sleep(1)\n",
    "    end = time.time()\n",
    "    method_dict = {\"Time\": end - begin}\n",
    "    data.append(method_dict)\n",
    "    index.append(method_name)\n",
    "    attributions[method_name] = explanation\n",
    "\n",
    "    # method 3\n",
    "    arg = 1\n",
    "    method_name = 'Occlusion window=[1x1]'\n",
    "    begin = time.time()\n",
    "    explanation = de.explain('occlusion', logits * yi, X, xi, window_shape=(arg,))\n",
    "    time.sleep(1)\n",
    "    end = time.time()\n",
    "    method_dict = {\"Time\": end - begin}\n",
    "    data.append(method_dict)\n",
    "    index.append(method_name)\n",
    "    attributions[method_name] = explanation\n",
    "\n",
    "# Plot attributions\n",
    "n_cols = len(attributions) + 1\n",
    "fig, axes = plt.subplots(nrows=1, ncols=n_cols, figsize=(3*n_cols, 3))\n",
    "plot(xi.reshape(28, 28), cmap='Greys', axis=axes[0]).set_title('Original')\n",
    "for i, method_name in enumerate(sorted(attributions.keys())):\n",
    "    plot(attributions[method_name].reshape(28,28), xi = xi.reshape(28, 28), axis=axes[1+i]).set_title(method_name)"
   ],
   "metadata": {
    "collapsed": false,
    "pycharm": {
     "name": "#%%\n"
    }
   }
  },
  {
   "cell_type": "code",
   "execution_count": 21,
   "outputs": [
    {
     "data": {
      "text/plain": "                                    Time\nIntegrated Gradients steps=100  1.102655\nLRP Epsilon =0.0001             1.069490\nOcclusion window=[1x1]          1.347953",
      "text/html": "<div>\n<style scoped>\n    .dataframe tbody tr th:only-of-type {\n        vertical-align: middle;\n    }\n\n    .dataframe tbody tr th {\n        vertical-align: top;\n    }\n\n    .dataframe thead th {\n        text-align: right;\n    }\n</style>\n<table border=\"1\" class=\"dataframe\">\n  <thead>\n    <tr style=\"text-align: right;\">\n      <th></th>\n      <th>Time</th>\n    </tr>\n  </thead>\n  <tbody>\n    <tr>\n      <th>Integrated Gradients steps=100</th>\n      <td>1.102655</td>\n    </tr>\n    <tr>\n      <th>LRP Epsilon =0.0001</th>\n      <td>1.069490</td>\n    </tr>\n    <tr>\n      <th>Occlusion window=[1x1]</th>\n      <td>1.347953</td>\n    </tr>\n  </tbody>\n</table>\n</div>"
     },
     "execution_count": 21,
     "metadata": {},
     "output_type": "execute_result"
    }
   ],
   "source": [
    "time_table = pd.DataFrame(data, index=index)\n",
    "time_table"
   ],
   "metadata": {
    "collapsed": false,
    "pycharm": {
     "name": "#%%\n"
    }
   }
  },
  {
   "cell_type": "code",
   "execution_count": null,
   "outputs": [],
   "source": [
    "attributions = {\n",
    "    # Gradient-based\n",
    "    # 'Saliency maps':        de.explain('saliency', logits * yi, X, xi),\n",
    "    # 'Gradient * Input':     de.explain('grad*input', logits * yi, X, xi),\n",
    "    'Integrated Gradients': de.explain('intgrad', logits * yi, X, xi),\n",
    "    'Epsilon-LRP':          de.explain('elrp', logits * yi, X, xi),\n",
    "    # 'DeepLIFT (Rescale)':   de.explain('deeplift', logits * yi, X, xi),\n",
    "    #Perturbation-based\n",
    "    'Occlusion [1x1]':      de.explain('occlusion', logits * yi, X, xi),\n",
    "\n",
    "}"
   ],
   "metadata": {
    "collapsed": false,
    "pycharm": {
     "name": "#%%\n"
    }
   }
  }
 ],
 "metadata": {
  "kernelspec": {
   "name": "xai",
   "language": "python",
   "display_name": "xai"
  },
  "language_info": {
   "codemirror_mode": {
    "name": "ipython",
    "version": 3.0
   },
   "file_extension": ".py",
   "mimetype": "text/x-python",
   "name": "python",
   "nbconvert_exporter": "python",
   "pygments_lexer": "ipython3",
   "version": "3.5.2"
  }
 },
 "nbformat": 4,
 "nbformat_minor": 0
}